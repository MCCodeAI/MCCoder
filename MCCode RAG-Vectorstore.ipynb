{
 "cells": [
  {
   "cell_type": "markdown",
   "metadata": {},
   "source": [
    "# MC Code RAG Workshop\n"
   ]
  },
  {
   "cell_type": "markdown",
   "metadata": {},
   "source": [
    "### Dependencies\n"
   ]
  },
  {
   "cell_type": "code",
   "execution_count": null,
   "metadata": {},
   "outputs": [],
   "source": [
    "# %pip install --upgrade --quiet  langchain langchain-community langchainhub langchain-openai chromadb bs4 python-dotenv"
   ]
  },
  {
   "cell_type": "code",
   "execution_count": 2,
   "metadata": {},
   "outputs": [],
   "source": [
    "import os\n",
    "from dotenv import load_dotenv,find_dotenv\n",
    "\n",
    "# Use this line of code if you have a local .env file\n",
    "load_dotenv(find_dotenv()) \n",
    "\n",
    "# LangSmith\n",
    "import getpass\n",
    "os.environ[\"LANGCHAIN_TRACING_V2\"] = \"true\"\n",
    "os.environ[\"LANGCHAIN_API_KEY\"] = os.environ[\"LANGCHAIN_API_KEY\"] #getpass.getpass()\n",
    " \n",
    "import bs4\n",
    "from langchain import hub\n",
    "from langchain_community.document_loaders import WebBaseLoader, TextLoader, PyPDFLoader, PyPDFium2Loader\n",
    "from langchain_community.vectorstores import Chroma\n",
    "from langchain_core.output_parsers import StrOutputParser\n",
    "from langchain_core.runnables import RunnablePassthrough\n",
    "from langchain_openai import ChatOpenAI, OpenAIEmbeddings\n",
    "from langchain_text_splitters import RecursiveCharacterTextSplitter\n",
    "from langchain_core.prompts import PromptTemplate\n",
    "from langchain_core.documents import Document\n",
    "\n",
    "# Txt loader\n",
    "# loader = TextLoader(\"./docs/WMX3UserManual_a.txt\")\n",
    "loader = TextLoader(\"./docs/WMX3API_MCEval_Samplecodes.txt\")\n",
    "docs = loader.load()\n",
    "# docs[0].page_content[:100000]\n",
    "len(docs)\n",
    "\n",
    "# # Text chunk \n",
    "# text_splitter = RecursiveCharacterTextSplitter(chunk_size=1000, chunk_overlap=200, add_start_index=True)\n",
    "# splits = text_splitter.split_documents(docs)\n",
    "\n",
    "#Sample code chunk with dedicated separators\n",
    "separators = ['``']  # Adjust based on actual document structure, `` is the end of each code snippet.\n",
    "# separators = ['}']  # Adjust based on actual document structure\n",
    "text_splitter = RecursiveCharacterTextSplitter(separators=separators, keep_separator=True, chunk_size=1000, chunk_overlap=200, add_start_index=True)\n",
    "splits = text_splitter.split_documents(docs)\n",
    "\n",
    "\n",
    "# Txt loader of python function list, for BM25 search\n",
    "python_function_loader = TextLoader(\"./docs/WMX3API_FunctionPython.json\")\n",
    "python_function_docs = python_function_loader.load()\n",
    "python_function_separators = ['{']  # Adjust based on actual document structure, `` is the end of each code snippet.\n",
    "python_function_text_splitter = RecursiveCharacterTextSplitter(separators=python_function_separators, keep_separator=True, chunk_size=1000, chunk_overlap=200, add_start_index=True)\n",
    "python_function_splits = python_function_text_splitter.split_documents(python_function_docs)\n"
   ]
  },
  {
   "cell_type": "code",
   "execution_count": null,
   "metadata": {},
   "outputs": [],
   "source": [
    "splits[1]\n",
    "# Print the size of each chunk\n",
    "for i, split in enumerate(splits):\n",
    "    print(f\"Chunk {i+1} size: {len(split.page_content)}\")"
   ]
  },
  {
   "cell_type": "code",
   "execution_count": 3,
   "metadata": {},
   "outputs": [],
   "source": [
    "\n",
    "\n",
    "embedding_model=OpenAIEmbeddings(model=\"text-embedding-3-large\")   #text-embedding-3-large   #text-embedding-ada-002    #text-embedding-3-small\n",
    "\n",
    "# If txt vectorstore exists\n",
    "if os.path.exists(\"Vectorstore/chromadb-MCCoder\"):\n",
    "        vectorstore = Chroma(\n",
    "                    embedding_function=embedding_model,\n",
    "                    persist_directory=\"Vectorstore/chromadb-MCCoder\",\n",
    "                    ) \n",
    "else:\n",
    "        # Load from chunks and save to disk\n",
    "        vectorstore = Chroma.from_documents(documents=splits, embedding=embedding_model, persist_directory=\"Vectorstore/chromadb-MCCoder\") \n",
    "\n",
    "\n",
    "\n",
    "\n",
    "# # If pdf vectorstore exists\n",
    "# vectorstore_path = \"Vectorstore/chromadb-MCCoder\"\n",
    "#  # Load from chunks and save to disk\n",
    "# vectorstore = Chroma.from_documents(documents=splits, embedding=embedding_model,  persist_directory=vectorstore_path) \n"
   ]
  },
  {
   "cell_type": "code",
   "execution_count": 4,
   "metadata": {},
   "outputs": [
    {
     "data": {
      "text/plain": [
       "[Document(metadata={'source': './docs/WMX3API_MCEval_Samplecodes.txt', 'start_index': 879}, page_content=\"``\\n\\n\\n\\n# Write python code to move Axis 1 by a 200 distance with velocity 2000.\\n# Write python code to Start a relative position command of Axis 1 by a 200 distance and 2000 velocity.\\n    # Axes = [1]\\n\\n    # Start a relative position command of Axis 1 with 200 distance and 2000 velocity.\\n    # Create a command value of target as 200.\\n    posCommand = Motion_PosCommand()\\n    posCommand.profile.type = ProfileType.Trapezoidal\\n    posCommand.axis = 1\\n    posCommand.target = 200\\n    posCommand.profile.velocity = 2000\\n    posCommand.profile.acc = 10000\\n    posCommand.profile.dec = 10000\\n\\n    # Execute command to move from current position to a specified distance relatively. e.g. 'Move 100..'\\n    ret = Wmx3Lib_cm.motion.StartMov(posCommand)\\n    if ret!=0:\\n        print('StartMov error code is ' + str(ret) + ': ' + Wmx3Lib_cm.ErrorToString(ret))\\n        return\\n\\n    # Wait until the axis moves to the target position and stops.\\n    Wmx3Lib_cm.motion.Wait(1)\\n\\n\\n#\"),\n",
       " Document(metadata={'source': './docs/WMX3API_MCEval_Samplecodes.txt', 'start_index': 3290}, page_content=\"``\\n\\n\\n\\n# Write python code to move Axis 0 to position 180 with 1000 velocity, and then move Axis 0 by a 200 distance and 2000 velocity.\\n# Write python code to Start an absolute position command of Axis 0 to position 180 with 1000 velocity, and then start a relative position command of Axis 0 by a 200 distance and 2000 velocity.\\n\\n\\n    # Axes = [0]\\n    # Create a command value of target as 180.\\n    posCommand = Motion_PosCommand()\\n    posCommand.profile.type = ProfileType.Trapezoidal\\n    posCommand.axis = 0\\n    posCommand.target = 180\\n    posCommand.profile.velocity = 1000\\n    posCommand.profile.acc = 10000\\n    posCommand.profile.dec = 10000\\n\\n    # Execute command to move from current position to specified absolute position.\\n    ret = Wmx3Lib_cm.motion.StartPos(posCommand)\\n    if ret!=0:\\n        print('StartPos error code is ' + str(ret) + ': ' + Wmx3Lib_cm.ErrorToString(ret))\\n        return\\n\\n    # Wait until the axis moves to the target position and stops.\\n    Wmx3Lib_cm.motion.Wait(0)\\n\\n    # Create a command value of target as 200.\\n    posCommand = Motion_PosCommand()\\n    posCommand.profile.type = ProfileType.Trapezoidal\\n    posCommand.axis = 0\\n    posCommand.target = 200\\n    posCommand.profile.velocity = 2000\\n    posCommand.profile.acc = 10000\\n    posCommand.profile.dec = 10000\\n\\n    # Execute command to move from current position to a specified distance relatively. e.g. 'Move 100..'\\n    ret = Wmx3Lib_cm.motion.StartMov(posCommand)\\n    if ret!=0:\\n        print('StartMov error code is ' + str(ret) + ': ' + Wmx3Lib_cm.ErrorToString(ret))\\n        return\\n\\n    # Wait until the axis moves to the target position and stops.\\n    Wmx3Lib_cm.motion.Wait(0)\\n\\n\\n#\"),\n",
       " Document(metadata={'source': './docs/WMX3API_MCEval_Samplecodes.txt', 'start_index': 10427}, page_content=\"``\\n\\n\\n\\n# Write python code to Start an absolute position linear interpolation motion command of Axis 0 and 1 to position (300, 100) with 1000 velocity, and then start a relative position linear interpolation motion command of Axis 0 and 1 with  (200, -150) distance with 1000 velocity.\\n    # Axes = [0, 1]\\n\\n    # Create a command value of relative distance\\n    lin = Motion_LinearIntplCommand()\\n    lin.axisCount = 2 \\n    lin.SetAxis(0,0)\\n    lin.SetAxis(1,1) \\n\\n    lin.profile.type = ProfileType.Trapezoidal\\n    lin.profile.velocity = 1000\\n    lin.profile.acc = 10000\\n    lin.profile.dec = 10000\\n\\n    lin.SetTarget(0,300)  #Set target of Axis 0 to be 300\\n    lin.SetTarget(1,100)  #Set target of Axis 1 to be 100\\n\\n    # Start an absolute position linear interpolation motion command.\\n    ret =Wmx3Lib_cm.motion.StartLinearIntplPos(lin)\\n    if ret!=0:\\n            print('StartLinearIntplPos error code is ' + str(ret) + ': ' + Wmx3Lib_cm.ErrorToString(ret))\\n            return\\n    Wmx3Lib_cm.motion.Wait(0) #need to wait the Axis 0 to be idle\\n\\n    lin.SetTarget(0,200)  #Set target of Axis 0  \\n    lin.SetTarget(1,-150)  #Set target of Axis 1  \\n\\n    # Start an relative position linear interpolation motion command.\\n    ret =Wmx3Lib_cm.motion.StartLinearIntplMov(lin)\\n    if ret!=0:\\n            print('StartLinearIntplMov error code is ' + str(ret) + ': ' + Wmx3Lib_cm.ErrorToString(ret))\\n            return\\n    \\n    # Wait for the motion to complete. Start a blocking wait command, returning only when Axis 0 and Axis 1 become idle.\\n    axisSel = AxisSelection()\\n    axisSel.axisCount = 2\\n    axisSel.SetAxis(0, 0)\\n    axisSel.SetAxis(1, 1)\\n    ret = Wmx3Lib_cm.motion.Wait_AxisSel(axisSel)\\n    if ret != 0:\\n        print('Wait_AxisSel error code is ' + str(ret) + ': ' + Wmx3Lib_cm.ErrorToString(ret))\\n        return\\n    \\n\\n\\n#\"),\n",
       " Document(metadata={'source': './docs/WMX3API_MCEval_Samplecodes.txt', 'start_index': 27043}, page_content=\"``\\n\\n\\n\\n# Write python code to Start a relative triggered position command of Axis 1 with 180 distance and velocity of 1000, and the triggered condition is the remaining distance for Axis 0 to the target position is 30 while it moves a relative 100 distance.\\n    # Axes = [0, 1]\\n\\n    posCommand = Motion_PosCommand()\\n    tgrPosCommand = Motion_TriggerPosCommand()\\n    trigger = Trigger()\\n\\n    # Move the motor to the specified position.\\n    posCommand.profile.type = ProfileType.Trapezoidal\\n    posCommand.axis = 0\\n    posCommand.target = 100\\n    posCommand.profile.velocity = 1000\\n    posCommand.profile.acc = 10000\\n    posCommand.profile.dec = 10000\\n    ret = Wmx3Lib_cm.motion.StartMov(posCommand)\\n    if ret != 0:\\n        print('StartMov error code is ' + str(ret) + ': ' + Wmx3Lib_cm.ErrorToString(ret))\\n        return\\n\\n    # Set trigger PosCommand.\\n    tgrPosCommand.profile.type = ProfileType.Trapezoidal\\n    tgrPosCommand.axis = 1\\n    tgrPosCommand.target = 180\\n    tgrPosCommand.profile.velocity = 1000\\n    tgrPosCommand.profile.acc = 10000\\n    tgrPosCommand.profile.dec = 10000\\n\\n    # Create Trigger\\n    # Start when the remaining distance of 0 axis reaches 30 pulse.\\n    trigger.triggerAxis = 0\\n    trigger.triggerType = TriggerType.RemainingDistance\\n    trigger.triggerValue = 30\\n    tgrPosCommand.trigger = trigger\\n    ret = Wmx3Lib_cm.motion.StartMov_Trigger(tgrPosCommand)\\n    if ret != 0:\\n        print('StartMov_Trigger error code is ' + str(ret) + ': ' + Wmx3Lib_cm.ErrorToString(ret))\\n        return\\n    Wmx3Lib_cm.motion.Wait(1)\\n\\n    # Wait for the motion to complete. Start a blocking wait command, returning only when Axis 0 and Axis 1 become idle.\\n    axisSel = AxisSelection()\\n    axisSel.axisCount = 2\\n    axisSel.SetAxis(0, 0)\\n    axisSel.SetAxis(1, 1)\\n    ret = Wmx3Lib_cm.motion.Wait_AxisSel(axisSel)\\n    if ret != 0:\\n        print('Wait_AxisSel error code is ' + str(ret) + ': ' + Wmx3Lib_cm.ErrorToString(ret))\\n        return\\n        \\n\\n\\n#\"),\n",
       " Document(metadata={'source': './docs/WMX3API_MCEval_Samplecodes.txt', 'start_index': 38554}, page_content=\"``\\n\\n\\n\\n# Write python code to Execute an absolute position triggered linear interpolation motion command.Control Axis 0 and Axis 1 to linearly interpolate to (130, 60) at a velocity of 1000 with acceleration and deceleration of 10000. Wait for 1 millisecond, then execute the trigger linear interpolation motion command. When the remaining distance of Axis 0 is 80, trigger Axis 0 and Axis 1 to (-70, -40).\\n    # Axes = [0, 1]\\n\\n    lin = Motion_LinearIntplCommand()\\n    trig = Trigger()\\n\\n    # Execute normal motion command\\n    lin.axisCount = 2\\n    lin.SetAxis(0, 0)\\n    lin.SetAxis(1, 1)\\n\\n    lin.profile.type = ProfileType.Trapezoidal\\n    lin.profile.velocity = 1000\\n    lin.profile.acc = 10000\\n    lin.profile.dec = 10000\\n\\n    lin.SetTarget(0, 130)\\n    lin.SetTarget(1, 60)\\n\\n    ret = Wmx3Lib_cm.motion.StartLinearIntplPos(lin)\\n    if ret != 0:\\n        print('StartLinearIntplPos error code is ' + str(ret) + ': ' + Wmx3Lib_cm.ErrorToString(ret))\\n        return\\n\\n    sleep(0.001)\\n\\n    lin.SetTarget(0, -70)\\n    lin.SetTarget(1, -40)\\n\\n    trig.triggerAxis = 0\\n    trig.triggerType = TriggerType.RemainingDistance\\n    trig.triggerValue = 80\\n\\n    ret = Wmx3Lib_cm.motion.StartLinearIntplPos_Trigger(lin, trig)\\n    if ret != 0:\\n        print('StartLinearIntplPos_Trigger error code is ' + str(ret) + ': ' + Wmx3Lib_cm.ErrorToString(ret))\\n        return   \\n\\n    # Wait for the motion to complete. Start a blocking wait command, returning only when Axis 0 and Axis 1 become idle.\\n    axisSel = AxisSelection()\\n    axisSel.axisCount = 2\\n    axisSel.SetAxis(0, 0)\\n    axisSel.SetAxis(1, 1)\\n    ret = Wmx3Lib_cm.motion.Wait_AxisSel(axisSel)\\n    if ret != 0:\\n        print('Wait_AxisSel error code is ' + str(ret) + ': ' + Wmx3Lib_cm.ErrorToString(ret))\\n        return\\n    \\n\\n\\n\\n#\"),\n",
       " Document(metadata={'source': './docs/WMX3API_MCEval_Samplecodes.txt', 'start_index': 9142}, page_content=\"``\\n\\n\\n\\n# Write python code to Start a relative position linear interpolation motion command of Axis 0 and 1 with  (200, -150) distance with 1000 velocity.\\n    # Axes = [0, 1]\\n    \\n    # Create a command value of relative distance of (200, -150).\\n    lin = Motion_LinearIntplCommand()\\n    lin.axisCount = 2 \\n    lin.SetAxis(0,0)\\n    lin.SetAxis(1,1) \\n\\n    lin.profile.type = ProfileType.Trapezoidal\\n    lin.profile.velocity = 1000\\n    lin.profile.acc = 10000\\n    lin.profile.dec = 10000\\n\\n    lin.SetTarget(0,200)  #Set target of Axis 0 to be 300\\n    lin.SetTarget(1,-150)  #Set target of Axis 1 to be 100\\n\\n    # Start an relative position linear interpolation motion command.\\n    ret =Wmx3Lib_cm.motion.StartLinearIntplMov(lin)\\n    if ret!=0:\\n            print('StartLinearIntplMov error code is ' + str(ret) + ': ' + Wmx3Lib_cm.ErrorToString(ret))\\n            return\\n    \\n    # Wait for the motion to complete. Start a blocking wait command, returning only when Axis 0 and Axis 1 become idle.\\n    axisSel = AxisSelection()\\n    axisSel.axisCount = 2\\n    axisSel.SetAxis(0, 0)\\n    axisSel.SetAxis(1, 1)\\n    ret = Wmx3Lib_cm.motion.Wait_AxisSel(axisSel)\\n    if ret != 0:\\n        print('Wait_AxisSel error code is ' + str(ret) + ': ' + Wmx3Lib_cm.ErrorToString(ret))\\n        return\\n    \\n\\n\\n#\"),\n",
       " Document(metadata={'source': './docs/WMX3API_MCEval_Samplecodes.txt', 'start_index': 12253}, page_content=\"``\\n\\n\\n\\n# Write python code to Establish synchronous control between master axis 0 and a slave axis 1, then move Axis 0 to position 188 with velocity 1200.\\n    # Axes = [0, 1]\\n\\n    # Establish the synchronization between Axis 0 and Axis 1, with Axis 0 designated as the master axis and Axis 1 as the slave axis.\\n    ret = Wmx3Lib_cm.sync.SetSyncMasterSlave(0, 1)\\n    if ret != 0:\\n        print('SetSyncMasterSlave error code is ' + str(ret) + ': ' + Wmx3Lib_cm.ErrorToString(ret))\\n        return\\n\\n    # Create a command with target position 1,000,000 and velocity 100,000.\\n    posCommand = Motion_PosCommand()\\n    posCommand.profile.type = ProfileType.Trapezoidal\\n    posCommand.axis = 0\\n    posCommand.target = 188\\n    posCommand.profile.velocity = 1200\\n    posCommand.profile.acc = 10000\\n    posCommand.profile.dec = 10000\\n\\n    # Execute the command to move the master axis from its current position to a specified absolute position, with the slave axis moving in synchronization.\\n    ret = Wmx3Lib_cm.motion.StartPos(posCommand)\\n    if ret != 0:\\n        print('StartMov error code is ' + str(ret) + ': ' + Wmx3Lib_cm.ErrorToString(ret))\\n        return\\n\\n    # Wait for the positioning motion to complete. Start a blocking wait command, returning only when Axis 0 becomes idle.\\n    ret = Wmx3Lib_cm.motion.Wait(0)\\n    if ret != 0:\\n        print('Wait error code is ' + str(ret) + ': ' + Wmx3Lib_cm.ErrorToString(ret))\\n        return\\n\\n    # Release the synchronization between Axis 0 and Axis 1.\\n    ret = Wmx3Lib_cm.sync.ResolveSync(1)\\n    if ret != 0:\\n        print('ResolveSync error code is ' + str(ret) + ': ' + Wmx3Lib_cm.ErrorToString(ret))\\n        return\\n\\n\\n\\n#\"),\n",
       " Document(metadata={'source': './docs/WMX3API_MCEval_Samplecodes.txt', 'start_index': 7877}, page_content=\"``\\n\\n\\n\\n# Write python code to Start an absolute position linear interpolation motion command of Axis 0 and 1 to position (300, 100) with 1000 velocity.\\n    # Axes = [0, 1]\\n\\n    # Create a command value of target as (300, 100).\\n    lin = Motion_LinearIntplCommand()\\n    lin.axisCount = 2 \\n    lin.SetAxis(0,0)\\n    lin.SetAxis(1,1) \\n\\n    lin.profile.type = ProfileType.Trapezoidal\\n    lin.profile.velocity = 1000\\n    lin.profile.acc = 10000\\n    lin.profile.dec = 10000\\n\\n    lin.SetTarget(0,300)  #Set target of Axis 0 to be 300\\n    lin.SetTarget(1,100)  #Set target of Axis 1 to be 100\\n\\n    # Start an absolute position linear interpolation motion command.\\n    ret =Wmx3Lib_cm.motion.StartLinearIntplPos(lin)\\n    if ret!=0:\\n            print('StartLinearIntplPos error code is ' + str(ret) + ': ' + Wmx3Lib_cm.ErrorToString(ret))\\n            return\\n    \\n    # Wait for the motion to complete. Start a blocking wait command, returning only when Axis 0 and Axis 1 become idle.\\n    axisSel = AxisSelection()\\n    axisSel.axisCount = 2\\n    axisSel.SetAxis(0, 0)\\n    axisSel.SetAxis(1, 1)\\n    ret = Wmx3Lib_cm.motion.Wait_AxisSel(axisSel)\\n    if ret != 0:\\n        print('Wait_AxisSel error code is ' + str(ret) + ': ' + Wmx3Lib_cm.ErrorToString(ret))\\n        return\\n    \\n\\n\\n#\"),\n",
       " Document(metadata={'source': './docs/WMX3API_MCEval_Samplecodes.txt', 'start_index': 36781}, page_content=\"``\\n\\n\\n\\n# Write python code to Execute an absolute position triggered linear interpolation motion command.Control Axis 0 and Axis 1 to linearly interpolate to (150, 30) at a velocity of 1000 with acceleration and deceleration of 10000. Wait for 1 millisecond, then execute the trigger linear interpolation motion command. When the completed distance of Axis 0 reaches 100, move Axis 0 and Axis 1 to (-100, -10).\\n    # Axes = [0, 1]\\n\\n    lin = Motion_LinearIntplCommand()\\n    trig = Trigger()\\n\\n    # Execute normal motion command\\n    lin.axisCount = 2\\n    lin.SetAxis(0, 0)\\n    lin.SetAxis(1, 1)\\n\\n    lin.profile.type = ProfileType.Trapezoidal\\n    lin.profile.velocity = 1000\\n    lin.profile.acc = 10000\\n    lin.profile.dec = 10000\\n\\n    lin.SetTarget(0, 150)\\n    lin.SetTarget(1, 30)\\n\\n    ret = Wmx3Lib_cm.motion.StartLinearIntplPos(lin)\\n    if ret != 0:\\n        print('StartLinearIntplPos error code is ' + str(ret) + ': ' + Wmx3Lib_cm.ErrorToString(ret))\\n        return\\n\\n    sleep(0.001)\\n\\n    lin.SetTarget(0, -100)\\n    lin.SetTarget(1, -10)\\n\\n    trig.triggerAxis = 0\\n    trig.triggerType = TriggerType.CompletedDistance\\n    trig.triggerValue = 100\\n\\n    ret = Wmx3Lib_cm.motion.StartLinearIntplPos_Trigger(lin, trig)\\n    if ret != 0:\\n        print('StartLinearIntplPos_Trigger error code is ' + str(ret) + ': ' + Wmx3Lib_cm.ErrorToString(ret))\\n        return\\n\\n    # Wait for the motion to complete. Start a blocking wait command, returning only when Axis 0 and Axis 1 become idle.\\n    axisSel = AxisSelection()\\n    axisSel.axisCount = 2\\n    axisSel.SetAxis(0, 0)\\n    axisSel.SetAxis(1, 1)\\n    ret = Wmx3Lib_cm.motion.Wait_AxisSel(axisSel)\\n    if ret != 0:\\n        print('Wait_AxisSel error code is ' + str(ret) + ': ' + Wmx3Lib_cm.ErrorToString(ret))\\n        return\\n    \\n\\n\\n#\"),\n",
       " Document(metadata={'source': './docs/WMX3API_MCEval_Samplecodes.txt', 'start_index': 47756}, page_content=\"``\\n\\n\\n\\n# Write python code to Execute a sequence of motion commands using trigger motion functions and Wait functions.Move Axis 0 as 100 distance with 1000 velocity, and trigger it to move as -100 distance when the remaining time is 0, and then move as 200 distance, and -200 distance after waiting it to be overridable.\\n    # Axes = [0]\\n\\n    pos = Motion_PosCommand()\\n    tpos = Motion_TriggerPosCommand()\\n    wait = Motion_WaitCondition()\\n\\n    # Set position command parameters\\n    pos.axis = 0\\n    pos.profile.type = ProfileType.Trapezoidal;\\n    pos.profile.velocity = 1000\\n    pos.profile.acc = 10000\\n    pos.profile.dec = 10000\\n\\n    # Set triggered position command parameters\\n    tpos.axis = 0\\n    tpos.profile.type = ProfileType.Trapezoidal\\n    tpos.profile.velocity = 1000\\n    tpos.profile.acc = 10000\\n    tpos.profile.dec = 10000\\n    tpos.trigger.triggerAxis = 0\\n    tpos.trigger.triggerType = TriggerType.RemainingTime\\n    tpos.trigger.triggerValue = 0\\n\\n    # Set wait condition parameters, waiting Axis 0 to be overridable.\\n    wait.waitConditionType = Motion_WaitConditionType.MotionStartedOverrideReady\\n    wait.axisCount = 1\\n    wait.SetAxis(0, 0)\\n\\n    # Execute motion to move axis forward 100\\n    pos.target = 100\\n\\n    ret = Wmx3Lib_cm.motion.StartMov(pos)\\n    if ret != 0:\\n        print('StartMov error code is ' + str(ret) + ': ' + Wmx3Lib_cm.ErrorToString(ret))\\n        return\\n\\n    # Execute trigger motion to move axis backward 100 at the end of the previous motion\\n    tpos.target = -100\\n\\n    ret = Wmx3Lib_cm.motion.StartMov_Trigger(tpos)\\n    if ret != 0:\\n        print('StartMov_Trigger error code is ' + str(ret) + ': ' + Wmx3Lib_cm.ErrorToString(ret))\\n        return\\n\\n    # Wait until trigger motion executes\\n    ret = Wmx3Lib_cm.motion.Wait_WaitCondition(wait)\\n    if ret != 0:\\n        print('Wait_WaitCondition error code is ' + str(ret) + ': ' + Wmx3Lib_cm.ErrorToString(ret))\\n        return\\n\\n    # Execute trigger motion to move axis forward 200 at the end of the previous motion\\n    tpos.target = 200\\n\\n    ret = Wmx3Lib_cm.motion.StartMov_Trigger(tpos)\\n    if ret != 0:\\n        print('StartMov_Trigger error code is ' + str(ret) + ': ' + Wmx3Lib_cm.ErrorToString(ret))\\n        return\\n\\n    # Wait until trigger motion executes\\n    ret = Wmx3Lib_cm.motion.Wait_WaitCondition(wait)\\n    if ret != 0:\\n        print('Wait_WaitCondition error code is ' + str(ret) + ': ' + Wmx3Lib_cm.ErrorToString(ret))\\n        return\\n\\n    # Execute trigger motion to move axis backward 20000 at the end of the previous motion\\n    tpos.target = -200\\n    ret = Wmx3Lib_cm.motion.StartMov_Trigger(tpos)\\n    if ret != 0:\\n        print('StartMov_Trigger error code is ' + str(ret) + ': ' + Wmx3Lib_cm.ErrorToString(ret))\\n        return\\n\\n    # Wait until motion is finished\\n    ret = Wmx3Lib_cm.motion.Wait(0)\\n    if ret != 0:\\n        print('Wait error code is ' + str(ret) + ': ' + Wmx3Lib_cm.ErrorToString(ret))\\n        return\\n    \\n\\n\\n#\")]"
      ]
     },
     "execution_count": 4,
     "metadata": {},
     "output_type": "execute_result"
    }
   ],
   "source": [
    "\n",
    "retriever = vectorstore.as_retriever(search_type=\"similarity\", search_kwargs={\"k\": 10})\n",
    "\n",
    "retrieved_docs = retriever.invoke(\"Write python code to move axis 1 to 233\")\n",
    "retrieved_docs"
   ]
  },
  {
   "cell_type": "code",
   "execution_count": 6,
   "metadata": {},
   "outputs": [
    {
     "data": {
      "text/plain": [
       "[(Document(metadata={'source': './docs/WMX3API_MCEval_Samplecodes.txt', 'start_index': 879}, page_content=\"``\\n\\n\\n\\n# Write python code to move Axis 1 by a 200 distance with velocity 2000.\\n# Write python code to Start a relative position command of Axis 1 by a 200 distance and 2000 velocity.\\n    # Axes = [1]\\n\\n    # Start a relative position command of Axis 1 with 200 distance and 2000 velocity.\\n    # Create a command value of target as 200.\\n    posCommand = Motion_PosCommand()\\n    posCommand.profile.type = ProfileType.Trapezoidal\\n    posCommand.axis = 1\\n    posCommand.target = 200\\n    posCommand.profile.velocity = 2000\\n    posCommand.profile.acc = 10000\\n    posCommand.profile.dec = 10000\\n\\n    # Execute command to move from current position to a specified distance relatively. e.g. 'Move 100..'\\n    ret = Wmx3Lib_cm.motion.StartMov(posCommand)\\n    if ret!=0:\\n        print('StartMov error code is ' + str(ret) + ': ' + Wmx3Lib_cm.ErrorToString(ret))\\n        return\\n\\n    # Wait until the axis moves to the target position and stops.\\n    Wmx3Lib_cm.motion.Wait(1)\\n\\n\\n#\"),\n",
       "  0.8288909792900085),\n",
       " (Document(metadata={'source': './docs/WMX3API_MCEval_Samplecodes.txt', 'start_index': 3290}, page_content=\"``\\n\\n\\n\\n# Write python code to move Axis 0 to position 180 with 1000 velocity, and then move Axis 0 by a 200 distance and 2000 velocity.\\n# Write python code to Start an absolute position command of Axis 0 to position 180 with 1000 velocity, and then start a relative position command of Axis 0 by a 200 distance and 2000 velocity.\\n\\n\\n    # Axes = [0]\\n    # Create a command value of target as 180.\\n    posCommand = Motion_PosCommand()\\n    posCommand.profile.type = ProfileType.Trapezoidal\\n    posCommand.axis = 0\\n    posCommand.target = 180\\n    posCommand.profile.velocity = 1000\\n    posCommand.profile.acc = 10000\\n    posCommand.profile.dec = 10000\\n\\n    # Execute command to move from current position to specified absolute position.\\n    ret = Wmx3Lib_cm.motion.StartPos(posCommand)\\n    if ret!=0:\\n        print('StartPos error code is ' + str(ret) + ': ' + Wmx3Lib_cm.ErrorToString(ret))\\n        return\\n\\n    # Wait until the axis moves to the target position and stops.\\n    Wmx3Lib_cm.motion.Wait(0)\\n\\n    # Create a command value of target as 200.\\n    posCommand = Motion_PosCommand()\\n    posCommand.profile.type = ProfileType.Trapezoidal\\n    posCommand.axis = 0\\n    posCommand.target = 200\\n    posCommand.profile.velocity = 2000\\n    posCommand.profile.acc = 10000\\n    posCommand.profile.dec = 10000\\n\\n    # Execute command to move from current position to a specified distance relatively. e.g. 'Move 100..'\\n    ret = Wmx3Lib_cm.motion.StartMov(posCommand)\\n    if ret!=0:\\n        print('StartMov error code is ' + str(ret) + ': ' + Wmx3Lib_cm.ErrorToString(ret))\\n        return\\n\\n    # Wait until the axis moves to the target position and stops.\\n    Wmx3Lib_cm.motion.Wait(0)\\n\\n\\n#\"),\n",
       "  0.8557575941085815),\n",
       " (Document(metadata={'source': './docs/WMX3API_MCEval_Samplecodes.txt', 'start_index': 10427}, page_content=\"``\\n\\n\\n\\n# Write python code to Start an absolute position linear interpolation motion command of Axis 0 and 1 to position (300, 100) with 1000 velocity, and then start a relative position linear interpolation motion command of Axis 0 and 1 with  (200, -150) distance with 1000 velocity.\\n    # Axes = [0, 1]\\n\\n    # Create a command value of relative distance\\n    lin = Motion_LinearIntplCommand()\\n    lin.axisCount = 2 \\n    lin.SetAxis(0,0)\\n    lin.SetAxis(1,1) \\n\\n    lin.profile.type = ProfileType.Trapezoidal\\n    lin.profile.velocity = 1000\\n    lin.profile.acc = 10000\\n    lin.profile.dec = 10000\\n\\n    lin.SetTarget(0,300)  #Set target of Axis 0 to be 300\\n    lin.SetTarget(1,100)  #Set target of Axis 1 to be 100\\n\\n    # Start an absolute position linear interpolation motion command.\\n    ret =Wmx3Lib_cm.motion.StartLinearIntplPos(lin)\\n    if ret!=0:\\n            print('StartLinearIntplPos error code is ' + str(ret) + ': ' + Wmx3Lib_cm.ErrorToString(ret))\\n            return\\n    Wmx3Lib_cm.motion.Wait(0) #need to wait the Axis 0 to be idle\\n\\n    lin.SetTarget(0,200)  #Set target of Axis 0  \\n    lin.SetTarget(1,-150)  #Set target of Axis 1  \\n\\n    # Start an relative position linear interpolation motion command.\\n    ret =Wmx3Lib_cm.motion.StartLinearIntplMov(lin)\\n    if ret!=0:\\n            print('StartLinearIntplMov error code is ' + str(ret) + ': ' + Wmx3Lib_cm.ErrorToString(ret))\\n            return\\n    \\n    # Wait for the motion to complete. Start a blocking wait command, returning only when Axis 0 and Axis 1 become idle.\\n    axisSel = AxisSelection()\\n    axisSel.axisCount = 2\\n    axisSel.SetAxis(0, 0)\\n    axisSel.SetAxis(1, 1)\\n    ret = Wmx3Lib_cm.motion.Wait_AxisSel(axisSel)\\n    if ret != 0:\\n        print('Wait_AxisSel error code is ' + str(ret) + ': ' + Wmx3Lib_cm.ErrorToString(ret))\\n        return\\n    \\n\\n\\n#\"),\n",
       "  0.931584894657135),\n",
       " (Document(metadata={'source': './docs/WMX3API_MCEval_Samplecodes.txt', 'start_index': 27043}, page_content=\"``\\n\\n\\n\\n# Write python code to Start a relative triggered position command of Axis 1 with 180 distance and velocity of 1000, and the triggered condition is the remaining distance for Axis 0 to the target position is 30 while it moves a relative 100 distance.\\n    # Axes = [0, 1]\\n\\n    posCommand = Motion_PosCommand()\\n    tgrPosCommand = Motion_TriggerPosCommand()\\n    trigger = Trigger()\\n\\n    # Move the motor to the specified position.\\n    posCommand.profile.type = ProfileType.Trapezoidal\\n    posCommand.axis = 0\\n    posCommand.target = 100\\n    posCommand.profile.velocity = 1000\\n    posCommand.profile.acc = 10000\\n    posCommand.profile.dec = 10000\\n    ret = Wmx3Lib_cm.motion.StartMov(posCommand)\\n    if ret != 0:\\n        print('StartMov error code is ' + str(ret) + ': ' + Wmx3Lib_cm.ErrorToString(ret))\\n        return\\n\\n    # Set trigger PosCommand.\\n    tgrPosCommand.profile.type = ProfileType.Trapezoidal\\n    tgrPosCommand.axis = 1\\n    tgrPosCommand.target = 180\\n    tgrPosCommand.profile.velocity = 1000\\n    tgrPosCommand.profile.acc = 10000\\n    tgrPosCommand.profile.dec = 10000\\n\\n    # Create Trigger\\n    # Start when the remaining distance of 0 axis reaches 30 pulse.\\n    trigger.triggerAxis = 0\\n    trigger.triggerType = TriggerType.RemainingDistance\\n    trigger.triggerValue = 30\\n    tgrPosCommand.trigger = trigger\\n    ret = Wmx3Lib_cm.motion.StartMov_Trigger(tgrPosCommand)\\n    if ret != 0:\\n        print('StartMov_Trigger error code is ' + str(ret) + ': ' + Wmx3Lib_cm.ErrorToString(ret))\\n        return\\n    Wmx3Lib_cm.motion.Wait(1)\\n\\n    # Wait for the motion to complete. Start a blocking wait command, returning only when Axis 0 and Axis 1 become idle.\\n    axisSel = AxisSelection()\\n    axisSel.axisCount = 2\\n    axisSel.SetAxis(0, 0)\\n    axisSel.SetAxis(1, 1)\\n    ret = Wmx3Lib_cm.motion.Wait_AxisSel(axisSel)\\n    if ret != 0:\\n        print('Wait_AxisSel error code is ' + str(ret) + ': ' + Wmx3Lib_cm.ErrorToString(ret))\\n        return\\n        \\n\\n\\n#\"),\n",
       "  0.9367446899414062),\n",
       " (Document(metadata={'source': './docs/WMX3API_MCEval_Samplecodes.txt', 'start_index': 0}, page_content=\"# Write python code to move Axis 0 to 180 with velocity 1000.\\n# Write python code to start an absolute position command of Axis 0 to position 180 with 1000 velocity.\\n\\n    # Axes = [0]\\n    # Start an absolute position command of Axis 0 to position 180 with 1000 velocity.\\n    posCommand = Motion_PosCommand()\\n    posCommand.profile.type = ProfileType.Trapezoidal\\n    posCommand.axis = 0\\n    posCommand.target = 180\\n    posCommand.profile.velocity = 1000\\n    posCommand.profile.acc = 10000\\n    posCommand.profile.dec = 10000\\n\\n    # Execute command to move from current position to specified absolute position.\\n    ret = Wmx3Lib_cm.motion.StartPos(posCommand)\\n    if ret!=0:\\n        print('StartPos error code is ' + str(ret) + ': ' + Wmx3Lib_cm.ErrorToString(ret))\\n        return\\n\\n    # Wait until the axis moves to the target position and stops.\\n    Wmx3Lib_cm.motion.Wait(0)\\n\\n\\n\\n#\"),\n",
       "  0.9408288598060608),\n",
       " (Document(metadata={'source': './docs/WMX3API_MCEval_Samplecodes.txt', 'start_index': 38554}, page_content=\"``\\n\\n\\n\\n# Write python code to Execute an absolute position triggered linear interpolation motion command.Control Axis 0 and Axis 1 to linearly interpolate to (130, 60) at a velocity of 1000 with acceleration and deceleration of 10000. Wait for 1 millisecond, then execute the trigger linear interpolation motion command. When the remaining distance of Axis 0 is 80, trigger Axis 0 and Axis 1 to (-70, -40).\\n    # Axes = [0, 1]\\n\\n    lin = Motion_LinearIntplCommand()\\n    trig = Trigger()\\n\\n    # Execute normal motion command\\n    lin.axisCount = 2\\n    lin.SetAxis(0, 0)\\n    lin.SetAxis(1, 1)\\n\\n    lin.profile.type = ProfileType.Trapezoidal\\n    lin.profile.velocity = 1000\\n    lin.profile.acc = 10000\\n    lin.profile.dec = 10000\\n\\n    lin.SetTarget(0, 130)\\n    lin.SetTarget(1, 60)\\n\\n    ret = Wmx3Lib_cm.motion.StartLinearIntplPos(lin)\\n    if ret != 0:\\n        print('StartLinearIntplPos error code is ' + str(ret) + ': ' + Wmx3Lib_cm.ErrorToString(ret))\\n        return\\n\\n    sleep(0.001)\\n\\n    lin.SetTarget(0, -70)\\n    lin.SetTarget(1, -40)\\n\\n    trig.triggerAxis = 0\\n    trig.triggerType = TriggerType.RemainingDistance\\n    trig.triggerValue = 80\\n\\n    ret = Wmx3Lib_cm.motion.StartLinearIntplPos_Trigger(lin, trig)\\n    if ret != 0:\\n        print('StartLinearIntplPos_Trigger error code is ' + str(ret) + ': ' + Wmx3Lib_cm.ErrorToString(ret))\\n        return   \\n\\n    # Wait for the motion to complete. Start a blocking wait command, returning only when Axis 0 and Axis 1 become idle.\\n    axisSel = AxisSelection()\\n    axisSel.axisCount = 2\\n    axisSel.SetAxis(0, 0)\\n    axisSel.SetAxis(1, 1)\\n    ret = Wmx3Lib_cm.motion.Wait_AxisSel(axisSel)\\n    if ret != 0:\\n        print('Wait_AxisSel error code is ' + str(ret) + ': ' + Wmx3Lib_cm.ErrorToString(ret))\\n        return\\n    \\n\\n\\n\\n#\"),\n",
       "  0.9454842209815979),\n",
       " (Document(metadata={'source': './docs/WMX3API_MCEval_Samplecodes.txt', 'start_index': 9142}, page_content=\"``\\n\\n\\n\\n# Write python code to Start a relative position linear interpolation motion command of Axis 0 and 1 with  (200, -150) distance with 1000 velocity.\\n    # Axes = [0, 1]\\n    \\n    # Create a command value of relative distance of (200, -150).\\n    lin = Motion_LinearIntplCommand()\\n    lin.axisCount = 2 \\n    lin.SetAxis(0,0)\\n    lin.SetAxis(1,1) \\n\\n    lin.profile.type = ProfileType.Trapezoidal\\n    lin.profile.velocity = 1000\\n    lin.profile.acc = 10000\\n    lin.profile.dec = 10000\\n\\n    lin.SetTarget(0,200)  #Set target of Axis 0 to be 300\\n    lin.SetTarget(1,-150)  #Set target of Axis 1 to be 100\\n\\n    # Start an relative position linear interpolation motion command.\\n    ret =Wmx3Lib_cm.motion.StartLinearIntplMov(lin)\\n    if ret!=0:\\n            print('StartLinearIntplMov error code is ' + str(ret) + ': ' + Wmx3Lib_cm.ErrorToString(ret))\\n            return\\n    \\n    # Wait for the motion to complete. Start a blocking wait command, returning only when Axis 0 and Axis 1 become idle.\\n    axisSel = AxisSelection()\\n    axisSel.axisCount = 2\\n    axisSel.SetAxis(0, 0)\\n    axisSel.SetAxis(1, 1)\\n    ret = Wmx3Lib_cm.motion.Wait_AxisSel(axisSel)\\n    if ret != 0:\\n        print('Wait_AxisSel error code is ' + str(ret) + ': ' + Wmx3Lib_cm.ErrorToString(ret))\\n        return\\n    \\n\\n\\n#\"),\n",
       "  0.9455631375312805),\n",
       " (Document(metadata={'source': './docs/WMX3API_MCEval_Samplecodes.txt', 'start_index': 12253}, page_content=\"``\\n\\n\\n\\n# Write python code to Establish synchronous control between master axis 0 and a slave axis 1, then move Axis 0 to position 188 with velocity 1200.\\n    # Axes = [0, 1]\\n\\n    # Establish the synchronization between Axis 0 and Axis 1, with Axis 0 designated as the master axis and Axis 1 as the slave axis.\\n    ret = Wmx3Lib_cm.sync.SetSyncMasterSlave(0, 1)\\n    if ret != 0:\\n        print('SetSyncMasterSlave error code is ' + str(ret) + ': ' + Wmx3Lib_cm.ErrorToString(ret))\\n        return\\n\\n    # Create a command with target position 1,000,000 and velocity 100,000.\\n    posCommand = Motion_PosCommand()\\n    posCommand.profile.type = ProfileType.Trapezoidal\\n    posCommand.axis = 0\\n    posCommand.target = 188\\n    posCommand.profile.velocity = 1200\\n    posCommand.profile.acc = 10000\\n    posCommand.profile.dec = 10000\\n\\n    # Execute the command to move the master axis from its current position to a specified absolute position, with the slave axis moving in synchronization.\\n    ret = Wmx3Lib_cm.motion.StartPos(posCommand)\\n    if ret != 0:\\n        print('StartMov error code is ' + str(ret) + ': ' + Wmx3Lib_cm.ErrorToString(ret))\\n        return\\n\\n    # Wait for the positioning motion to complete. Start a blocking wait command, returning only when Axis 0 becomes idle.\\n    ret = Wmx3Lib_cm.motion.Wait(0)\\n    if ret != 0:\\n        print('Wait error code is ' + str(ret) + ': ' + Wmx3Lib_cm.ErrorToString(ret))\\n        return\\n\\n    # Release the synchronization between Axis 0 and Axis 1.\\n    ret = Wmx3Lib_cm.sync.ResolveSync(1)\\n    if ret != 0:\\n        print('ResolveSync error code is ' + str(ret) + ': ' + Wmx3Lib_cm.ErrorToString(ret))\\n        return\\n\\n\\n\\n#\"),\n",
       "  0.9570353031158447),\n",
       " (Document(metadata={'source': './docs/WMX3API_MCEval_Samplecodes.txt', 'start_index': 7877}, page_content=\"``\\n\\n\\n\\n# Write python code to Start an absolute position linear interpolation motion command of Axis 0 and 1 to position (300, 100) with 1000 velocity.\\n    # Axes = [0, 1]\\n\\n    # Create a command value of target as (300, 100).\\n    lin = Motion_LinearIntplCommand()\\n    lin.axisCount = 2 \\n    lin.SetAxis(0,0)\\n    lin.SetAxis(1,1) \\n\\n    lin.profile.type = ProfileType.Trapezoidal\\n    lin.profile.velocity = 1000\\n    lin.profile.acc = 10000\\n    lin.profile.dec = 10000\\n\\n    lin.SetTarget(0,300)  #Set target of Axis 0 to be 300\\n    lin.SetTarget(1,100)  #Set target of Axis 1 to be 100\\n\\n    # Start an absolute position linear interpolation motion command.\\n    ret =Wmx3Lib_cm.motion.StartLinearIntplPos(lin)\\n    if ret!=0:\\n            print('StartLinearIntplPos error code is ' + str(ret) + ': ' + Wmx3Lib_cm.ErrorToString(ret))\\n            return\\n    \\n    # Wait for the motion to complete. Start a blocking wait command, returning only when Axis 0 and Axis 1 become idle.\\n    axisSel = AxisSelection()\\n    axisSel.axisCount = 2\\n    axisSel.SetAxis(0, 0)\\n    axisSel.SetAxis(1, 1)\\n    ret = Wmx3Lib_cm.motion.Wait_AxisSel(axisSel)\\n    if ret != 0:\\n        print('Wait_AxisSel error code is ' + str(ret) + ': ' + Wmx3Lib_cm.ErrorToString(ret))\\n        return\\n    \\n\\n\\n#\"),\n",
       "  0.9618320465087891),\n",
       " (Document(metadata={'source': './docs/WMX3API_MCEval_Samplecodes.txt', 'start_index': 36781}, page_content=\"``\\n\\n\\n\\n# Write python code to Execute an absolute position triggered linear interpolation motion command.Control Axis 0 and Axis 1 to linearly interpolate to (150, 30) at a velocity of 1000 with acceleration and deceleration of 10000. Wait for 1 millisecond, then execute the trigger linear interpolation motion command. When the completed distance of Axis 0 reaches 100, move Axis 0 and Axis 1 to (-100, -10).\\n    # Axes = [0, 1]\\n\\n    lin = Motion_LinearIntplCommand()\\n    trig = Trigger()\\n\\n    # Execute normal motion command\\n    lin.axisCount = 2\\n    lin.SetAxis(0, 0)\\n    lin.SetAxis(1, 1)\\n\\n    lin.profile.type = ProfileType.Trapezoidal\\n    lin.profile.velocity = 1000\\n    lin.profile.acc = 10000\\n    lin.profile.dec = 10000\\n\\n    lin.SetTarget(0, 150)\\n    lin.SetTarget(1, 30)\\n\\n    ret = Wmx3Lib_cm.motion.StartLinearIntplPos(lin)\\n    if ret != 0:\\n        print('StartLinearIntplPos error code is ' + str(ret) + ': ' + Wmx3Lib_cm.ErrorToString(ret))\\n        return\\n\\n    sleep(0.001)\\n\\n    lin.SetTarget(0, -100)\\n    lin.SetTarget(1, -10)\\n\\n    trig.triggerAxis = 0\\n    trig.triggerType = TriggerType.CompletedDistance\\n    trig.triggerValue = 100\\n\\n    ret = Wmx3Lib_cm.motion.StartLinearIntplPos_Trigger(lin, trig)\\n    if ret != 0:\\n        print('StartLinearIntplPos_Trigger error code is ' + str(ret) + ': ' + Wmx3Lib_cm.ErrorToString(ret))\\n        return\\n\\n    # Wait for the motion to complete. Start a blocking wait command, returning only when Axis 0 and Axis 1 become idle.\\n    axisSel = AxisSelection()\\n    axisSel.axisCount = 2\\n    axisSel.SetAxis(0, 0)\\n    axisSel.SetAxis(1, 1)\\n    ret = Wmx3Lib_cm.motion.Wait_AxisSel(axisSel)\\n    if ret != 0:\\n        print('Wait_AxisSel error code is ' + str(ret) + ': ' + Wmx3Lib_cm.ErrorToString(ret))\\n        return\\n    \\n\\n\\n#\"),\n",
       "  0.967399001121521)]"
      ]
     },
     "execution_count": 6,
     "metadata": {},
     "output_type": "execute_result"
    }
   ],
   "source": [
    "docsws=vectorstore.similarity_search_with_score('Write python code to move axis 1 to 233', k=10)\n",
    "docsws"
   ]
  },
  {
   "cell_type": "markdown",
   "metadata": {},
   "source": [
    "## Ensemble retriever (using Reciprocal Rank Fusion to rerank)"
   ]
  },
  {
   "cell_type": "code",
   "execution_count": 9,
   "metadata": {},
   "outputs": [
    {
     "data": {
      "text/plain": [
       "[Document(metadata={'source': './docs/WMX3API_MCEval_Samplecodes.txt', 'start_index': 3290}, page_content=\"``\\n\\n\\n\\n# Write python code to move Axis 0 to position 180 with 1000 velocity, and then move Axis 0 by a 200 distance and 2000 velocity.\\n# Write python code to Start an absolute position command of Axis 0 to position 180 with 1000 velocity, and then start a relative position command of Axis 0 by a 200 distance and 2000 velocity.\\n\\n\\n    # Axes = [0]\\n    # Create a command value of target as 180.\\n    posCommand = Motion_PosCommand()\\n    posCommand.profile.type = ProfileType.Trapezoidal\\n    posCommand.axis = 0\\n    posCommand.target = 180\\n    posCommand.profile.velocity = 1000\\n    posCommand.profile.acc = 10000\\n    posCommand.profile.dec = 10000\\n\\n    # Execute command to move from current position to specified absolute position.\\n    ret = Wmx3Lib_cm.motion.StartPos(posCommand)\\n    if ret!=0:\\n        print('StartPos error code is ' + str(ret) + ': ' + Wmx3Lib_cm.ErrorToString(ret))\\n        return\\n\\n    # Wait until the axis moves to the target position and stops.\\n    Wmx3Lib_cm.motion.Wait(0)\\n\\n    # Create a command value of target as 200.\\n    posCommand = Motion_PosCommand()\\n    posCommand.profile.type = ProfileType.Trapezoidal\\n    posCommand.axis = 0\\n    posCommand.target = 200\\n    posCommand.profile.velocity = 2000\\n    posCommand.profile.acc = 10000\\n    posCommand.profile.dec = 10000\\n\\n    # Execute command to move from current position to a specified distance relatively. e.g. 'Move 100..'\\n    ret = Wmx3Lib_cm.motion.StartMov(posCommand)\\n    if ret!=0:\\n        print('StartMov error code is ' + str(ret) + ': ' + Wmx3Lib_cm.ErrorToString(ret))\\n        return\\n\\n    # Wait until the axis moves to the target position and stops.\\n    Wmx3Lib_cm.motion.Wait(0)\\n\\n\\n#\"),\n",
       " Document(metadata={'source': './docs/WMX3API_MCEval_Samplecodes.txt', 'start_index': 0}, page_content=\"# Write python code to move Axis 0 to 180 with velocity 1000.\\n# Write python code to start an absolute position command of Axis 0 to position 180 with 1000 velocity.\\n\\n    # Axes = [0]\\n    # Start an absolute position command of Axis 0 to position 180 with 1000 velocity.\\n    posCommand = Motion_PosCommand()\\n    posCommand.profile.type = ProfileType.Trapezoidal\\n    posCommand.axis = 0\\n    posCommand.target = 180\\n    posCommand.profile.velocity = 1000\\n    posCommand.profile.acc = 10000\\n    posCommand.profile.dec = 10000\\n\\n    # Execute command to move from current position to specified absolute position.\\n    ret = Wmx3Lib_cm.motion.StartPos(posCommand)\\n    if ret!=0:\\n        print('StartPos error code is ' + str(ret) + ': ' + Wmx3Lib_cm.ErrorToString(ret))\\n        return\\n\\n    # Wait until the axis moves to the target position and stops.\\n    Wmx3Lib_cm.motion.Wait(0)\\n\\n\\n\\n#\"),\n",
       " Document(metadata={'source': './docs/WMX3API_MCEval_Samplecodes.txt', 'start_index': 879}, page_content=\"``\\n\\n\\n\\n# Write python code to move Axis 1 by a 200 distance with velocity 2000.\\n# Write python code to Start a relative position command of Axis 1 by a 200 distance and 2000 velocity.\\n    # Axes = [1]\\n\\n    # Start a relative position command of Axis 1 with 200 distance and 2000 velocity.\\n    # Create a command value of target as 200.\\n    posCommand = Motion_PosCommand()\\n    posCommand.profile.type = ProfileType.Trapezoidal\\n    posCommand.axis = 1\\n    posCommand.target = 200\\n    posCommand.profile.velocity = 2000\\n    posCommand.profile.acc = 10000\\n    posCommand.profile.dec = 10000\\n\\n    # Execute command to move from current position to a specified distance relatively. e.g. 'Move 100..'\\n    ret = Wmx3Lib_cm.motion.StartMov(posCommand)\\n    if ret!=0:\\n        print('StartMov error code is ' + str(ret) + ': ' + Wmx3Lib_cm.ErrorToString(ret))\\n        return\\n\\n    # Wait until the axis moves to the target position and stops.\\n    Wmx3Lib_cm.motion.Wait(1)\\n\\n\\n#\"),\n",
       " Document(metadata={'source': './docs/WMX3API_MCEval_Samplecodes.txt', 'start_index': 10427}, page_content=\"``\\n\\n\\n\\n# Write python code to Start an absolute position linear interpolation motion command of Axis 0 and 1 to position (300, 100) with 1000 velocity, and then start a relative position linear interpolation motion command of Axis 0 and 1 with  (200, -150) distance with 1000 velocity.\\n    # Axes = [0, 1]\\n\\n    # Create a command value of relative distance\\n    lin = Motion_LinearIntplCommand()\\n    lin.axisCount = 2 \\n    lin.SetAxis(0,0)\\n    lin.SetAxis(1,1) \\n\\n    lin.profile.type = ProfileType.Trapezoidal\\n    lin.profile.velocity = 1000\\n    lin.profile.acc = 10000\\n    lin.profile.dec = 10000\\n\\n    lin.SetTarget(0,300)  #Set target of Axis 0 to be 300\\n    lin.SetTarget(1,100)  #Set target of Axis 1 to be 100\\n\\n    # Start an absolute position linear interpolation motion command.\\n    ret =Wmx3Lib_cm.motion.StartLinearIntplPos(lin)\\n    if ret!=0:\\n            print('StartLinearIntplPos error code is ' + str(ret) + ': ' + Wmx3Lib_cm.ErrorToString(ret))\\n            return\\n    Wmx3Lib_cm.motion.Wait(0) #need to wait the Axis 0 to be idle\\n\\n    lin.SetTarget(0,200)  #Set target of Axis 0  \\n    lin.SetTarget(1,-150)  #Set target of Axis 1  \\n\\n    # Start an relative position linear interpolation motion command.\\n    ret =Wmx3Lib_cm.motion.StartLinearIntplMov(lin)\\n    if ret!=0:\\n            print('StartLinearIntplMov error code is ' + str(ret) + ': ' + Wmx3Lib_cm.ErrorToString(ret))\\n            return\\n    \\n    # Wait for the motion to complete. Start a blocking wait command, returning only when Axis 0 and Axis 1 become idle.\\n    axisSel = AxisSelection()\\n    axisSel.axisCount = 2\\n    axisSel.SetAxis(0, 0)\\n    axisSel.SetAxis(1, 1)\\n    ret = Wmx3Lib_cm.motion.Wait_AxisSel(axisSel)\\n    if ret != 0:\\n        print('Wait_AxisSel error code is ' + str(ret) + ': ' + Wmx3Lib_cm.ErrorToString(ret))\\n        return\\n    \\n\\n\\n#\"),\n",
       " Document(metadata={'source': './docs/WMX3API_MCEval_Samplecodes.txt', 'start_index': 29124}, page_content=\"``\\n\\n\\n\\n# Write python code to run an API buffer.\\n# Write python code to Record and execute an API buffer with two segments: Move Axis 0 to position 200 and Axis 1 to postion 100.\\n\\n    # Axes = [0, 1]\\n\\n    Wmx3Lib_buf = ApiBuffer(Wmx3Lib)\\n    #  Clear the buffer of the specified channel.\\n    Wmx3Lib_buf.Clear(0)\\n    # Create a buffer for the specified channel.\\n    Wmx3Lib_buf.CreateApiBuffer(0, 1024 * 1024 * 3)\\n    # Start recording for the specified channel.\\n    Wmx3Lib_buf.StartRecordBufferChannel(0)\\n\\n    # Create a command value.\\n    posCommand = Motion_PosCommand()\\n    posCommand.profile.type = ProfileType.Trapezoidal\\n    posCommand.axis = 0\\n    posCommand.target = 200\\n    posCommand.profile.velocity = 1000\\n    posCommand.profile.acc = 10000\\n    posCommand.profile.dec = 10000\\n\\n    # Execute command to move to a specified absolute position. \\n    Wmx3Lib_cm.motion.StartPos(posCommand)\\n\\n    Wmx3Lib_buf.Wait(0)\\n\\n    posCommand.axis = 1\\n    posCommand.target = 100\\n    posCommand.profile.velocity = 1000\\n    posCommand.profile.acc = 10000\\n    posCommand.profile.dec = 10000\\n\\n    # Execute command to move to a specified absolute position.\\n    Wmx3Lib_cm.motion.StartPos(posCommand)\\n    Wmx3Lib_buf.Wait(1)\\n\\n    # End Recording.\\n    Wmx3Lib_buf.EndRecordBufferChannel()\\n    # Drive the motion accumulated in the buffer so far.\\n    Wmx3Lib_buf.Execute(0)\\n\\n    # Wait for the motion to complete. Start a blocking wait command, returning only when Axis 0 and Axis 1 become idle.\\n    axisSel = AxisSelection()\\n    axisSel.axisCount = 2\\n    axisSel.SetAxis(0, 0)\\n    axisSel.SetAxis(1, 1)\\n    ret = Wmx3Lib_cm.motion.Wait_AxisSel(axisSel)\\n    if ret != 0:\\n        print('Wait_AxisSel error code is ' + str(ret) + ': ' + Wmx3Lib_cm.ErrorToString(ret))\\n        return\\n\\n    # Destroy API buffer resources.\\n    Wmx3Lib_buf.Halt(0)\\n    Wmx3Lib_buf.FreeApiBuffer(0)\\n\\n\\n\\n#\"),\n",
       " Document(metadata={'source': './docs/WMX3API_MCEval_Samplecodes.txt', 'start_index': 1843}, page_content=\"``\\n\\n\\n\\n# Write python code to Jog Axis 2 for 1.5s with 160 velocity, then start an absolute position command to position 10 with 1000 velocity.\\n# Jog Axis 2 for 1.5s with 160 velocity, then move to 10 with velocity 1000.\\n    # Axes = [2]\\n\\n    jogCommand = Motion_JogCommand()\\n    jogCommand.profile.type = ProfileType.Trapezoidal\\n    jogCommand.axis = 2\\n    jogCommand.profile.velocity = 160\\n    jogCommand.profile.acc = 10000\\n    jogCommand.profile.dec = 10000\\n\\n    # Rotate the motor at the specified speed.\\n    ret =Wmx3Lib_cm.motion.StartJog(jogCommand)\\n    if ret!=0:\\n        print('StartJog error code is ' + str(ret) + ': ' + Wmx3Lib_cm.ErrorToString(ret))\\n        return\\n\\n    #Jogging for 1.5 seconds\\n    sleep(1.5)\\n    \\n    Wmx3Lib_cm.motion.Stop(2)\\n\\n    Wmx3Lib_cm.motion.Wait(2)\\n    \\n    # Create a command value of target as 10.\\n    posCommand = Motion_PosCommand()\\n    posCommand.profile.type = ProfileType.Trapezoidal\\n    posCommand.axis = 2\\n    posCommand.target = 10\\n    posCommand.profile.velocity = 1000\\n    posCommand.profile.acc = 10000\\n    posCommand.profile.dec = 10000\\n\\n    # Execute command to move from current position to specified absolute position.\\n    ret = Wmx3Lib_cm.motion.StartPos(posCommand)\\n    if ret!=0:\\n        print('StartPos error code is ' + str(ret) + ': ' + Wmx3Lib_cm.ErrorToString(ret))\\n        return\\n\\n    # Wait until the axis moves to the target position and stops.\\n    Wmx3Lib_cm.motion.Wait(2)\\n\\n\\n\\n#\"),\n",
       " Document(metadata={'source': './docs/WMX3API_MCEval_Samplecodes.txt', 'start_index': 27043}, page_content=\"``\\n\\n\\n\\n# Write python code to Start a relative triggered position command of Axis 1 with 180 distance and velocity of 1000, and the triggered condition is the remaining distance for Axis 0 to the target position is 30 while it moves a relative 100 distance.\\n    # Axes = [0, 1]\\n\\n    posCommand = Motion_PosCommand()\\n    tgrPosCommand = Motion_TriggerPosCommand()\\n    trigger = Trigger()\\n\\n    # Move the motor to the specified position.\\n    posCommand.profile.type = ProfileType.Trapezoidal\\n    posCommand.axis = 0\\n    posCommand.target = 100\\n    posCommand.profile.velocity = 1000\\n    posCommand.profile.acc = 10000\\n    posCommand.profile.dec = 10000\\n    ret = Wmx3Lib_cm.motion.StartMov(posCommand)\\n    if ret != 0:\\n        print('StartMov error code is ' + str(ret) + ': ' + Wmx3Lib_cm.ErrorToString(ret))\\n        return\\n\\n    # Set trigger PosCommand.\\n    tgrPosCommand.profile.type = ProfileType.Trapezoidal\\n    tgrPosCommand.axis = 1\\n    tgrPosCommand.target = 180\\n    tgrPosCommand.profile.velocity = 1000\\n    tgrPosCommand.profile.acc = 10000\\n    tgrPosCommand.profile.dec = 10000\\n\\n    # Create Trigger\\n    # Start when the remaining distance of 0 axis reaches 30 pulse.\\n    trigger.triggerAxis = 0\\n    trigger.triggerType = TriggerType.RemainingDistance\\n    trigger.triggerValue = 30\\n    tgrPosCommand.trigger = trigger\\n    ret = Wmx3Lib_cm.motion.StartMov_Trigger(tgrPosCommand)\\n    if ret != 0:\\n        print('StartMov_Trigger error code is ' + str(ret) + ': ' + Wmx3Lib_cm.ErrorToString(ret))\\n        return\\n    Wmx3Lib_cm.motion.Wait(1)\\n\\n    # Wait for the motion to complete. Start a blocking wait command, returning only when Axis 0 and Axis 1 become idle.\\n    axisSel = AxisSelection()\\n    axisSel.axisCount = 2\\n    axisSel.SetAxis(0, 0)\\n    axisSel.SetAxis(1, 1)\\n    ret = Wmx3Lib_cm.motion.Wait_AxisSel(axisSel)\\n    if ret != 0:\\n        print('Wait_AxisSel error code is ' + str(ret) + ': ' + Wmx3Lib_cm.ErrorToString(ret))\\n        return\\n        \\n\\n\\n#\")]"
      ]
     },
     "execution_count": 9,
     "metadata": {},
     "output_type": "execute_result"
    }
   ],
   "source": [
    "from langchain.retrievers import BM25Retriever, EnsembleRetriever\n",
    "# vectordb = vectorstore.as_retriever(search_kwargs={\"k\": 2})\n",
    "retriever = vectorstore.as_retriever(search_type=\"similarity\", search_kwargs={\"k\": 5})\n",
    "\n",
    "# initialize the bm25 retriever and faiss retriever\n",
    "bm25_retriever = BM25Retriever.from_documents(splits)\n",
    "bm25_retriever.k = 5\n",
    "\n",
    "# initialize the ensemble retriever\n",
    "ensemble_retriever = EnsembleRetriever(retrievers=[bm25_retriever, retriever], weights=[0.5, 0.5])\n",
    "\n",
    "ensemble_docs = ensemble_retriever.invoke(\"Write python code to move axis 111 to 233\")\n",
    "\n",
    "ensemble_docs\n",
    "\n"
   ]
  },
  {
   "cell_type": "markdown",
   "metadata": {},
   "source": [
    "## Reranking (Compare cosine similarity by myself)"
   ]
  },
  {
   "cell_type": "code",
   "execution_count": 10,
   "metadata": {},
   "outputs": [
    {
     "name": "stdout",
     "output_type": "stream",
     "text": [
      "Document: ``\n",
      "\n",
      "\n",
      "\n",
      "# Write python code to move Axis 1 by a 200 distance with velocity 2000.\n",
      "# Write python code t... Similarity: 0.5553\n",
      "Document: ``\n",
      "\n",
      "\n",
      "\n",
      "# Write python code to move Axis 0 to position 180 with 1000 velocity, and then move Axis 0 by... Similarity: 0.5498\n",
      "Document: # Write python code to move Axis 0 to 180 with velocity 1000.\n",
      "# Write python code to start an absolu... Similarity: 0.5317\n",
      "Document: ``\n",
      "\n",
      "\n",
      "\n",
      "# Write python code to Start an absolute position linear interpolation motion command of Axis ... Similarity: 0.5208\n",
      "Document: ``\n",
      "\n",
      "\n",
      "\n",
      "# Write python code to Start a relative triggered position command of Axis 1 with 180 distance... Similarity: 0.5132\n"
     ]
    },
    {
     "data": {
      "text/plain": [
       "[(Document(metadata={'source': './docs/WMX3API_MCEval_Samplecodes.txt', 'start_index': 879}, page_content=\"``\\n\\n\\n\\n# Write python code to move Axis 1 by a 200 distance with velocity 2000.\\n# Write python code to Start a relative position command of Axis 1 by a 200 distance and 2000 velocity.\\n    # Axes = [1]\\n\\n    # Start a relative position command of Axis 1 with 200 distance and 2000 velocity.\\n    # Create a command value of target as 200.\\n    posCommand = Motion_PosCommand()\\n    posCommand.profile.type = ProfileType.Trapezoidal\\n    posCommand.axis = 1\\n    posCommand.target = 200\\n    posCommand.profile.velocity = 2000\\n    posCommand.profile.acc = 10000\\n    posCommand.profile.dec = 10000\\n\\n    # Execute command to move from current position to a specified distance relatively. e.g. 'Move 100..'\\n    ret = Wmx3Lib_cm.motion.StartMov(posCommand)\\n    if ret!=0:\\n        print('StartMov error code is ' + str(ret) + ': ' + Wmx3Lib_cm.ErrorToString(ret))\\n        return\\n\\n    # Wait until the axis moves to the target position and stops.\\n    Wmx3Lib_cm.motion.Wait(1)\\n\\n\\n#\"),\n",
       "  0.5552583786276872),\n",
       " (Document(metadata={'source': './docs/WMX3API_MCEval_Samplecodes.txt', 'start_index': 3290}, page_content=\"``\\n\\n\\n\\n# Write python code to move Axis 0 to position 180 with 1000 velocity, and then move Axis 0 by a 200 distance and 2000 velocity.\\n# Write python code to Start an absolute position command of Axis 0 to position 180 with 1000 velocity, and then start a relative position command of Axis 0 by a 200 distance and 2000 velocity.\\n\\n\\n    # Axes = [0]\\n    # Create a command value of target as 180.\\n    posCommand = Motion_PosCommand()\\n    posCommand.profile.type = ProfileType.Trapezoidal\\n    posCommand.axis = 0\\n    posCommand.target = 180\\n    posCommand.profile.velocity = 1000\\n    posCommand.profile.acc = 10000\\n    posCommand.profile.dec = 10000\\n\\n    # Execute command to move from current position to specified absolute position.\\n    ret = Wmx3Lib_cm.motion.StartPos(posCommand)\\n    if ret!=0:\\n        print('StartPos error code is ' + str(ret) + ': ' + Wmx3Lib_cm.ErrorToString(ret))\\n        return\\n\\n    # Wait until the axis moves to the target position and stops.\\n    Wmx3Lib_cm.motion.Wait(0)\\n\\n    # Create a command value of target as 200.\\n    posCommand = Motion_PosCommand()\\n    posCommand.profile.type = ProfileType.Trapezoidal\\n    posCommand.axis = 0\\n    posCommand.target = 200\\n    posCommand.profile.velocity = 2000\\n    posCommand.profile.acc = 10000\\n    posCommand.profile.dec = 10000\\n\\n    # Execute command to move from current position to a specified distance relatively. e.g. 'Move 100..'\\n    ret = Wmx3Lib_cm.motion.StartMov(posCommand)\\n    if ret!=0:\\n        print('StartMov error code is ' + str(ret) + ': ' + Wmx3Lib_cm.ErrorToString(ret))\\n        return\\n\\n    # Wait until the axis moves to the target position and stops.\\n    Wmx3Lib_cm.motion.Wait(0)\\n\\n\\n#\"),\n",
       "  0.5497634627625765),\n",
       " (Document(metadata={'source': './docs/WMX3API_MCEval_Samplecodes.txt', 'start_index': 0}, page_content=\"# Write python code to move Axis 0 to 180 with velocity 1000.\\n# Write python code to start an absolute position command of Axis 0 to position 180 with 1000 velocity.\\n\\n    # Axes = [0]\\n    # Start an absolute position command of Axis 0 to position 180 with 1000 velocity.\\n    posCommand = Motion_PosCommand()\\n    posCommand.profile.type = ProfileType.Trapezoidal\\n    posCommand.axis = 0\\n    posCommand.target = 180\\n    posCommand.profile.velocity = 1000\\n    posCommand.profile.acc = 10000\\n    posCommand.profile.dec = 10000\\n\\n    # Execute command to move from current position to specified absolute position.\\n    ret = Wmx3Lib_cm.motion.StartPos(posCommand)\\n    if ret!=0:\\n        print('StartPos error code is ' + str(ret) + ': ' + Wmx3Lib_cm.ErrorToString(ret))\\n        return\\n\\n    # Wait until the axis moves to the target position and stops.\\n    Wmx3Lib_cm.motion.Wait(0)\\n\\n\\n\\n#\"),\n",
       "  0.5317220871447276),\n",
       " (Document(metadata={'source': './docs/WMX3API_MCEval_Samplecodes.txt', 'start_index': 10427}, page_content=\"``\\n\\n\\n\\n# Write python code to Start an absolute position linear interpolation motion command of Axis 0 and 1 to position (300, 100) with 1000 velocity, and then start a relative position linear interpolation motion command of Axis 0 and 1 with  (200, -150) distance with 1000 velocity.\\n    # Axes = [0, 1]\\n\\n    # Create a command value of relative distance\\n    lin = Motion_LinearIntplCommand()\\n    lin.axisCount = 2 \\n    lin.SetAxis(0,0)\\n    lin.SetAxis(1,1) \\n\\n    lin.profile.type = ProfileType.Trapezoidal\\n    lin.profile.velocity = 1000\\n    lin.profile.acc = 10000\\n    lin.profile.dec = 10000\\n\\n    lin.SetTarget(0,300)  #Set target of Axis 0 to be 300\\n    lin.SetTarget(1,100)  #Set target of Axis 1 to be 100\\n\\n    # Start an absolute position linear interpolation motion command.\\n    ret =Wmx3Lib_cm.motion.StartLinearIntplPos(lin)\\n    if ret!=0:\\n            print('StartLinearIntplPos error code is ' + str(ret) + ': ' + Wmx3Lib_cm.ErrorToString(ret))\\n            return\\n    Wmx3Lib_cm.motion.Wait(0) #need to wait the Axis 0 to be idle\\n\\n    lin.SetTarget(0,200)  #Set target of Axis 0  \\n    lin.SetTarget(1,-150)  #Set target of Axis 1  \\n\\n    # Start an relative position linear interpolation motion command.\\n    ret =Wmx3Lib_cm.motion.StartLinearIntplMov(lin)\\n    if ret!=0:\\n            print('StartLinearIntplMov error code is ' + str(ret) + ': ' + Wmx3Lib_cm.ErrorToString(ret))\\n            return\\n    \\n    # Wait for the motion to complete. Start a blocking wait command, returning only when Axis 0 and Axis 1 become idle.\\n    axisSel = AxisSelection()\\n    axisSel.axisCount = 2\\n    axisSel.SetAxis(0, 0)\\n    axisSel.SetAxis(1, 1)\\n    ret = Wmx3Lib_cm.motion.Wait_AxisSel(axisSel)\\n    if ret != 0:\\n        print('Wait_AxisSel error code is ' + str(ret) + ': ' + Wmx3Lib_cm.ErrorToString(ret))\\n        return\\n    \\n\\n\\n#\"),\n",
       "  0.5207726901711882),\n",
       " (Document(metadata={'source': './docs/WMX3API_MCEval_Samplecodes.txt', 'start_index': 27043}, page_content=\"``\\n\\n\\n\\n# Write python code to Start a relative triggered position command of Axis 1 with 180 distance and velocity of 1000, and the triggered condition is the remaining distance for Axis 0 to the target position is 30 while it moves a relative 100 distance.\\n    # Axes = [0, 1]\\n\\n    posCommand = Motion_PosCommand()\\n    tgrPosCommand = Motion_TriggerPosCommand()\\n    trigger = Trigger()\\n\\n    # Move the motor to the specified position.\\n    posCommand.profile.type = ProfileType.Trapezoidal\\n    posCommand.axis = 0\\n    posCommand.target = 100\\n    posCommand.profile.velocity = 1000\\n    posCommand.profile.acc = 10000\\n    posCommand.profile.dec = 10000\\n    ret = Wmx3Lib_cm.motion.StartMov(posCommand)\\n    if ret != 0:\\n        print('StartMov error code is ' + str(ret) + ': ' + Wmx3Lib_cm.ErrorToString(ret))\\n        return\\n\\n    # Set trigger PosCommand.\\n    tgrPosCommand.profile.type = ProfileType.Trapezoidal\\n    tgrPosCommand.axis = 1\\n    tgrPosCommand.target = 180\\n    tgrPosCommand.profile.velocity = 1000\\n    tgrPosCommand.profile.acc = 10000\\n    tgrPosCommand.profile.dec = 10000\\n\\n    # Create Trigger\\n    # Start when the remaining distance of 0 axis reaches 30 pulse.\\n    trigger.triggerAxis = 0\\n    trigger.triggerType = TriggerType.RemainingDistance\\n    trigger.triggerValue = 30\\n    tgrPosCommand.trigger = trigger\\n    ret = Wmx3Lib_cm.motion.StartMov_Trigger(tgrPosCommand)\\n    if ret != 0:\\n        print('StartMov_Trigger error code is ' + str(ret) + ': ' + Wmx3Lib_cm.ErrorToString(ret))\\n        return\\n    Wmx3Lib_cm.motion.Wait(1)\\n\\n    # Wait for the motion to complete. Start a blocking wait command, returning only when Axis 0 and Axis 1 become idle.\\n    axisSel = AxisSelection()\\n    axisSel.axisCount = 2\\n    axisSel.SetAxis(0, 0)\\n    axisSel.SetAxis(1, 1)\\n    ret = Wmx3Lib_cm.motion.Wait_AxisSel(axisSel)\\n    if ret != 0:\\n        print('Wait_AxisSel error code is ' + str(ret) + ': ' + Wmx3Lib_cm.ErrorToString(ret))\\n        return\\n        \\n\\n\\n#\"),\n",
       "  0.5131793255986428)]"
      ]
     },
     "execution_count": 10,
     "metadata": {},
     "output_type": "execute_result"
    }
   ],
   "source": [
    "from sklearn.metrics.pairwise import cosine_similarity\n",
    "# from utils.embeddings_utils import get_embedding, cosine_similarity\n",
    "import numpy as np\n",
    "\n",
    "from openai import OpenAI\n",
    "client = OpenAI()\n",
    "\n",
    "def get_embedding(text, model=\"text-embedding-3-large\"):\n",
    "   text = text.replace(\"\\n\", \" \")\n",
    "   return client.embeddings.create(input = [text], model=model).data[0].embedding\n",
    "\n",
    "\n",
    "# Reranking function\n",
    "def rerank_documents(question, retrieved_docs, top_n=5):\n",
    "    question_embedding = get_embedding(\n",
    "        question\n",
    "    )\n",
    "    # print(question_embedding)\n",
    "\n",
    "    # question_embedding = embedding_model.embed_text(question)\n",
    "    doc_embeddings = [get_embedding(doc.page_content) for doc in retrieved_docs]\n",
    "    similarities = cosine_similarity([question_embedding], doc_embeddings)[0]\n",
    "    \n",
    "    ranked_indices = np.argsort(similarities)[::-1]  # Sort by descending similarity\n",
    "    # ranked_docs = [retrieved_docs[i] for i in ranked_indices[:top_n]]\n",
    "    ranked_docs_with_similarities = [(retrieved_docs[i], similarities[i]) for i in ranked_indices[:top_n]]\n",
    "    \n",
    "    for doc, similarity in ranked_docs_with_similarities:\n",
    "        print(f\"Document: {doc.page_content[:100]}... Similarity: {similarity:.4f}\")\n",
    "\n",
    "    return ranked_docs_with_similarities\n",
    "\n",
    "question = \"Write python code to move axis 1 to 233\"\n",
    "\n",
    "ranked_docs = rerank_documents(question, ensemble_docs, 5)\n",
    "ranked_docs\n",
    "\n"
   ]
  },
  {
   "cell_type": "markdown",
   "metadata": {},
   "source": [
    "# LLMs playground"
   ]
  },
  {
   "cell_type": "markdown",
   "metadata": {},
   "source": [
    "## Groq"
   ]
  },
  {
   "cell_type": "code",
   "execution_count": 66,
   "metadata": {},
   "outputs": [
    {
     "name": "stdout",
     "output_type": "stream",
     "text": [
      "load from disk: Vectorstore/chromadb-MCCoder\n",
      " Here's the Python code that establishes synchronous control between master axis 0 and a slave axis 1, then moves Axis 0 to position 188 with velocity 1200:\n",
      "\n",
      "```python\n",
      "# Import necessary modules\n",
      "from Wmx3Lib import *\n",
      "\n",
      "# Initialize API buffer resources.\n",
      "Wmx3Lib_buf = ApiBuffer()\n",
      "Wmx3Lib_cm = CommandManager()\n",
      "\n",
      "# Establish synchronous control between master axis 0 and a slave axis 1.\n",
      "ret = Wmx3Lib_cm.sync.SetSyncMasterSlave(0, 1)\n",
      "if ret != 0:\n",
      "    print('SetSyncMasterSlave error code is ' + str(ret) + ': ' + Wmx3Lib_cm.ErrorToString(ret))\n",
      "    return\n",
      "\n",
      "# Create a command with target position 188 and velocity 1200 for the master axis (Axis 0).\n",
      "posCommand = Motion_PosCommand()\n",
      "posCommand.profile.type = ProfileType.Trapezoidal\n",
      "posCommand.axis = 0\n",
      "posCommand.target = 188\n",
      "posCommand.profile.velocity = 1200\n",
      "posCommand.profile.acc = 10000\n",
      "posCommand.profile.dec = 10000\n",
      "\n",
      "# Execute the command to move Axis 0 to the specified position with synchronization.\n",
      "ret = Wmx3Lib_cm.motion.StartPos(posCommand)\n",
      "if ret != 0:\n",
      "    print('StartMov error code is ' + str(ret) + ': ' + Wmx3Lib_cm.ErrorToString(ret))\n",
      "    return\n",
      "\n",
      "# Wait for the positioning motion to complete. Start a blocking wait command, returning only when Axis 0 becomes idle.\n",
      "ret = Wmx3Lib_cm.motion.Wait(0)\n",
      "if ret != 0:\n",
      "    print('Wait error code is ' + str(ret) + ': ' + Wmx3Lib_cm.ErrorToString(ret))\n",
      "    return\n",
      "\n",
      "# Release the synchronization between Axis 0 and Axis 1.\n",
      "ret = Wmx3Lib_cm.sync.ResolveSync(1)\n",
      "if ret != 0:\n",
      "    print('ResolveSync error code is ' + str(ret) + ': ' + Wmx3Lib_cm.ErrorToString(ret))\n",
      "    return\n",
      "```\n",
      "\n",
      "This script sets up synchronous control between Axis 0 and Axis 1, configures the master axis to move to a position of 188 with a specified velocity and acceleration/deceleration profile, waits for the motion to complete, and then releases the synchronization. Make sure that your `Wmx3Lib` library is properly imported and configured before running this script.\n"
     ]
    }
   ],
   "source": [
    "from langchain_core.prompts import ChatPromptTemplate\n",
    "from langchain_groq import ChatGroq\n",
    "from langchain_community.chat_models.tongyi import ChatTongyi\n",
    "from langchain_core.messages import HumanMessage\n",
    "from langchain_ollama import ChatOllama\n",
    "import re\n",
    "\n",
    "load_dotenv(find_dotenv()) \n",
    "\n",
    "# Preparation of documents for RAG-------------------------\n",
    "# Vectorstore, for retrieval\n",
    "embedding_model=OpenAIEmbeddings(model=\"text-embedding-3-large\")   #text-embedding-3-large   #text-embedding-ada-002    #text-embedding-3-small\n",
    "\n",
    "# If pdf vectorstore exists\n",
    "vectorstore_path = \"Vectorstore/chromadb-MCCoder\"\n",
    "if os.path.exists(vectorstore_path):\n",
    "    vectorstore = Chroma(\n",
    "                    embedding_function=embedding_model,\n",
    "                    persist_directory=vectorstore_path,\n",
    "                    ) \n",
    "    print(\"load from disk: \" + vectorstore_path)\n",
    "else:\n",
    "    # Load from chunks and save to disk\n",
    "    # vectorstore = Chroma.from_documents(documents=splits, embedding=embedding_model, persist_directory=vectorstore_path) \n",
    "    print(\"load from chunks\")\n",
    "\n",
    "retriever = vectorstore.as_retriever(search_type=\"similarity\", search_kwargs={\"k\": 10})\n",
    "\n",
    "\n",
    "def CoderLLM(user_question, code_context):\n",
    "\n",
    "    # # Groq\n",
    "    # chatllm = ChatGroq(\n",
    "    #     temperature=0.2,\n",
    "    #     model=\"llama-3.1-8b-instant\")   # llama-3.1-8b-instant,  llama3-70b-8192,  llama-3.1-70b-versatile, llama-3.1-405b-reasoning, mixtral-8x7b-32768\n",
    "    \n",
    "    # # Tongyi Qwen\n",
    "    # chatllm = ChatTongyi(\n",
    "    #     temperature=0.2,\n",
    "    #     model=\"qwen-max\")   # qwen-turbo, qwen-plus, qwen-max,  qwen-max-longcontext\n",
    "    \n",
    "    # Ollama\n",
    "    chatllm = ChatOllama(\n",
    "    model=\"deepseek-coder-v2\",            # codellama:7b , codellama:34b, tinyllama, codegeex4, deepseek-coder-v2\n",
    "    temperature=0.2,\n",
    "    # other params...\n",
    ")\n",
    "\n",
    "\n",
    "\n",
    "    # Prompt for code generation\n",
    "    prompt_template = \"\"\"Write a python code based on the following Question and Context. You need to choose the correct codes from the Context to answer the Question.\n",
    "    1. Review the question carefully and find all the 'Axis number', IO Inputs and Outputs, and add them to the first lines of the generated code in the following format: \n",
    "    # Axes = [Axis number 1, Axis number 2, ...]\n",
    "    # Inputs = [byte.bit 1, byte.bit 2, ...]\n",
    "    # Outputs = [byte.bit 1, byte.bit 2, ...]\n",
    "    For instance, if the question is '...Axis 9..., ...Axis 12..., ...Axis 2..., Input 0.3 and 1.2, ...Output 3.4 and 6.1', then \n",
    "    # Axes = [9, 12, 2]\n",
    "    # Inputs = [0.3, 1.2, ...]\n",
    "    # Outputs = [3.4, 6.1, ...]\n",
    "    2. Include all the generated codes within one paragraph between ```python and ``` tags. \n",
    "    3. Don't import any library.\n",
    "    4. Don't create any functions or example usage.\n",
    "    5. You need to wait until the axis reaches the target position and stops, unless otherwise specified.\n",
    "    ----------------------------------------------\n",
    "\n",
    "    Question: \n",
    "    {question}\n",
    "\n",
    "    Context: \n",
    "    {context}\n",
    "\n",
    "        \"\"\"\n",
    "\n",
    "    prompt = ChatPromptTemplate.from_template(prompt_template)\n",
    "\n",
    "    chain = prompt | chatllm\n",
    "    answer = chain.invoke({\"context\": code_context, \"question\": user_question})\n",
    "    return answer\n",
    "\n",
    "\n",
    "# Joins the page content of each document with double newline\n",
    "def format_docs(docs):\n",
    "   return \"\\n\\n\".join(doc.page_content for doc in docs)\n",
    "\n",
    "# Extracts code snippets written in Python from the given text\n",
    "def extract_code(text):\n",
    "    # Define the regular expression pattern to find text between ```python and ```\n",
    "    pattern = r\"```python(.*?)```\"\n",
    "\n",
    "    # Use re.findall to find all occurrences\n",
    "    matches = re.findall(pattern, text, re.DOTALL)\n",
    "\n",
    "    # Return the matches, join them if there are multiple matches\n",
    "    return \"\\n\\n---\\n\\n\".join(matches)\n",
    "\n",
    "\n",
    "\n",
    "user_question = 'Write python code to move Axis 19 as a distance of 32.0.'\n",
    "retrieval_result = format_docs(retriever.invoke(user_question))\n",
    "\n",
    "answers = CoderLLM(user_question, retrieval_result)\n",
    "\n",
    "from IPython.display import display, Markdown\n",
    "print(answers.content)\n",
    "# display(Markdown(str(answers)))"
   ]
  },
  {
   "cell_type": "markdown",
   "metadata": {},
   "source": []
  }
 ],
 "metadata": {
  "kernelspec": {
   "display_name": "rag-demo-IMu3vKF7-py3.10",
   "language": "python",
   "name": "python3"
  },
  "language_info": {
   "codemirror_mode": {
    "name": "ipython",
    "version": 3
   },
   "file_extension": ".py",
   "mimetype": "text/x-python",
   "name": "python",
   "nbconvert_exporter": "python",
   "pygments_lexer": "ipython3",
   "version": "3.11.7"
  }
 },
 "nbformat": 4,
 "nbformat_minor": 2
}
