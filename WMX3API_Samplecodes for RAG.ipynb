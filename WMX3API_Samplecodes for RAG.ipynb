{
 "cells": [
  {
   "cell_type": "code",
   "execution_count": null,
   "metadata": {},
   "outputs": [],
   "source": []
  },
  {
   "cell_type": "markdown",
   "metadata": {},
   "source": [
    "# MCCoder API Sample Codes for RAG\n",
    "\n"
   ]
  },
  {
   "cell_type": "markdown",
   "metadata": {},
   "source": [
    "## \n",
    "1. Read the file 'docs/WMX3API_MCEval_Dataset.xlsx' line by line.\n",
    "2. For each line, retrieve the 'TaskId' from the 'TaskId' column. Then, read the file 'MCEval_Files/{TaskId}_MCEval.py'.\n",
    "\"\"\"   /n\n",
    "from WMX3ApiPython import *\n",
    "from time import *\n",
    "INFINITE = int(0xFFFFFFFF)\n",
    "\n",
    "    Wmx3Lib = WMX3Api()\n",
    "    CmStatus = CoreMotionStatus()\n",
    "    Wmx3Lib_cm = CoreMotion(Wmx3Lib)\n",
    "    /n\n",
    "    \"\"\". This is A.\n",
    "Extract all lines between \"#~\" and \"#.\" (inclusive). Then Replace \"#~\" to \"#~ A python code for \". This is B.\n",
    "3. Write A and B to the file 'docs/WMX3API_MCEval_Samplecodes.txt'."
   ]
  },
  {
   "cell_type": "markdown",
   "metadata": {},
   "source": [
    "### Invalid below"
   ]
  },
  {
   "cell_type": "code",
   "execution_count": 37,
   "metadata": {},
   "outputs": [
    {
     "name": "stdout",
     "output_type": "stream",
     "text": [
      "Processing completed.\n"
     ]
    },
    {
     "name": "stderr",
     "output_type": "stream",
     "text": [
      "/opt/anaconda3/lib/python3.11/site-packages/openpyxl/worksheet/_read_only.py:79: UserWarning: Sparkline Group extension is not supported and will be removed\n",
      "  for idx, row in parser.parse():\n"
     ]
    }
   ],
   "source": [
    "import pandas as pd\n",
    "\n",
    "# Read the Excel file\n",
    "df = pd.read_excel('docs/WMX3API_MCEval_Dataset.xlsx')\n",
    "\n",
    "# Open the output file\n",
    "with open('docs/WMX3API_MCEval_Samplecodes.txt', 'w') as output_file:\n",
    "    # Loop through each row in the dataframe\n",
    "    for index, row in df.iterrows():\n",
    "        task_id = row['TaskId']\n",
    "        python_file_path = f'MCEval_Files/{task_id}_MCEval.py'\n",
    "        \n",
    "        try:\n",
    "            with open(python_file_path, 'r') as py_file:\n",
    "                lines = py_file.readlines()\n",
    "            \n",
    "            # Extract sec1\n",
    "            sec1 = []\n",
    "            for line in lines:\n",
    "                if 'INFINITE = int(0xFFFFFFFF)' in line:\n",
    "                    sec1.append(line)\n",
    "                    break\n",
    "                sec1.append(line)\n",
    "            \n",
    "            # Extract sec2\n",
    "            sec2 = []\n",
    "            sec2_started = False\n",
    "            for line in lines:\n",
    "                if '#~' in line:\n",
    "                    sec2_started = True\n",
    "                    line = line.replace('#~', '#~ A python code for ')\n",
    "                if sec2_started:\n",
    "                    sec2.append(line)\n",
    "                if '#.' in line:\n",
    "                    break\n",
    "            \n",
    "            # Write to the output file\n",
    "            output_file.writelines(sec1)\n",
    "            output_file.write('\\n')  # Add a newline between sections\n",
    "            output_file.writelines(sec2)\n",
    "            output_file.write('\\n\\n')  # Add a newline between different TaskId sections\n",
    "            \n",
    "        except FileNotFoundError:\n",
    "            print(f\"File {python_file_path} not found.\")\n",
    "        except Exception as e:\n",
    "            print(f\"An error occurred while processing {python_file_path}: {e}\")\n",
    "\n",
    "print(\"Processing completed.\")\n"
   ]
  },
  {
   "cell_type": "markdown",
   "metadata": {},
   "source": [
    "### Connect py files and write to samplecodes file."
   ]
  },
  {
   "cell_type": "code",
   "execution_count": 1,
   "metadata": {},
   "outputs": [
    {
     "name": "stdout",
     "output_type": "stream",
     "text": [
      "generate sample codes file\n"
     ]
    }
   ],
   "source": [
    "import os\n",
    "\n",
    "# Function to read files, append content, and write to a new file\n",
    "def append_and_write_files():\n",
    "    \"\"\"\n",
    "    Reads files from MCEval_Files directory, appends a specified string to each,\n",
    "    and writes the combined content to docs/WMX3API_MCEval_Samplecodes.txt.\n",
    "    \"\"\"\n",
    "    output_file_path = 'docs/WMX3API_MCEval_Samplecodes.txt'\n",
    "    os.makedirs(os.path.dirname(output_file_path), exist_ok=True)\n",
    "    \n",
    "    with open(output_file_path, 'w') as output_file:\n",
    "        for task_id in range(1, 99):\n",
    "            file_path = f'MCEval_Files/Sample codes/{task_id}_MCEval.py'\n",
    "            try:\n",
    "                with open(file_path, 'r') as input_file:\n",
    "                    content = input_file.read()\n",
    "                    content += \"\\n\\n#``\\n\\n\\n\\n\"\n",
    "                    output_file.write(content)\n",
    "            except FileNotFoundError:\n",
    "                print(f\"File {file_path} not found, skipping.\")\n",
    "                \n",
    "append_and_write_files()\n",
    "print('generate sample codes file')\n"
   ]
  },
  {
   "cell_type": "code",
   "execution_count": 36,
   "metadata": {},
   "outputs": [
    {
     "name": "stdout",
     "output_type": "stream",
     "text": [
      "(0, ['1. Write python code to Read a file.', '2. Write python code to Process the data.', '3. Write python code to Save the result.'])\n",
      "(1, ['This is a general question about Python.'])\n",
      "(0, ['Write a python code to read data without numbers.'])\n"
     ]
    }
   ],
   "source": [
    "import re\n",
    "\n",
    "# Extracts and formats code instructions from a user question based on specific starting phrases.\n",
    "def coder_router(user_question):\n",
    "    \"\"\"\n",
    "    Extracts numbered sections of a user question based on specific starting phrases.\n",
    "    \n",
    "    If the question starts with 'Write a python code', 'Python code', or 'write python' (case insensitive),\n",
    "    it splits the question into paragraphs that start with numbers (e.g., 1., 2., 3.) and adds \n",
    "    'Write python code to ' after the numbers. If the question does not start \n",
    "    with the specified phrases or does not contain numbered lists, the entire question is saved into a single \n",
    "    element array. If the question does not start with the specified phrases, NoCoder is set to 1.\n",
    "    \n",
    "    Args:\n",
    "        user_question (str): The user's question.\n",
    "    \n",
    "    Returns:\n",
    "        tuple: NoCoder (int), an array of strings with each element containing a code instruction or the entire question.\n",
    "    \"\"\"\n",
    "    result = []\n",
    "    NoCoder = 0\n",
    "    # Check if the input starts with the specified prefixes\n",
    "    if re.match(r'(?i)^(Write a python code|Python code|write python)', user_question):\n",
    "        # Find all numbered paragraphs\n",
    "        paragraphs = re.findall(r'(\\d+\\.\\s*)(.*)', user_question)\n",
    "        if paragraphs:\n",
    "            # Add 'Write python code to ' before each paragraph, preserving the numbers\n",
    "            for num, para in paragraphs:\n",
    "                result.append(f'{num.strip()} Write python code to {para.strip()}')\n",
    "        else:\n",
    "            # Save the entire question to the array\n",
    "            result.append(user_question)\n",
    "    else:\n",
    "        # Save the entire question to the array and set NoCoder to 1\n",
    "        result.append(user_question)\n",
    "        NoCoder = 1\n",
    "    \n",
    "    return NoCoder, result\n",
    "\n",
    "# Example usage\n",
    "user_question1 = \"\"\"Write a python code to:\n",
    "1. Read a file.\n",
    "2. Process the data.\n",
    "3. Save the result.\"\"\"\n",
    "user_question2 = \"This is a general question about Python.\"\n",
    "user_question3 = \"Write a python code to read data without numbers.\"\n",
    "\n",
    "print(coder_router(user_question1))\n",
    "print(coder_router(user_question2))\n",
    "print(coder_router(user_question3))\n"
   ]
  }
 ],
 "metadata": {
  "kernelspec": {
   "display_name": "rag-demo-IMu3vKF7-py3.10",
   "language": "python",
   "name": "python3"
  },
  "language_info": {
   "codemirror_mode": {
    "name": "ipython",
    "version": 3
   },
   "file_extension": ".py",
   "mimetype": "text/x-python",
   "name": "python",
   "nbconvert_exporter": "python",
   "pygments_lexer": "ipython3",
   "version": "3.11.7"
  }
 },
 "nbformat": 4,
 "nbformat_minor": 2
}
