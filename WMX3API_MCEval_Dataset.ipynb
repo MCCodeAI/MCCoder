{
 "cells": [
  {
   "cell_type": "markdown",
   "metadata": {},
   "source": [
    "# MCCoder MCEval Dataset for evaluation\n"
   ]
  },
  {
   "cell_type": "markdown",
   "metadata": {},
   "source": [
    "## Preparation\n"
   ]
  },
  {
   "cell_type": "markdown",
   "metadata": {},
   "source": [
    "### Generate JSON dataset file from excel, python source code and log file.\n"
   ]
  },
  {
   "cell_type": "markdown",
   "metadata": {},
   "source": [
    "#### Generate Json file from python source file\n"
   ]
  },
  {
   "cell_type": "code",
   "execution_count": 1,
   "metadata": {},
   "outputs": [
    {
     "name": "stdout",
     "output_type": "stream",
     "text": [
      "JSON file has been generated at docs/WMX3API_MCEval_Evaluation_Dataset.json\n"
     ]
    },
    {
     "name": "stderr",
     "output_type": "stream",
     "text": [
      "/opt/anaconda3/lib/python3.11/site-packages/openpyxl/worksheet/_read_only.py:79: UserWarning: Sparkline Group extension is not supported and will be removed\n",
      "  for idx, row in parser.parse():\n"
     ]
    }
   ],
   "source": [
    "import pandas as pd\n",
    "import os\n",
    "import json\n",
    "\n",
    "# Load the Excel file\n",
    "excel_file_path = 'docs/WMX3API_MCEval_Evaluation_Dataset.xlsx'         # evaluation dataset\n",
    "df = pd.read_excel(excel_file_path)\n",
    "\n",
    "# Initialize an empty list to store the data for JSON\n",
    "data_list = []\n",
    "\n",
    "# Iterate through each row in the dataframe\n",
    "for index, row in df.iterrows():\n",
    "    task_id = row['TaskId']\n",
    "    # Construct the path to the Python file\n",
    "    py_file_path = f'MCEval_Files/{task_id}_MCEval.py'\n",
    "    \n",
    "    # Read the Python file to get the CanonicalCode\n",
    "    if os.path.exists(py_file_path):\n",
    "        with open(py_file_path, 'r') as file:\n",
    "            canonical_code = file.read()\n",
    "    else:\n",
    "        canonical_code = ''\n",
    "    \n",
    "    # Create a dictionary for the current row\n",
    "    row_data = row.to_dict()\n",
    "    row_data['CanonicalCode'] = canonical_code\n",
    "    \n",
    "    # Append the dictionary to the list\n",
    "    data_list.append(row_data)\n",
    "\n",
    "# Construct the output JSON file path\n",
    "json_file_path = excel_file_path.replace('.xlsx', '.json')\n",
    "\n",
    "# Write the data to a JSON file\n",
    "with open(json_file_path, 'w') as json_file:\n",
    "    json.dump(data_list, json_file, indent=4)\n",
    "\n",
    "print(f\"JSON file has been generated at {json_file_path}\")\n"
   ]
  },
  {
   "cell_type": "markdown",
   "metadata": {},
   "source": [
    "#### Generate Json file from python function source excel file"
   ]
  },
  {
   "cell_type": "code",
   "execution_count": 3,
   "metadata": {},
   "outputs": [
    {
     "name": "stdout",
     "output_type": "stream",
     "text": [
      "Python Function list JSON file has been generated at docs/WMX3API_FunctionPython.json\n"
     ]
    }
   ],
   "source": [
    "import pandas as pd\n",
    "import os\n",
    "import json\n",
    "\n",
    "# Load the Excel file\n",
    "excel_file_path = 'docs/WMX3API_FunctionPython.xlsx'         # Python function list for self-correction\n",
    "df = pd.read_excel(excel_file_path)\n",
    "\n",
    "# Initialize an empty list to store the data for JSON\n",
    "data_list = []\n",
    "\n",
    "# Iterate through each row in the dataframe\n",
    "for index, row in df.iterrows():\n",
    "\n",
    "    # Create a dictionary for the current row\n",
    "    row_data = row.to_dict()\n",
    "    \n",
    "    # Append the dictionary to the list\n",
    "    data_list.append(row_data)\n",
    "\n",
    "# Construct the output JSON file path\n",
    "json_file_path = excel_file_path.replace('.xlsx', '.json')\n",
    "\n",
    "# Write the data to a JSON file\n",
    "with open(json_file_path, 'w') as json_file:\n",
    "    json.dump(data_list, json_file, indent=4)\n",
    "\n",
    "print(f\"Python Function list JSON file has been generated at {json_file_path}\")\n"
   ]
  },
  {
   "cell_type": "markdown",
   "metadata": {},
   "source": [
    "#### Generate Json file from python source file with motion log\n"
   ]
  },
  {
   "cell_type": "code",
   "execution_count": 6,
   "metadata": {},
   "outputs": [
    {
     "ename": "FileNotFoundError",
     "evalue": "[Errno 2] No such file or directory: 'docs/WMX3API_MCEval_Dataset.xlsx'",
     "output_type": "error",
     "traceback": [
      "\u001b[0;31m---------------------------------------------------------------------------\u001b[0m",
      "\u001b[0;31mFileNotFoundError\u001b[0m                         Traceback (most recent call last)",
      "Cell \u001b[0;32mIn[6], line 10\u001b[0m\n\u001b[1;32m      8\u001b[0m \u001b[38;5;66;03m# Load the Excel file\u001b[39;00m\n\u001b[1;32m      9\u001b[0m excel_file_path \u001b[38;5;241m=\u001b[39m \u001b[38;5;124m'\u001b[39m\u001b[38;5;124mdocs/WMX3API_MCEval_Dataset.xlsx\u001b[39m\u001b[38;5;124m'\u001b[39m\n\u001b[0;32m---> 10\u001b[0m df \u001b[38;5;241m=\u001b[39m pd\u001b[38;5;241m.\u001b[39mread_excel(excel_file_path)\n\u001b[1;32m     12\u001b[0m \u001b[38;5;66;03m# Initialize an empty list to store the data for JSON\u001b[39;00m\n\u001b[1;32m     13\u001b[0m data_list \u001b[38;5;241m=\u001b[39m []\n",
      "File \u001b[0;32m/opt/anaconda3/lib/python3.11/site-packages/pandas/util/_decorators.py:311\u001b[0m, in \u001b[0;36mdeprecate_nonkeyword_arguments.<locals>.decorate.<locals>.wrapper\u001b[0;34m(*args, **kwargs)\u001b[0m\n\u001b[1;32m    305\u001b[0m \u001b[38;5;28;01mif\u001b[39;00m \u001b[38;5;28mlen\u001b[39m(args) \u001b[38;5;241m>\u001b[39m num_allow_args:\n\u001b[1;32m    306\u001b[0m     warnings\u001b[38;5;241m.\u001b[39mwarn(\n\u001b[1;32m    307\u001b[0m         msg\u001b[38;5;241m.\u001b[39mformat(arguments\u001b[38;5;241m=\u001b[39marguments),\n\u001b[1;32m    308\u001b[0m         \u001b[38;5;167;01mFutureWarning\u001b[39;00m,\n\u001b[1;32m    309\u001b[0m         stacklevel\u001b[38;5;241m=\u001b[39mstacklevel,\n\u001b[1;32m    310\u001b[0m     )\n\u001b[0;32m--> 311\u001b[0m \u001b[38;5;28;01mreturn\u001b[39;00m func(\u001b[38;5;241m*\u001b[39margs, \u001b[38;5;241m*\u001b[39m\u001b[38;5;241m*\u001b[39mkwargs)\n",
      "File \u001b[0;32m/opt/anaconda3/lib/python3.11/site-packages/pandas/io/excel/_base.py:364\u001b[0m, in \u001b[0;36mread_excel\u001b[0;34m(io, sheet_name, header, names, index_col, usecols, squeeze, dtype, engine, converters, true_values, false_values, skiprows, nrows, na_values, keep_default_na, na_filter, verbose, parse_dates, date_parser, thousands, comment, skipfooter, convert_float, mangle_dupe_cols, storage_options)\u001b[0m\n\u001b[1;32m    362\u001b[0m \u001b[38;5;28;01mif\u001b[39;00m \u001b[38;5;129;01mnot\u001b[39;00m \u001b[38;5;28misinstance\u001b[39m(io, ExcelFile):\n\u001b[1;32m    363\u001b[0m     should_close \u001b[38;5;241m=\u001b[39m \u001b[38;5;28;01mTrue\u001b[39;00m\n\u001b[0;32m--> 364\u001b[0m     io \u001b[38;5;241m=\u001b[39m ExcelFile(io, storage_options\u001b[38;5;241m=\u001b[39mstorage_options, engine\u001b[38;5;241m=\u001b[39mengine)\n\u001b[1;32m    365\u001b[0m \u001b[38;5;28;01melif\u001b[39;00m engine \u001b[38;5;129;01mand\u001b[39;00m engine \u001b[38;5;241m!=\u001b[39m io\u001b[38;5;241m.\u001b[39mengine:\n\u001b[1;32m    366\u001b[0m     \u001b[38;5;28;01mraise\u001b[39;00m \u001b[38;5;167;01mValueError\u001b[39;00m(\n\u001b[1;32m    367\u001b[0m         \u001b[38;5;124m\"\u001b[39m\u001b[38;5;124mEngine should not be specified when passing \u001b[39m\u001b[38;5;124m\"\u001b[39m\n\u001b[1;32m    368\u001b[0m         \u001b[38;5;124m\"\u001b[39m\u001b[38;5;124man ExcelFile - ExcelFile already has the engine set\u001b[39m\u001b[38;5;124m\"\u001b[39m\n\u001b[1;32m    369\u001b[0m     )\n",
      "File \u001b[0;32m/opt/anaconda3/lib/python3.11/site-packages/pandas/io/excel/_base.py:1191\u001b[0m, in \u001b[0;36mExcelFile.__init__\u001b[0;34m(self, path_or_buffer, engine, storage_options)\u001b[0m\n\u001b[1;32m   1189\u001b[0m     ext \u001b[38;5;241m=\u001b[39m \u001b[38;5;124m\"\u001b[39m\u001b[38;5;124mxls\u001b[39m\u001b[38;5;124m\"\u001b[39m\n\u001b[1;32m   1190\u001b[0m \u001b[38;5;28;01melse\u001b[39;00m:\n\u001b[0;32m-> 1191\u001b[0m     ext \u001b[38;5;241m=\u001b[39m inspect_excel_format(\n\u001b[1;32m   1192\u001b[0m         content_or_path\u001b[38;5;241m=\u001b[39mpath_or_buffer, storage_options\u001b[38;5;241m=\u001b[39mstorage_options\n\u001b[1;32m   1193\u001b[0m     )\n\u001b[1;32m   1194\u001b[0m     \u001b[38;5;28;01mif\u001b[39;00m ext \u001b[38;5;129;01mis\u001b[39;00m \u001b[38;5;28;01mNone\u001b[39;00m:\n\u001b[1;32m   1195\u001b[0m         \u001b[38;5;28;01mraise\u001b[39;00m \u001b[38;5;167;01mValueError\u001b[39;00m(\n\u001b[1;32m   1196\u001b[0m             \u001b[38;5;124m\"\u001b[39m\u001b[38;5;124mExcel file format cannot be determined, you must specify \u001b[39m\u001b[38;5;124m\"\u001b[39m\n\u001b[1;32m   1197\u001b[0m             \u001b[38;5;124m\"\u001b[39m\u001b[38;5;124man engine manually.\u001b[39m\u001b[38;5;124m\"\u001b[39m\n\u001b[1;32m   1198\u001b[0m         )\n",
      "File \u001b[0;32m/opt/anaconda3/lib/python3.11/site-packages/pandas/io/excel/_base.py:1070\u001b[0m, in \u001b[0;36minspect_excel_format\u001b[0;34m(content_or_path, storage_options)\u001b[0m\n\u001b[1;32m   1067\u001b[0m \u001b[38;5;28;01mif\u001b[39;00m \u001b[38;5;28misinstance\u001b[39m(content_or_path, \u001b[38;5;28mbytes\u001b[39m):\n\u001b[1;32m   1068\u001b[0m     content_or_path \u001b[38;5;241m=\u001b[39m BytesIO(content_or_path)\n\u001b[0;32m-> 1070\u001b[0m \u001b[38;5;28;01mwith\u001b[39;00m get_handle(\n\u001b[1;32m   1071\u001b[0m     content_or_path, \u001b[38;5;124m\"\u001b[39m\u001b[38;5;124mrb\u001b[39m\u001b[38;5;124m\"\u001b[39m, storage_options\u001b[38;5;241m=\u001b[39mstorage_options, is_text\u001b[38;5;241m=\u001b[39m\u001b[38;5;28;01mFalse\u001b[39;00m\n\u001b[1;32m   1072\u001b[0m ) \u001b[38;5;28;01mas\u001b[39;00m handle:\n\u001b[1;32m   1073\u001b[0m     stream \u001b[38;5;241m=\u001b[39m handle\u001b[38;5;241m.\u001b[39mhandle\n\u001b[1;32m   1074\u001b[0m     stream\u001b[38;5;241m.\u001b[39mseek(\u001b[38;5;241m0\u001b[39m)\n",
      "File \u001b[0;32m/opt/anaconda3/lib/python3.11/site-packages/pandas/io/common.py:711\u001b[0m, in \u001b[0;36mget_handle\u001b[0;34m(path_or_buf, mode, encoding, compression, memory_map, is_text, errors, storage_options)\u001b[0m\n\u001b[1;32m    702\u001b[0m         handle \u001b[38;5;241m=\u001b[39m \u001b[38;5;28mopen\u001b[39m(\n\u001b[1;32m    703\u001b[0m             handle,\n\u001b[1;32m    704\u001b[0m             ioargs\u001b[38;5;241m.\u001b[39mmode,\n\u001b[0;32m   (...)\u001b[0m\n\u001b[1;32m    707\u001b[0m             newline\u001b[38;5;241m=\u001b[39m\u001b[38;5;124m\"\u001b[39m\u001b[38;5;124m\"\u001b[39m,\n\u001b[1;32m    708\u001b[0m         )\n\u001b[1;32m    709\u001b[0m     \u001b[38;5;28;01melse\u001b[39;00m:\n\u001b[1;32m    710\u001b[0m         \u001b[38;5;66;03m# Binary mode\u001b[39;00m\n\u001b[0;32m--> 711\u001b[0m         handle \u001b[38;5;241m=\u001b[39m \u001b[38;5;28mopen\u001b[39m(handle, ioargs\u001b[38;5;241m.\u001b[39mmode)\n\u001b[1;32m    712\u001b[0m     handles\u001b[38;5;241m.\u001b[39mappend(handle)\n\u001b[1;32m    714\u001b[0m \u001b[38;5;66;03m# Convert BytesIO or file objects passed with an encoding\u001b[39;00m\n",
      "\u001b[0;31mFileNotFoundError\u001b[0m: [Errno 2] No such file or directory: 'docs/WMX3API_MCEval_Dataset.xlsx'"
     ]
    }
   ],
   "source": [
    "import pandas as pd\n",
    "import os\n",
    "import json\n",
    "import socket\n",
    "from time import *\n",
    "from tqdm import tqdm\n",
    "\n",
    "# Load the Excel file\n",
    "excel_file_path = 'docs/WMX3API_MCEval_Dataset.xlsx'\n",
    "df = pd.read_excel(excel_file_path)\n",
    "\n",
    "# Initialize an empty list to store the data for JSON\n",
    "data_list = []\n",
    "\n",
    "# Function to modify the Python code with logging\n",
    "def add_log_code(py_code, task_id, axis):\n",
    "    lines = py_code.split('\\n')\n",
    "    modified_code = []\n",
    "    i = 0\n",
    "    # Add logging start code\n",
    "    while i < len(lines):\n",
    "        modified_code.append(lines[i])\n",
    "        if '.StartHome' in lines[i]:\n",
    "            i += 1\n",
    "            while i < len(lines) and lines[i].strip() != '':\n",
    "                modified_code.append(lines[i])\n",
    "                i += 1\n",
    "            if i < len(lines):\n",
    "                modified_code.append(f'''\n",
    "                                     \n",
    "    # <log ---------------------------------------------------------------------------                                                                 \n",
    "    WMX3Log = Log(Wmx3Lib)\n",
    "\n",
    "    axislist = {axis}                           \n",
    "    num = len(axislist)\n",
    "\n",
    "    # Set Axis numbers and control variables of log\n",
    "    cmLogIn_0 = CoreMotionLogInput()\n",
    "    cmLogIn_0.axisSelection.axisCount = num\n",
    "    for i in range(0, num):\n",
    "        cmLogIn_0.axisSelection.SetAxis(i, axislist[i])\n",
    "\n",
    "    # Control variables to log\n",
    "    cmLogIn_0.axisOptions.commandPos = 1\n",
    "    cmLogIn_0.axisOptions.feedbackPos = 0\n",
    "    cmLogIn_0.axisOptions.commandVelocity = 0\n",
    "    cmLogIn_0.axisOptions.feedbackVelocity = 0\n",
    "\n",
    "    # Set up log time\n",
    "    option = LogChannelOptions()\n",
    "    option.samplingPeriodInCycles = 1\n",
    "    option.samplingTimeMilliseconds = 1000000  \n",
    "\n",
    "    ret=WMX3Log.SetLogOption(0, option)\n",
    "    if ret!=0:\n",
    "        print('SetLogOption error code is ' + str(ret) + ': ' + WMX3Log.ErrorToString(ret))\n",
    "        return\n",
    "    sleep(0.1)\n",
    "    ret = WMX3Log.SetCustomLog(0,cmLogIn_0)\n",
    "    if ret!=0:\n",
    "        print('SetCustomLog error code is ' + str(ret) + ': ' + WMX3Log.ErrorToString(ret))\n",
    "        return\n",
    "    sleep(0.1)\n",
    "\n",
    "    # Set log file address\n",
    "    path_0 = LogFilePath()\n",
    "    WMX3Log.GetLogFilePath(0)\n",
    "    path_0.dirPath = \"C:\\\\\\\\\"\n",
    "    path_0.fileName = f\"{task_id}_MCEval_Log.txt\"\n",
    "    ret = WMX3Log.SetLogFilePath(0, path_0)\n",
    "    if ret!=0:\n",
    "        print('SetLogFilePath error code is ' + str(ret) + ': ' + WMX3Log.ErrorToString(ret))\n",
    "        return\n",
    "\n",
    "    # Stop log just in case logging is on.\n",
    "    ret = WMX3Log.StopLog(0)\n",
    "    sleep(0.01)\n",
    "\n",
    "    # Start log\n",
    "    ret = WMX3Log.StartLog(0)\n",
    "    if ret!=0:\n",
    "        print('StartLog error code is ' + str(ret) + ': ' + WMX3Log.ErrorToString(ret))\n",
    "        return\n",
    "    sleep(0.01)\n",
    "    # log> ---------------------------------------------------------------------------   \n",
    "    \n",
    "                ''')\n",
    "        i += 1\n",
    "\n",
    "    # Add logging stop code\n",
    "    i = len(lines) - 1\n",
    "    while i >= 0:\n",
    "        if '.SetServoOn' in lines[i]:\n",
    "            while i >= 0 and lines[i].strip() != '':\n",
    "                i -= 1\n",
    "            if i >= 0:\n",
    "                modified_code.insert(i + 1, '''\n",
    "                                     \n",
    "    # <log --------------------------------------------------------------------------- \n",
    "    sleep(0.1)                                                                    \n",
    "    # Stop log\n",
    "    ret = WMX3Log.StopLog(0)\n",
    "    if ret!=0:\n",
    "        print('StopLog error code is ' + str(ret) + ': ' + WMX3Log.ErrorToString(ret))\n",
    "        return\n",
    "\n",
    "    for axisNo in axislist:                                \n",
    "        ret = Wmx3Lib_cm.home.StartHome(axisNo)\n",
    "        if ret!=0:\n",
    "            print('StartHome error code is ' + str(ret) + ': ' + Wmx3Lib_cm.ErrorToString(ret))\n",
    "            return\n",
    "        Wmx3Lib_cm.motion.Wait(axisNo)                                                                  \n",
    "    # log> ---------------------------------------------------------------------------     \n",
    "                                     \n",
    "                ''')\n",
    "            break\n",
    "        i -= 1\n",
    "\n",
    "    return '\\n'.join(modified_code)\n",
    "\n",
    "# Function to send code and log data to socket server\n",
    "def SendCodeLog(code_data_log):\n",
    "    # 1. Create socket\n",
    "    tcp_socket = socket.socket(socket.AF_INET, socket.SOCK_STREAM)\n",
    "\n",
    "    # 2. Connect server\n",
    "    server_addr = (\"10.211.55.5\", 8888)\n",
    "    tcp_socket.connect(server_addr)\n",
    "    print(\"Socket connected\")\n",
    "\n",
    "    import time\n",
    "\n",
    "    # 3. Send data\n",
    "    tcp_socket.send(code_data_log.encode(\"utf-8\"))\n",
    "\n",
    "    time.sleep(0.1)\n",
    "\n",
    "    send_data = 'exit'\n",
    "    tcp_socket.send(send_data.encode(\"utf-8\"))\n",
    "\n",
    "    # 4. Receive data from server\n",
    "    tcp_remsg = tcp_socket.recv(1024)\n",
    "    print(tcp_remsg.decode(\"utf-8\"))\n",
    "\n",
    "    # 5. Close socket\n",
    "    tcp_socket.close()\n",
    "    print(\"Socket end\")\n",
    "\n",
    "# Iterate through each row in the dataframe with a progress bar\n",
    "for index, row in tqdm(df.iterrows(), total=len(df), desc=\"Processing rows\"):\n",
    "    task_id = row['TaskId']\n",
    "    # Construct the path to the Python file\n",
    "    py_file_path = f'MCEval_Files/{task_id}_MCEval.py'\n",
    "    \n",
    "    # Read the Python file to get the CanonicalCode\n",
    "    if os.path.exists(py_file_path):\n",
    "        with open(py_file_path, 'r') as file:\n",
    "            py_code = file.read()\n",
    "    else:\n",
    "        py_code = ''\n",
    "    \n",
    "    #If it is about motion log\n",
    "    print('endp: ' + str(row['EndPoint']))\n",
    "    if (str(row['EndPoint']) != 'nan'):\n",
    "        # Extract axis from the first row of 'EndPoint'\n",
    "        try:\n",
    "            axis = list(range(len(eval(row['EndPoint'])[0])))\n",
    "            axis = eval(row['EndPoint'])[0]\n",
    "            print(\"axisl: \" + str(axis))\n",
    "            if not axis:\n",
    "                continue\n",
    "        except Exception as e:\n",
    "            print(f\"Error processing axis for task {task_id}: {e}\")\n",
    "            continue\n",
    "\n",
    "        # Add log code to the Python file content\n",
    "        modified_code = add_log_code(py_code, task_id, axis)\n",
    "    else:\n",
    "        modified_code = py_code\n",
    "    \n",
    "    # Save the modified code to a new file\n",
    "    modified_file_path = f'MCEval_Files/{task_id}_MCEval_WithLog.py'\n",
    "    with open(modified_file_path, 'w') as file:\n",
    "        file.write(modified_code)\n",
    "    \n",
    "    # Send the modified code to the socket server for each task\n",
    "    SendCodeLog(modified_code)\n",
    "    sleep(0.3)\n",
    "\n",
    "    # Create a dictionary for the current row\n",
    "    row_data = row.to_dict()\n",
    "    row_data['CanonicalCode'] = py_code\n",
    "    \n",
    "    # Append the dictionary to the list\n",
    "    data_list.append(row_data)\n",
    "\n",
    "    sleep(0.2)\n",
    "\n",
    "# Construct the output JSON file path\n",
    "json_file_path = excel_file_path.replace('.xlsx', '.json')\n",
    "\n",
    "# Write the data to a JSON file\n",
    "with open(json_file_path, 'w') as json_file:\n",
    "    json.dump(data_list, json_file, indent=4)\n",
    "\n",
    "print(f\"JSON file has been generated at {json_file_path}\")\n"
   ]
  },
  {
   "cell_type": "markdown",
   "metadata": {},
   "source": [
    "#### Generate Json file from python source file with motion log, adding error stastics\n"
   ]
  },
  {
   "cell_type": "code",
   "execution_count": 1,
   "metadata": {},
   "outputs": [
    {
     "name": "stderr",
     "output_type": "stream",
     "text": [
      "/opt/anaconda3/lib/python3.11/site-packages/openpyxl/worksheet/_read_only.py:79: UserWarning: Sparkline Group extension is not supported and will be removed\n",
      "  for idx, row in parser.parse():\n",
      "Processing rows:   0%|          | 0/69 [00:00<?, ?it/s]"
     ]
    },
    {
     "name": "stdout",
     "output_type": "stream",
     "text": [
      "endp: [[0],\n",
      "[180]]\n",
      "axisl: [0]\n",
      "Socket connected\n",
      "149\n",
      "codedeta:Program begin.\n",
      "Program End.\n",
      ", Elapsed_time: 4.464\n",
      "codeerr:\n",
      "Socket end\n"
     ]
    },
    {
     "name": "stderr",
     "output_type": "stream",
     "text": [
      "Processing rows:   1%|▏         | 1/69 [00:05<05:45,  5.08s/it]"
     ]
    },
    {
     "name": "stdout",
     "output_type": "stream",
     "text": [
      "endp: [[1],\n",
      "[200]]\n",
      "axisl: [1]\n",
      "Socket connected\n",
      "150\n",
      "codedeta:Program begin.\n",
      "Program End.\n",
      ", Elapsed_time: 3.523\n",
      "codeerr:\n",
      "Socket end\n"
     ]
    },
    {
     "name": "stderr",
     "output_type": "stream",
     "text": [
      "Processing rows:   3%|▎         | 2/69 [00:09<05:03,  4.52s/it]"
     ]
    },
    {
     "name": "stdout",
     "output_type": "stream",
     "text": [
      "endp: [[2],\n",
      "[10]]\n",
      "axisl: [2]\n",
      "Socket connected\n",
      "151\n",
      "codedeta:Program begin.\n",
      "Program End.\n",
      ", Elapsed_time: 5.352\n",
      "codeerr:\n",
      "Socket end\n"
     ]
    },
    {
     "name": "stderr",
     "output_type": "stream",
     "text": [
      "Processing rows:   4%|▍         | 3/69 [00:15<05:42,  5.18s/it]"
     ]
    },
    {
     "name": "stdout",
     "output_type": "stream",
     "text": [
      "endp: [[0],\n",
      "[380]]\n",
      "axisl: [0]\n",
      "Socket connected\n",
      "152\n",
      "codedeta:Program begin.\n",
      "Program End.\n",
      ", Elapsed_time: 3.806\n",
      "codeerr:\n",
      "Socket end\n"
     ]
    },
    {
     "name": "stderr",
     "output_type": "stream",
     "text": [
      "Processing rows:   6%|▌         | 4/69 [00:19<05:17,  4.88s/it]"
     ]
    },
    {
     "name": "stdout",
     "output_type": "stream",
     "text": [
      "endp: [[0,1],\n",
      "[-10,-150]]\n",
      "axisl: [0, 1]\n",
      "Socket connected\n",
      "153\n",
      "codedeta:Program begin.\n",
      "Program End.\n",
      ", Elapsed_time: 4.638\n",
      "codeerr:\n",
      "Socket end\n"
     ]
    },
    {
     "name": "stderr",
     "output_type": "stream",
     "text": [
      "Processing rows:   7%|▋         | 5/69 [00:24<05:21,  5.02s/it]"
     ]
    },
    {
     "name": "stdout",
     "output_type": "stream",
     "text": [
      "endp: nan\n",
      "Socket connected\n",
      "154\n",
      "codedeta:Program begin.\n",
      "Program End.\n",
      ", Elapsed_time: 2.299\n",
      "codeerr:\n",
      "Socket end\n"
     ]
    },
    {
     "name": "stderr",
     "output_type": "stream",
     "text": [
      "Processing rows:   9%|▊         | 6/69 [00:27<04:30,  4.30s/it]"
     ]
    },
    {
     "name": "stdout",
     "output_type": "stream",
     "text": [
      "endp: [[0,1],\n",
      "[300,100]]\n",
      "axisl: [0, 1]\n",
      "Socket connected\n",
      "155\n",
      "codedeta:Program begin.\n",
      "Program End.\n",
      ", Elapsed_time: 3.970\n",
      "codeerr:\n",
      "Socket end\n"
     ]
    },
    {
     "name": "stderr",
     "output_type": "stream",
     "text": [
      "Processing rows:  10%|█         | 7/69 [00:32<04:32,  4.39s/it]"
     ]
    },
    {
     "name": "stdout",
     "output_type": "stream",
     "text": [
      "endp: [[0,1],\n",
      "[200,150]]\n",
      "axisl: [0, 1]\n",
      "Socket connected\n",
      "156\n",
      "codedeta:Program begin.\n",
      "Program End.\n",
      ", Elapsed_time: 3.978\n",
      "codeerr:\n",
      "Socket end\n"
     ]
    },
    {
     "name": "stderr",
     "output_type": "stream",
     "text": [
      "Processing rows:  12%|█▏        | 8/69 [00:36<04:32,  4.46s/it]"
     ]
    },
    {
     "name": "stdout",
     "output_type": "stream",
     "text": [
      "endp: [[0,1],\n",
      "[500,-50]]\n",
      "axisl: [0, 1]\n",
      "Socket connected\n",
      "157\n",
      "codedeta:Program begin.\n",
      "Program End.\n",
      ", Elapsed_time: 4.517\n",
      "codeerr:\n",
      "Socket end\n"
     ]
    },
    {
     "name": "stderr",
     "output_type": "stream",
     "text": [
      "Processing rows:  13%|█▎        | 9/69 [00:42<04:40,  4.67s/it]"
     ]
    },
    {
     "name": "stdout",
     "output_type": "stream",
     "text": [
      "endp: [[0,1],\n",
      "[188,188]]\n",
      "axisl: [0, 1]\n",
      "Socket connected\n",
      "158\n",
      "codedeta:Program begin.\n",
      "Program End.\n",
      ", Elapsed_time: 3.753\n",
      "codeerr:\n",
      "Socket end\n"
     ]
    },
    {
     "name": "stderr",
     "output_type": "stream",
     "text": [
      "Processing rows:  14%|█▍        | 10/69 [00:46<04:30,  4.58s/it]"
     ]
    },
    {
     "name": "stdout",
     "output_type": "stream",
     "text": [
      "endp: [[2,3],\n",
      "[7,8]]\n",
      "axisl: [2, 3]\n",
      "Socket connected\n",
      "159\n",
      "codedeta:Program begin.\n",
      "Program End.\n",
      ", Elapsed_time: 4.862\n",
      "codeerr:\n",
      "Socket end\n"
     ]
    },
    {
     "name": "stderr",
     "output_type": "stream",
     "text": [
      "Processing rows:  16%|█▌        | 11/69 [00:51<04:41,  4.85s/it]"
     ]
    },
    {
     "name": "stdout",
     "output_type": "stream",
     "text": [
      "endp: [[4],\n",
      "[-100]]\n",
      "axisl: [4]\n",
      "Socket connected\n",
      "160\n",
      "codedeta:Program begin.\n",
      "Program End.\n",
      ", Elapsed_time: 4.495\n",
      "codeerr:\n",
      "Socket end\n"
     ]
    },
    {
     "name": "stderr",
     "output_type": "stream",
     "text": [
      "Processing rows:  17%|█▋        | 12/69 [00:57<04:41,  4.93s/it]"
     ]
    },
    {
     "name": "stdout",
     "output_type": "stream",
     "text": [
      "endp: [[0,1],\n",
      "[0,0]]\n",
      "axisl: [0, 1]\n",
      "Socket connected\n",
      "161\n",
      "codedeta:Program begin.\n",
      "Program End.\n",
      ", Elapsed_time: 4.689\n",
      "codeerr:\n",
      "Socket end\n"
     ]
    },
    {
     "name": "stderr",
     "output_type": "stream",
     "text": [
      "Processing rows:  19%|█▉        | 13/69 [01:02<04:42,  5.04s/it]"
     ]
    },
    {
     "name": "stdout",
     "output_type": "stream",
     "text": [
      "endp: [[0,1],\n",
      "[0,0]]\n",
      "axisl: [0, 1]\n",
      "Socket connected\n",
      "162\n",
      "codedeta:Program begin.\n",
      "Program End.\n",
      ", Elapsed_time: 5.581\n",
      "codeerr:\n",
      "Socket end\n"
     ]
    },
    {
     "name": "stderr",
     "output_type": "stream",
     "text": [
      "Processing rows:  20%|██        | 14/69 [01:08<04:56,  5.39s/it]"
     ]
    },
    {
     "name": "stdout",
     "output_type": "stream",
     "text": [
      "endp: [[4,5,8],\n",
      "[0,0,140]]\n",
      "axisl: [4, 5, 8]\n",
      "Socket connected\n",
      "163\n",
      "codedeta:Program begin.\n",
      "Program End.\n",
      ", Elapsed_time: 6.736\n",
      "codeerr:\n",
      "Socket end\n"
     ]
    },
    {
     "name": "stderr",
     "output_type": "stream",
     "text": [
      "Processing rows:  22%|██▏       | 15/69 [01:15<05:23,  5.98s/it]"
     ]
    },
    {
     "name": "stdout",
     "output_type": "stream",
     "text": [
      "endp: [[0,1],\n",
      "[100,180]]\n",
      "axisl: [0, 1]\n",
      "Socket connected\n",
      "164\n",
      "codedeta:Program begin.\n",
      "Program End.\n",
      ", Elapsed_time: 4.070\n",
      "codeerr:\n",
      "Socket end\n"
     ]
    },
    {
     "name": "stderr",
     "output_type": "stream",
     "text": [
      "Processing rows:  23%|██▎       | 16/69 [01:20<04:56,  5.59s/it]"
     ]
    },
    {
     "name": "stdout",
     "output_type": "stream",
     "text": [
      "endp: [[0],\n",
      "[0]]\n",
      "axisl: [0]\n",
      "Socket connected\n",
      "165\n",
      "codedeta:Program begin.\n",
      "Program End.\n",
      ", Elapsed_time: 4.511\n",
      "codeerr:\n",
      "Socket end\n"
     ]
    },
    {
     "name": "stderr",
     "output_type": "stream",
     "text": [
      "Processing rows:  25%|██▍       | 17/69 [01:25<04:43,  5.45s/it]"
     ]
    },
    {
     "name": "stdout",
     "output_type": "stream",
     "text": [
      "endp: [[0,1],\n",
      "[200,100]]\n",
      "axisl: [0, 1]\n",
      "Socket connected\n",
      "166\n",
      "codedeta:Program begin.\n",
      "Program End.\n",
      ", Elapsed_time: 4.323\n",
      "codeerr:\n",
      "Socket end\n"
     ]
    },
    {
     "name": "stderr",
     "output_type": "stream",
     "text": [
      "Processing rows:  26%|██▌       | 18/69 [01:30<04:30,  5.30s/it]"
     ]
    },
    {
     "name": "stdout",
     "output_type": "stream",
     "text": [
      "endp: [[0],\n",
      "[110]]\n",
      "axisl: [0]\n",
      "Socket connected\n",
      "167\n",
      "codedeta:Program begin.\n",
      "Program End.\n",
      ", Elapsed_time: 3.252\n",
      "codeerr:\n",
      "Socket end\n"
     ]
    },
    {
     "name": "stderr",
     "output_type": "stream",
     "text": [
      "Processing rows:  28%|██▊       | 19/69 [01:34<04:03,  4.87s/it]"
     ]
    },
    {
     "name": "stdout",
     "output_type": "stream",
     "text": [
      "endp: [[0],\n",
      "[70]]\n",
      "axisl: [0]\n",
      "Socket connected\n",
      "168\n",
      "codedeta:Program begin.\n",
      "Program End.\n",
      ", Elapsed_time: 3.392\n",
      "codeerr:\n",
      "Socket end\n"
     ]
    },
    {
     "name": "stderr",
     "output_type": "stream",
     "text": [
      "Processing rows:  29%|██▉       | 20/69 [01:38<03:45,  4.61s/it]"
     ]
    },
    {
     "name": "stdout",
     "output_type": "stream",
     "text": [
      "endp: [[0,1],\n",
      "[300,100]]\n",
      "axisl: [0, 1]\n",
      "Socket connected\n",
      "169\n",
      "codedeta:Program begin.\n",
      "Program End.\n",
      ", Elapsed_time: 4.211\n",
      "codeerr:\n",
      "Socket end\n"
     ]
    },
    {
     "name": "stderr",
     "output_type": "stream",
     "text": [
      "Processing rows:  30%|███       | 21/69 [01:43<03:44,  4.67s/it]"
     ]
    },
    {
     "name": "stdout",
     "output_type": "stream",
     "text": [
      "endp: [[0,1],\n",
      "[300,100]]\n",
      "axisl: [0, 1]\n",
      "Socket connected\n",
      "170\n",
      "codedeta:Program begin.\n",
      "Program End.\n",
      ", Elapsed_time: 4.330\n",
      "codeerr:\n",
      "Socket end\n"
     ]
    },
    {
     "name": "stderr",
     "output_type": "stream",
     "text": [
      "Processing rows:  32%|███▏      | 22/69 [01:48<03:43,  4.76s/it]"
     ]
    },
    {
     "name": "stdout",
     "output_type": "stream",
     "text": [
      "endp: [[0,1],\n",
      "[-100,-10]]\n",
      "axisl: [0, 1]\n",
      "Socket connected\n",
      "171\n",
      "codedeta:Program begin.\n",
      "Program End.\n",
      ", Elapsed_time: 4.150\n",
      "codeerr:\n",
      "Socket end\n"
     ]
    },
    {
     "name": "stderr",
     "output_type": "stream",
     "text": [
      "Processing rows:  33%|███▎      | 23/69 [01:53<03:38,  4.76s/it]"
     ]
    },
    {
     "name": "stdout",
     "output_type": "stream",
     "text": [
      "endp: [[0,1],\n",
      "[-70,-40]]\n",
      "axisl: [0, 1]\n",
      "Socket connected\n",
      "172\n",
      "codedeta:Program begin.\n",
      "Program End.\n",
      ", Elapsed_time: 4.060\n",
      "codeerr:\n",
      "Socket end\n"
     ]
    },
    {
     "name": "stderr",
     "output_type": "stream",
     "text": [
      "Processing rows:  35%|███▍      | 24/69 [01:57<03:33,  4.74s/it]"
     ]
    },
    {
     "name": "stdout",
     "output_type": "stream",
     "text": [
      "endp: [[0,1],\n",
      "[200,0]]\n",
      "axisl: [0, 1]\n",
      "Socket connected\n",
      "173\n",
      "codedeta:Program begin.\n",
      "Program End.\n",
      ", Elapsed_time: 4.029\n",
      "codeerr:\n",
      "Socket end\n"
     ]
    },
    {
     "name": "stderr",
     "output_type": "stream",
     "text": [
      "Processing rows:  36%|███▌      | 25/69 [02:02<03:27,  4.71s/it]"
     ]
    },
    {
     "name": "stdout",
     "output_type": "stream",
     "text": [
      "endp: [[0,1],\n",
      "[500,100]]\n",
      "axisl: [0, 1]\n",
      "Socket connected\n",
      "174\n",
      "codedeta:Program begin.\n",
      "Program End.\n",
      ", Elapsed_time: 4.738\n",
      "codeerr:\n",
      "Socket end\n"
     ]
    },
    {
     "name": "stderr",
     "output_type": "stream",
     "text": [
      "Processing rows:  38%|███▊      | 26/69 [02:07<03:30,  4.90s/it]"
     ]
    },
    {
     "name": "stdout",
     "output_type": "stream",
     "text": [
      "endp: [[0],\n",
      "[100]]\n",
      "axisl: [0]\n",
      "Socket connected\n",
      "175\n",
      "codedeta:Program begin.\n",
      "Program End.\n",
      ", Elapsed_time: 3.776\n",
      "codeerr:\n",
      "Socket end\n"
     ]
    },
    {
     "name": "stderr",
     "output_type": "stream",
     "text": [
      "Processing rows:  39%|███▉      | 27/69 [02:12<03:19,  4.75s/it]"
     ]
    },
    {
     "name": "stdout",
     "output_type": "stream",
     "text": [
      "endp: [[0],\n",
      "[0]]\n",
      "axisl: [0]\n",
      "Socket connected\n",
      "176\n",
      "codedeta:Program begin.\n",
      "Program End.\n",
      ", Elapsed_time: 4.310\n",
      "codeerr:\n",
      "Socket end\n"
     ]
    },
    {
     "name": "stderr",
     "output_type": "stream",
     "text": [
      "Processing rows:  41%|████      | 28/69 [02:17<03:16,  4.80s/it]"
     ]
    },
    {
     "name": "stdout",
     "output_type": "stream",
     "text": [
      "endp: [[0],\n",
      "[180]]\n",
      "axisl: [0]\n",
      "Socket connected\n",
      "177\n",
      "codedeta:Program begin.\n",
      "Program End.\n",
      ", Elapsed_time: 9.729\n",
      "codeerr:\n",
      "Socket end\n"
     ]
    },
    {
     "name": "stderr",
     "output_type": "stream",
     "text": [
      "Processing rows:  42%|████▏     | 29/69 [02:27<04:18,  6.47s/it]"
     ]
    },
    {
     "name": "stdout",
     "output_type": "stream",
     "text": [
      "endp: [[0,1],\n",
      "[0,0]]\n",
      "axisl: [0, 1]\n",
      "Socket connected\n",
      "178\n",
      "codedeta:Program begin.\n",
      "Program End.\n",
      ", Elapsed_time: 4.999\n",
      "codeerr:\n",
      "Socket end\n"
     ]
    },
    {
     "name": "stderr",
     "output_type": "stream",
     "text": [
      "Processing rows:  43%|████▎     | 30/69 [02:33<04:02,  6.21s/it]"
     ]
    },
    {
     "name": "stdout",
     "output_type": "stream",
     "text": [
      "endp: [[0],\n",
      "[600]]\n",
      "axisl: [0]\n",
      "Socket connected\n",
      "179\n",
      "codedeta:Program begin.\n",
      "Program End.\n",
      ", Elapsed_time: 3.504\n",
      "codeerr:\n",
      "Socket end\n"
     ]
    },
    {
     "name": "stderr",
     "output_type": "stream",
     "text": [
      "Processing rows:  45%|████▍     | 31/69 [02:37<03:32,  5.58s/it]"
     ]
    },
    {
     "name": "stdout",
     "output_type": "stream",
     "text": [
      "endp: [[0,1],\n",
      "[200,300]]\n",
      "axisl: [0, 1]\n",
      "Socket connected\n",
      "180\n",
      "codedeta:Program begin.\n",
      "Program End.\n",
      ", Elapsed_time: 3.844\n",
      "codeerr:\n",
      "Socket end\n"
     ]
    },
    {
     "name": "stderr",
     "output_type": "stream",
     "text": [
      "Processing rows:  46%|████▋     | 32/69 [02:41<03:14,  5.25s/it]"
     ]
    },
    {
     "name": "stdout",
     "output_type": "stream",
     "text": [
      "endp: [[0],\n",
      "[300]]\n",
      "axisl: [0]\n",
      "Socket connected\n",
      "181\n",
      "codedeta:Program begin.\n",
      "Program End.\n",
      ", Elapsed_time: 6.329\n",
      "codeerr:\n",
      "Socket end\n"
     ]
    },
    {
     "name": "stderr",
     "output_type": "stream",
     "text": [
      "Processing rows:  48%|████▊     | 33/69 [02:48<03:27,  5.76s/it]"
     ]
    },
    {
     "name": "stdout",
     "output_type": "stream",
     "text": [
      "endp: [[0],\n",
      "[750]]\n",
      "axisl: [0]\n",
      "Socket connected\n",
      "182\n",
      "codedeta:Program begin.\n",
      "Program End.\n",
      ", Elapsed_time: 6.204\n",
      "codeerr:\n",
      "Socket end\n"
     ]
    },
    {
     "name": "stderr",
     "output_type": "stream",
     "text": [
      "Processing rows:  49%|████▉     | 34/69 [02:55<03:32,  6.07s/it]"
     ]
    },
    {
     "name": "stdout",
     "output_type": "stream",
     "text": [
      "endp: [[0],\n",
      "[175]]\n",
      "axisl: [0]\n",
      "Socket connected\n",
      "183\n",
      "codedeta:Program begin.\n",
      "Program End.\n",
      ", Elapsed_time: 7.051\n",
      "codeerr:\n",
      "Socket end\n"
     ]
    },
    {
     "name": "stderr",
     "output_type": "stream",
     "text": [
      "Processing rows:  51%|█████     | 35/69 [03:03<03:42,  6.55s/it]"
     ]
    },
    {
     "name": "stdout",
     "output_type": "stream",
     "text": [
      "endp: [[0,1],\n",
      "[0,0]]\n",
      "axisl: [0, 1]\n",
      "Socket connected\n",
      "184\n",
      "codedeta:Program begin.\n",
      "Program End.\n",
      ", Elapsed_time: 5.279\n",
      "codeerr:\n",
      "Socket end\n"
     ]
    },
    {
     "name": "stderr",
     "output_type": "stream",
     "text": [
      "Processing rows:  52%|█████▏    | 36/69 [03:08<03:29,  6.35s/it]"
     ]
    },
    {
     "name": "stdout",
     "output_type": "stream",
     "text": [
      "endp: [[0,1],\n",
      "[0,0]]\n",
      "axisl: [0, 1]\n",
      "Socket connected\n",
      "185\n",
      "codedeta:Program begin.\n",
      "Program End.\n",
      ", Elapsed_time: 4.955\n",
      "codeerr:\n",
      "Socket end\n"
     ]
    },
    {
     "name": "stderr",
     "output_type": "stream",
     "text": [
      "Processing rows:  54%|█████▎    | 37/69 [03:14<03:15,  6.12s/it]"
     ]
    },
    {
     "name": "stdout",
     "output_type": "stream",
     "text": [
      "endp: [[0,1],\n",
      "[0,0]]\n",
      "axisl: [0, 1]\n",
      "Socket connected\n",
      "186\n",
      "codedeta:Program begin.\n",
      "Program End.\n",
      ", Elapsed_time: 6.259\n",
      "codeerr:\n",
      "Socket end\n"
     ]
    },
    {
     "name": "stderr",
     "output_type": "stream",
     "text": [
      "Processing rows:  55%|█████▌    | 38/69 [03:21<03:16,  6.34s/it]"
     ]
    },
    {
     "name": "stdout",
     "output_type": "stream",
     "text": [
      "endp: [[0,1],\n",
      "[0,0]]\n",
      "axisl: [0, 1]\n",
      "Socket connected\n",
      "187\n",
      "codedeta:Program begin.\n",
      "Program End.\n",
      ", Elapsed_time: 4.408\n",
      "codeerr:\n",
      "Socket end\n"
     ]
    },
    {
     "name": "stderr",
     "output_type": "stream",
     "text": [
      "Processing rows:  57%|█████▋    | 39/69 [03:26<02:58,  5.95s/it]"
     ]
    },
    {
     "name": "stdout",
     "output_type": "stream",
     "text": [
      "endp: [[0,1],\n",
      "[0,0]]\n",
      "axisl: [0, 1]\n",
      "Socket connected\n",
      "188\n",
      "codedeta:Program begin.\n",
      "Program End.\n",
      ", Elapsed_time: 5.390\n",
      "codeerr:\n",
      "Socket end\n"
     ]
    },
    {
     "name": "stderr",
     "output_type": "stream",
     "text": [
      "Processing rows:  58%|█████▊    | 40/69 [03:32<02:52,  5.96s/it]"
     ]
    },
    {
     "name": "stdout",
     "output_type": "stream",
     "text": [
      "endp: [[0,1],\n",
      "[0,0]]\n",
      "axisl: [0, 1]\n",
      "Socket connected\n",
      "189\n",
      "codedeta:Program begin.\n",
      "Program End.\n",
      ", Elapsed_time: 4.788\n",
      "codeerr:\n",
      "Socket end\n"
     ]
    },
    {
     "name": "stderr",
     "output_type": "stream",
     "text": [
      "Processing rows:  59%|█████▉    | 41/69 [03:37<02:42,  5.80s/it]"
     ]
    },
    {
     "name": "stdout",
     "output_type": "stream",
     "text": [
      "endp: [[0,1],\n",
      "[240,0]]\n",
      "axisl: [0, 1]\n",
      "Socket connected\n",
      "190\n",
      "codedeta:Program begin.\n",
      "Program End.\n",
      ", Elapsed_time: 4.333\n",
      "codeerr:\n",
      "Socket end\n"
     ]
    },
    {
     "name": "stderr",
     "output_type": "stream",
     "text": [
      "Processing rows:  61%|██████    | 42/69 [03:42<02:29,  5.54s/it]"
     ]
    },
    {
     "name": "stdout",
     "output_type": "stream",
     "text": [
      "endp: [[0,1,2],\n",
      "[0,0,0]]\n",
      "axisl: [0, 1, 2]\n",
      "Socket connected\n",
      "191\n",
      "codedeta:Program begin.\n",
      "Program End.\n",
      ", Elapsed_time: 11.897\n",
      "codeerr:\n",
      "Socket end\n"
     ]
    },
    {
     "name": "stderr",
     "output_type": "stream",
     "text": [
      "Processing rows:  62%|██████▏   | 43/69 [03:55<03:18,  7.63s/it]"
     ]
    },
    {
     "name": "stdout",
     "output_type": "stream",
     "text": [
      "endp: [[0,1,2],\n",
      "[0,0,270]]\n",
      "axisl: [0, 1, 2]\n",
      "Socket connected\n",
      "192\n",
      "codedeta:Program begin.\n",
      "Program End.\n",
      ", Elapsed_time: 7.649\n",
      "codeerr:\n",
      "Socket end\n"
     ]
    },
    {
     "name": "stderr",
     "output_type": "stream",
     "text": [
      "Processing rows:  64%|██████▍   | 44/69 [04:03<03:15,  7.82s/it]"
     ]
    },
    {
     "name": "stdout",
     "output_type": "stream",
     "text": [
      "endp: [[0,1,2],\n",
      "[100,0,270]]\n",
      "axisl: [0, 1, 2]\n",
      "Socket connected\n",
      "193\n",
      "codedeta:Program begin.\n",
      "Program End.\n",
      ", Elapsed_time: 9.970\n",
      "codeerr:\n",
      "Socket end\n"
     ]
    },
    {
     "name": "stderr",
     "output_type": "stream",
     "text": [
      "Processing rows:  65%|██████▌   | 45/69 [04:14<03:27,  8.65s/it]"
     ]
    },
    {
     "name": "stdout",
     "output_type": "stream",
     "text": [
      "endp: [[0,1,2],\n",
      "[100,0,270]]\n",
      "axisl: [0, 1, 2]\n",
      "Socket connected\n",
      "194\n",
      "codedeta:Program begin.\n",
      "Program End.\n",
      ", Elapsed_time: 9.167\n",
      "codeerr:\n",
      "Socket end\n"
     ]
    },
    {
     "name": "stderr",
     "output_type": "stream",
     "text": [
      "Processing rows:  67%|██████▋   | 46/69 [04:23<03:26,  8.99s/it]"
     ]
    },
    {
     "name": "stdout",
     "output_type": "stream",
     "text": [
      "endp: [[0,1,2],\n",
      "[100,0,270]]\n",
      "axisl: [0, 1, 2]\n",
      "Socket connected\n",
      "195\n",
      "codedeta:Program begin.\n",
      "Program End.\n",
      ", Elapsed_time: 9.618\n",
      "codeerr:\n",
      "Socket end\n"
     ]
    },
    {
     "name": "stderr",
     "output_type": "stream",
     "text": [
      "Processing rows:  68%|██████▊   | 47/69 [04:34<03:26,  9.36s/it]"
     ]
    },
    {
     "name": "stdout",
     "output_type": "stream",
     "text": [
      "endp: [[0,1,2],\n",
      "[0,0,0]]\n",
      "axisl: [0, 1, 2]\n",
      "Socket connected\n",
      "196\n",
      "codedeta:Program begin.\n",
      "Program End.\n",
      ", Elapsed_time: 15.906\n",
      "codeerr:\n",
      "Socket end\n"
     ]
    },
    {
     "name": "stderr",
     "output_type": "stream",
     "text": [
      "Processing rows:  70%|██████▉   | 48/69 [04:50<04:01, 11.51s/it]"
     ]
    },
    {
     "name": "stdout",
     "output_type": "stream",
     "text": [
      "endp: [[0,1,2],\n",
      "[-10,12,127]]\n",
      "axisl: [0, 1, 2]\n",
      "Socket connected\n",
      "197\n",
      "codedeta:Program begin.\n",
      "Program End.\n",
      ", Elapsed_time: 9.830\n",
      "codeerr:\n",
      "Socket end\n"
     ]
    },
    {
     "name": "stderr",
     "output_type": "stream",
     "text": [
      "Processing rows:  71%|███████   | 49/69 [05:01<03:43, 11.19s/it]"
     ]
    },
    {
     "name": "stdout",
     "output_type": "stream",
     "text": [
      "endp: [[0,1,2,3],\n",
      "[150,0,2700,175]]\n",
      "axisl: [0, 1, 2, 3]\n",
      "Socket connected\n",
      "198\n",
      "codedeta:Program begin.\n",
      "Program End.\n",
      ", Elapsed_time: 7.887\n",
      "codeerr:\n",
      "Socket end\n"
     ]
    },
    {
     "name": "stderr",
     "output_type": "stream",
     "text": [
      "Processing rows:  72%|███████▏  | 50/69 [05:09<03:17, 10.39s/it]"
     ]
    },
    {
     "name": "stdout",
     "output_type": "stream",
     "text": [
      "endp: [[0,1],\n",
      "[0,0]]\n",
      "axisl: [0, 1]\n",
      "Socket connected\n",
      "199\n",
      "codedeta:Program begin.\n",
      "Program End.\n",
      ", Elapsed_time: 6.430\n",
      "codeerr:\n",
      "Socket end\n"
     ]
    },
    {
     "name": "stderr",
     "output_type": "stream",
     "text": [
      "Processing rows:  74%|███████▍  | 51/69 [05:16<02:48,  9.39s/it]"
     ]
    },
    {
     "name": "stdout",
     "output_type": "stream",
     "text": [
      "endp: [[0,1],\n",
      "[0,0]]\n",
      "axisl: [0, 1]\n",
      "Socket connected\n",
      "200\n",
      "codedeta:Program begin.\n",
      "Program End.\n",
      ", Elapsed_time: 7.170\n",
      "codeerr:\n",
      "Socket end\n"
     ]
    },
    {
     "name": "stderr",
     "output_type": "stream",
     "text": [
      "Processing rows:  75%|███████▌  | 52/69 [05:24<02:31,  8.91s/it]"
     ]
    },
    {
     "name": "stdout",
     "output_type": "stream",
     "text": [
      "endp: [[0,1],\n",
      "[0,0]]\n",
      "axisl: [0, 1]\n",
      "Socket connected\n",
      "201\n",
      "codedeta:Program begin.\n",
      "Program End.\n",
      ", Elapsed_time: 6.458\n",
      "codeerr:\n",
      "Socket end\n"
     ]
    },
    {
     "name": "stderr",
     "output_type": "stream",
     "text": [
      "Processing rows:  77%|███████▋  | 53/69 [05:31<02:13,  8.36s/it]"
     ]
    },
    {
     "name": "stdout",
     "output_type": "stream",
     "text": [
      "endp: [[0,1],\n",
      "[0,0]]\n",
      "axisl: [0, 1]\n",
      "Socket connected\n",
      "202\n",
      "codedeta:Program begin.\n",
      "Program End.\n",
      ", Elapsed_time: 4.808\n",
      "codeerr:\n",
      "Socket end\n"
     ]
    },
    {
     "name": "stderr",
     "output_type": "stream",
     "text": [
      "Processing rows:  78%|███████▊  | 54/69 [05:36<01:52,  7.48s/it]"
     ]
    },
    {
     "name": "stdout",
     "output_type": "stream",
     "text": [
      "endp: [[0,1],\n",
      "[0,0]]\n",
      "axisl: [0, 1]\n",
      "Socket connected\n",
      "203\n",
      "codedeta:Program begin.\n",
      "Program End.\n",
      ", Elapsed_time: 6.189\n",
      "codeerr:\n",
      "Socket end\n"
     ]
    },
    {
     "name": "stderr",
     "output_type": "stream",
     "text": [
      "Processing rows:  80%|███████▉  | 55/69 [05:43<01:41,  7.28s/it]"
     ]
    },
    {
     "name": "stdout",
     "output_type": "stream",
     "text": [
      "endp: [[0,1],\n",
      "[0,0]]\n",
      "axisl: [0, 1]\n",
      "Socket connected\n",
      "204\n",
      "codedeta:Program begin.\n",
      "Program End.\n",
      ", Elapsed_time: 6.085\n",
      "codeerr:\n",
      "Socket end\n"
     ]
    },
    {
     "name": "stderr",
     "output_type": "stream",
     "text": [
      "Processing rows:  81%|████████  | 56/69 [05:50<01:32,  7.11s/it]"
     ]
    },
    {
     "name": "stdout",
     "output_type": "stream",
     "text": [
      "endp: [[0,1],\n",
      "[0,0]]\n",
      "axisl: [0, 1]\n",
      "Socket connected\n",
      "205\n",
      "codedeta:Program begin.\n",
      "Program End.\n",
      ", Elapsed_time: 5.985\n",
      "codeerr:\n",
      "Socket end\n"
     ]
    },
    {
     "name": "stderr",
     "output_type": "stream",
     "text": [
      "Processing rows:  83%|████████▎ | 57/69 [05:57<01:23,  6.96s/it]"
     ]
    },
    {
     "name": "stdout",
     "output_type": "stream",
     "text": [
      "endp: [[0,1],\n",
      "[0,0]]\n",
      "axisl: [0, 1]\n",
      "Socket connected\n",
      "206\n",
      "codedeta:Program begin.\n",
      "Program End.\n",
      ", Elapsed_time: 14.396\n",
      "codeerr:\n",
      "Socket end\n"
     ]
    },
    {
     "name": "stderr",
     "output_type": "stream",
     "text": [
      "Processing rows:  84%|████████▍ | 58/69 [06:12<01:43,  9.37s/it]"
     ]
    },
    {
     "name": "stdout",
     "output_type": "stream",
     "text": [
      "endp: [[0,1],\n",
      "[0,0]]\n",
      "axisl: [0, 1]\n",
      "Socket connected\n",
      "207\n",
      "codedeta:Program begin.\n",
      "Program End.\n",
      ", Elapsed_time: 5.161\n",
      "codeerr:\n",
      "Socket end\n"
     ]
    },
    {
     "name": "stderr",
     "output_type": "stream",
     "text": [
      "Processing rows:  86%|████████▌ | 59/69 [06:17<01:22,  8.30s/it]"
     ]
    },
    {
     "name": "stdout",
     "output_type": "stream",
     "text": [
      "endp: [[0,1],\n",
      "[0,0]]\n",
      "axisl: [0, 1]\n",
      "Socket connected\n",
      "208\n",
      "codedeta:Program begin.\n",
      "Program End.\n",
      ", Elapsed_time: 5.464\n",
      "codeerr:\n",
      "Socket end\n"
     ]
    },
    {
     "name": "stderr",
     "output_type": "stream",
     "text": [
      "Processing rows:  87%|████████▋ | 60/69 [06:23<01:08,  7.63s/it]"
     ]
    },
    {
     "name": "stdout",
     "output_type": "stream",
     "text": [
      "endp: [[0,1],\n",
      "[100,100]]\n",
      "axisl: [0, 1]\n",
      "Socket connected\n",
      "209\n",
      "codedeta:Program begin.\n",
      "Program End.\n",
      ", Elapsed_time: 5.260\n",
      "codeerr:\n",
      "Socket end\n"
     ]
    },
    {
     "name": "stderr",
     "output_type": "stream",
     "text": [
      "Processing rows:  88%|████████▊ | 61/69 [06:29<00:56,  7.11s/it]"
     ]
    },
    {
     "name": "stdout",
     "output_type": "stream",
     "text": [
      "endp: [[0,1],\n",
      "[0,0]]\n",
      "axisl: [0, 1]\n",
      "Socket connected\n",
      "210\n",
      "codedeta:Program begin.\n",
      "Program End.\n",
      ", Elapsed_time: 6.076\n",
      "codeerr:\n",
      "Socket end\n"
     ]
    },
    {
     "name": "stderr",
     "output_type": "stream",
     "text": [
      "Processing rows:  90%|████████▉ | 62/69 [06:36<00:48,  6.99s/it]"
     ]
    },
    {
     "name": "stdout",
     "output_type": "stream",
     "text": [
      "endp: [[0,1],\n",
      "[1,2]]\n",
      "axisl: [0, 1]\n",
      "Socket connected\n",
      "211\n",
      "codedeta:Program begin.\n",
      "Program End.\n",
      ", Elapsed_time: 5.739\n",
      "codeerr:\n",
      "Socket end\n"
     ]
    },
    {
     "name": "stderr",
     "output_type": "stream",
     "text": [
      "Processing rows:  91%|█████████▏| 63/69 [06:42<00:40,  6.80s/it]"
     ]
    },
    {
     "name": "stdout",
     "output_type": "stream",
     "text": [
      "endp: [[0,1],\n",
      "[40,0]]\n",
      "axisl: [0, 1]\n",
      "Socket connected\n",
      "212\n",
      "codedeta:Program begin.\n",
      "Program End.\n",
      ", Elapsed_time: 3.934\n",
      "codeerr:\n",
      "Socket end\n"
     ]
    },
    {
     "name": "stderr",
     "output_type": "stream",
     "text": [
      "Processing rows:  93%|█████████▎| 64/69 [06:47<00:30,  6.13s/it]"
     ]
    },
    {
     "name": "stdout",
     "output_type": "stream",
     "text": [
      "endp: [[0,1],\n",
      "[40,0]]\n",
      "axisl: [0, 1]\n",
      "Socket connected\n",
      "213\n",
      "codedeta:Program begin.\n",
      "Program End.\n",
      ", Elapsed_time: 3.898\n",
      "codeerr:\n",
      "Socket end\n"
     ]
    },
    {
     "name": "stderr",
     "output_type": "stream",
     "text": [
      "Processing rows:  94%|█████████▍| 65/69 [06:51<00:22,  5.65s/it]"
     ]
    },
    {
     "name": "stdout",
     "output_type": "stream",
     "text": [
      "endp: [[0,1],\n",
      "[40,0]]\n",
      "axisl: [0, 1]\n",
      "Socket connected\n",
      "214\n",
      "codedeta:Program begin.\n",
      "Program End.\n",
      ", Elapsed_time: 3.936\n",
      "codeerr:\n",
      "Socket end\n"
     ]
    },
    {
     "name": "stderr",
     "output_type": "stream",
     "text": [
      "Processing rows:  96%|█████████▌| 66/69 [06:56<00:15,  5.32s/it]"
     ]
    },
    {
     "name": "stdout",
     "output_type": "stream",
     "text": [
      "endp: [[0,1],\n",
      "[0,0]]\n",
      "axisl: [0, 1]\n",
      "Socket connected\n",
      "215\n",
      "codedeta:Program begin.\n",
      "Program End.\n",
      ", Elapsed_time: 4.756\n",
      "codeerr:\n",
      "Socket end\n"
     ]
    },
    {
     "name": "stderr",
     "output_type": "stream",
     "text": [
      "Processing rows:  97%|█████████▋| 67/69 [07:01<00:10,  5.34s/it]"
     ]
    },
    {
     "name": "stdout",
     "output_type": "stream",
     "text": [
      "endp: [[0,1,2],\n",
      "[0,0,0]]\n",
      "axisl: [0, 1, 2]\n",
      "Socket connected\n",
      "216\n",
      "codedeta:Program begin.\n",
      "Program End.\n",
      ", Elapsed_time: 9.258\n",
      "codeerr:\n",
      "Socket end\n"
     ]
    },
    {
     "name": "stderr",
     "output_type": "stream",
     "text": [
      "Processing rows:  99%|█████████▊| 68/69 [07:11<00:06,  6.70s/it]"
     ]
    },
    {
     "name": "stdout",
     "output_type": "stream",
     "text": [
      "endp: [[0,1,2,3],\n",
      "[0,0,0,100]]\n",
      "axisl: [0, 1, 2, 3]\n",
      "Socket connected\n",
      "217\n",
      "codedeta:Program begin.\n",
      "Program End.\n",
      ", Elapsed_time: 5.961\n",
      "codeerr:\n",
      "Socket end\n"
     ]
    },
    {
     "name": "stderr",
     "output_type": "stream",
     "text": [
      "Processing rows: 100%|██████████| 69/69 [07:18<00:00,  6.35s/it]"
     ]
    },
    {
     "name": "stdout",
     "output_type": "stream",
     "text": [
      "JSON file has been generated at docs/WMX3API_MCEval_Dataset.json\n",
      "Total tasks: 69\n",
      "Error tasks: 0\n",
      "Syntax error tasks: 0\n",
      "Successful tasks: 69\n",
      "Accuracy: 100.00%\n",
      "Tasks with errors: []\n",
      "Tasks with syntax errors: []\n"
     ]
    },
    {
     "name": "stderr",
     "output_type": "stream",
     "text": [
      "\n"
     ]
    }
   ],
   "source": [
    "import pandas as pd\n",
    "import os\n",
    "import json\n",
    "import socket\n",
    "from time import sleep\n",
    "from tqdm import tqdm\n",
    "\n",
    "# Load the Excel file\n",
    "excel_file_path = 'docs/WMX3API_MCEval_Dataset.xlsx'\n",
    "df = pd.read_excel(excel_file_path)\n",
    "\n",
    "# Initialize an empty list to store the data for JSON\n",
    "data_list = []\n",
    "\n",
    "# Lists to store TaskIds with different errors\n",
    "error_task_ids = []\n",
    "syntax_error_task_ids = []\n",
    "\n",
    "# Function to modify the Python code with logging\n",
    "def add_log_code(py_code, task_id, axis):\n",
    "    lines = py_code.split('\\n')\n",
    "    modified_code = []\n",
    "    i = 0\n",
    "    # Add logging start code\n",
    "    while i < len(lines):\n",
    "        modified_code.append(lines[i])\n",
    "        if '.StartHome' in lines[i]:\n",
    "            i += 1\n",
    "            while i < len(lines) and lines[i].strip() != '':\n",
    "                modified_code.append(lines[i])\n",
    "                i += 1\n",
    "            if i < len(lines):\n",
    "                modified_code.append(f'''\n",
    "    # <log ---------------------------------------------------------------------------                                                                 \n",
    "    WMX3Log = Log(Wmx3Lib)\n",
    "\n",
    "                                     \n",
    "    # Stop log just in case logging is on.\n",
    "    ret = WMX3Log.StopLog(0)\n",
    "    sleep(0.01)\n",
    "                                     \n",
    "    axislist = {axis}                           \n",
    "    num = len(axislist)\n",
    "\n",
    "    # Set Axis numbers and control variables of log\n",
    "    cmLogIn_0 = CoreMotionLogInput()\n",
    "    cmLogIn_0.axisSelection.axisCount = num\n",
    "    for i in range(0, num):\n",
    "        cmLogIn_0.axisSelection.SetAxis(i, axislist[i])\n",
    "\n",
    "    # Control variables to log\n",
    "    cmLogIn_0.axisOptions.commandPos = 1\n",
    "    cmLogIn_0.axisOptions.feedbackPos = 0\n",
    "    cmLogIn_0.axisOptions.commandVelocity = 0\n",
    "    cmLogIn_0.axisOptions.feedbackVelocity = 0\n",
    "\n",
    "    # Set up log time\n",
    "    option = LogChannelOptions()\n",
    "    option.samplingPeriodInCycles = 1\n",
    "    option.samplingTimeMilliseconds = 1000000\n",
    "    option.precision = 3\n",
    "\n",
    "    ret=WMX3Log.SetLogOption(0, option)\n",
    "    if ret!=0:\n",
    "        print('SetLogOption error code is ' + str(ret) + ': ' + WMX3Log.ErrorToString(ret))\n",
    "        return\n",
    "    sleep(0.1)\n",
    "    ret = WMX3Log.SetCustomLog(0,cmLogIn_0)\n",
    "    if ret!=0:\n",
    "        print('SetCustomLog error code is ' + str(ret) + ': ' + WMX3Log.ErrorToString(ret))\n",
    "        return\n",
    "    sleep(0.1)\n",
    "\n",
    "    # Set log file address\n",
    "    path_0 = LogFilePath()\n",
    "    WMX3Log.GetLogFilePath(0)\n",
    "    path_0.dirPath = \"C:\\\\\\\\\"\n",
    "    path_0.fileName = f\"{task_id}_MCEval_Log.txt\"\n",
    "    ret = WMX3Log.SetLogFilePath(0, path_0)\n",
    "    if ret!=0:\n",
    "        print('SetLogFilePath error code is ' + str(ret) + ': ' + WMX3Log.ErrorToString(ret))\n",
    "        return\n",
    "\n",
    "    # Start log\n",
    "    ret = WMX3Log.StartLog(0)\n",
    "    if ret!=0:\n",
    "        print('StartLog error code is ' + str(ret) + ': ' + WMX3Log.ErrorToString(ret))\n",
    "        return\n",
    "    sleep(0.01)\n",
    "    # log> ---------------------------------------------------------------------------   \n",
    "    \n",
    "                ''')\n",
    "        i += 1\n",
    "\n",
    "    # Add logging stop code\n",
    "    i = len(lines) - 1\n",
    "    while i >= 0:\n",
    "        if '.SetServoOn' in lines[i]:\n",
    "            while i >= 0 and lines[i].strip() != '':\n",
    "                i -= 1\n",
    "            if i >= 0:\n",
    "                modified_code.insert(i + 1, '''\n",
    "    # <log --------------------------------------------------------------------------- \n",
    "    sleep(0.1)                                                                    \n",
    "    # Stop log\n",
    "    ret = WMX3Log.StopLog(0)\n",
    "    if ret!=0:\n",
    "        print('StopLog error code is ' + str(ret) + ': ' + WMX3Log.ErrorToString(ret))\n",
    "        return\n",
    "\n",
    "    for axisNo in axislist:                                \n",
    "        ret = Wmx3Lib_cm.home.StartHome(axisNo)\n",
    "        if ret!=0:\n",
    "            print('StartHome error code is ' + str(ret) + ': ' + Wmx3Lib_cm.ErrorToString(ret))\n",
    "            return\n",
    "        Wmx3Lib_cm.motion.Wait(axisNo)                                                                  \n",
    "    # log> ---------------------------------------------------------------------------     \n",
    "                                     \n",
    "                ''')\n",
    "            break\n",
    "        i -= 1\n",
    "\n",
    "    return '\\n'.join(modified_code)\n",
    "\n",
    "# Function to send code and log data to socket server\n",
    "def SendCodeLog(code_data_log, task_id):\n",
    "    # 1. Create socket\n",
    "    tcp_socket = socket.socket(socket.AF_INET, socket.SOCK_STREAM)\n",
    "\n",
    "    # 2. Connect server\n",
    "    server_addr = (\"10.211.55.5\", 8888)\n",
    "    tcp_socket.connect(server_addr)\n",
    "    print(\"Socket connected\")\n",
    "\n",
    "    # 3. Send data\n",
    "    tcp_socket.send(code_data_log.encode(\"utf-8\"))\n",
    "\n",
    "    sleep(0.1)\n",
    "\n",
    "    send_data = 'exit'\n",
    "    tcp_socket.send(send_data.encode(\"utf-8\"))\n",
    "\n",
    "    # 4. Receive data from server\n",
    "    tcp_remsg = tcp_socket.recv(1024).decode(\"utf-8\")\n",
    "    print(tcp_remsg)\n",
    "\n",
    "    # Check for errors in the response\n",
    "    if \"error\" in tcp_remsg:\n",
    "        if \"syntax error\" in tcp_remsg:\n",
    "            syntax_error_task_ids.append(task_id)\n",
    "        else:\n",
    "            error_task_ids.append(task_id)\n",
    "\n",
    "    # 5. Close socket\n",
    "    tcp_socket.close()\n",
    "    print(\"Socket end\")\n",
    "\n",
    "# Iterate through each row in the dataframe with a progress bar\n",
    "for index, row in tqdm(df.iterrows(), total=len(df), desc=\"Processing rows\"):\n",
    "    task_id = row['TaskId']\n",
    "    # if(task_id != 32):\n",
    "    #     continue\n",
    "    \n",
    "    # Construct the path to the Python file\n",
    "    py_file_path = f'MCEval_Files/{task_id}_MCEval.py'\n",
    "    \n",
    "    # Read the Python file to get the CanonicalCode\n",
    "    if os.path.exists(py_file_path):\n",
    "        with open(py_file_path, 'r') as file:\n",
    "            py_code = file.read()\n",
    "    else:\n",
    "        py_code = ''\n",
    "    \n",
    "    # If it is about motion log\n",
    "    print('endp: ' + str(row['EndPoint']))\n",
    "    if str(row['EndPoint']) != 'nan':\n",
    "        # Extract axis from the first row of 'EndPoint'\n",
    "        try:\n",
    "            axis = list(range(len(eval(row['EndPoint'])[0])))\n",
    "            axis = eval(row['EndPoint'])[0]\n",
    "            print(\"axisl: \" + str(axis))\n",
    "            if not axis:\n",
    "                continue\n",
    "        except Exception as e:\n",
    "            print(f\"Error processing axis for task {task_id}: {e}\")\n",
    "            continue\n",
    "\n",
    "        # Add log code to the Python file content\n",
    "        modified_code = add_log_code(py_code, task_id, axis)\n",
    "    else:\n",
    "        modified_code = py_code\n",
    "    \n",
    "    # Save the modified code to a new file\n",
    "    modified_file_path = f'MCEval_Files/{task_id}_MCEval_WithLog.py'\n",
    "    with open(modified_file_path, 'w') as file:\n",
    "        file.write(modified_code)\n",
    "    \n",
    "    # Send the modified code to the socket server for each task\n",
    "    SendCodeLog(modified_code, task_id)\n",
    "    sleep(0.3)\n",
    "\n",
    "    # Create a dictionary for the current row\n",
    "    row_data = row.to_dict()\n",
    "    row_data['CanonicalCode'] = py_code\n",
    "    \n",
    "    # Append the dictionary to the list\n",
    "    data_list.append(row_data)\n",
    "\n",
    "    sleep(0.2)\n",
    "\n",
    "# Construct the output JSON file path\n",
    "json_file_path = excel_file_path.replace('.xlsx', '.json')\n",
    "\n",
    "# Write the data to a JSON file\n",
    "with open(json_file_path, 'w') as json_file:\n",
    "    json.dump(data_list, json_file, indent=4)\n",
    "\n",
    "# Calculate accuracy\n",
    "total_tasks = len(df)\n",
    "error_count = len(error_task_ids)\n",
    "syntax_error_count = len(syntax_error_task_ids)\n",
    "success_count = total_tasks - (error_count + syntax_error_count)\n",
    "accuracy = (success_count / total_tasks) * 100\n",
    "\n",
    "print(f\"JSON file has been generated at {json_file_path}\")\n",
    "print(f\"Total tasks: {total_tasks}\")\n",
    "print(f\"Error tasks: {error_count}\")\n",
    "print(f\"Syntax error tasks: {syntax_error_count}\")\n",
    "print(f\"Successful tasks: {success_count}\")\n",
    "print(f\"Accuracy: {accuracy:.2f}%\")\n",
    "print(f\"Tasks with errors: {error_task_ids}\")\n",
    "print(f\"Tasks with syntax errors: {syntax_error_task_ids}\")\n"
   ]
  },
  {
   "cell_type": "markdown",
   "metadata": {},
   "source": [
    "### MCEval: code snippet to runnable code. (!!)"
   ]
  },
  {
   "cell_type": "code",
   "execution_count": 1,
   "metadata": {},
   "outputs": [
    {
     "name": "stdout",
     "output_type": "stream",
     "text": [
      "Processed file saved to MCEval_Files/1_MCEval_Runnable.py\n",
      "Processed file saved to MCEval_Files/2_MCEval_Runnable.py\n",
      "Processed file saved to MCEval_Files/3_MCEval_Runnable.py\n",
      "Processed file saved to MCEval_Files/4_MCEval_Runnable.py\n",
      "Processed file saved to MCEval_Files/5_MCEval_Runnable.py\n",
      "Processed file saved to MCEval_Files/6_MCEval_Runnable.py\n",
      "Processed file saved to MCEval_Files/7_MCEval_Runnable.py\n",
      "Processed file saved to MCEval_Files/8_MCEval_Runnable.py\n",
      "Processed file saved to MCEval_Files/9_MCEval_Runnable.py\n",
      "Processed file saved to MCEval_Files/10_MCEval_Runnable.py\n",
      "Processed file saved to MCEval_Files/11_MCEval_Runnable.py\n",
      "Processed file saved to MCEval_Files/12_MCEval_Runnable.py\n",
      "Processed file saved to MCEval_Files/13_MCEval_Runnable.py\n",
      "Processed file saved to MCEval_Files/14_MCEval_Runnable.py\n",
      "Processed file saved to MCEval_Files/15_MCEval_Runnable.py\n",
      "Processed file saved to MCEval_Files/16_MCEval_Runnable.py\n",
      "Processed file saved to MCEval_Files/17_MCEval_Runnable.py\n",
      "Processed file saved to MCEval_Files/18_MCEval_Runnable.py\n",
      "Processed file saved to MCEval_Files/19_MCEval_Runnable.py\n",
      "Processed file saved to MCEval_Files/20_MCEval_Runnable.py\n",
      "Processed file saved to MCEval_Files/21_MCEval_Runnable.py\n",
      "Processed file saved to MCEval_Files/22_MCEval_Runnable.py\n",
      "Processed file saved to MCEval_Files/23_MCEval_Runnable.py\n",
      "Processed file saved to MCEval_Files/24_MCEval_Runnable.py\n",
      "Processed file saved to MCEval_Files/25_MCEval_Runnable.py\n",
      "Processed file saved to MCEval_Files/26_MCEval_Runnable.py\n",
      "Processed file saved to MCEval_Files/27_MCEval_Runnable.py\n",
      "Processed file saved to MCEval_Files/28_MCEval_Runnable.py\n",
      "Processed file saved to MCEval_Files/29_MCEval_Runnable.py\n",
      "Processed file saved to MCEval_Files/30_MCEval_Runnable.py\n",
      "Processed file saved to MCEval_Files/31_MCEval_Runnable.py\n",
      "Processed file saved to MCEval_Files/32_MCEval_Runnable.py\n",
      "Processed file saved to MCEval_Files/33_MCEval_Runnable.py\n",
      "Processed file saved to MCEval_Files/34_MCEval_Runnable.py\n",
      "Processed file saved to MCEval_Files/35_MCEval_Runnable.py\n",
      "Processed file saved to MCEval_Files/36_MCEval_Runnable.py\n",
      "Processed file saved to MCEval_Files/37_MCEval_Runnable.py\n",
      "Processed file saved to MCEval_Files/38_MCEval_Runnable.py\n",
      "Processed file saved to MCEval_Files/39_MCEval_Runnable.py\n",
      "Processed file saved to MCEval_Files/40_MCEval_Runnable.py\n",
      "Processed file saved to MCEval_Files/41_MCEval_Runnable.py\n",
      "Processed file saved to MCEval_Files/42_MCEval_Runnable.py\n",
      "Processed file saved to MCEval_Files/43_MCEval_Runnable.py\n",
      "Processed file saved to MCEval_Files/44_MCEval_Runnable.py\n",
      "Processed file saved to MCEval_Files/45_MCEval_Runnable.py\n",
      "Processed file saved to MCEval_Files/46_MCEval_Runnable.py\n",
      "Processed file saved to MCEval_Files/47_MCEval_Runnable.py\n",
      "Processed file saved to MCEval_Files/48_MCEval_Runnable.py\n",
      "Processed file saved to MCEval_Files/49_MCEval_Runnable.py\n",
      "Processed file saved to MCEval_Files/50_MCEval_Runnable.py\n",
      "Processed file saved to MCEval_Files/51_MCEval_Runnable.py\n",
      "Processed file saved to MCEval_Files/52_MCEval_Runnable.py\n",
      "Processed file saved to MCEval_Files/53_MCEval_Runnable.py\n",
      "Processed file saved to MCEval_Files/54_MCEval_Runnable.py\n",
      "Processed file saved to MCEval_Files/55_MCEval_Runnable.py\n",
      "Processed file saved to MCEval_Files/56_MCEval_Runnable.py\n",
      "Processed file saved to MCEval_Files/57_MCEval_Runnable.py\n",
      "Processed file saved to MCEval_Files/58_MCEval_Runnable.py\n",
      "Processed file saved to MCEval_Files/59_MCEval_Runnable.py\n",
      "Processed file saved to MCEval_Files/60_MCEval_Runnable.py\n",
      "Processed file saved to MCEval_Files/61_MCEval_Runnable.py\n",
      "Processed file saved to MCEval_Files/62_MCEval_Runnable.py\n",
      "Processed file saved to MCEval_Files/63_MCEval_Runnable.py\n",
      "Processed file saved to MCEval_Files/64_MCEval_Runnable.py\n",
      "Processed file saved to MCEval_Files/65_MCEval_Runnable.py\n",
      "Processed file saved to MCEval_Files/66_MCEval_Runnable.py\n",
      "Processed file saved to MCEval_Files/67_MCEval_Runnable.py\n",
      "Processed file saved to MCEval_Files/68_MCEval_Runnable.py\n",
      "Processed file saved to MCEval_Files/69_MCEval_Runnable.py\n"
     ]
    }
   ],
   "source": [
    "def process_file(input_filepath):\n",
    "    \"\"\"\n",
    "    This function takes the path to a Python file, extracts the line starting with '# Axes =', and inserts it into stringA.\n",
    "    Then it concatenates stringA, the content of the input file, and stringC, and writes the result to a new file.\n",
    "    \"\"\"\n",
    "    stringA = '''\n",
    "# Define Axes\n",
    "\n",
    "\n",
    "#WMX3 python library\n",
    "from WMX3ApiPython import *\n",
    "from time import *\n",
    "\n",
    "INFINITE = int(0xFFFFFFFF)\n",
    "\n",
    "def main():\n",
    "    Wmx3Lib = WMX3Api()\n",
    "    CmStatus = CoreMotionStatus()\n",
    "    Wmx3Lib_cm = CoreMotion(Wmx3Lib)\n",
    "    print('Program begin.')\n",
    "    sleep(0.1)\n",
    "\n",
    "    # Create devices. \n",
    "    ret = Wmx3Lib.CreateDevice('C:\\\\\\\\Program Files\\\\\\\\SoftServo\\\\\\\\WMX3', DeviceType.DeviceTypeNormal, INFINITE)\n",
    "    if ret!=0:\n",
    "        print('CreateDevice error code is ' + str(ret) + ': ' + Wmx3Lib.ErrorToString(ret))\n",
    "        return\n",
    "\n",
    "    # Set Device Name.\n",
    "    Wmx3Lib.SetDeviceName('WMX3initTest')\n",
    "\n",
    "    # Start Communication.\n",
    "    ret = Wmx3Lib.StartCommunication(INFINITE)\n",
    "    if ret!=0:\n",
    "        print('StartCommunication error code is ' + str(ret) + ': ' + Wmx3Lib.ErrorToString(ret))\n",
    "        return\n",
    "\n",
    "    # Import and set all the preset motion parameters.\n",
    "    ret=Wmx3Lib_cm.config.ImportAndSetAll(\"C:\\\\\\\\Program Files\\\\\\\\SoftServo\\\\\\\\WMX3\\\\\\\\wmx_parameters.xml\")\n",
    "    if ret != 0:\n",
    "        print('ImportAndSetAll Parameters error code is ' + str(ret) + ': ' + Wmx3Lib_cm.ErrorToString(ret))\n",
    "    sleep(0.5)\n",
    " \n",
    "    # Clear alarms, set servos on, and perform homing for Axes\n",
    "    for axis in Axes:\n",
    "        # Clear the amplifier alarm\n",
    "        timeoutCounter = 0\n",
    "        while True:\n",
    "            # GetStatus -> First return value : Error code, Second return value: CoreMotionStatus\n",
    "            ret, CmStatus = Wmx3Lib_cm.GetStatus()\n",
    "            if not CmStatus.GetAxesStatus(axis).ampAlarm:\n",
    "                break\n",
    "            ret = Wmx3Lib_cm.axisControl.ClearAmpAlarm(axis)\n",
    "            sleep(0.5)\n",
    "            timeoutCounter += 1\n",
    "            if timeoutCounter > 5:\n",
    "                break\n",
    "        if timeoutCounter > 5:\n",
    "            print(f'Clear axis {axis} alarm fails!')\n",
    "            return\n",
    "\n",
    "        # Set servo on for Axis\n",
    "        ret = Wmx3Lib_cm.axisControl.SetServoOn(axis, 1)\n",
    "        timeoutCounter = 0\n",
    "        while True:\n",
    "            # GetStatus -> First return value : Error code, Second return value: CoreMotionStatus\n",
    "            ret, CmStatus = Wmx3Lib_cm.GetStatus()\n",
    "            if (CmStatus.GetAxesStatus(axis).servoOn):\n",
    "                break\n",
    "            sleep(0.4)\n",
    "            timeoutCounter += 1\n",
    "            if (timeoutCounter > 5):\n",
    "                break\n",
    "        if (timeoutCounter > 5):\n",
    "            print('Set servo on for axis {axis} fails!')\n",
    "            return\n",
    "\n",
    "        # Sleep is a must between SetServoOn and Homing\n",
    "        sleep(0.1)\n",
    "\n",
    "        # Homing\n",
    "        homeParam = Config_HomeParam()\n",
    "        ret, homeParam = Wmx3Lib_cm.config.GetHomeParam(axis)\n",
    "        homeParam.homeType = Config_HomeType.CurrentPos\n",
    "\n",
    "        # SetHomeParam -> First return value: Error code, Second return value: param error\n",
    "        ret, homeParamError = Wmx3Lib_cm.config.SetHomeParam(axis, homeParam)\n",
    "\n",
    "        ret = Wmx3Lib_cm.home.StartHome(axis)\n",
    "        if ret != 0:\n",
    "            print(f'StartHome error code for axis {axis} is ' + str(ret) + ': ' + Wmx3Lib_cm.ErrorToString(ret))\n",
    "            return\n",
    "        Wmx3Lib_cm.motion.Wait(axis)\n",
    "\n",
    "    # <log ---------------------------------------------------------------------------                                                                 \n",
    "    WMX3Log = Log(Wmx3Lib)\n",
    "                                 \n",
    "    # Stop log just in case logging is on.\n",
    "    ret = WMX3Log.StopLog(0)\n",
    "    sleep(0.01)\n",
    "                                     \n",
    "    axislist = Axes                           \n",
    "    num = len(axislist)\n",
    "\n",
    "    # Set Axis numbers and control variables of log\n",
    "    cmLogIn_0 = CoreMotionLogInput()\n",
    "    cmLogIn_0.axisSelection.axisCount = num\n",
    "    for i in range(0, num):\n",
    "        cmLogIn_0.axisSelection.SetAxis(i, axislist[i])\n",
    "\n",
    "    # Control variables to log\n",
    "    cmLogIn_0.axisOptions.commandPos = 1\n",
    "    cmLogIn_0.axisOptions.feedbackPos = 0\n",
    "    cmLogIn_0.axisOptions.commandVelocity = 0\n",
    "    cmLogIn_0.axisOptions.feedbackVelocity = 0\n",
    "\n",
    "    # Set up log time\n",
    "    option = LogChannelOptions()\n",
    "    option.samplingPeriodInCycles = 1\n",
    "    option.samplingTimeMilliseconds = 1000000\n",
    "    option.precision = 3\n",
    "\n",
    "    ret=WMX3Log.SetLogOption(0, option)\n",
    "    if ret!=0:\n",
    "        print('SetLogOption error code is ' + str(ret) + ': ' + WMX3Log.ErrorToString(ret))\n",
    "        return\n",
    "    sleep(0.1)\n",
    "    ret = WMX3Log.SetCustomLog(0,cmLogIn_0)\n",
    "    if ret!=0:\n",
    "        print('SetCustomLog error code is ' + str(ret) + ': ' + WMX3Log.ErrorToString(ret))\n",
    "        return\n",
    "    sleep(0.1)\n",
    "\n",
    "    # Set log file address\n",
    "    path_0 = LogFilePath()\n",
    "    WMX3Log.GetLogFilePath(0)\n",
    "    path_0.dirPath = \"C:\\\\\\\\\"\n",
    "    path_0.fileName = f\"filename_Log.txt\"\n",
    "    ret = WMX3Log.SetLogFilePath(0, path_0)\n",
    "    if ret!=0:\n",
    "        print('SetLogFilePath error code is ' + str(ret) + ': ' + WMX3Log.ErrorToString(ret))\n",
    "        return\n",
    "\n",
    "    # Start log\n",
    "    ret = WMX3Log.StartLog(0)\n",
    "    if ret!=0:\n",
    "        print('StartLog error code is ' + str(ret) + ': ' + WMX3Log.ErrorToString(ret))\n",
    "        return\n",
    "    sleep(0.01)\n",
    "    # log> ---------------------------------------------------------------------------   \n",
    "\n",
    "\n",
    "'''\n",
    "\n",
    "    stringC = '''\n",
    "# <log --------------------------------------------------------------------------- \n",
    "    sleep(0.1)                                                                    \n",
    "    # Stop log\n",
    "    ret = WMX3Log.StopLog(0)\n",
    "    if ret!=0:\n",
    "        print('StopLog error code is ' + str(ret) + ': ' + WMX3Log.ErrorToString(ret))\n",
    "        return\n",
    "\n",
    "    for axisNo in axislist:                                \n",
    "        ret = Wmx3Lib_cm.home.StartHome(axisNo)\n",
    "        if ret!=0:\n",
    "            print('StartHome error code is ' + str(ret) + ': ' + Wmx3Lib_cm.ErrorToString(ret))\n",
    "            return\n",
    "        Wmx3Lib_cm.motion.Wait(axisNo)                                                                  \n",
    "    # log> ---------------------------------------------------------------------------     \n",
    "                                     \n",
    "                \n",
    "    # Set servo off for Axes\n",
    "    for axis in Axes:\n",
    "        ret = Wmx3Lib_cm.axisControl.SetServoOn(axis, 0)\n",
    "        if ret != 0:\n",
    "            print(f'SetServoOn to off error code for axis {axis} is ' + str(ret) + ': ' + Wmx3Lib_cm.ErrorToString(ret))\n",
    "            return\n",
    "\n",
    "    # Stop Communication.\n",
    "    ret = Wmx3Lib.StopCommunication(INFINITE)\n",
    "    if ret!=0:\n",
    "        print('StopCommunication error code is ' + str(ret) + ': ' + Wmx3Lib.ErrorToString(ret))\n",
    "        return\n",
    "\n",
    "    # Close Device.\n",
    "    ret = Wmx3Lib.CloseDevice()\n",
    "    if ret!=0:\n",
    "        print('CloseDevice error code is ' + str(ret) + ': ' + Wmx3Lib.ErrorToString(ret))\n",
    "        return\n",
    "\n",
    "    print('Program End.')\n",
    "\n",
    "if __name__ == '__main__':\n",
    "    main()\n",
    "\n",
    "'''\n",
    "\n",
    "    with open(input_filepath, 'r') as file:\n",
    "        lines = file.readlines()\n",
    "\n",
    "    axes_line = None\n",
    "    for line in lines:\n",
    "        if line.strip().startswith('# Axes ='):\n",
    "            axes_line = line.strip().lstrip('# ').strip()\n",
    "            break\n",
    "\n",
    "    if axes_line:\n",
    "        stringA = stringA.replace('# Define Axes', f'# Define Axes\\n{axes_line}')\n",
    "\n",
    "    stringB = ''.join(lines)\n",
    "    filename = input_filepath.split('/')[-1].split('.')[0]\n",
    "    stringA = stringA.replace(\"filename_Log.txt\", f\"{filename}_SampleCode_Log.txt\")\n",
    "    \n",
    "    output_content = stringA + stringB + stringC\n",
    "    output_filepath = input_filepath.replace('.py', '_Runnable.py')\n",
    "    \n",
    "    with open(output_filepath, 'w') as output_file:\n",
    "        output_file.write(output_content)\n",
    "\n",
    "    print(f'Processed file saved to {output_filepath}')\n",
    "\n",
    "\n",
    "for i in range(1, 70):\n",
    "    input_filepath = f'MCEval_Files/{i}_MCEval.py'\n",
    "    process_file(input_filepath)\n"
   ]
  },
  {
   "cell_type": "markdown",
   "metadata": {},
   "source": [
    " ### send runnable code and log data to socket server to run and check."
   ]
  },
  {
   "cell_type": "code",
   "execution_count": 4,
   "metadata": {},
   "outputs": [
    {
     "name": "stderr",
     "output_type": "stream",
     "text": [
      "Processing Tasks:   0%|          | 0/69 [00:00<?, ?it/s]"
     ]
    },
    {
     "name": "stdout",
     "output_type": "stream",
     "text": [
      "Socket connected for task 1\n"
     ]
    },
    {
     "name": "stderr",
     "output_type": "stream",
     "text": [
      "Processing Tasks:   1%|▏         | 1/69 [00:03<03:56,  3.48s/it]"
     ]
    },
    {
     "name": "stdout",
     "output_type": "stream",
     "text": [
      "Response for task 1: 258\n",
      "codedeta:Program begin.\n",
      "Program End.\n",
      ", Elapsed_time: 3.378\n",
      "codeerr:\n",
      "Socket end for task 1\n",
      "Socket connected for task 2\n"
     ]
    },
    {
     "name": "stderr",
     "output_type": "stream",
     "text": [
      "Processing Tasks:   3%|▎         | 2/69 [00:06<03:47,  3.39s/it]"
     ]
    },
    {
     "name": "stdout",
     "output_type": "stream",
     "text": [
      "Response for task 2: 259\n",
      "codedeta:Program begin.\n",
      "Program End.\n",
      ", Elapsed_time: 3.219\n",
      "codeerr:\n",
      "Socket end for task 2\n",
      "Socket connected for task 3\n"
     ]
    },
    {
     "name": "stderr",
     "output_type": "stream",
     "text": [
      "Processing Tasks:   4%|▍         | 3/69 [00:11<04:27,  4.06s/it]"
     ]
    },
    {
     "name": "stdout",
     "output_type": "stream",
     "text": [
      "Response for task 3: 260\n",
      "codedeta:Program begin.\n",
      "Program End.\n",
      ", Elapsed_time: 4.736\n",
      "codeerr:\n",
      "Socket end for task 3\n",
      "Socket connected for task 4\n"
     ]
    },
    {
     "name": "stderr",
     "output_type": "stream",
     "text": [
      "Processing Tasks:   6%|▌         | 4/69 [00:15<04:14,  3.92s/it]"
     ]
    },
    {
     "name": "stdout",
     "output_type": "stream",
     "text": [
      "Response for task 4: 261\n",
      "codedeta:Program begin.\n",
      "Program End.\n",
      ", Elapsed_time: 3.608\n",
      "codeerr:\n",
      "Socket end for task 4\n",
      "Socket connected for task 5\n"
     ]
    },
    {
     "name": "stderr",
     "output_type": "stream",
     "text": [
      "Processing Tasks:   7%|▋         | 5/69 [00:19<04:25,  4.15s/it]"
     ]
    },
    {
     "name": "stdout",
     "output_type": "stream",
     "text": [
      "Response for task 5: 262\n",
      "codedeta:Program begin.\n",
      "Program End.\n",
      ", Elapsed_time: 4.459\n",
      "codeerr:\n",
      "Socket end for task 5\n",
      "Socket connected for task 6\n"
     ]
    },
    {
     "name": "stderr",
     "output_type": "stream",
     "text": [
      "Processing Tasks:   9%|▊         | 6/69 [00:22<03:48,  3.63s/it]"
     ]
    },
    {
     "name": "stdout",
     "output_type": "stream",
     "text": [
      "Response for task 6: 263\n",
      "codedeta:Program begin.\n",
      "Program End.\n",
      ", Elapsed_time: 2.511\n",
      "codeerr:\n",
      "Socket end for task 6\n",
      "Socket connected for task 7\n"
     ]
    },
    {
     "name": "stderr",
     "output_type": "stream",
     "text": [
      "Processing Tasks:  10%|█         | 7/69 [00:26<03:53,  3.76s/it]"
     ]
    },
    {
     "name": "stdout",
     "output_type": "stream",
     "text": [
      "Response for task 7: 264\n",
      "codedeta:Program begin.\n",
      "Program End.\n",
      ", Elapsed_time: 3.928\n",
      "codeerr:\n",
      "Socket end for task 7\n",
      "Socket connected for task 8\n"
     ]
    },
    {
     "name": "stderr",
     "output_type": "stream",
     "text": [
      "Processing Tasks:  12%|█▏        | 8/69 [00:30<03:52,  3.82s/it]"
     ]
    },
    {
     "name": "stdout",
     "output_type": "stream",
     "text": [
      "Response for task 8: 265\n",
      "codedeta:Program begin.\n",
      "Program End.\n",
      ", Elapsed_time: 3.819\n",
      "codeerr:\n",
      "Socket end for task 8\n",
      "Socket connected for task 9\n"
     ]
    },
    {
     "name": "stderr",
     "output_type": "stream",
     "text": [
      "Processing Tasks:  13%|█▎        | 9/69 [00:34<04:01,  4.02s/it]"
     ]
    },
    {
     "name": "stdout",
     "output_type": "stream",
     "text": [
      "Response for task 9: 266\n",
      "codedeta:Program begin.\n",
      "Program End.\n",
      ", Elapsed_time: 4.360\n",
      "codeerr:\n",
      "Socket end for task 9\n",
      "Socket connected for task 10\n"
     ]
    },
    {
     "name": "stderr",
     "output_type": "stream",
     "text": [
      "Processing Tasks:  14%|█▍        | 10/69 [00:38<03:55,  4.00s/it]"
     ]
    },
    {
     "name": "stdout",
     "output_type": "stream",
     "text": [
      "Response for task 10: 267\n",
      "codedeta:Program begin.\n",
      "Program End.\n",
      ", Elapsed_time: 3.837\n",
      "codeerr:\n",
      "Socket end for task 10\n",
      "Socket connected for task 11\n"
     ]
    },
    {
     "name": "stderr",
     "output_type": "stream",
     "text": [
      "Processing Tasks:  16%|█▌        | 11/69 [00:43<04:07,  4.26s/it]"
     ]
    },
    {
     "name": "stdout",
     "output_type": "stream",
     "text": [
      "Response for task 11: 268\n",
      "codedeta:Program begin.\n",
      "Program End.\n",
      ", Elapsed_time: 4.764\n",
      "codeerr:\n",
      "Socket end for task 11\n",
      "Socket connected for task 12\n"
     ]
    },
    {
     "name": "stderr",
     "output_type": "stream",
     "text": [
      "Processing Tasks:  17%|█▋        | 12/69 [00:48<04:06,  4.33s/it]"
     ]
    },
    {
     "name": "stdout",
     "output_type": "stream",
     "text": [
      "Response for task 12: 269\n",
      "codedeta:Program begin.\n",
      "Program End.\n",
      ", Elapsed_time: 4.368\n",
      "codeerr:\n",
      "Socket end for task 12\n",
      "Socket connected for task 13\n"
     ]
    },
    {
     "name": "stderr",
     "output_type": "stream",
     "text": [
      "Processing Tasks:  19%|█▉        | 13/69 [00:52<04:08,  4.44s/it]"
     ]
    },
    {
     "name": "stdout",
     "output_type": "stream",
     "text": [
      "Response for task 13: 270\n",
      "codedeta:Program begin.\n",
      "Program End.\n",
      ", Elapsed_time: 4.605\n",
      "codeerr:\n",
      "Socket end for task 13\n",
      "Socket connected for task 14\n"
     ]
    },
    {
     "name": "stderr",
     "output_type": "stream",
     "text": [
      "Processing Tasks:  20%|██        | 14/69 [00:58<04:22,  4.77s/it]"
     ]
    },
    {
     "name": "stdout",
     "output_type": "stream",
     "text": [
      "Response for task 14: 271\n",
      "codedeta:Program begin.\n",
      "Program End.\n",
      ", Elapsed_time: 5.410\n",
      "codeerr:\n",
      "Socket end for task 14\n",
      "Socket connected for task 15\n"
     ]
    },
    {
     "name": "stderr",
     "output_type": "stream",
     "text": [
      "Processing Tasks:  22%|██▏       | 15/69 [01:05<04:48,  5.34s/it]"
     ]
    },
    {
     "name": "stdout",
     "output_type": "stream",
     "text": [
      "Response for task 15: 272\n",
      "codedeta:Program begin.\n",
      "Program End.\n",
      ", Elapsed_time: 6.551\n",
      "codeerr:\n",
      "Socket end for task 15\n",
      "Socket connected for task 16\n"
     ]
    },
    {
     "name": "stderr",
     "output_type": "stream",
     "text": [
      "Processing Tasks:  23%|██▎       | 16/69 [01:09<04:22,  4.94s/it]"
     ]
    },
    {
     "name": "stdout",
     "output_type": "stream",
     "text": [
      "Response for task 16: 273\n",
      "codedeta:Program begin.\n",
      "Program End.\n",
      ", Elapsed_time: 3.925\n",
      "codeerr:\n",
      "Socket end for task 16\n",
      "Socket connected for task 17\n"
     ]
    },
    {
     "name": "stderr",
     "output_type": "stream",
     "text": [
      "Processing Tasks:  25%|██▍       | 17/69 [01:13<04:03,  4.69s/it]"
     ]
    },
    {
     "name": "stdout",
     "output_type": "stream",
     "text": [
      "Response for task 17: 274\n",
      "codedeta:Program begin.\n",
      "Program End.\n",
      ", Elapsed_time: 3.981\n",
      "codeerr:\n",
      "Socket end for task 17\n",
      "Socket connected for task 18\n"
     ]
    },
    {
     "name": "stderr",
     "output_type": "stream",
     "text": [
      "Processing Tasks:  26%|██▌       | 18/69 [01:17<03:52,  4.56s/it]"
     ]
    },
    {
     "name": "stdout",
     "output_type": "stream",
     "text": [
      "Response for task 18: 275\n",
      "codedeta:Program begin.\n",
      "Program End.\n",
      ", Elapsed_time: 4.149\n",
      "codeerr:\n",
      "Socket end for task 18\n",
      "Socket connected for task 19\n"
     ]
    },
    {
     "name": "stderr",
     "output_type": "stream",
     "text": [
      "Processing Tasks:  28%|██▊       | 19/69 [01:20<03:27,  4.15s/it]"
     ]
    },
    {
     "name": "stdout",
     "output_type": "stream",
     "text": [
      "Response for task 19: 276\n",
      "codedeta:Program begin.\n",
      "Program End.\n",
      ", Elapsed_time: 3.096\n",
      "codeerr:\n",
      "Socket end for task 19\n",
      "Socket connected for task 20\n"
     ]
    },
    {
     "name": "stderr",
     "output_type": "stream",
     "text": [
      "Processing Tasks:  29%|██▉       | 20/69 [01:24<03:11,  3.91s/it]"
     ]
    },
    {
     "name": "stdout",
     "output_type": "stream",
     "text": [
      "Response for task 20: 277\n",
      "codedeta:Program begin.\n",
      "Program End.\n",
      ", Elapsed_time: 3.243\n",
      "codeerr:\n",
      "Socket end for task 20\n",
      "Socket connected for task 21\n"
     ]
    },
    {
     "name": "stderr",
     "output_type": "stream",
     "text": [
      "Processing Tasks:  30%|███       | 21/69 [01:28<03:11,  3.99s/it]"
     ]
    },
    {
     "name": "stdout",
     "output_type": "stream",
     "text": [
      "Response for task 21: 278\n",
      "codedeta:Program begin.\n",
      "Program End.\n",
      ", Elapsed_time: 4.073\n",
      "codeerr:\n",
      "Socket end for task 21\n",
      "Socket connected for task 22\n"
     ]
    },
    {
     "name": "stderr",
     "output_type": "stream",
     "text": [
      "Processing Tasks:  32%|███▏      | 22/69 [01:32<03:13,  4.11s/it]"
     ]
    },
    {
     "name": "stdout",
     "output_type": "stream",
     "text": [
      "Response for task 22: 279\n",
      "codedeta:Program begin.\n",
      "Program End.\n",
      ", Elapsed_time: 4.289\n",
      "codeerr:\n",
      "Socket end for task 22\n",
      "Socket connected for task 23\n"
     ]
    },
    {
     "name": "stderr",
     "output_type": "stream",
     "text": [
      "Processing Tasks:  33%|███▎      | 23/69 [01:36<03:10,  4.15s/it]"
     ]
    },
    {
     "name": "stdout",
     "output_type": "stream",
     "text": [
      "Response for task 23: 280\n",
      "codedeta:Program begin.\n",
      "Program End.\n",
      ", Elapsed_time: 4.129\n",
      "codeerr:\n",
      "Socket end for task 23\n",
      "Socket connected for task 24\n"
     ]
    },
    {
     "name": "stderr",
     "output_type": "stream",
     "text": [
      "Processing Tasks:  35%|███▍      | 24/69 [01:40<03:04,  4.11s/it]"
     ]
    },
    {
     "name": "stdout",
     "output_type": "stream",
     "text": [
      "Response for task 24: 281\n",
      "codedeta:Program begin.\n",
      "Program End.\n",
      ", Elapsed_time: 3.900\n",
      "codeerr:\n",
      "Socket end for task 24\n",
      "Socket connected for task 25\n"
     ]
    },
    {
     "name": "stderr",
     "output_type": "stream",
     "text": [
      "Processing Tasks:  36%|███▌      | 25/69 [01:44<02:58,  4.06s/it]"
     ]
    },
    {
     "name": "stdout",
     "output_type": "stream",
     "text": [
      "Response for task 25: 282\n",
      "codedeta:Program begin.\n",
      "Program End.\n",
      ", Elapsed_time: 3.860\n",
      "codeerr:\n",
      "Socket end for task 25\n",
      "Socket connected for task 26\n"
     ]
    },
    {
     "name": "stderr",
     "output_type": "stream",
     "text": [
      "Processing Tasks:  38%|███▊      | 26/69 [01:49<03:01,  4.23s/it]"
     ]
    },
    {
     "name": "stdout",
     "output_type": "stream",
     "text": [
      "Response for task 26: 283\n",
      "codedeta:Program begin.\n",
      "Program End.\n",
      ", Elapsed_time: 4.506\n",
      "codeerr:\n",
      "Socket end for task 26\n",
      "Socket connected for task 27\n"
     ]
    },
    {
     "name": "stderr",
     "output_type": "stream",
     "text": [
      "Processing Tasks:  39%|███▉      | 27/69 [01:53<02:51,  4.07s/it]"
     ]
    },
    {
     "name": "stdout",
     "output_type": "stream",
     "text": [
      "Response for task 27: 284\n",
      "codedeta:Program begin.\n",
      "Program End.\n",
      ", Elapsed_time: 3.611\n",
      "codeerr:\n",
      "Socket end for task 27\n",
      "Socket connected for task 28\n"
     ]
    },
    {
     "name": "stderr",
     "output_type": "stream",
     "text": [
      "Processing Tasks:  41%|████      | 28/69 [01:57<02:48,  4.11s/it]"
     ]
    },
    {
     "name": "stdout",
     "output_type": "stream",
     "text": [
      "Response for task 28: 285\n",
      "codedeta:Program begin.\n",
      "Program End.\n",
      ", Elapsed_time: 4.100\n",
      "codeerr:\n",
      "Socket end for task 28\n",
      "Socket connected for task 29\n"
     ]
    },
    {
     "name": "stderr",
     "output_type": "stream",
     "text": [
      "Processing Tasks:  42%|████▏     | 29/69 [02:07<03:51,  5.78s/it]"
     ]
    },
    {
     "name": "stdout",
     "output_type": "stream",
     "text": [
      "Response for task 29: 286\n",
      "codedeta:Program begin.\n",
      "Program End.\n",
      ", Elapsed_time: 9.560\n",
      "codeerr:\n",
      "Socket end for task 29\n",
      "Socket connected for task 30\n"
     ]
    },
    {
     "name": "stderr",
     "output_type": "stream",
     "text": [
      "Processing Tasks:  43%|████▎     | 30/69 [02:11<03:32,  5.44s/it]"
     ]
    },
    {
     "name": "stdout",
     "output_type": "stream",
     "text": [
      "Response for task 30: 287\n",
      "codedeta:Program begin.\n",
      "Program End.\n",
      ", Elapsed_time: 4.527\n",
      "codeerr:\n",
      "Socket end for task 30\n",
      "Socket connected for task 31\n"
     ]
    },
    {
     "name": "stderr",
     "output_type": "stream",
     "text": [
      "Processing Tasks:  45%|████▍     | 31/69 [02:15<03:04,  4.85s/it]"
     ]
    },
    {
     "name": "stdout",
     "output_type": "stream",
     "text": [
      "Response for task 31: 288\n",
      "codedeta:Program begin.\n",
      "Program End.\n",
      ", Elapsed_time: 3.387\n",
      "codeerr:\n",
      "Socket end for task 31\n",
      "Socket connected for task 32\n"
     ]
    },
    {
     "name": "stderr",
     "output_type": "stream",
     "text": [
      "Processing Tasks:  46%|████▋     | 32/69 [02:19<02:47,  4.54s/it]"
     ]
    },
    {
     "name": "stdout",
     "output_type": "stream",
     "text": [
      "Response for task 32: 289\n",
      "codedeta:Program begin.\n",
      "Program End.\n",
      ", Elapsed_time: 3.695\n",
      "codeerr:\n",
      "Socket end for task 32\n",
      "Socket connected for task 33\n"
     ]
    },
    {
     "name": "stderr",
     "output_type": "stream",
     "text": [
      "Processing Tasks:  48%|████▊     | 33/69 [02:25<03:03,  5.09s/it]"
     ]
    },
    {
     "name": "stdout",
     "output_type": "stream",
     "text": [
      "Response for task 33: 290\n",
      "codedeta:Program begin.\n",
      "Program End.\n",
      ", Elapsed_time: 6.273\n",
      "codeerr:\n",
      "Socket end for task 33\n",
      "Socket connected for task 34\n"
     ]
    },
    {
     "name": "stderr",
     "output_type": "stream",
     "text": [
      "Processing Tasks:  49%|████▉     | 34/69 [02:31<03:09,  5.40s/it]"
     ]
    },
    {
     "name": "stdout",
     "output_type": "stream",
     "text": [
      "Response for task 34: 291\n",
      "codedeta:Program begin.\n",
      "Program End.\n",
      ", Elapsed_time: 6.021\n",
      "codeerr:\n",
      "Socket end for task 34\n",
      "Socket connected for task 35\n"
     ]
    },
    {
     "name": "stderr",
     "output_type": "stream",
     "text": [
      "Processing Tasks:  51%|█████     | 35/69 [02:38<03:18,  5.83s/it]"
     ]
    },
    {
     "name": "stdout",
     "output_type": "stream",
     "text": [
      "Response for task 35: 292\n",
      "codedeta:Program begin.\n",
      "Program End.\n",
      ", Elapsed_time: 6.722\n",
      "codeerr:\n",
      "Socket end for task 35\n",
      "Socket connected for task 36\n"
     ]
    },
    {
     "name": "stderr",
     "output_type": "stream",
     "text": [
      "Processing Tasks:  52%|█████▏    | 36/69 [02:43<03:06,  5.65s/it]"
     ]
    },
    {
     "name": "stdout",
     "output_type": "stream",
     "text": [
      "Response for task 36: 293\n",
      "codedeta:Program begin.\n",
      "Program End.\n",
      ", Elapsed_time: 5.137\n",
      "codeerr:\n",
      "Socket end for task 36\n",
      "Socket connected for task 37\n"
     ]
    },
    {
     "name": "stderr",
     "output_type": "stream",
     "text": [
      "Processing Tasks:  54%|█████▎    | 37/69 [02:48<02:52,  5.40s/it]"
     ]
    },
    {
     "name": "stdout",
     "output_type": "stream",
     "text": [
      "Response for task 37: 294\n",
      "codedeta:Program begin.\n",
      "Program End.\n",
      ", Elapsed_time: 4.704\n",
      "codeerr:\n",
      "Socket end for task 37\n",
      "Socket connected for task 38\n"
     ]
    },
    {
     "name": "stderr",
     "output_type": "stream",
     "text": [
      "Processing Tasks:  55%|█████▌    | 38/69 [02:54<02:57,  5.71s/it]"
     ]
    },
    {
     "name": "stdout",
     "output_type": "stream",
     "text": [
      "Response for task 38: 295\n",
      "codedeta:Program begin.\n",
      "Program End.\n",
      ", Elapsed_time: 6.335\n",
      "codeerr:\n",
      "Socket end for task 38\n",
      "Socket connected for task 39\n"
     ]
    },
    {
     "name": "stderr",
     "output_type": "stream",
     "text": [
      "Processing Tasks:  57%|█████▋    | 39/69 [02:59<02:39,  5.32s/it]"
     ]
    },
    {
     "name": "stdout",
     "output_type": "stream",
     "text": [
      "Response for task 39: 296\n",
      "codedeta:Program begin.\n",
      "Program End.\n",
      ", Elapsed_time: 4.292\n",
      "codeerr:\n",
      "Socket end for task 39\n",
      "Socket connected for task 40\n"
     ]
    },
    {
     "name": "stderr",
     "output_type": "stream",
     "text": [
      "Processing Tasks:  58%|█████▊    | 40/69 [03:04<02:34,  5.32s/it]"
     ]
    },
    {
     "name": "stdout",
     "output_type": "stream",
     "text": [
      "Response for task 40: 297\n",
      "codedeta:Program begin.\n",
      "Program End.\n",
      ", Elapsed_time: 5.200\n",
      "codeerr:\n",
      "Socket end for task 40\n",
      "Socket connected for task 41\n"
     ]
    },
    {
     "name": "stderr",
     "output_type": "stream",
     "text": [
      "Processing Tasks:  59%|█████▉    | 41/69 [03:09<02:22,  5.10s/it]"
     ]
    },
    {
     "name": "stdout",
     "output_type": "stream",
     "text": [
      "Response for task 41: 298\n",
      "codedeta:Program begin.\n",
      "Program End.\n",
      ", Elapsed_time: 4.489\n",
      "codeerr:\n",
      "Socket end for task 41\n",
      "Socket connected for task 42\n"
     ]
    },
    {
     "name": "stderr",
     "output_type": "stream",
     "text": [
      "Processing Tasks:  61%|██████    | 42/69 [03:13<02:10,  4.85s/it]"
     ]
    },
    {
     "name": "stdout",
     "output_type": "stream",
     "text": [
      "Response for task 42: 299\n",
      "codedeta:Program begin.\n",
      "Program End.\n",
      ", Elapsed_time: 4.150\n",
      "codeerr:\n",
      "Socket end for task 42\n",
      "Socket connected for task 43\n"
     ]
    },
    {
     "name": "stderr",
     "output_type": "stream",
     "text": [
      "Processing Tasks:  62%|██████▏   | 43/69 [03:25<02:58,  6.88s/it]"
     ]
    },
    {
     "name": "stdout",
     "output_type": "stream",
     "text": [
      "Response for task 43: 300\n",
      "codedeta:Program begin.\n",
      "Program End.\n",
      ", Elapsed_time: 11.512\n",
      "codeerr:\n",
      "Socket end for task 43\n",
      "Socket connected for task 44\n"
     ]
    },
    {
     "name": "stderr",
     "output_type": "stream",
     "text": [
      "Processing Tasks:  64%|██████▍   | 44/69 [03:32<02:55,  7.04s/it]"
     ]
    },
    {
     "name": "stdout",
     "output_type": "stream",
     "text": [
      "Response for task 44: 301\n",
      "codedeta:Program begin.\n",
      "Program End.\n",
      ", Elapsed_time: 7.307\n",
      "codeerr:\n",
      "Socket end for task 44\n",
      "Socket connected for task 45\n"
     ]
    },
    {
     "name": "stderr",
     "output_type": "stream",
     "text": [
      "Processing Tasks:  65%|██████▌   | 45/69 [03:42<03:07,  7.81s/it]"
     ]
    },
    {
     "name": "stdout",
     "output_type": "stream",
     "text": [
      "Response for task 45: 302\n",
      "codedeta:Program begin.\n",
      "Program End.\n",
      ", Elapsed_time: 9.489\n",
      "codeerr:\n",
      "Socket end for task 45\n",
      "Socket connected for task 46\n"
     ]
    },
    {
     "name": "stderr",
     "output_type": "stream",
     "text": [
      "Processing Tasks:  67%|██████▋   | 46/69 [03:50<03:07,  8.14s/it]"
     ]
    },
    {
     "name": "stdout",
     "output_type": "stream",
     "text": [
      "Response for task 46: 303\n",
      "codedeta:Program begin.\n",
      "Program End.\n",
      ", Elapsed_time: 8.812\n",
      "codeerr:\n",
      "Socket end for task 46\n",
      "Socket connected for task 47\n"
     ]
    },
    {
     "name": "stderr",
     "output_type": "stream",
     "text": [
      "Processing Tasks:  68%|██████▊   | 47/69 [04:00<03:07,  8.51s/it]"
     ]
    },
    {
     "name": "stdout",
     "output_type": "stream",
     "text": [
      "Response for task 47: 304\n",
      "codedeta:Program begin.\n",
      "Program End.\n",
      ", Elapsed_time: 9.267\n",
      "codeerr:\n",
      "Socket end for task 47\n",
      "Socket connected for task 48\n"
     ]
    },
    {
     "name": "stderr",
     "output_type": "stream",
     "text": [
      "Processing Tasks:  70%|██████▉   | 48/69 [04:15<03:42, 10.61s/it]"
     ]
    },
    {
     "name": "stdout",
     "output_type": "stream",
     "text": [
      "Response for task 48: 305\n",
      "codedeta:Program begin.\n",
      "Program End.\n",
      ", Elapsed_time: 15.400\n",
      "codeerr:\n",
      "Socket end for task 48\n",
      "Socket connected for task 49\n"
     ]
    },
    {
     "name": "stderr",
     "output_type": "stream",
     "text": [
      "Processing Tasks:  71%|███████   | 49/69 [04:25<03:25, 10.27s/it]"
     ]
    },
    {
     "name": "stdout",
     "output_type": "stream",
     "text": [
      "Response for task 49: 306\n",
      "codedeta:Program begin.\n",
      "Program End.\n",
      ", Elapsed_time: 9.356\n",
      "codeerr:\n",
      "Socket end for task 49\n",
      "Socket connected for task 50\n"
     ]
    },
    {
     "name": "stderr",
     "output_type": "stream",
     "text": [
      "Processing Tasks:  72%|███████▏  | 50/69 [04:32<02:55,  9.22s/it]"
     ]
    },
    {
     "name": "stdout",
     "output_type": "stream",
     "text": [
      "Response for task 50: 307\n",
      "codedeta:Program begin.\n",
      "Program End.\n",
      ", Elapsed_time: 6.674\n",
      "codeerr:\n",
      "Socket end for task 50\n",
      "Socket connected for task 51\n"
     ]
    },
    {
     "name": "stderr",
     "output_type": "stream",
     "text": [
      "Processing Tasks:  74%|███████▍  | 51/69 [04:37<02:27,  8.18s/it]"
     ]
    },
    {
     "name": "stdout",
     "output_type": "stream",
     "text": [
      "Response for task 51: 308\n",
      "codedeta:Program begin.\n",
      "Program End.\n",
      ", Elapsed_time: 5.652\n",
      "codeerr:\n",
      "Socket end for task 51\n",
      "Socket connected for task 52\n"
     ]
    },
    {
     "name": "stderr",
     "output_type": "stream",
     "text": [
      "Processing Tasks:  75%|███████▌  | 52/69 [04:44<02:12,  7.79s/it]"
     ]
    },
    {
     "name": "stdout",
     "output_type": "stream",
     "text": [
      "Response for task 52: 309\n",
      "codedeta:Program begin.\n",
      "Program End.\n",
      ", Elapsed_time: 6.775\n",
      "codeerr:\n",
      "Socket end for task 52\n",
      "Socket connected for task 53\n"
     ]
    },
    {
     "name": "stderr",
     "output_type": "stream",
     "text": [
      "Processing Tasks:  77%|███████▋  | 53/69 [04:50<01:54,  7.18s/it]"
     ]
    },
    {
     "name": "stdout",
     "output_type": "stream",
     "text": [
      "Response for task 53: 310\n",
      "codedeta:Program begin.\n",
      "Program End.\n",
      ", Elapsed_time: 5.642\n",
      "codeerr:\n",
      "Socket end for task 53\n",
      "Socket connected for task 54\n"
     ]
    },
    {
     "name": "stderr",
     "output_type": "stream",
     "text": [
      "Processing Tasks:  78%|███████▊  | 54/69 [04:54<01:35,  6.38s/it]"
     ]
    },
    {
     "name": "stdout",
     "output_type": "stream",
     "text": [
      "Response for task 54: 311\n",
      "codedeta:Program begin.\n",
      "Program End.\n",
      ", Elapsed_time: 4.405\n",
      "codeerr:\n",
      "Socket end for task 54\n",
      "Socket connected for task 55\n"
     ]
    },
    {
     "name": "stderr",
     "output_type": "stream",
     "text": [
      "Processing Tasks:  80%|███████▉  | 55/69 [05:00<01:25,  6.12s/it]"
     ]
    },
    {
     "name": "stdout",
     "output_type": "stream",
     "text": [
      "Response for task 55: 312\n",
      "codedeta:Program begin.\n",
      "Program End.\n",
      ", Elapsed_time: 5.410\n",
      "codeerr:\n",
      "Socket end for task 55\n",
      "Socket connected for task 56\n"
     ]
    },
    {
     "name": "stderr",
     "output_type": "stream",
     "text": [
      "Processing Tasks:  81%|████████  | 56/69 [05:06<01:17,  5.95s/it]"
     ]
    },
    {
     "name": "stdout",
     "output_type": "stream",
     "text": [
      "Response for task 56: 313\n",
      "codedeta:Program begin.\n",
      "Program End.\n",
      ", Elapsed_time: 5.439\n",
      "codeerr:\n",
      "Socket end for task 56\n",
      "Socket connected for task 57\n"
     ]
    },
    {
     "name": "stderr",
     "output_type": "stream",
     "text": [
      "Processing Tasks:  83%|████████▎ | 57/69 [05:09<01:01,  5.14s/it]"
     ]
    },
    {
     "name": "stdout",
     "output_type": "stream",
     "text": [
      "Response for task 57: 314\n",
      "codedeta:, Elapsed_time: 3.142\n",
      "codeerr:Traceback (most recent call last):\n",
      "  File \"\\\\mac\\Home\\Downloads\\codedemo\\sample.py\", line 269, in <module>\n",
      "    main()\n",
      "  File \"\\\\mac\\Home\\Downloads\\codedemo\\sample.py\", line 192, in main\n",
      "    Point.linear.SetTarget(0, -200 + 200 * math.cos((i + 1) / 36.0 * (2 * PI)))\n",
      "                                           ^^^^\n",
      "NameError: name 'math' is not defined. Did you mean: 'path'?\n",
      "!!!\n",
      "Socket end for task 57\n",
      "Socket connected for task 58\n"
     ]
    },
    {
     "name": "stderr",
     "output_type": "stream",
     "text": [
      "Processing Tasks:  84%|████████▍ | 58/69 [05:11<00:47,  4.33s/it]"
     ]
    },
    {
     "name": "stdout",
     "output_type": "stream",
     "text": [
      "Response for task 58: 315\n",
      "codedeta:, Elapsed_time: 2.346\n",
      "codeerr:Traceback (most recent call last):\n",
      "  File \"\\\\mac\\Home\\Downloads\\codedemo\\sample.py\", line 268, in <module>\n",
      "    main()\n",
      "  File \"\\\\mac\\Home\\Downloads\\codedemo\\sample.py\", line 190, in main\n",
      "    Point.linear.SetTarget(0, -200 + 200 * math.cos((i + 1) / 36.0 * (2 * PI)))\n",
      "                                           ^^^^\n",
      "NameError: name 'math' is not defined. Did you mean: 'path'?\n",
      "!!!\n",
      "Socket end for task 58\n",
      "Socket connected for task 59\n"
     ]
    },
    {
     "name": "stderr",
     "output_type": "stream",
     "text": [
      "Processing Tasks:  86%|████████▌ | 59/69 [05:15<00:41,  4.19s/it]"
     ]
    },
    {
     "name": "stdout",
     "output_type": "stream",
     "text": [
      "Response for task 59: 316\n",
      "codedeta:Program begin.\n",
      "Program End.\n",
      ", Elapsed_time: 3.764\n",
      "codeerr:\n",
      "Socket end for task 59\n",
      "Socket connected for task 60\n"
     ]
    },
    {
     "name": "stderr",
     "output_type": "stream",
     "text": [
      "Processing Tasks:  87%|████████▋ | 60/69 [05:20<00:40,  4.47s/it]"
     ]
    },
    {
     "name": "stdout",
     "output_type": "stream",
     "text": [
      "Response for task 60: 317\n",
      "codedeta:Program begin.\n",
      "Program End.\n",
      ", Elapsed_time: 5.005\n",
      "codeerr:\n",
      "Socket end for task 60\n",
      "Socket connected for task 61\n"
     ]
    },
    {
     "name": "stderr",
     "output_type": "stream",
     "text": [
      "Processing Tasks:  88%|████████▊ | 61/69 [05:25<00:36,  4.57s/it]"
     ]
    },
    {
     "name": "stdout",
     "output_type": "stream",
     "text": [
      "Response for task 61: 318\n",
      "codedeta:Program begin.\n",
      "Program End.\n",
      ", Elapsed_time: 4.697\n",
      "codeerr:\n",
      "Socket end for task 61\n",
      "Socket connected for task 62\n"
     ]
    },
    {
     "name": "stderr",
     "output_type": "stream",
     "text": [
      "Processing Tasks:  90%|████████▉ | 62/69 [05:31<00:34,  4.90s/it]"
     ]
    },
    {
     "name": "stdout",
     "output_type": "stream",
     "text": [
      "Response for task 62: 319\n",
      "codedeta:Program begin.\n",
      "Program End.\n",
      ", Elapsed_time: 5.569\n",
      "codeerr:\n",
      "Socket end for task 62\n",
      "Socket connected for task 63\n"
     ]
    },
    {
     "name": "stderr",
     "output_type": "stream",
     "text": [
      "Processing Tasks:  91%|█████████▏| 63/69 [05:36<00:29,  4.99s/it]"
     ]
    },
    {
     "name": "stdout",
     "output_type": "stream",
     "text": [
      "Response for task 63: 320\n",
      "codedeta:Program begin.\n",
      "Program End.\n",
      ", Elapsed_time: 5.088\n",
      "codeerr:\n",
      "Socket end for task 63\n",
      "Socket connected for task 64\n"
     ]
    },
    {
     "name": "stderr",
     "output_type": "stream",
     "text": [
      "Processing Tasks:  93%|█████████▎| 64/69 [05:40<00:23,  4.63s/it]"
     ]
    },
    {
     "name": "stdout",
     "output_type": "stream",
     "text": [
      "Response for task 64: 321\n",
      "codedeta:Program begin.\n",
      "Program End.\n",
      ", Elapsed_time: 3.672\n",
      "codeerr:\n",
      "Socket end for task 64\n",
      "Socket connected for task 65\n"
     ]
    },
    {
     "name": "stderr",
     "output_type": "stream",
     "text": [
      "Processing Tasks:  94%|█████████▍| 65/69 [05:44<00:17,  4.40s/it]"
     ]
    },
    {
     "name": "stdout",
     "output_type": "stream",
     "text": [
      "Response for task 65: 322\n",
      "codedeta:Program begin.\n",
      "Program End.\n",
      ", Elapsed_time: 3.778\n",
      "codeerr:\n",
      "Socket end for task 65\n",
      "Socket connected for task 66\n"
     ]
    },
    {
     "name": "stderr",
     "output_type": "stream",
     "text": [
      "Processing Tasks:  96%|█████████▌| 66/69 [05:47<00:12,  4.22s/it]"
     ]
    },
    {
     "name": "stdout",
     "output_type": "stream",
     "text": [
      "Response for task 66: 323\n",
      "codedeta:Program begin.\n",
      "Program End.\n",
      ", Elapsed_time: 3.679\n",
      "codeerr:\n",
      "Socket end for task 66\n",
      "Socket connected for task 67\n"
     ]
    },
    {
     "name": "stderr",
     "output_type": "stream",
     "text": [
      "Processing Tasks:  97%|█████████▋| 67/69 [05:52<00:08,  4.33s/it]"
     ]
    },
    {
     "name": "stdout",
     "output_type": "stream",
     "text": [
      "Response for task 67: 324\n",
      "codedeta:Program begin.\n",
      "Program End.\n",
      ", Elapsed_time: 4.500\n",
      "codeerr:\n",
      "Socket end for task 67\n",
      "Socket connected for task 68\n"
     ]
    },
    {
     "name": "stderr",
     "output_type": "stream",
     "text": [
      "Processing Tasks:  99%|█████████▊| 68/69 [06:00<00:05,  5.52s/it]"
     ]
    },
    {
     "name": "stdout",
     "output_type": "stream",
     "text": [
      "Response for task 68: 325\n",
      "codedeta:Program begin.\n",
      "Program End.\n",
      ", Elapsed_time: 8.182\n",
      "codeerr:\n",
      "Socket end for task 68\n",
      "Socket connected for task 69\n"
     ]
    },
    {
     "name": "stderr",
     "output_type": "stream",
     "text": [
      "Processing Tasks: 100%|██████████| 69/69 [06:06<00:00,  5.31s/it]"
     ]
    },
    {
     "name": "stdout",
     "output_type": "stream",
     "text": [
      "Response for task 69: 326\n",
      "codedeta:Program begin.\n",
      "Program End.\n",
      ", Elapsed_time: 5.624\n",
      "codeerr:\n",
      "Socket end for task 69\n",
      "Total tasks with syntax errors: 0\n",
      "Tasks with syntax errors: []\n",
      "Total tasks with other errors: 0\n",
      "Tasks with other errors: []\n"
     ]
    },
    {
     "name": "stderr",
     "output_type": "stream",
     "text": [
      "\n"
     ]
    }
   ],
   "source": [
    "import socket\n",
    "import os\n",
    "from time import sleep\n",
    "from tqdm import tqdm\n",
    "\n",
    "# Lists to track error task IDs and types\n",
    "syntax_error_task_ids = []\n",
    "error_task_ids = []\n",
    "\n",
    "# Function to send code and log data to socket server\n",
    "def SendCodeLog(code_data_log, task_id):\n",
    "    \"\"\"\n",
    "    Sends the given code and task ID to the server via a socket connection,\n",
    "    and logs any errors encountered.\n",
    "    \"\"\"\n",
    "    try:\n",
    "        # 1. Create socket\n",
    "        tcp_socket = socket.socket(socket.AF_INET, socket.SOCK_STREAM)\n",
    "\n",
    "        # 2. Connect server\n",
    "        server_addr = (\"10.211.55.5\", 8888)\n",
    "        tcp_socket.connect(server_addr)\n",
    "        print(f\"Socket connected for task {task_id}\")\n",
    "\n",
    "        # 3. Send data\n",
    "        tcp_socket.send(code_data_log.encode(\"utf-8\"))\n",
    "\n",
    "        sleep(0.1)\n",
    "\n",
    "        send_data = 'exit'\n",
    "        tcp_socket.send(send_data.encode(\"utf-8\"))\n",
    "\n",
    "        # 4. Receive data from server\n",
    "        tcp_remsg = tcp_socket.recv(1024).decode(\"utf-8\")\n",
    "        print(f\"Response for task {task_id}: {tcp_remsg}\")\n",
    "\n",
    "        # Check for errors in the response\n",
    "        if \"error\" in tcp_remsg:\n",
    "            if \"syntax error\" in tcp_remsg:\n",
    "                syntax_error_task_ids.append(task_id)\n",
    "            else:\n",
    "                error_task_ids.append(task_id)\n",
    "\n",
    "        # 5. Close socket\n",
    "        tcp_socket.close()\n",
    "        print(f\"Socket end for task {task_id}\")\n",
    "\n",
    "    except Exception as e:\n",
    "        print(f\"Exception for task {task_id}: {e}\")\n",
    "        error_task_ids.append(task_id)\n",
    "\n",
    "# Main script to read files, send code, and track errors\n",
    "def main():\n",
    "    base_path = 'MCEval_Files'\n",
    "    total_tasks = 69\n",
    "\n",
    "    # Loop through each task file\n",
    "    for no in tqdm(range(1, total_tasks + 1), desc=\"Processing Tasks\"):\n",
    "        file_path = os.path.join(base_path, f'{no}_MCEval_Runnable.py')\n",
    "        try:\n",
    "            with open(file_path, 'r', encoding='utf-8') as file:\n",
    "                code = file.read()\n",
    "                SendCodeLog(code, no)\n",
    "        except FileNotFoundError:\n",
    "            print(f\"File not found for task {no}\")\n",
    "            error_task_ids.append(no)\n",
    "        except Exception as e:\n",
    "            print(f\"Exception while reading file for task {no}: {e}\")\n",
    "            error_task_ids.append(no)\n",
    "\n",
    "    # Print summary of errors\n",
    "    print(f\"Total tasks with syntax errors: {len(syntax_error_task_ids)}\")\n",
    "    print(f\"Tasks with syntax errors: {syntax_error_task_ids}\")\n",
    "    print(f\"Total tasks with other errors: {len(error_task_ids)}\")\n",
    "    print(f\"Tasks with other errors: {error_task_ids}\")\n",
    "\n",
    "if __name__ == \"__main__\":\n",
    "    main()\n"
   ]
  }
 ],
 "metadata": {
  "kernelspec": {
   "display_name": "rag-demo-IMu3vKF7-py3.10",
   "language": "python",
   "name": "python3"
  },
  "language_info": {
   "codemirror_mode": {
    "name": "ipython",
    "version": 3
   },
   "file_extension": ".py",
   "mimetype": "text/x-python",
   "name": "python",
   "nbconvert_exporter": "python",
   "pygments_lexer": "ipython3",
   "version": "3.11.7"
  }
 },
 "nbformat": 4,
 "nbformat_minor": 2
}
