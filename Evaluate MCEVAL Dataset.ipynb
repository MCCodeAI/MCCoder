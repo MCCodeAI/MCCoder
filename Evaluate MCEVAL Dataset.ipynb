{
 "cells": [
  {
   "cell_type": "markdown",
   "metadata": {},
   "source": [
    "# Evaluate Dataset"
   ]
  },
  {
   "cell_type": "markdown",
   "metadata": {},
   "source": [
    "## Generate code with various llms and send to WMX3 running for log and plot."
   ]
  },
  {
   "cell_type": "code",
   "execution_count": 29,
   "metadata": {},
   "outputs": [
    {
     "name": "stdout",
     "output_type": "stream",
     "text": [
      "# Load from disk: Vectorstore/chromadb-MCCoder\n"
     ]
    },
    {
     "name": "stderr",
     "output_type": "stream",
     "text": [
      "Processing tasks:   0%|          | 0/116 [00:00<?, ?it/s]"
     ]
    },
    {
     "name": "stdout",
     "output_type": "stream",
     "text": [
      "Task ID: 1 🔽\n",
      "# Lines:['Write Python code to move axis 1 to position 130.2 at a speed of 1060, and acceleration of 11000.']\n",
      "# Tasks:['Write Python code to move axis 1 to position 130.2 at a speed of 1060, and acceleration of 11000.']\n",
      "codedata:\n",
      "Program begin.\n",
      "Program End.\n",
      "Elapsed_time: 3.534\n",
      "----------------------\n",
      "\n"
     ]
    },
    {
     "name": "stderr",
     "output_type": "stream",
     "text": [
      "Processing tasks:   1%|          | 1/116 [00:17<33:50, 17.66s/it]"
     ]
    },
    {
     "name": "stdout",
     "output_type": "stream",
     "text": [
      "# -------------------------------------------------------------------------\n",
      "\n",
      "Task ID: 2 🔽\n",
      "# Lines:['Write Python code to move Axis 2 to the position -55 at a speed of 1000, using an scurve profile.']\n",
      "# Tasks:['Write Python code to move Axis 2 to the position -55 at a speed of 1000, using an scurve profile.']\n",
      "codedata:\n",
      "Program begin.\n",
      "Program End.\n",
      "Elapsed_time: 3.266\n",
      "----------------------\n",
      "\n"
     ]
    },
    {
     "name": "stderr",
     "output_type": "stream",
     "text": [
      "Processing tasks:   2%|▏         | 2/116 [00:36<35:24, 18.64s/it]"
     ]
    },
    {
     "name": "stdout",
     "output_type": "stream",
     "text": [
      "# -------------------------------------------------------------------------\n",
      "\n",
      "Task ID: 3 🔽\n",
      "# Lines:['Write Python code to move Axis 3 to the position 88.8 at a speed of 1200, using an trapezoidalMaT profile with moving average time as 50ms.']\n",
      "# Tasks:['Write Python code to move Axis 3 to the position 88.8 at a speed of 1200, using an trapezoidalMaT profile with moving average time as 50ms.']\n",
      "codeerr:\n",
      "Traceback (most recent call last):\n",
      "  File \"\\\\mac\\Home\\Downloads\\codedemo\\sample.py\", line 262, in <module>\n",
      "    main()\n",
      "  File \"\\\\mac\\Home\\Downloads\\codedemo\\sample.py\", line 205, in main\n",
      "    posCommand.profile.type = ProfileType.TrapezoidalMaT\n",
      "                              ^^^^^^^^^^^^^^^^^^^^^^^^^^\n",
      "AttributeError: type object 'ProfileType' has no attribute 'TrapezoidalMaT'. Did you mean: 'TrapezoidalMAT'?\n",
      "!!!\n",
      "----------------------\n",
      "\n",
      "\n",
      "# Error string:----------------------\n",
      "AttributeError: type object 'ProfileType' has no attribute 'TrapezoidalMaT'. Did you mean: 'TrapezoidalMAT'?\n",
      "\n",
      "# Error ref:----------------------\n",
      "Cycle Time Independent Profiles \n",
      "\n",
      "This profile type is similar to the \n",
      "AdvancedS profile type, excep\n",
      "# -------------\n",
      "Trapezoidal This profile type generates a trapezoid-\n",
      "shaped velocity curve. \n",
      "See also \n",
      "Trapezoidal \n",
      "\n",
      "# -------------\n",
      "TwoVelocityTrapezoidal \n",
      "TwoVelocitySCurve \n",
      "TwoVelocityJerkRatio \n",
      "\n",
      "\n",
      "See also \n",
      "\n",
      "Profile Parameters \n",
      "\n",
      "◆\n",
      "# -------------\n",
      "T enum name ProfileType \n",
      "TimeAccAdvancedS enum va ProfileType \n",
      "TimeAccJerkRatio enum va ProfileType \n",
      "# -------------\n",
      "This profile type is similar to the \n",
      "JerkLimited profile type, except the \n",
      "specified velocity is fix\n",
      "codedata:\n",
      "Program begin.\n",
      "Program End.\n",
      "Elapsed_time: 2.710\n",
      "----------------------\n",
      "\n",
      "Self-corrected.\n",
      "\n",
      "\n"
     ]
    },
    {
     "name": "stderr",
     "output_type": "stream",
     "text": [
      "Processing tasks:   3%|▎         | 3/116 [01:18<55:09, 29.28s/it]"
     ]
    },
    {
     "name": "stdout",
     "output_type": "stream",
     "text": [
      "# -------------------------------------------------------------------------\n",
      "\n",
      "Task ID: 4 🔽\n",
      "# Lines:['Write Python code that moves Axis 4 to position 88 at a speed of 1100 if the variable XYZ equals 0; otherwise, move it to position 90.']\n",
      "# Tasks:['Write Python code that moves Axis 4 to position 88 at a speed of 1100 if the variable XYZ equals 0; otherwise, move it to position 90.']\n",
      "codeerr:\n",
      "Traceback (most recent call last):\n",
      "  File \"\\\\mac\\Home\\Downloads\\codedemo\\sample.py\", line 262, in <module>\n",
      "    main()\n",
      "  File \"\\\\mac\\Home\\Downloads\\codedemo\\sample.py\", line 210, in main\n",
      "    if XYZ == 0:\n",
      "       ^^^\n",
      "NameError: name 'XYZ' is not defined\n",
      "!!!\n",
      "----------------------\n",
      "\n",
      "\n",
      "# Error string:----------------------\n",
      "NameError: name 'XYZ' is not defined\n",
      "\n",
      "# Error ref:----------------------\n",
      "} \n",
      "\n",
      "//Set the axis coordinates\n",
      "\n",
      "err = wmxlib_cm.home->SetCommandPos(0, (st.axesStatus[0].encoderComm\n",
      "# -------------\n",
      "Tutorial 5-1: Creating a new script (.py) file \n",
      "Tutorial 5-2: Executing the application \n",
      " \n",
      "\n",
      "Tutorial\n",
      "# -------------\n",
      "Function \n",
      "C++ \n",
      "WMX3APIFUNC \n",
      "Import(wchar_t *pPath, \n",
      "SystemParam *pParam, \n",
      "AxisParam \n",
      "*pAxisParam, in\n",
      "# -------------\n",
      "``\n",
      "\n",
      "\n",
      "\n",
      "# Write Python code to perform a soft landing, or torque control.\n",
      "\n",
      "# WMX3 python library\n",
      "from \n",
      "# -------------\n",
      "Python \n",
      "AdvancedMotionErrorCod \n",
      "C++ \n",
      "AdvancedMotionErrorCo \n",
      "Remarks \n",
      "e de \n",
      "AdvMotion_CoordinatedJe \n",
      "\n",
      "codedata:\n",
      "Program begin.\n",
      "Program End.\n",
      "Elapsed_time: 2.765\n",
      "----------------------\n",
      "\n",
      "Self-corrected.\n",
      "\n",
      "\n"
     ]
    },
    {
     "name": "stderr",
     "output_type": "stream",
     "text": [
      "Processing tasks:   3%|▎         | 4/116 [02:03<1:05:52, 35.29s/it]"
     ]
    },
    {
     "name": "stdout",
     "output_type": "stream",
     "text": [
      "# -------------------------------------------------------------------------\n",
      "\n",
      "Task ID: 5 🔽\n",
      "# Lines:['Write Python code that moves Axis 5 to position 66.6 at a speed of 900, then moves it back to position 0, repeating this cycle 3 times.']\n",
      "# Tasks:['Write Python code that moves Axis 5 to position 66.6 at a speed of 900, then moves it back to position 0, repeating this cycle 3 times.']\n",
      "codedata:\n",
      "Program begin.\n",
      "Program End.\n",
      "Elapsed_time: 4.214\n",
      "----------------------\n",
      "\n"
     ]
    },
    {
     "name": "stderr",
     "output_type": "stream",
     "text": [
      "Processing tasks:   4%|▍         | 5/116 [02:26<57:08, 30.89s/it]  "
     ]
    },
    {
     "name": "stdout",
     "output_type": "stream",
     "text": [
      "# -------------------------------------------------------------------------\n",
      "\n",
      "Task ID: 6 🔽\n",
      "# Lines:['Write Python code to start a relative position command for Axis 6 with a distance of 199.9 and a velocity of 2000.']\n",
      "# Tasks:['Write Python code to start a relative position command for Axis 6 with a distance of 199.9 and a velocity of 2000.']\n",
      "codedata:\n",
      "Program begin.\n",
      "Program End.\n",
      "Elapsed_time: 3.201\n",
      "----------------------\n",
      "\n"
     ]
    },
    {
     "name": "stderr",
     "output_type": "stream",
     "text": [
      "Processing tasks:   5%|▌         | 6/116 [02:47<50:09, 27.36s/it]"
     ]
    },
    {
     "name": "stdout",
     "output_type": "stream",
     "text": [
      "# -------------------------------------------------------------------------\n",
      "\n",
      "Task ID: 7 🔽\n",
      "# Lines:['Write Python code to start a relative position command for Axis 6 with a distance of 199.9 and a velocity of 2000, using a jerk ratio profile with a jerk Acc Ratio of 0.3.']\n",
      "# Tasks:['Write Python code to start a relative position command for Axis 6 with a distance of 199.9 and a velocity of 2000, using a jerk ratio profile with a jerk Acc Ratio of 0.3.']\n",
      "codedata:\n",
      "Program begin.\n",
      "Program End.\n",
      "Elapsed_time: 3.181\n",
      "----------------------\n",
      "\n"
     ]
    },
    {
     "name": "stderr",
     "output_type": "stream",
     "text": [
      "Processing tasks:   6%|▌         | 7/116 [03:09<46:39, 25.68s/it]"
     ]
    },
    {
     "name": "stdout",
     "output_type": "stream",
     "text": [
      "# -------------------------------------------------------------------------\n",
      "\n",
      "Task ID: 8 🔽\n",
      "# Lines:['Write Python code to move Axis 8 by a distance of 60 with a velocity of 1400, and then move it by a distance of -30, 20, -30, 20, -30, 20, -30 respectively.']\n",
      "# Tasks:['Write Python code to move Axis 8 by a distance of 60 with a velocity of 1400, and then move it by a distance of -30, 20, -30, 20, -30, 20, -30 respectively.']\n",
      "codedata:\n",
      "Program begin.\n",
      "Program End.\n",
      "Elapsed_time: 4.096\n",
      "----------------------\n",
      "\n"
     ]
    },
    {
     "name": "stderr",
     "output_type": "stream",
     "text": [
      "Processing tasks:   7%|▋         | 8/116 [03:37<47:25, 26.35s/it]"
     ]
    },
    {
     "name": "stdout",
     "output_type": "stream",
     "text": [
      "# -------------------------------------------------------------------------\n",
      "\n",
      "Task ID: 9 🔽\n",
      "# Lines:['Write Python code to move Axis 9 by a distance of -70 with a velocity of 1200 if the variable x is false; otherwise, move it by a distance of 70.']\n",
      "# Tasks:['Write Python code to move Axis 9 by a distance of -70 with a velocity of 1200 if the variable x is false; otherwise, move it by a distance of 70.']\n",
      "codeerr:\n",
      "Traceback (most recent call last):\n",
      "  File \"\\\\mac\\Home\\Downloads\\codedemo\\sample.py\", line 266, in <module>\n",
      "    main()\n",
      "  File \"\\\\mac\\Home\\Downloads\\codedemo\\sample.py\", line 212, in main\n",
      "    if not x:\n",
      "           ^\n",
      "NameError: name 'x' is not defined\n",
      "!!!\n",
      "----------------------\n",
      "\n",
      "\n",
      "# Error string:----------------------\n",
      "NameError: name 'x' is not defined\n",
      "\n",
      "# Error ref:----------------------\n",
      "} \n",
      "\n",
      "//Set the axis coordinates\n",
      "\n",
      "err = wmxlib_cm.home->SetCommandPos(0, (st.axesStatus[0].encoderComm\n",
      "# -------------\n",
      "Tutorial 5-1: Creating a new script (.py) file \n",
      "Tutorial 5-2: Executing the application \n",
      " \n",
      "\n",
      "Tutorial\n",
      "# -------------\n",
      "``\n",
      "\n",
      "\n",
      "\n",
      "# Write Python code to perform a soft landing, or torque control.\n",
      "\n",
      "# WMX3 python library\n",
      "from \n",
      "# -------------\n",
      "sleep(5) #Wait five seconds before stopping communication\n",
      "\n",
      " err = wmxlib_cm.axisControl.SetServoOn(0\n",
      "# -------------\n",
      "utFunctionArguments_Trq \n",
      "􀍩􀎄Python􀎼􀏶􀏆􀎅􀔨9 \n",
      "􀍫􀎢􀍼􀍚􀎔􀍯6 \n",
      "BaseCoreMotionEventInp \n",
      "utFunctionArguments_Vel \n",
      "o\n",
      "codedata:\n",
      "Program begin.\n",
      "Program End.\n",
      "Elapsed_time: 2.676\n",
      "----------------------\n",
      "\n",
      "Self-corrected.\n",
      "\n",
      "\n"
     ]
    },
    {
     "name": "stderr",
     "output_type": "stream",
     "text": [
      "Processing tasks:   8%|▊         | 9/116 [04:23<57:59, 32.52s/it]"
     ]
    },
    {
     "name": "stdout",
     "output_type": "stream",
     "text": [
      "# -------------------------------------------------------------------------\n",
      "\n",
      "Task ID: 10 🔽\n",
      "# Lines:['Write Python code that, while i is less than 3, moves Axis 10 by a distance of 13.3 with a velocity of 1333, and increments i by 1.']\n",
      "# Tasks:['Write Python code that, while i is less than 3, moves Axis 10 by a distance of 13.3 with a velocity of 1333, and increments i by 1.']\n",
      "codedata:\n",
      "Program begin.\n",
      "Program End.\n",
      "Elapsed_time: 5.192\n",
      "----------------------\n",
      "\n"
     ]
    },
    {
     "name": "stderr",
     "output_type": "stream",
     "text": [
      "Processing tasks:   9%|▊         | 10/116 [04:47<52:48, 29.89s/it]"
     ]
    },
    {
     "name": "stdout",
     "output_type": "stream",
     "text": [
      "# -------------------------------------------------------------------------\n",
      "\n",
      "Task ID: 11 🔽\n",
      "# Lines:['Write Python code to jog Axis 11 for 1.1 seconds with a velocity of 100 and an acceleration of 1000, then stop with a deceleration of 3000.']\n",
      "# Tasks:['Write Python code to jog Axis 11 for 1.1 seconds with a velocity of 100 and an acceleration of 1000, then stop with a deceleration of 3000.']\n",
      "codedata:\n",
      "Program begin.\n",
      "Program End.\n",
      "Elapsed_time: 5.769\n",
      "----------------------\n",
      "\n"
     ]
    },
    {
     "name": "stderr",
     "output_type": "stream",
     "text": [
      "Processing tasks:   9%|▉         | 11/116 [05:10<48:35, 27.77s/it]"
     ]
    },
    {
     "name": "stdout",
     "output_type": "stream",
     "text": [
      "# -------------------------------------------------------------------------\n",
      "\n",
      "Task ID: 12 🔽\n",
      "# Lines:['Write Python code to jog Axis 12 for 1 seconds with a velocity of 90 using a sin profile.']\n",
      "# Tasks:['Write Python code to jog Axis 12 for 1 seconds with a velocity of 90 using a sin profile.']\n",
      "codedata:\n",
      "Program begin.\n",
      "Program End.\n",
      "Elapsed_time: 4.383\n",
      "----------------------\n",
      "\n"
     ]
    },
    {
     "name": "stderr",
     "output_type": "stream",
     "text": [
      "Processing tasks:  10%|█         | 12/116 [05:30<44:04, 25.43s/it]"
     ]
    },
    {
     "name": "stdout",
     "output_type": "stream",
     "text": [
      "# -------------------------------------------------------------------------\n",
      "\n",
      "Task ID: 13 🔽\n",
      "codedata:\n",
      "Program begin.\n",
      "Program End.\n",
      "Elapsed_time: 4.366\n",
      "----------------------\n",
      "\n"
     ]
    },
    {
     "name": "stderr",
     "output_type": "stream",
     "text": [
      "Processing tasks:  11%|█         | 13/116 [05:35<33:04, 19.27s/it]"
     ]
    },
    {
     "name": "stdout",
     "output_type": "stream",
     "text": [
      "# -------------------------------------------------------------------------\n",
      "\n",
      "Task ID: 14 🔽\n",
      "# Lines:['Write Python code to jog Axis 4 for 120 milliseconds with a velocity of 90 using a TimeaccTrapezoidal profile, with acceleration time and deceleration time set to 20 milliseconds.']\n",
      "# Tasks:['Write Python code to jog Axis 4 for 120 milliseconds with a velocity of 90 using a TimeaccTrapezoidal profile, with acceleration time and deceleration time set to 20 milliseconds.']\n",
      "codeerr:\n",
      "Traceback (most recent call last):\n",
      "  File \"\\\\mac\\Home\\Downloads\\codedemo\\sample.py\", line 263, in <module>\n",
      "    main()\n",
      "  File \"\\\\mac\\Home\\Downloads\\codedemo\\sample.py\", line 204, in main\n",
      "    jogCommand.profile.type = ProfileType.TimeaccTrapezoidal\n",
      "                              ^^^^^^^^^^^^^^^^^^^^^^^^^^^^^^\n",
      "AttributeError: type object 'ProfileType' has no attribute 'TimeaccTrapezoidal'. Did you mean: 'TimeAccTrapezoidal'?\n",
      "!!!\n",
      "----------------------\n",
      "\n",
      "\n",
      "# Error string:----------------------\n",
      "AttributeError: type object 'ProfileType' has no attribute 'TimeaccTrapezoidal'. Did you mean: 'TimeAccTrapezoidal'?\n",
      "\n",
      "# Error ref:----------------------\n",
      "Profiles \n",
      "CycleTimeIndependentTimeAccAdvanced This profile type is similar to the \n",
      "TimeAccAdvancedS \n",
      "# -------------\n",
      "Cycle Time Independent Profiles \n",
      "\n",
      "This profile type is similar to the \n",
      "AdvancedS profile type, excep\n",
      "# -------------\n",
      "two profile velocities. The first velocity \n",
      "must be smaller than the second \n",
      "velocity. The accelerat\n",
      "# -------------\n",
      "TimeAccSin CycleTimeIndependentTimeAccSin \n",
      "TimeAccAdvancedS CycleTimeIndependentTimeAccAdvancedS \n",
      "Co\n",
      "# -------------\n",
      "This profile type is similar to the \n",
      "Trapezoidal profile type, except the \n",
      "generated profile is not \n"
     ]
    },
    {
     "name": "stderr",
     "output_type": "stream",
     "text": [
      "Processing tasks:  12%|█▏        | 14/116 [06:13<42:26, 24.96s/it]"
     ]
    },
    {
     "name": "stdout",
     "output_type": "stream",
     "text": [
      "codedata:\n",
      "Program begin.\n",
      "StartJog error code is 65582: [0x0001002e] : CoreMotionApi Error: One or more acceleration arguments out of range.\n",
      "Elapsed_time: 2.531\n",
      "----------------------\n",
      "\n",
      "Self-correction but still got an error.\n",
      "\n",
      "\n",
      "Task ID: 15 🔽\n",
      "# Lines:['Write Python code to start an absolute path interpolation motion command for Axes 5 and 6 with a velocity of 1200. The path includes: Linear interpolation to (-50, -50); Clockwise circular interpolation to (-100, -100) with center at (0, 0); Linear interpolation to (50, 50); Counterclockwise circular interpolation to (-100, -100) with center at (0, 0).']\n",
      "# Tasks:['Write Python code to start an absolute path interpolation motion command for Axes 5 and 6 with a velocity of 1200. The path includes: Linear interpolation to (-50, -50); Clockwise circular interpolation to (-100, -100) with center at (0, 0); Linear interpolation to (50, 50); Counterclockwise circular interpolation to (-100, -100) with center at (0, 0).']\n",
      "codedata:\n",
      "Program begin.\n",
      "Program End.\n",
      "Elapsed_time: 4.675\n",
      "----------------------\n",
      "\n"
     ]
    },
    {
     "name": "stderr",
     "output_type": "stream",
     "text": [
      "Processing tasks:  13%|█▎        | 15/116 [06:58<52:18, 31.07s/it]"
     ]
    },
    {
     "name": "stdout",
     "output_type": "stream",
     "text": [
      "# -------------------------------------------------------------------------\n",
      "\n",
      "Task ID: 16 🔽\n",
      "# Lines:['Write Python code to start an absolute path interpolation motion command for Axes 6 and 4 with a velocity of 1200 using a parabolic profile. The path includes: Linear interpolation to (100, 100); Clockwise circular interpolation to (0, 0) with center at (50, 50).']\n",
      "# Tasks:['Write Python code to start an absolute path interpolation motion command for Axes 6 and 4 with a velocity of 1200 using a parabolic profile. The path includes: Linear interpolation to (100, 100); Clockwise circular interpolation to (0, 0) with center at (50, 50).']\n",
      "codedata:\n",
      "Program begin.\n",
      "Program End.\n",
      "Elapsed_time: 4.299\n",
      "----------------------\n",
      "\n"
     ]
    },
    {
     "name": "stderr",
     "output_type": "stream",
     "text": [
      "Processing tasks:  14%|█▍        | 16/116 [07:33<53:50, 32.31s/it]"
     ]
    },
    {
     "name": "stdout",
     "output_type": "stream",
     "text": [
      "# -------------------------------------------------------------------------\n",
      "\n",
      "Task ID: 17 🔽\n",
      "# Lines:['Write Python code to start a relative path interpolation motion command for Axes 7 and 5 with a velocity of 1000. The path includes adding linear interpolation to (10 * j, -10 * j) while j < 5, and increments j by 1.']\n",
      "# Tasks:['Write Python code to start a relative path interpolation motion command for Axes 7 and 5 with a velocity of 1000. The path includes adding linear interpolation to (10 * j, -10 * j) while j < 5, and increments j by 1.']\n",
      "codedata:\n",
      "Program begin.\n",
      "Program End.\n",
      "Elapsed_time: 3.832\n",
      "----------------------\n",
      "\n"
     ]
    },
    {
     "name": "stderr",
     "output_type": "stream",
     "text": [
      "Processing tasks:  15%|█▍        | 17/116 [08:28<1:04:24, 39.03s/it]"
     ]
    },
    {
     "name": "stdout",
     "output_type": "stream",
     "text": [
      "# -------------------------------------------------------------------------\n",
      "\n",
      "Task ID: 18 🔽\n",
      "# Lines:['Write Python code to set IO output bit 0.7 to 1, sleep for 0.1 seconds, then set it to 0.']\n",
      "# Tasks:['Write Python code to set IO output bit 0.7 to 1, sleep for 0.1 seconds, then set it to 0.']\n",
      "codedata:\n",
      "Program begin.\n",
      "Program End.\n",
      "Elapsed_time: 2.410\n",
      "----------------------\n",
      "\n"
     ]
    },
    {
     "name": "stderr",
     "output_type": "stream",
     "text": [
      "Processing tasks:  16%|█▌        | 18/116 [08:45<52:59, 32.44s/it]  "
     ]
    },
    {
     "name": "stdout",
     "output_type": "stream",
     "text": [
      "# -------------------------------------------------------------------------\n",
      "\n",
      "Task ID: 19 🔽\n",
      "# Lines:['Write Python code to set IO output bit 1.1 to 1, wait 0.2 seconds, then set it to 0, repeating this cycle 5 times.']\n",
      "# Tasks:['Write Python code to set IO output bit 1.1 to 1, wait 0.2 seconds, then set it to 0, repeating this cycle 5 times.']\n",
      "codedata:\n",
      "Program begin.\n",
      "Program End.\n",
      "Elapsed_time: 4.353\n",
      "----------------------\n",
      "\n"
     ]
    },
    {
     "name": "stderr",
     "output_type": "stream",
     "text": [
      "Processing tasks:  16%|█▋        | 19/116 [09:07<47:13, 29.21s/it]"
     ]
    },
    {
     "name": "stdout",
     "output_type": "stream",
     "text": [
      "# -------------------------------------------------------------------------\n",
      "\n",
      "Task ID: 20 🔽\n",
      "# Lines:['Write Python code to read IO input bit 0.3. If it is 1, set IO output bit 0.3 to 0; otherwise, set it to 1.']\n",
      "# Tasks:['Write Python code to read IO input bit 0.3. If it is 1, set IO output bit 0.3 to 0; otherwise, set it to 1.']\n",
      "codedata:\n",
      "Program begin.\n",
      "Program End.\n",
      "Elapsed_time: 2.375\n",
      "----------------------\n",
      "\n"
     ]
    },
    {
     "name": "stderr",
     "output_type": "stream",
     "text": [
      "Processing tasks:  17%|█▋        | 20/116 [09:26<41:55, 26.21s/it]"
     ]
    },
    {
     "name": "stdout",
     "output_type": "stream",
     "text": [
      "# -------------------------------------------------------------------------\n",
      "\n",
      "Task ID: 21 🔽\n",
      "# Lines:['Write Python code to start an absolute linear interpolation for Axes 1 and 2 to position (100, 150) with a velocity of 1000.']\n",
      "# Tasks:['Write Python code to start an absolute linear interpolation for Axes 1 and 2 to position (100, 150) with a velocity of 1000.']\n",
      "codedata:\n",
      "Program begin.\n",
      "Program End.\n",
      "Elapsed_time: 3.817\n",
      "----------------------\n",
      "\n"
     ]
    },
    {
     "name": "stderr",
     "output_type": "stream",
     "text": [
      "Processing tasks:  18%|█▊        | 21/116 [09:53<41:40, 26.32s/it]"
     ]
    },
    {
     "name": "stdout",
     "output_type": "stream",
     "text": [
      "# -------------------------------------------------------------------------\n",
      "\n",
      "Task ID: 22 🔽\n",
      "# Lines:['Write Python code to start an absolute linear interpolation for Axes 2 and 4 to position (-100, -50) with a velocity of 800 using a Jerk Limited profile with Acc as 8000 and jerkAcc as 20000.']\n",
      "# Tasks:['Write Python code to start an absolute linear interpolation for Axes 2 and 4 to position (-100, -50) with a velocity of 800 using a Jerk Limited profile with Acc as 8000 and jerkAcc as 20000.']\n",
      "codedata:\n",
      "Program begin.\n",
      "StartLinearIntplPos error code is 65583: [0x0001002f] : CoreMotionApi Error: One or more deceleration arguments out of range.\n",
      "Elapsed_time: 3.056\n",
      "----------------------\n",
      "\n",
      "\n",
      "# Error string:----------------------\n",
      "StartLinearIntplPos error code is 65583: [0x0001002f] : CoreMotionApi Error: One or more deceleration arguments out of range.\n",
      "\n",
      "# Error ref:----------------------\n",
      "JerkAccRatioArgumentOutOfRange : CoreMotionErrorCode \n",
      "jerkDec : \n",
      "CoreMotionEventOutput::OutputFuncti\n",
      "# -------------\n",
      "InterruptMismatch : ErrorCode \n",
      "IntervalOutOfRange : EventErrorCode \n",
      "Intpl : DetailOperationState , O\n",
      "# -------------\n",
      "CoreMotionEventOutput::OutputFunctionArguments::StartMultiplePos , \n",
      "CoreMotionEventOutput::OutputFun\n",
      "# -------------\n",
      "JerkAccArgumentOutOfRange : CoreMotionErrorCode \n",
      "jerkAccRatio : \n",
      "CoreMotionEventOutput::OutputFuncti\n",
      "# -------------\n",
      "ProfileArgumentOutOfRang CoreMotionErrorCode \n",
      "ProfileCancelOvertravel enu CoreMotionErrorCode\n"
     ]
    },
    {
     "name": "stderr",
     "output_type": "stream",
     "text": [
      "Processing tasks:  19%|█▉        | 22/116 [10:45<53:27, 34.12s/it]"
     ]
    },
    {
     "name": "stdout",
     "output_type": "stream",
     "text": [
      "codedata:\n",
      "Program begin.\n",
      "StartLinearIntplPos error code is 65585: [0x00010031] : CoreMotionApi Error: One or more deceleration jerk arguments out of range.\n",
      "Elapsed_time: 2.371\n",
      "----------------------\n",
      "\n",
      "Self-correction but still got an error.\n",
      "\n",
      "\n",
      "Task ID: 23 🔽\n",
      "# Lines:['Write Python code to start a relative linear interpolation motion for Axes 3 and 4 with a distance of (-100, 100) and a velocity of 900.']\n",
      "# Tasks:['Write Python code to start a relative linear interpolation motion for Axes 3 and 4 with a distance of (-100, 100) and a velocity of 900.']\n",
      "codedata:\n",
      "Program begin.\n",
      "Program End.\n",
      "Elapsed_time: 3.389\n",
      "----------------------\n",
      "\n"
     ]
    },
    {
     "name": "stderr",
     "output_type": "stream",
     "text": [
      "Processing tasks:  20%|█▉        | 23/116 [11:12<49:27, 31.91s/it]"
     ]
    },
    {
     "name": "stdout",
     "output_type": "stream",
     "text": [
      "# -------------------------------------------------------------------------\n",
      "\n",
      "Task ID: 24 🔽\n",
      "# Lines:['Write Python code to start a relative linear interpolation motion for Axes 4 and 6 with a distance of (100, -100) and a velocity of 900, and then move with a distance of (-100, 0), and then move with a distance of (0, 100).']\n",
      "# Tasks:['Write Python code to start a relative linear interpolation motion for Axes 4 and 6 with a distance of (100, -100) and a velocity of 900, and then move with a distance of (-100, 0), and then move with a distance of (0, 100).']\n",
      "codedata:\n",
      "Program begin.\n",
      "Program End.\n",
      "Elapsed_time: 4.391\n",
      "----------------------\n",
      "\n"
     ]
    },
    {
     "name": "stderr",
     "output_type": "stream",
     "text": [
      "Processing tasks:  21%|██        | 24/116 [11:56<54:30, 35.55s/it]"
     ]
    },
    {
     "name": "stdout",
     "output_type": "stream",
     "text": [
      "# -------------------------------------------------------------------------\n",
      "\n",
      "Task ID: 25 🔽\n",
      "# Lines:['Write Python code to start a relative linear interpolation motion for Axes 5 and 6 with a distance of (200, 20) and a velocity of 1000 using a Advanced S profile with Acc and Dec as 8000, and jerkAccRatio and jerkDecRatio as 0.8.']\n",
      "# Tasks:['Write Python code to start a relative linear interpolation motion for Axes 5 and 6 with a distance of (200, 20) and a velocity of 1000 using a Advanced S profile with Acc and Dec as 8000, and jerkAccRatio and jerkDecRatio as 0.8.']\n",
      "codeerr:\n",
      "Traceback (most recent call last):\n",
      "  File \"\\\\mac\\Home\\Downloads\\codedemo\\sample.py\", line 275, in <module>\n",
      "    main()\n",
      "  File \"\\\\mac\\Home\\Downloads\\codedemo\\sample.py\", line 209, in main\n",
      "    lin.profile.type = ProfileType.Advanced_S\n",
      "                       ^^^^^^^^^^^^^^^^^^^^^^\n",
      "AttributeError: type object 'ProfileType' has no attribute 'Advanced_S'. Did you mean: 'AdvancedS'?\n",
      "!!!\n",
      "----------------------\n",
      "\n",
      "\n",
      "# Error string:----------------------\n",
      "AttributeError: type object 'ProfileType' has no attribute 'Advanced_S'. Did you mean: 'AdvancedS'?\n",
      "\n",
      "# Error ref:----------------------\n",
      "AdvancedS enum value ProfileType \n",
      "ConstantDec enum value ProfileType \n",
      "CycleTimeIndependentAdv Profil\n",
      "# -------------\n",
      "Profiles \n",
      "CycleTimeIndependentTimeAccAdvanced This profile type is similar to the \n",
      "TimeAccAdvancedS \n",
      "# -------------\n",
      "CycleTimeIndependentTwo ProfileType \n",
      "JerkLimited enum value ProfileType \n",
      "JerkLimitedAdvancedS enu Pr\n",
      "# -------------\n",
      "Cycle Time Independent Profiles \n",
      "\n",
      "This profile type is similar to the \n",
      "AdvancedS profile type, excep\n",
      "# -------------\n",
      "This profile type is similar to the \n",
      "Trapezoidal profile type, except the \n",
      "generated profile is not \n",
      "codedata:\n",
      "Program begin.\n",
      "Program End.\n",
      "Elapsed_time: 3.167\n",
      "----------------------\n",
      "\n",
      "Self-corrected.\n",
      "\n",
      "\n"
     ]
    },
    {
     "name": "stderr",
     "output_type": "stream",
     "text": [
      "Processing tasks:  22%|██▏       | 25/116 [12:58<1:06:05, 43.57s/it]"
     ]
    },
    {
     "name": "stdout",
     "output_type": "stream",
     "text": [
      "# -------------------------------------------------------------------------\n",
      "\n",
      "Task ID: 26 🔽\n",
      "# Lines:['Write Python code to establish synchronous control between master axis 6 and slave axis 7, then move Axis 6 to position 120 and 240 respectively with a velocity of 1000.']\n",
      "# Tasks:['Write Python code to establish synchronous control between master axis 6 and slave axis 7, then move Axis 6 to position 120 and 240 respectively with a velocity of 1000.']\n",
      "codedata:\n",
      "Program begin.\n",
      "Program End.\n",
      "Elapsed_time: 4.147\n",
      "----------------------\n",
      "\n"
     ]
    },
    {
     "name": "stderr",
     "output_type": "stream",
     "text": [
      "Processing tasks:  22%|██▏       | 26/116 [13:40<1:04:51, 43.23s/it]"
     ]
    },
    {
     "name": "stdout",
     "output_type": "stream",
     "text": [
      "# -------------------------------------------------------------------------\n",
      "\n",
      "Task ID: 27 🔽\n",
      "# Lines:['Write Python code to start an absolute path interpolation for Axes 7 and 8 with a velocity of 1500. The path includes the following points to comprise a pentastar: (0.00, 0.00), (22.45, -69.10), (95.11, -69.10), (36.33, -111.80), (58.78, -180.90), (0.00, -138.20), (-58.78, -180.90), (-36.33, -111.80), (-95.11, -69.10), (-22.45, -69.10).']\n",
      "# Tasks:['Write Python code to start an absolute path interpolation for Axes 7 and 8 with a velocity of 1500. The path includes the following points to comprise a pentastar: (0.00, 0.00), (22.45, -69.10), (95.11, -69.10), (36.33, -111.80), (58.78, -180.90), (0.00, -138.20), (-58.78, -180.90), (-36.33, -111.80), (-95.11, -69.10), (-22.45, -69.10).']\n",
      "codedata:\n",
      "Program begin.\n",
      "Program End.\n",
      "Elapsed_time: 5.411\n",
      "----------------------\n",
      "\n"
     ]
    },
    {
     "name": "stderr",
     "output_type": "stream",
     "text": [
      "Processing tasks:  23%|██▎       | 27/116 [14:49<1:15:38, 50.99s/it]"
     ]
    },
    {
     "name": "stdout",
     "output_type": "stream",
     "text": [
      "# -------------------------------------------------------------------------\n",
      "\n",
      "Task ID: 28 🔽\n",
      "# Lines:['Write Python code to start a cubic spline motion command for Axes 8 and 9 with a total time of 1000ms to complete. The points are: (0, 0), (10, 10), (-20, -20), (30, 30), (-40, -40), (50, 50), (-60, -60), (70, 70), (-80, -80).']\n",
      "# Tasks:['Write Python code to start a cubic spline motion command for Axes 8 and 9 with a total time of 1000ms to complete. The points are: (0, 0), (10, 10), (-20, -20), (30, 30), (-40, -40), (50, 50), (-60, -60), (70, 70), (-80, -80).']\n",
      "codedata:\n",
      "Program begin.\n",
      "Program End.\n",
      "Elapsed_time: 4.985\n",
      "----------------------\n",
      "\n"
     ]
    },
    {
     "name": "stderr",
     "output_type": "stream",
     "text": [
      "Processing tasks:  24%|██▍       | 28/116 [15:52<1:19:42, 54.35s/it]"
     ]
    },
    {
     "name": "stdout",
     "output_type": "stream",
     "text": [
      "# -------------------------------------------------------------------------\n",
      "\n",
      "Task ID: 29 🔽\n",
      "# Lines:['Write Python code to create and execute a cyclic buffer memory space for Axis 9. Move to position 60 within 100 cycles, then move a relative distance of 140 within 100 cycles, then move to position -100 within 200 cycles, and close the cyclic buffer.']\n",
      "# Tasks:['Write Python code to create and execute a cyclic buffer memory space for Axis 9. Move to position 60 within 100 cycles, then move a relative distance of 140 within 100 cycles, then move to position -100 within 200 cycles, and close the cyclic buffer.']\n",
      "codedata:\n",
      "Program begin.\n",
      "Program End.\n",
      "Elapsed_time: 3.977\n",
      "----------------------\n",
      "\n"
     ]
    },
    {
     "name": "stderr",
     "output_type": "stream",
     "text": [
      "Processing tasks:  25%|██▌       | 29/116 [16:39<1:15:33, 52.11s/it]"
     ]
    },
    {
     "name": "stdout",
     "output_type": "stream",
     "text": [
      "# -------------------------------------------------------------------------\n",
      "\n",
      "Task ID: 30 🔽\n",
      "# Lines:['Write Python code to start the motion for a path interpolation with look-ahead channel 10 for Axis 0 and 1, with a velocity of 1500. The points are (50, 0) with a smooth radius of 2.5, (50, 50) with a smooth radius of 5, (0, 50) with a smooth radius of 10, and (0, 0) with no smooth radius.']\n",
      "# Tasks:['Write Python code to start the motion for a path interpolation with look-ahead channel 10 for Axis 0 and 1, with a velocity of 1500. The points are (50, 0) with a smooth radius of 2.5, (50, 50) with a smooth radius of 5, (0, 50) with a smooth radius of 10, and (0, 0) with no smooth radius.']\n",
      "codedata:\n",
      "Program begin.\n",
      "Program End.\n",
      "Elapsed_time: 4.125\n",
      "----------------------\n",
      "\n"
     ]
    },
    {
     "name": "stderr",
     "output_type": "stream",
     "text": [
      "Processing tasks:  26%|██▌       | 30/116 [17:53<1:24:29, 58.94s/it]"
     ]
    },
    {
     "name": "stdout",
     "output_type": "stream",
     "text": [
      "# -------------------------------------------------------------------------\n",
      "\n",
      "Task ID: 31 🔽\n",
      "# Lines:['Write Python code to start a counterclockwise circular interpolation motion command for Axis 1 and 4, with a center position of (50, 50), an arc length of 270, and a velocity of 1000.']\n",
      "# Tasks:['Write Python code to start a counterclockwise circular interpolation motion command for Axis 1 and 4, with a center position of (50, 50), an arc length of 270, and a velocity of 1000.']\n",
      "codedata:\n",
      "Program begin.\n",
      "Program End.\n",
      "Elapsed_time: 4.335\n",
      "----------------------\n",
      "\n"
     ]
    },
    {
     "name": "stderr",
     "output_type": "stream",
     "text": [
      "Processing tasks:  27%|██▋       | 31/116 [18:26<1:12:10, 50.95s/it]"
     ]
    },
    {
     "name": "stdout",
     "output_type": "stream",
     "text": [
      "# -------------------------------------------------------------------------\n",
      "\n",
      "Task ID: 32 🔽\n",
      "# Lines:['Write Python code to start a counterclockwise circular interpolation motion command for Axis 2 and 3, with a center position of (50, 0), an arc length of 180, and a velocity of 1000. Then start a counterclockwise circular interpolation with a center position of (75, 0) and an arc length of 180. Then start a clockwise circular interpolation with a center position of (25, 0) and an arc length of 180. Then start a clockwise circular interpolation with a center position of (50, 0) and an arc length of 180.']\n",
      "# Tasks:['Write Python code to start a counterclockwise circular interpolation motion command for Axis 2 and 3, with a center position of (50, 0), an arc length of 180, and a velocity of 1000. Then start a counterclockwise circular interpolation with a center position of (75, 0) and an arc length of 180. Then start a clockwise circular interpolation with a center position of (25, 0) and an arc length of 180. Then start a clockwise circular interpolation with a center position of (50, 0) and an arc length of 180.']\n",
      "codedata:\n",
      "Program begin.\n",
      "Program End.\n",
      "Elapsed_time: 4.754\n",
      "----------------------\n",
      "\n"
     ]
    },
    {
     "name": "stderr",
     "output_type": "stream",
     "text": [
      "Processing tasks:  28%|██▊       | 32/116 [19:34<1:18:31, 56.09s/it]"
     ]
    },
    {
     "name": "stdout",
     "output_type": "stream",
     "text": [
      "# -------------------------------------------------------------------------\n",
      "\n",
      "Task ID: 33 🔽\n",
      "# Lines:['Write Python code to start a helical interpolation motion command with a counterclockwise circular interpolation of Axis 3 and 6, with a center position of (50, 50), a rotation degree of 1080, and a velocity of 2048, while concurrently moving Axis 4 linearly to position 200.']\n",
      "# Tasks:['Write Python code to start a helical interpolation motion command with a counterclockwise circular interpolation of Axis 3 and 6, with a center position of (50, 50), a rotation degree of 1080, and a velocity of 2048, while concurrently moving Axis 4 linearly to position 200.']\n",
      "codedata:\n",
      "Program begin.\n",
      "Program End.\n",
      "Elapsed_time: 5.442\n",
      "----------------------\n",
      "\n"
     ]
    },
    {
     "name": "stderr",
     "output_type": "stream",
     "text": [
      "Processing tasks:  28%|██▊       | 33/116 [20:06<1:07:52, 49.06s/it]"
     ]
    },
    {
     "name": "stdout",
     "output_type": "stream",
     "text": [
      "# -------------------------------------------------------------------------\n",
      "\n",
      "Task ID: 34 🔽\n",
      "# Lines:['Write Python code to start a relative position command for Axis 4, with a distance of 100 and a velocity of 1000. The command should be triggered when Axis 0 has 30 units remaining to its target position while moving a relative distance of 110.']\n",
      "# Tasks:['Write Python code to start a relative position command for Axis 4, with a distance of 100 and a velocity of 1000. The command should be triggered when Axis 0 has 30 units remaining to its target position while moving a relative distance of 110.']\n",
      "codedata:\n",
      "Program begin.\n",
      "Program End.\n",
      "Elapsed_time: 4.090\n",
      "----------------------\n",
      "\n"
     ]
    },
    {
     "name": "stderr",
     "output_type": "stream",
     "text": [
      "Processing tasks:  29%|██▉       | 34/116 [20:42<1:01:19, 44.87s/it]"
     ]
    },
    {
     "name": "stdout",
     "output_type": "stream",
     "text": [
      "# -------------------------------------------------------------------------\n",
      "\n",
      "Task ID: 35 🔽\n",
      "# Lines:['Write Python code to start an absolute position command for Axis 5, with a distance of -100 and a velocity of 1000. The command should be triggered when Axis 1 has 30 units remaining to its target position while moving an absolute distance of -110.']\n",
      "# Tasks:['Write Python code to start an absolute position command for Axis 5, with a distance of -100 and a velocity of 1000. The command should be triggered when Axis 1 has 30 units remaining to its target position while moving an absolute distance of -110.']\n",
      "codedata:\n",
      "Program begin.\n",
      "Program End.\n",
      "Elapsed_time: 3.823\n",
      "----------------------\n",
      "\n"
     ]
    },
    {
     "name": "stderr",
     "output_type": "stream",
     "text": [
      "Processing tasks:  30%|███       | 35/116 [21:12<54:43, 40.53s/it]  "
     ]
    },
    {
     "name": "stdout",
     "output_type": "stream",
     "text": [
      "# -------------------------------------------------------------------------\n",
      "\n",
      "Task ID: 36 🔽\n",
      "# Lines:['Write Python code to Record and execute an API buffer: move Axis 6 to position 150 and Axis 8 to position 180.']\n",
      "# Tasks:['Write Python code to Record and execute an API buffer: move Axis 6 to position 150 and Axis 8 to position 180.']\n",
      "codedata:\n",
      "Program begin.\n",
      "Program End.\n",
      "Elapsed_time: 4.401\n",
      "----------------------\n",
      "\n"
     ]
    },
    {
     "name": "stderr",
     "output_type": "stream",
     "text": [
      "Processing tasks:  31%|███       | 36/116 [21:50<52:51, 39.65s/it]"
     ]
    },
    {
     "name": "stdout",
     "output_type": "stream",
     "text": [
      "# -------------------------------------------------------------------------\n",
      "\n",
      "Task ID: 37 🔽\n",
      "# Lines:['Write Python code to record and execute an API buffer: move Axis 6 to position i*10 for 6 times. Set i = 1 when even and i = -1 when odd.']\n",
      "# Tasks:['Write Python code to record and execute an API buffer: move Axis 6 to position i*10 for 6 times. Set i = 1 when even and i = -1 when odd.']\n",
      "codedata:\n",
      "Program begin.\n",
      "Program End.\n",
      "Elapsed_time: 3.843\n",
      "----------------------\n",
      "\n"
     ]
    },
    {
     "name": "stderr",
     "output_type": "stream",
     "text": [
      "Processing tasks:  32%|███▏      | 37/116 [22:20<48:44, 37.02s/it]"
     ]
    },
    {
     "name": "stdout",
     "output_type": "stream",
     "text": [
      "# -------------------------------------------------------------------------\n",
      "\n",
      "Task ID: 38 🔽\n",
      "# Lines:['Write Python code to set an event that triggers a relative position command for Axis 8 with a distance of 130 and a velocity of 1000 when IO Output 0.1 equals 0. The event ID is 5.']\n",
      "# Tasks:['Write Python code to set an event that triggers a relative position command for Axis 8 with a distance of 130 and a velocity of 1000 when IO Output 0.1 equals 0. The event ID is 5.']\n",
      "codedata:\n",
      "Program begin.\n",
      "Program End.\n",
      "Elapsed_time: 3.499\n",
      "----------------------\n",
      "\n"
     ]
    },
    {
     "name": "stderr",
     "output_type": "stream",
     "text": [
      "Processing tasks:  33%|███▎      | 38/116 [22:51<45:35, 35.07s/it]"
     ]
    },
    {
     "name": "stdout",
     "output_type": "stream",
     "text": [
      "# -------------------------------------------------------------------------\n",
      "\n",
      "Task ID: 39 🔽\n",
      "# Lines:['Write Python code to set an event that triggers an absolute position command for Axis 9 to move to 160 with a velocity of 1000 when IO Output 0.3 equals 0. The event ID is 9.']\n",
      "# Tasks:['Write Python code to set an event that triggers an absolute position command for Axis 9 to move to 160 with a velocity of 1000 when IO Output 0.3 equals 0. The event ID is 9.']\n",
      "codedata:\n",
      "Program begin.\n",
      "Program End.\n",
      "Elapsed_time: 3.203\n",
      "----------------------\n",
      "\n"
     ]
    },
    {
     "name": "stderr",
     "output_type": "stream",
     "text": [
      "Processing tasks:  34%|███▎      | 39/116 [23:20<42:42, 33.28s/it]"
     ]
    },
    {
     "name": "stdout",
     "output_type": "stream",
     "text": [
      "# -------------------------------------------------------------------------\n",
      "\n",
      "Task ID: 40 🔽\n",
      "# Lines:['Write Python code to execute an absolute triggered position command. Start an absolute position command for Axis 0 to move to position -66.6 with a velocity of 600. When the remaining time is 100 ms, trigger Axis 0 to move to 66.6 with a velocity of 1000.']\n",
      "# Tasks:['Write Python code to execute an absolute triggered position command. Start an absolute position command for Axis 0 to move to position -66.6 with a velocity of 600. When the remaining time is 100 ms, trigger Axis 0 to move to 66.6 with a velocity of 1000.']\n",
      "codedata:\n",
      "Program begin.\n",
      "Program End.\n",
      "Elapsed_time: 3.221\n",
      "----------------------\n",
      "\n"
     ]
    },
    {
     "name": "stderr",
     "output_type": "stream",
     "text": [
      "Processing tasks:  34%|███▍      | 40/116 [23:50<40:50, 32.24s/it]"
     ]
    },
    {
     "name": "stdout",
     "output_type": "stream",
     "text": [
      "# -------------------------------------------------------------------------\n",
      "\n",
      "Task ID: 41 🔽\n",
      "# Lines:['Write Python code to execute an absolute triggered position command. Start an absolute position command for Axis 1 to move to 66.6 with a velocity of 600. When the remaining distance is 6.6, trigger Axis 1 to move to -66.6 with a velocity of 1000.']\n",
      "# Tasks:['Write Python code to execute an absolute triggered position command. Start an absolute position command for Axis 1 to move to 66.6 with a velocity of 600. When the remaining distance is 6.6, trigger Axis 1 to move to -66.6 with a velocity of 1000.']\n",
      "codedata:\n",
      "Program begin.\n",
      "Program End.\n",
      "Elapsed_time: 3.305\n",
      "----------------------\n",
      "\n"
     ]
    },
    {
     "name": "stderr",
     "output_type": "stream",
     "text": [
      "Processing tasks:  35%|███▌      | 41/116 [24:19<39:18, 31.44s/it]"
     ]
    },
    {
     "name": "stdout",
     "output_type": "stream",
     "text": [
      "# -------------------------------------------------------------------------\n",
      "\n",
      "Task ID: 42 🔽\n",
      "# Lines:['Write Python code to linearly interpolate Axis 2 and 5 to (111, 222) at a velocity of 1000 with acceleration and deceleration of 10000. Set the maximum velocity of Axis 2 to 555 and Axis 5 to 666, and set the maximum acceleration and deceleration of Axis 2 to 8888 and Axis 5 to 9999.']\n",
      "# Tasks:['Write Python code to linearly interpolate Axis 2 and 5 to (111, 222) at a velocity of 1000 with acceleration and deceleration of 10000. Set the maximum velocity of Axis 2 to 555 and Axis 5 to 666, and set the maximum acceleration and deceleration of Axis 2 to 8888 and Axis 5 to 9999.']\n",
      "codedata:\n",
      "Program begin.\n",
      "Program End.\n",
      "Elapsed_time: 3.900\n",
      "----------------------\n",
      "\n"
     ]
    },
    {
     "name": "stderr",
     "output_type": "stream",
     "text": [
      "Processing tasks:  36%|███▌      | 42/116 [24:53<39:22, 31.93s/it]"
     ]
    },
    {
     "name": "stdout",
     "output_type": "stream",
     "text": [
      "# -------------------------------------------------------------------------\n",
      "\n",
      "Task ID: 43 🔽\n",
      "# Lines:['Write Python code to execute an absolute position triggered linear interpolation. Linearly interpolate Axis 3 and Axis 6 to (200, 100) at a velocity of 1000 with acceleration and deceleration of 10000. When the completed distance of Axis 3 reaches 100, linearly interpolate them to (-50, -100).']\n",
      "# Tasks:['Write Python code to execute an absolute position triggered linear interpolation. Linearly interpolate Axis 3 and Axis 6 to (200, 100) at a velocity of 1000 with acceleration and deceleration of 10000. When the completed distance of Axis 3 reaches 100, linearly interpolate them to (-50, -100).']\n",
      "codedata:\n",
      "Program begin.\n",
      "StartLinearIntplPos_Trigger error code is 1563: [0x0000061b] : WMX3Api Error: The axis is still starting the previous command. Wait until the next communication cycle.\n",
      "Elapsed_time: 3.184\n",
      "----------------------\n",
      "\n",
      "\n",
      "# Error string:----------------------\n",
      "StartLinearIntplPos_Trigger error code is 1563: [0x0000061b] : WMX3Api Error: The axis is still starting the previous command. Wait until the next communication cycle.\n",
      "\n",
      "# Error ref:----------------------\n",
      "er(pLinearIntplCommand, \n",
      "pTrigger) \n",
      "Returns \n",
      "Type int \n",
      "Value error code \n",
      "Remarks \n",
      "Function \n",
      "C++ \n",
      "WMX\n",
      "# -------------\n",
      "{\n",
      "        \"No\": 96,\n",
      "        \"FunctionPython\": \"def StartLinearIntplMov_Trigger(pLinearIntplCommand, \n",
      "# -------------\n",
      "Returns \n",
      "Type int \n",
      "Value error code \n",
      "Remarks \n",
      "Function \n",
      "C++ \n",
      "WMX3APIFUNC \n",
      "StartLinearIntplMov(Line \n",
      "\n",
      "# -------------\n",
      "{\n",
      "        \"No\": 95,\n",
      "        \"FunctionPython\": \"def StartLinearIntplPos_Trigger(pLinearIntplCommand, \n",
      "# -------------\n",
      "Value error code \n",
      "Remarks \n",
      "Function \n",
      "C++ \n",
      "WMX3APIFUNC \n",
      "StartPathIntplPos(PathIntp \n",
      "lCommand \n",
      "*pPathI\n",
      "codedata:\n",
      "Program begin.\n",
      "Program End.\n",
      "Elapsed_time: 3.771\n",
      "----------------------\n",
      "\n",
      "Self-corrected.\n",
      "\n",
      "\n"
     ]
    },
    {
     "name": "stderr",
     "output_type": "stream",
     "text": [
      "Processing tasks:  37%|███▋      | 43/116 [26:16<57:30, 47.27s/it]"
     ]
    },
    {
     "name": "stdout",
     "output_type": "stream",
     "text": [
      "# -------------------------------------------------------------------------\n",
      "\n",
      "Task ID: 44 🔽\n",
      "# Lines:['Write Python code to execute an absolute position triggered linear interpolation. Linearly interpolate Axis 4 and Axis 5 to (100, 50) at a velocity of 1000 with acceleration and deceleration of 10000. Trigger Axis 8 to move to 200 When the DistanceToTarget is 20.']\n",
      "# Tasks:['Write Python code to execute an absolute position triggered linear interpolation. Linearly interpolate Axis 4 and Axis 5 to (100, 50) at a velocity of 1000 with acceleration and deceleration of 10000. Trigger Axis 8 to move to 200 When the DistanceToTarget is 20.']\n",
      "codeerr:\n",
      "Traceback (most recent call last):\n",
      "  File \"\\\\mac\\Home\\Downloads\\codedemo\\sample.py\", line 293, in <module>\n",
      "    main()\n",
      "  File \"\\\\mac\\Home\\Downloads\\codedemo\\sample.py\", line 238, in main\n",
      "    ret = Wmx3Lib_cm.motion.StartPos_Trigger(posCommand, trig)\n",
      "          ^^^^^^^^^^^^^^^^^^^^^^^^^^^^^^^^^^^^^^^^^^^^^^^^^^^^\n",
      "  File \"\\\\mac\\Home\\Downloads\\codedemo\\WMX3ApiPython.py\", line 8647, in StartPos_Trigger\n",
      "    return _WMX3ApiPython.Motion_StartPos_Trigger(self, *args)\n",
      "           ^^^^^^^^^^^^^^^^^^^^^^^^^^^^^^^^^^^^^^^^^^^^^^^^^^^\n",
      "NotImplementedError: Wrong number or type of arguments for overloaded function 'Motion_StartPos_Trigger'.\n",
      "  Possible C/C++ prototypes are:\n",
      "    wmx3ApiPython::Motion::StartPos_Trigger(wmx3ApiPython::Motion_TriggerPosCommand *)\n",
      "    wmx3ApiPython::Motion::StartPos_Trigger(unsigned int,PyObject *)\n",
      "\n",
      "!!!\n",
      "----------------------\n",
      "\n",
      "\n",
      "# Error string:----------------------\n",
      "NotImplementedError: Wrong number or type of arguments for overloaded function 'Motion_StartPos_Trigger'.\n",
      "\n",
      "# Error ref:----------------------\n",
      "Overview \n",
      "\n",
      "Trigger motion is a type of motion command that delays the execution of the motion \n",
      "comma\n",
      "# -------------\n",
      "*pPosCommand); \n",
      "Python \n",
      "def \n",
      "StartMov(numCommands, \n",
      "pPosCommand) \n",
      "Returns \n",
      "Type int \n",
      "Value error cod\n",
      "# -------------\n",
      "Function \n",
      "C++ PosCommand \n",
      "*pPosCommand, \n",
      "TriggerEvents \n",
      "*pTriggerEvents); \n",
      "Python \n",
      "def \n",
      "StartPos_Tri\n",
      "# -------------\n",
      "Python StartVelToMov(pTriggerPo \n",
      "sCommand) \n",
      "Returns \n",
      "Type int \n",
      "Value error code \n",
      "Remarks \n",
      "Function \n",
      "\n",
      "# -------------\n",
      "Python \n",
      "def \n",
      "StartTrqToMov(pTriggerPo \n",
      "sCommand) \n",
      "Returns \n",
      "Type int \n",
      "Value error code \n",
      "Remarks \n",
      "Func\n"
     ]
    },
    {
     "name": "stderr",
     "output_type": "stream",
     "text": [
      "Processing tasks:  38%|███▊      | 44/116 [27:56<1:15:48, 63.17s/it]"
     ]
    },
    {
     "name": "stdout",
     "output_type": "stream",
     "text": [
      "codeerr:\n",
      "Traceback (most recent call last):\n",
      "  File \"\\\\mac\\Home\\Downloads\\codedemo\\sample.py\", line 366, in <module>\n",
      "    main()\n",
      "  File \"\\\\mac\\Home\\Downloads\\codedemo\\sample.py\", line 20, in main\n",
      "    sleep(0.1)\n",
      "    ^^^^^\n",
      "UnboundLocalError: cannot access local variable 'sleep' where it is not associated with a value\n",
      "!!!\n",
      "----------------------\n",
      "\n",
      "Self-correction but still got an error.\n",
      "\n",
      "\n",
      "Task ID: 45 🔽\n",
      "# Lines:['Write Python code to move Axis 5 by distances of 50, -50, 100, and -100, respectively, with blocking waits.']\n",
      "# Tasks:['Write Python code to move Axis 5 by distances of 50, -50, 100, and -100, respectively, with blocking waits.']\n",
      "codedata:\n",
      "Program begin.\n",
      "Program End.\n",
      "Elapsed_time: 3.881\n",
      "----------------------\n",
      "\n"
     ]
    },
    {
     "name": "stderr",
     "output_type": "stream",
     "text": [
      "Processing tasks:  39%|███▉      | 45/116 [28:37<1:06:53, 56.53s/it]"
     ]
    },
    {
     "name": "stdout",
     "output_type": "stream",
     "text": [
      "# -------------------------------------------------------------------------\n",
      "\n",
      "Task ID: 46 🔽\n",
      "# Lines:['Write Python code to move Axis 6 to 50, -50, 100, and -100, respectively, with blocking waits.']\n",
      "# Tasks:['Write Python code to move Axis 6 to 50, -50, 100, and -100, respectively, with blocking waits.']\n",
      "codedata:\n",
      "Program begin.\n",
      "Program End.\n",
      "Elapsed_time: 4.220\n",
      "----------------------\n",
      "\n"
     ]
    },
    {
     "name": "stderr",
     "output_type": "stream",
     "text": [
      "Processing tasks:  40%|███▉      | 46/116 [29:19<1:01:00, 52.29s/it]"
     ]
    },
    {
     "name": "stdout",
     "output_type": "stream",
     "text": [
      "# -------------------------------------------------------------------------\n",
      "\n",
      "Task ID: 47 🔽\n",
      "# Lines:['Write Python code to move Axis 7 to 50, -50, 100, and -100, respectively, without blocking waits.']\n",
      "# Tasks:['Write Python code to move Axis 7 to 50, -50, 100, and -100, respectively, without blocking waits.']\n",
      "codedata:\n",
      "Program begin.\n",
      "Program End.\n",
      "Elapsed_time: 3.012\n",
      "----------------------\n",
      "\n"
     ]
    },
    {
     "name": "stderr",
     "output_type": "stream",
     "text": [
      "Processing tasks:  41%|████      | 47/116 [29:48<51:51, 45.09s/it]  "
     ]
    },
    {
     "name": "stdout",
     "output_type": "stream",
     "text": [
      "# -------------------------------------------------------------------------\n",
      "\n",
      "Task ID: 48 🔽\n",
      "# Lines:['Write Python code to execute a sequence of trigger motion and wait functions. Move Axis 8 by a distance of 30 at a velocity of 1000, then trigger it to move a distance of -30 when the remaining time is 10. After that, move it by a distance of 60 and -60 after waiting for it to be overridable.']\n",
      "# Tasks:['Write Python code to execute a sequence of trigger motion and wait functions. Move Axis 8 by a distance of 30 at a velocity of 1000, then trigger it to move a distance of -30 when the remaining time is 10. After that, move it by a distance of 60 and -60 after waiting for it to be overridable.']\n",
      "codedata:\n",
      "Program begin.\n",
      "Program End.\n",
      "Elapsed_time: 3.621\n",
      "----------------------\n",
      "\n"
     ]
    },
    {
     "name": "stderr",
     "output_type": "stream",
     "text": [
      "Processing tasks:  41%|████▏     | 48/116 [30:36<52:23, 46.23s/it]"
     ]
    },
    {
     "name": "stdout",
     "output_type": "stream",
     "text": [
      "# -------------------------------------------------------------------------\n",
      "\n",
      "Task ID: 49 🔽\n",
      "# Lines:['Write python code to execute a sequence of trigger motion functions and Wait. Move Axis 9 to position 180 with a velocity of 30, and trigger the velocity override to 60, 90, 60, and 30 respectively when the completed time is 700ms.']\n",
      "# Tasks:['Write python code to execute a sequence of trigger motion functions and Wait. Move Axis 9 to position 180 with a velocity of 30, and trigger the velocity override to 60, 90, 60, and 30 respectively when the completed time is 700ms.']\n",
      "codedata:\n",
      "Program begin.\n",
      "Program End.\n",
      "Elapsed_time: 7.336\n",
      "----------------------\n",
      "\n"
     ]
    },
    {
     "name": "stderr",
     "output_type": "stream",
     "text": [
      "Processing tasks:  42%|████▏     | 49/116 [31:39<57:08, 51.17s/it]"
     ]
    },
    {
     "name": "stdout",
     "output_type": "stream",
     "text": [
      "# -------------------------------------------------------------------------\n",
      "\n",
      "Task ID: 50 🔽\n",
      "# Lines:['Write Python code to execute linear interpolation of Axis 0 and Axis 3 to (80, 0) at a velocity of 1500.', 'Write Python code to trigger Axis 0 and Axis 3 to linearly interpolate to (80, 80), (0, 80), and (0, 0) respectively when the remaining distance is 10.']\n",
      "# Tasks:['Write Python code to execute linear interpolation of Axis 0 and Axis 3 to (80, 0) at a velocity of 1500.\\nWrite Python code to trigger Axis 0 and Axis 3 to linearly interpolate to (80, 80), (0, 80), and (0, 0) respectively when the remaining distance is 10.']\n",
      "codedata:\n",
      "Program begin.\n",
      "Program End.\n",
      "Elapsed_time: 4.789\n",
      "----------------------\n",
      "\n"
     ]
    },
    {
     "name": "stderr",
     "output_type": "stream",
     "text": [
      "Processing tasks:  43%|████▎     | 50/116 [32:21<53:08, 48.31s/it]"
     ]
    },
    {
     "name": "stdout",
     "output_type": "stream",
     "text": [
      "# -------------------------------------------------------------------------\n",
      "\n",
      "Task ID: 51 🔽\n",
      "# Lines:['Write Python code to execute a PVT command for Axis 1 with points in the format (Position, Velocity, Time): (0, 0, 0), (50, 1000, 100), (100, 2000, 200), (200, 3000, 300), (300, 1000, 400), (200, 0, 500).']\n",
      "# Tasks:['Write Python code to execute a PVT command for Axis 1 with points in the format (Position, Velocity, Time): (0, 0, 0), (50, 1000, 100), (100, 2000, 200), (200, 3000, 300), (300, 1000, 400), (200, 0, 500).']\n",
      "codedata:\n",
      "Program begin.\n",
      "Program End.\n",
      "Elapsed_time: 3.786\n",
      "----------------------\n",
      "\n"
     ]
    },
    {
     "name": "stderr",
     "output_type": "stream",
     "text": [
      "Processing tasks:  44%|████▍     | 51/116 [32:57<48:17, 44.57s/it]"
     ]
    },
    {
     "name": "stdout",
     "output_type": "stream",
     "text": [
      "# -------------------------------------------------------------------------\n",
      "\n",
      "Task ID: 52 🔽\n",
      "# Lines:['Write Python code to execute a PVT command for Axis 2 using points in the format (Position, Velocity, Time): (-2i, 5i, 10i) for i from 0 to 9.']\n",
      "# Tasks:['Write Python code to execute a PVT command for Axis 2 using points in the format (Position, Velocity, Time): (-2i, 5i, 10i) for i from 0 to 9.']\n",
      "codedata:\n",
      "Program begin.\n",
      "Program End.\n",
      "Elapsed_time: 2.954\n",
      "----------------------\n",
      "\n"
     ]
    },
    {
     "name": "stderr",
     "output_type": "stream",
     "text": [
      "Processing tasks:  45%|████▍     | 52/116 [33:17<39:45, 37.27s/it]"
     ]
    },
    {
     "name": "stdout",
     "output_type": "stream",
     "text": [
      "# -------------------------------------------------------------------------\n",
      "\n",
      "Task ID: 53 🔽\n",
      "# Lines:['Write Python code to execute a PVT interpolation command for Axis 3 and Axis 6 using points in the format (Position0, Velocity0, Time0, Position1, Velocity1, Time1): (0, 0, 0, 0, 0, 0), (10, 100, 100, 20, 200, 100), (20, 200, 200, 60, 400, 200), (30, 100, 300, 100, 200, 300), (60, 0, 400, 80, 0, 400).']\n",
      "# Tasks:['Write Python code to execute a PVT interpolation command for Axis 3 and Axis 6 using points in the format (Position0, Velocity0, Time0, Position1, Velocity1, Time1): (0, 0, 0, 0, 0, 0), (10, 100, 100, 20, 200, 100), (20, 200, 200, 60, 400, 200), (30, 100, 300, 100, 200, 300), (60, 0, 400, 80, 0, 400).']\n",
      "codedata:\n",
      "Program begin.\n",
      "Program End.\n",
      "Elapsed_time: 4.226\n",
      "----------------------\n",
      "\n"
     ]
    },
    {
     "name": "stderr",
     "output_type": "stream",
     "text": [
      "Processing tasks:  46%|████▌     | 53/116 [34:18<46:32, 44.33s/it]"
     ]
    },
    {
     "name": "stdout",
     "output_type": "stream",
     "text": [
      "# -------------------------------------------------------------------------\n",
      "\n",
      "Task ID: 54 🔽\n",
      "# Lines:['Write Python code to execute a PVT interpolation command for Axis 4 and Axis 5 using points in the format (Position0, Velocity0, Position1, Velocity1, Time). Position0 and Position1 are the coordinates of twenty points on a circle with a diameter of 100 and a center at (-50, 0). Velocity0 and Velocity1 are 100, and Time increments by 100 for each point.']\n",
      "# Tasks:['Write Python code to execute a PVT interpolation command for Axis 4 and Axis 5 using points in the format (Position0, Velocity0, Position1, Velocity1, Time). Position0 and Position1 are the coordinates of twenty points on a circle with a diameter of 100 and a center at (-50, 0). Velocity0 and Velocity1 are 100, and Time increments by 100 for each point.']\n",
      "codedata:\n",
      "Program begin.\n",
      "Program End.\n",
      "Elapsed_time: 6.247\n",
      "----------------------\n",
      "\n"
     ]
    },
    {
     "name": "stderr",
     "output_type": "stream",
     "text": [
      "Processing tasks:  47%|████▋     | 54/116 [35:00<45:17, 43.82s/it]"
     ]
    },
    {
     "name": "stdout",
     "output_type": "stream",
     "text": [
      "# -------------------------------------------------------------------------\n",
      "\n",
      "Task ID: 55 🔽\n",
      "# Lines:['Write Python code to execute a PT command for Axis 5 using points in the format (point, time): (50, 0), (-50, 100), (50, 200), (-50, 300), (0, 400).']\n",
      "# Tasks:['Write Python code to execute a PT command for Axis 5 using points in the format (point, time): (50, 0), (-50, 100), (50, 200), (-50, 300), (0, 400).']\n",
      "codedata:\n",
      "Program begin.\n",
      "Program End.\n",
      "Elapsed_time: 3.593\n",
      "----------------------\n",
      "\n"
     ]
    },
    {
     "name": "stderr",
     "output_type": "stream",
     "text": [
      "Processing tasks:  47%|████▋     | 55/116 [35:28<39:36, 38.97s/it]"
     ]
    },
    {
     "name": "stdout",
     "output_type": "stream",
     "text": [
      "# -------------------------------------------------------------------------\n",
      "\n",
      "Task ID: 56 🔽\n",
      "# Lines:['Write Python code to execute a VT command for Axis 6 using points in the format (velocity, time): (60, 0), (-60, 100), (60, 200), (-60, 300), (0, 400).']\n",
      "# Tasks:['Write Python code to execute a VT command for Axis 6 using points in the format (velocity, time): (60, 0), (-60, 100), (60, 200), (-60, 300), (0, 400).']\n",
      "codedata:\n",
      "Program begin.\n",
      "Program End.\n",
      "Elapsed_time: 3.447\n",
      "----------------------\n",
      "\n"
     ]
    },
    {
     "name": "stderr",
     "output_type": "stream",
     "text": [
      "Processing tasks:  48%|████▊     | 56/116 [35:55<35:28, 35.48s/it]"
     ]
    },
    {
     "name": "stdout",
     "output_type": "stream",
     "text": [
      "# -------------------------------------------------------------------------\n",
      "\n",
      "Task ID: 57 🔽\n",
      "# Lines:['Write Python code to execute a AT command for Axis 7 using points in the format (Acceleration, time): (700, 0), (-700, 100), (700, 200), (-700, 300), (0, 400).']\n",
      "# Tasks:['Write Python code to execute a AT command for Axis 7 using points in the format (Acceleration, time): (700, 0), (-700, 100), (700, 200), (-700, 300), (0, 400).']\n",
      "codedata:\n",
      "Program begin.\n",
      "Program End.\n",
      "Elapsed_time: 3.567\n",
      "----------------------\n",
      "\n"
     ]
    },
    {
     "name": "stderr",
     "output_type": "stream",
     "text": [
      "Processing tasks:  49%|████▉     | 57/116 [36:22<32:26, 32.99s/it]"
     ]
    },
    {
     "name": "stdout",
     "output_type": "stream",
     "text": [
      "# -------------------------------------------------------------------------\n",
      "\n",
      "Task ID: 58 🔽\n",
      "# Lines:['Write Python code to Execute a total time(1.5s) cubic spline of Axis 8 and Axis 9 with the points: (0, 0), (25, 50), (50, 0), (75, -50), (100, 0).']\n",
      "# Tasks:['Write Python code to Execute a total time(1.5s) cubic spline of Axis 8 and Axis 9 with the points: (0, 0), (25, 50), (50, 0), (75, -50), (100, 0).']\n",
      "codedata:\n",
      "Program begin.\n",
      "Program End.\n",
      "Elapsed_time: 5.542\n",
      "----------------------\n",
      "\n"
     ]
    },
    {
     "name": "stderr",
     "output_type": "stream",
     "text": [
      "Processing tasks:  50%|█████     | 58/116 [37:09<35:50, 37.07s/it]"
     ]
    },
    {
     "name": "stdout",
     "output_type": "stream",
     "text": [
      "# -------------------------------------------------------------------------\n",
      "\n",
      "Task ID: 59 🔽\n",
      "# Lines:['Write Python code to execute a trapezoidal profile type cubic spline for Axis 9 and Axis 6 with the points (0, 0), (25, -50), (50, 0), (75, 50), and (100, 0) at a velocity of 1600.']\n",
      "# Tasks:['Write Python code to execute a trapezoidal profile type cubic spline for Axis 9 and Axis 6 with the points (0, 0), (25, -50), (50, 0), (75, 50), and (100, 0) at a velocity of 1600.']\n",
      "codedata:\n",
      "Program begin.\n",
      "Program End.\n",
      "Elapsed_time: 4.557\n",
      "----------------------\n",
      "\n"
     ]
    },
    {
     "name": "stderr",
     "output_type": "stream",
     "text": [
      "Processing tasks:  51%|█████     | 59/116 [37:59<38:47, 40.83s/it]"
     ]
    },
    {
     "name": "stdout",
     "output_type": "stream",
     "text": [
      "# -------------------------------------------------------------------------\n",
      "\n",
      "Task ID: 60 🔽\n",
      "# Lines:['Write Python code to execute a s curve profile type cubic spline for Axis 9 and Axis 6 with the points (0, 0), (30, 50), (60, 0), (90, 50), and (120, 0) at a velocity of 1200 and acc of 5000.']\n",
      "# Tasks:['Write Python code to execute a s curve profile type cubic spline for Axis 9 and Axis 6 with the points (0, 0), (30, 50), (60, 0), (90, 50), and (120, 0) at a velocity of 1200 and acc of 5000.']\n",
      "codedata:\n",
      "Program begin.\n",
      "Program End.\n",
      "Elapsed_time: 4.521\n",
      "----------------------\n",
      "\n"
     ]
    },
    {
     "name": "stderr",
     "output_type": "stream",
     "text": [
      "Processing tasks:  52%|█████▏    | 60/116 [38:49<40:44, 43.65s/it]"
     ]
    },
    {
     "name": "stdout",
     "output_type": "stream",
     "text": [
      "# -------------------------------------------------------------------------\n",
      "\n",
      "Task ID: 61 🔽\n",
      "# Lines:['Write Python code to execute a velocity and acceleration limited cubic spline for Axis 1 and Axis 4 with the points (0, 0), (25, -60), (50, 0), (75, -80), (100, 0), (125, 80), and (150, 0). The velocity limits are 500 for Axis 1 and 800 for Axis 4. The acceleration limits are 5000 for Axis 1 and 8000 for Axis 4. The composite velocity and acceleration limits are 1000 and 10000, respectively.']\n",
      "# Tasks:['Write Python code to execute a velocity and acceleration limited cubic spline for Axis 1 and Axis 4 with the points (0, 0), (25, -60), (50, 0), (75, -80), (100, 0), (125, 80), and (150, 0). The velocity limits are 500 for Axis 1 and 800 for Axis 4. The acceleration limits are 5000 for Axis 1 and 8000 for Axis 4. The composite velocity and acceleration limits are 1000 and 10000, respectively.']\n",
      "codedata:\n",
      "Program begin.\n",
      "Program End.\n",
      "Elapsed_time: 4.846\n",
      "----------------------\n",
      "\n"
     ]
    },
    {
     "name": "stderr",
     "output_type": "stream",
     "text": [
      "Processing tasks:  53%|█████▎    | 61/116 [39:50<44:53, 48.98s/it]"
     ]
    },
    {
     "name": "stdout",
     "output_type": "stream",
     "text": [
      "# -------------------------------------------------------------------------\n",
      "\n",
      "Task ID: 62 🔽\n",
      "# Lines:['1. Write Python code to execute an absolute position path interpolation motion command for Axis 2 and Axis 5, specifying the motion profile for each segment: linear interpolation to (50, 0) with velocity and end velocity of 1000;', '2. Write Python code to execute an absolute position path interpolation motion command for Axis 2 and Axis 5, specifying the motion profile for each segment: clockwise circular interpolation to (75, 25) with center at (50, 25) with velocity and end velocity of 900;', '3. Write Python code to execute an absolute position path interpolation motion command for Axis 2 and Axis 5, specifying the motion profile for each segment: linear interpolation to (75, 50) with velocity and end velocity of 800;', '4. Write Python code to execute an absolute position path interpolation motion command for Axis 2 and Axis 5, specifying the motion profile for each segment: clockwise circular interpolation to (50, 75) with center at (50, 50) with velocity and end velocity of 700;', '5. Write Python code to execute an absolute position path interpolation motion command for Axis 2 and Axis 5, specifying the motion profile for each segment: linear interpolation to (0, 75) with velocity and end velocity of 600;', '6. Write Python code to execute an absolute position path interpolation motion command for Axis 2 and Axis 5, specifying the motion profile for each segment: clockwise circular interpolation to (-25, 50) with center at (0, 50) with velocity and end velocity of 700;', '7. Write Python code to execute an absolute position path interpolation motion command for Axis 2 and Axis 5, specifying the motion profile for each segment: linear interpolation to (-25, 25) with velocity and end velocity of 800;', '8. Write Python code to execute an absolute position path interpolation motion command for Axis 2 and Axis 5, specifying the motion profile for each segment: clockwise circular interpolation to (0, 0) with center at (0, 25) with velocity of 900.']\n",
      "# Tasks:['1. Write Python code to execute an absolute position path interpolation motion command for Axis 2 and Axis 5, specifying the motion profile for each segment: linear interpolation to (50, 0) with velocity and end velocity of 1000;', '2. Write Python code to execute an absolute position path interpolation motion command for Axis 2 and Axis 5, specifying the motion profile for each segment: clockwise circular interpolation to (75, 25) with center at (50, 25) with velocity and end velocity of 900;', '3. Write Python code to execute an absolute position path interpolation motion command for Axis 2 and Axis 5, specifying the motion profile for each segment: linear interpolation to (75, 50) with velocity and end velocity of 800;', '4. Write Python code to execute an absolute position path interpolation motion command for Axis 2 and Axis 5, specifying the motion profile for each segment: clockwise circular interpolation to (50, 75) with center at (50, 50) with velocity and end velocity of 700;', '5. Write Python code to execute an absolute position path interpolation motion command for Axis 2 and Axis 5, specifying the motion profile for each segment: linear interpolation to (0, 75) with velocity and end velocity of 600;', '6. Write Python code to execute an absolute position path interpolation motion command for Axis 2 and Axis 5, specifying the motion profile for each segment: clockwise circular interpolation to (-25, 50) with center at (0, 50) with velocity and end velocity of 700;', '7. Write Python code to execute an absolute position path interpolation motion command for Axis 2 and Axis 5, specifying the motion profile for each segment: linear interpolation to (-25, 25) with velocity and end velocity of 800;', '8. Write Python code to execute an absolute position path interpolation motion command for Axis 2 and Axis 5, specifying the motion profile for each segment: clockwise circular interpolation to (0, 0) with center at (0, 25) with velocity of 900.']\n",
      "codedata:\n",
      "Program begin.\n",
      "Program End.\n",
      "Elapsed_time: 4.423\n",
      "----------------------\n",
      "\n"
     ]
    },
    {
     "name": "stderr",
     "output_type": "stream",
     "text": [
      "Processing tasks:  53%|█████▎    | 62/116 [44:41<1:49:19, 121.47s/it]"
     ]
    },
    {
     "name": "stdout",
     "output_type": "stream",
     "text": [
      "# -------------------------------------------------------------------------\n",
      "\n",
      "Task ID: 63 🔽\n",
      "# Lines:['Write Python code to execute an absolute position path interpolation motion command for Axis 3 and 6 with auto-smoothing and a velocity of 1000. Move to (-40, -30) with autoSmoothRadius 10, (10, -50) with autoSmoothRadius 20, (-40, -70) with autoSmoothRadius 30, (10, -90) with autoSmoothRadius 40, (-40, -110) with autoSmoothRadius 50, and (10, -130).']\n",
      "# Tasks:['Write Python code to execute an absolute position path interpolation motion command for Axis 3 and 6 with auto-smoothing and a velocity of 1000. Move to (-40, -30) with autoSmoothRadius 10, (10, -50) with autoSmoothRadius 20, (-40, -70) with autoSmoothRadius 30, (10, -90) with autoSmoothRadius 40, (-40, -110) with autoSmoothRadius 50, and (10, -130).']\n",
      "codedata:\n",
      "Program begin.\n",
      "Program End.\n",
      "Elapsed_time: 3.924\n",
      "----------------------\n",
      "\n"
     ]
    },
    {
     "name": "stderr",
     "output_type": "stream",
     "text": [
      "Processing tasks:  54%|█████▍    | 63/116 [45:31<1:28:22, 100.05s/it]"
     ]
    },
    {
     "name": "stdout",
     "output_type": "stream",
     "text": [
      "# -------------------------------------------------------------------------\n",
      "\n",
      "Task ID: 64 🔽\n",
      "# Lines:['1. Write Python code to perform a 3D path interpolation for Axis 4, 5, and 2 with a velocity of 300.', '2. Write Python code to perform a Linear interpolation to (90, 0, 0).', '3. Write Python code to perform a Circular interpolation to (100, 10, 0) with center (97.071, 2.929, 0).', '4. Write Python code to perform a Linear interpolation to (100, 90, 0).', '5. Write Python code to perform a Circular interpolation to (90, 100, 0) with center (97.071, 97.071, 0).', '6. Write Python code to perform a Linear interpolation to (10, 100, 0).', '7. Write Python code to perform a Circular interpolation to (0, 90, 0) with center (2.929, 97.071, 0).', '8. Write Python code to perform a Linear interpolation to (0, 0, 0).', '9. Write Python code to perform a Linear interpolation to (90, 0, 0).', '10. Write Python code to perform a Circular interpolation to (100, 0, -10) with center (97.071, 0, -2.929).', '11. Write Python code to perform a Linear interpolation to (100, 0, -90).', '12. Write Python code to perform a Circular interpolation to (90, 0, -100) with center (97.071, 0, -97.071).', '13. Write Python code to perform a Linear interpolation to (10, 0, -100).', '14. Write Python code to perform a Circular interpolation to (0, 0, -90) with center (2.929, 0, -97.071).', '15. Write Python code to perform a Linear interpolation to (0, 0, 0).', '16. Write Python code to perform a Linear interpolation to (0, 90, 0).', '17. Write Python code to perform a Circular interpolation to (0, 100, -10) with center (0, 97.071, -2.929).', '18. Write Python code to perform a Linear interpolation to (0, 100, -90).', '19. Write Python code to perform a Circular interpolation to (0, 90, -100) with center (0, 97.071, -97.071).', '20. Write Python code to perform a Linear interpolation to (0, 10, -100).', '21. Write Python code to perform a Circular interpolation to (0, 0, -90) with center (0, 2.929, -97.071).', '22. Write Python code to perform a Linear interpolation to (0, 0, 0).', '23. Write Python code to reverse the entire sequence from step 21 back to step 1.']\n",
      "# Tasks:['1. Write Python code to perform a 3D path interpolation for Axis 4, 5, and 2 with a velocity of 300.', '2. Write Python code to perform a Linear interpolation to (90, 0, 0).', '3. Write Python code to perform a Circular interpolation to (100, 10, 0) with center (97.071, 2.929, 0).', '4. Write Python code to perform a Linear interpolation to (100, 90, 0).', '5. Write Python code to perform a Circular interpolation to (90, 100, 0) with center (97.071, 97.071, 0).', '6. Write Python code to perform a Linear interpolation to (10, 100, 0).', '7. Write Python code to perform a Circular interpolation to (0, 90, 0) with center (2.929, 97.071, 0).', '8. Write Python code to perform a Linear interpolation to (0, 0, 0).', '9. Write Python code to perform a Linear interpolation to (90, 0, 0).', '10. Write Python code to perform a Circular interpolation to (100, 0, -10) with center (97.071, 0, -2.929).', '11. Write Python code to perform a Linear interpolation to (100, 0, -90).', '12. Write Python code to perform a Circular interpolation to (90, 0, -100) with center (97.071, 0, -97.071).', '13. Write Python code to perform a Linear interpolation to (10, 0, -100).', '14. Write Python code to perform a Circular interpolation to (0, 0, -90) with center (2.929, 0, -97.071).', '15. Write Python code to perform a Linear interpolation to (0, 0, 0).', '16. Write Python code to perform a Linear interpolation to (0, 90, 0).', '17. Write Python code to perform a Circular interpolation to (0, 100, -10) with center (0, 97.071, -2.929).', '18. Write Python code to perform a Linear interpolation to (0, 100, -90).', '19. Write Python code to perform a Circular interpolation to (0, 90, -100) with center (0, 97.071, -97.071).', '20. Write Python code to perform a Linear interpolation to (0, 10, -100).', '21. Write Python code to perform a Circular interpolation to (0, 0, -90) with center (0, 2.929, -97.071).', '22. Write Python code to perform a Linear interpolation to (0, 0, 0).', '23. Write Python code to reverse the entire sequence from step 21 back to step 1.']\n",
      "codedata:\n",
      "Program begin.\n",
      "Program End.\n",
      "Elapsed_time: 7.745\n",
      "----------------------\n",
      "\n"
     ]
    },
    {
     "name": "stderr",
     "output_type": "stream",
     "text": [
      "Processing tasks:  55%|█████▌    | 64/116 [58:36<4:24:55, 305.69s/it]"
     ]
    },
    {
     "name": "stdout",
     "output_type": "stream",
     "text": [
      "# -------------------------------------------------------------------------\n",
      "\n",
      "Task ID: 65 🔽\n",
      "# Lines:['Write Python code to execute a path interpolation with a rotation sequence for Axis 5 and Axis 6, rotating around Axis 3 at a velocity of 1000. Disable rotating the X and Y axes around the center of rotation. The center of rotation is (80, 80). The four path points are: (160, 0), (160, 160), (0, 160), and (0, 0).']\n",
      "# Tasks:['Write Python code to execute a path interpolation with a rotation sequence for Axis 5 and Axis 6, rotating around Axis 3 at a velocity of 1000. Disable rotating the X and Y axes around the center of rotation. The center of rotation is (80, 80). The four path points are: (160, 0), (160, 160), (0, 160), and (0, 0).']\n",
      "codedata:\n",
      "Program begin.\n",
      "Program End.\n",
      "Elapsed_time: 9.964\n",
      "----------------------\n",
      "\n"
     ]
    },
    {
     "name": "stderr",
     "output_type": "stream",
     "text": [
      "Processing tasks:  56%|█████▌    | 65/116 [1:00:17<3:27:26, 244.05s/it]"
     ]
    },
    {
     "name": "stdout",
     "output_type": "stream",
     "text": [
      "# -------------------------------------------------------------------------\n",
      "\n",
      "Task ID: 66 🔽\n",
      "# Lines:['Write Python code to execute a path interpolation with a rotation sequence for Axis 5 and Axis 6, rotating around Axis 3 at a velocity of 1000. Enable rotating the X and Y axes around the center of rotation. The center of rotation is (80, 80). The four path points are: (160, 0), (160, 160), (0, 160), and (0, 0). Auto smoothing radius is 10.']\n",
      "# Tasks:['Write Python code to execute a path interpolation with a rotation sequence for Axis 5 and Axis 6, rotating around Axis 3 at a velocity of 1000. Enable rotating the X and Y axes around the center of rotation. The center of rotation is (80, 80). The four path points are: (160, 0), (160, 160), (0, 160), and (0, 0). Auto smoothing radius is 10.']\n",
      "codedata:\n",
      "Program begin.\n",
      "AddPathIntplWithRotationCommand error code is 65581: [0x0001002d] : CoreMotionApi Error: One or more velocity arguments out of range.\n",
      "Elapsed_time: 3.778\n",
      "----------------------\n",
      "\n",
      "\n",
      "# Error string:----------------------\n",
      "AddPathIntplWithRotationCommand error code is 65581: [0x0001002d] : CoreMotionApi Error: One or more velocity arguments out of range.\n",
      "\n",
      "# Error ref:----------------------\n",
      "InterruptMismatch : ErrorCode \n",
      "IntervalOutOfRange : EventErrorCode \n",
      "Intpl : DetailOperationState , O\n",
      "# -------------\n",
      "AdvMotion::PosCommand , AdvMotion::ProfileSplineCommand , \n",
      "AdvMotion::SimulatePathIntpl3DCommand , \n",
      "\n",
      "# -------------\n",
      "ProfileArgumentOutOfRang CoreMotionErrorCode \n",
      "ProfileCancelOvertravel enu CoreMotionErrorCode\n",
      "# -------------\n",
      "CircularInterpolationCenterPosTooCloseToInitialPos : CoreMotionErrorCode \n",
      "CircularInterpolationEndPo\n",
      "# -------------\n",
      "PathInterpolationAxesHave AdvancedMotionErrorCode \n",
      "PathInterpolationChannelN AdvancedMotionErrorCode\n"
     ]
    },
    {
     "name": "stderr",
     "output_type": "stream",
     "text": [
      "Processing tasks:  57%|█████▋    | 66/116 [1:03:20<3:08:10, 225.81s/it]"
     ]
    },
    {
     "name": "stdout",
     "output_type": "stream",
     "text": [
      "codedata:\n",
      "Program begin.\n",
      "AddPathIntplWithRotationCommand error code is 65581: [0x0001002d] : CoreMotionApi Error: One or more velocity arguments out of range.\n",
      "Elapsed_time: 2.356\n",
      "----------------------\n",
      "\n",
      "Self-correction but still got an error.\n",
      "\n",
      "\n",
      "Task ID: 67 🔽\n",
      "# Lines:['Write Python code to execute a path interpolation with a rotation sequence for Axis 5 and Axis 6, rotating around Axis 3 at a velocity of 1000. Enable rotating the X and Y axes around the center of rotation. The center of rotation is (80, 80). The four path points are: (160, 0), (160, 160), (0, 160), and (0, 0). Auto smoothing radius is 10. The local center rotation of each segment is respectively (50,40),(60,50),(50,60) and (40,50).']\n",
      "# Tasks:['Write Python code to execute a path interpolation with a rotation sequence for Axis 5 and Axis 6, rotating around Axis 3 at a velocity of 1000. Enable rotating the X and Y axes around the center of rotation. The center of rotation is (80, 80). The four path points are: (160, 0), (160, 160), (0, 160), and (0, 0). Auto smoothing radius is 10. The local center rotation of each segment is respectively (50,40),(60,50),(50,60) and (40,50).']\n",
      "codedata:\n",
      "Program begin.\n",
      "Program End.\n",
      "Elapsed_time: 6.117\n",
      "----------------------\n",
      "\n"
     ]
    },
    {
     "name": "stderr",
     "output_type": "stream",
     "text": [
      "Processing tasks:  58%|█████▊    | 67/116 [1:05:13<2:36:42, 191.88s/it]"
     ]
    },
    {
     "name": "stdout",
     "output_type": "stream",
     "text": [
      "# -------------------------------------------------------------------------\n",
      "\n",
      "Task ID: 68 🔽\n",
      "# Lines:['Write Python code to execute a path interpolation with rotation for Axis 8 and 9, rotating around Axis 0 and Z-axis is Axis 1. The center of rotation is (30, 30) and the velocity is 1000. The 5 segments are: Linear to (50, 50) and Z to 25; Circular to (100, 100) with center (20, 20) and Z to 50; Linear to (150, 150) and Z to 75; Circular to (200, 200) with center (40, 40) and Z to 100; Linear to (300, 300) and Z to 125.']\n",
      "# Tasks:['Write Python code to execute a path interpolation with rotation for Axis 8 and 9, rotating around Axis 0 and Z-axis is Axis 1. The center of rotation is (30, 30) and the velocity is 1000. The 5 segments are: Linear to (50, 50) and Z to 25; Circular to (100, 100) with center (20, 20) and Z to 50; Linear to (150, 150) and Z to 75; Circular to (200, 200) with center (40, 40) and Z to 100; Linear to (300, 300) and Z to 125.']\n",
      "codedata:\n",
      "Program begin.\n",
      "Program End.\n",
      "Elapsed_time: 11.509\n",
      "----------------------\n",
      "\n"
     ]
    },
    {
     "name": "stderr",
     "output_type": "stream",
     "text": [
      "Processing tasks:  59%|█████▊    | 68/116 [1:07:04<2:14:07, 167.65s/it]"
     ]
    },
    {
     "name": "stdout",
     "output_type": "stream",
     "text": [
      "# -------------------------------------------------------------------------\n",
      "\n",
      "Task ID: 69 🔽\n",
      "# Lines:['Write Python code to execute path interpolation with look-ahead for Axis 9 and Axis 6 at a velocity of 2000. The points are: (200, 0), (200, 200), (0, 200), (0, 0), and (200, 200). The sample distance is 50.']\n",
      "# Tasks:['Write Python code to execute path interpolation with look-ahead for Axis 9 and Axis 6 at a velocity of 2000. The points are: (200, 0), (200, 200), (0, 200), (0, 0), and (200, 200). The sample distance is 50.']\n",
      "codedata:\n",
      "Program begin.\n",
      "Program End.\n",
      "Elapsed_time: 6.544\n",
      "----------------------\n",
      "\n"
     ]
    },
    {
     "name": "stderr",
     "output_type": "stream",
     "text": [
      "Processing tasks:  59%|█████▉    | 69/116 [1:08:24<1:50:50, 141.50s/it]"
     ]
    },
    {
     "name": "stdout",
     "output_type": "stream",
     "text": [
      "# -------------------------------------------------------------------------\n",
      "\n",
      "Task ID: 70 🔽\n",
      "# Lines:['Write Python code to execute path interpolation with look-ahead for Axis 1 and Axis 4 at a velocity of 1100. The points are: (200, 0), (200, 200), (0, 200), (0, 0), and (200, 200). The sample distance is 50. The smoothRadius is 10. The acceleration limit for each axis is 8800. The velocity limits are 700 for Axis 1 and 500 for Axis 4.']\n",
      "# Tasks:['Write Python code to execute path interpolation with look-ahead for Axis 1 and Axis 4 at a velocity of 1100. The points are: (200, 0), (200, 200), (0, 200), (0, 0), and (200, 200). The sample distance is 50. The smoothRadius is 10. The acceleration limit for each axis is 8800. The velocity limits are 700 for Axis 1 and 500 for Axis 4.']\n",
      "codedata:\n",
      "Program begin.\n",
      "Program End.\n",
      "Elapsed_time: 5.848\n",
      "----------------------\n",
      "\n"
     ]
    },
    {
     "name": "stderr",
     "output_type": "stream",
     "text": [
      "Processing tasks:  60%|██████    | 70/116 [1:09:52<1:36:07, 125.38s/it]"
     ]
    },
    {
     "name": "stdout",
     "output_type": "stream",
     "text": [
      "# -------------------------------------------------------------------------\n",
      "\n",
      "Task ID: 71 🔽\n",
      "# Lines:['Write Python code to execute path interpolation with look-ahead for Axis 1 and Axis 5 at a velocity of 1600, with a sample distance of 50 and an angle tolerance of 11. The path consists of 18 linear interpolations that form a counterclockwise circle which starts from (0,0) with a radius of 100.']\n",
      "# Tasks:['Write Python code to execute path interpolation with look-ahead for Axis 1 and Axis 5 at a velocity of 1600, with a sample distance of 50 and an angle tolerance of 11. The path consists of 18 linear interpolations that form a counterclockwise circle which starts from (0,0) with a radius of 100.']\n",
      "codedata:\n",
      "Program begin.\n",
      "Program End.\n",
      "Elapsed_time: 7.937\n",
      "----------------------\n",
      "\n"
     ]
    },
    {
     "name": "stderr",
     "output_type": "stream",
     "text": [
      "Processing tasks:  61%|██████    | 71/116 [1:11:00<1:21:00, 108.01s/it]"
     ]
    },
    {
     "name": "stdout",
     "output_type": "stream",
     "text": [
      "# -------------------------------------------------------------------------\n",
      "\n",
      "Task ID: 72 🔽\n",
      "# Lines:['Write Python code to execute path interpolation with look-ahead for Axis 2 and Axis 7 at a velocity of 2200. The path includes: line to (50, 0); circular to (50, 0) through (50, 100); line to (100, 0); sleep for 0.5 seconds; line to (150, 100); line to (200, 0).']\n",
      "# Tasks:['Write Python code to execute path interpolation with look-ahead for Axis 2 and Axis 7 at a velocity of 2200. The path includes: line to (50, 0); circular to (50, 0) through (50, 100); line to (100, 0); sleep for 0.5 seconds; line to (150, 100); line to (200, 0).']\n",
      "codeerr:\n",
      "Traceback (most recent call last):\n",
      "  File \"\\\\mac\\Home\\Downloads\\codedemo\\sample.py\", line 363, in <module>\n",
      "    main()\n",
      "  File \"\\\\mac\\Home\\Downloads\\codedemo\\sample.py\", line 247, in main\n",
      "    point.type = AdvMotion_PathIntplLookaheadSegmentType.Circular\n",
      "                 ^^^^^^^^^^^^^^^^^^^^^^^^^^^^^^^^^^^^^^^^^^^^^^^^\n",
      "AttributeError: type object 'AdvMotion_PathIntplLookaheadSegmentType' has no attribute 'Circular'\n",
      "!!!\n",
      "----------------------\n",
      "\n",
      "\n",
      "# Error string:----------------------\n",
      "AttributeError: type object 'AdvMotion_PathIntplLookaheadSegmentType' has no attribute 'Circular'\n",
      "\n",
      "# Error ref:----------------------\n",
      "path.point[1].type = AdvMotion::PathIntplLookaheadSegmentType::ThroughAndEndCircular;\n",
      "path.point[1].\n",
      "# -------------\n",
      "path.point[1].type = AdvMotion::PathIntplLookaheadSegmentType::ThroughAndEnd3DCircular;\n",
      "path.point[1\n",
      "# -------------\n",
      "struct AdvMotion::PathIntplLookaheadComm \n",
      "andPoint::Data::CenterAndLengthCircu \n",
      "lar \n",
      "This structure \n",
      "# -------------\n",
      "path.point[3].type = AdvMotion::PathIntplLookaheadSegmentType::ThroughAndEndCircular;\n",
      "path.point[3].\n",
      "# -------------\n",
      "path.point[3].type = AdvMotion::PathIntplLookaheadSegmentType::ThroughAndEndCircular;\n",
      "path.point[3].\n"
     ]
    },
    {
     "name": "stderr",
     "output_type": "stream",
     "text": [
      "Processing tasks:  62%|██████▏   | 72/116 [1:13:41<1:30:54, 123.98s/it]"
     ]
    },
    {
     "name": "stdout",
     "output_type": "stream",
     "text": [
      "codeerr:\n",
      "Traceback (most recent call last):\n",
      "  File \"\\\\mac\\Home\\Downloads\\codedemo\\sample.py\", line 363, in <module>\n",
      "    main()\n",
      "  File \"\\\\mac\\Home\\Downloads\\codedemo\\sample.py\", line 248, in main\n",
      "    point.circular.axisCount = 2\n",
      "    ^^^^^^^^^^^^^^\n",
      "  File \"\\\\mac\\Home\\Downloads\\codedemo\\WMX3ApiPython.py\", line 23766, in <lambda>\n",
      "    __getattr__ = lambda self, name: _swig_getattr(self, AdvMotion_PathIntplLookaheadCommandPoint, name)\n",
      "                                     ^^^^^^^^^^^^^^^^^^^^^^^^^^^^^^^^^^^^^^^^^^^^^^^^^^^^^^^^^^^^^^^^^^^\n",
      "  File \"\\\\mac\\Home\\Downloads\\codedemo\\WMX3ApiPython.py\", line 80, in _swig_getattr\n",
      "    raise AttributeError(\"'%s' object has no attribute '%s'\" % (class_type.__name__, name))\n",
      "AttributeError: 'AdvMotion_PathIntplLookaheadCommandPoint' object has no attribute 'circular'\n",
      "!!!\n",
      "----------------------\n",
      "\n",
      "Self-correction but still got an error.\n",
      "\n",
      "\n",
      "Task ID: 73 🔽\n",
      "# Lines:['Write Python code to execute path interpolation with look-ahead for Axis 3 and Axis 5 at a velocity of 2400. The sequences are: set IO output 0.6 to 1 when the completed distance is 50, set IO output 0.6 to 0 when the remaining distance is 30, then linear interpolation to (100, 200).']\n",
      "# Tasks:['Write Python code to execute path interpolation with look-ahead for Axis 3 and Axis 5 at a velocity of 2400. The sequences are: set IO output 0.6 to 1 when the completed distance is 50, set IO output 0.6 to 0 when the remaining distance is 30, then linear interpolation to (100, 200).']\n",
      "codedata:\n",
      "Program begin.\n",
      "Program End.\n",
      "Elapsed_time: 4.274\n",
      "----------------------\n",
      "\n"
     ]
    },
    {
     "name": "stderr",
     "output_type": "stream",
     "text": [
      "Processing tasks:  63%|██████▎   | 73/116 [1:14:48<1:16:43, 107.05s/it]"
     ]
    },
    {
     "name": "stdout",
     "output_type": "stream",
     "text": [
      "# -------------------------------------------------------------------------\n",
      "\n",
      "Task ID: 74 🔽\n",
      "# Lines:['Write Python code to execute path interpolation with look-ahead for Axis 4, 6, and 8 at a velocity of 1000, with Axis 9 as the auxiliary axis. The sequences are: Circular interpolation to (100, 100, 0) through (80, 30, 10) and auxiliary target 50; Circular interpolation to (0, 0, 0) with center (30, 80, 10) and auxiliary target -50.']\n",
      "# Tasks:['Write Python code to execute path interpolation with look-ahead for Axis 4, 6, and 8 at a velocity of 1000, with Axis 9 as the auxiliary axis. The sequences are: Circular interpolation to (100, 100, 0) through (80, 30, 10) and auxiliary target 50; Circular interpolation to (0, 0, 0) with center (30, 80, 10) and auxiliary target -50.']\n",
      "codeerr:\n",
      "Traceback (most recent call last):\n",
      "  File \"\\\\mac\\Home\\Downloads\\codedemo\\sample.py\", line 340, in <module>\n",
      "    main()\n",
      "  File \"\\\\mac\\Home\\Downloads\\codedemo\\sample.py\", line 259, in main\n",
      "    point.throughAndEnd3DCircular.SetCenterPos(0, 30)\n",
      "    ^^^^^^^^^^^^^^^^^^^^^^^^^^^^^^^^^^^^^^^^^^\n",
      "  File \"\\\\mac\\Home\\Downloads\\codedemo\\WMX3ApiPython.py\", line 23476, in <lambda>\n",
      "    __getattr__ = lambda self, name: _swig_getattr(self, AdvMotion_PathIntplLookaheadCommandPoint_Data_throughAndEnd3DCircular, name)\n",
      "                                     ^^^^^^^^^^^^^^^^^^^^^^^^^^^^^^^^^^^^^^^^^^^^^^^^^^^^^^^^^^^^^^^^^^^^^^^^^^^^^^^^^^^^^^^^^^^^^^^^\n",
      "  File \"\\\\mac\\Home\\Downloads\\codedemo\\WMX3ApiPython.py\", line 80, in _swig_getattr\n",
      "    raise AttributeError(\"'%s' object has no attribute '%s'\" % (class_type.__name__, name))\n",
      "AttributeError: 'AdvMotion_PathIntplLookaheadCommandPoint_Data_throughAndEnd3DCircular' object has no attribute 'SetCenterPos'\n",
      "!!!\n",
      "----------------------\n",
      "\n",
      "\n",
      "# Error string:----------------------\n",
      "AttributeError: 'AdvMotion_PathIntplLookaheadCommandPoint_Data_throughAndEnd3DCircular' object has no attribute 'SetCenterPos'\n",
      "\n",
      "# Error ref:----------------------\n",
      "a_centerAndEndCircular \n",
      "AdvMotion::PathIntplLo \n",
      "okaheadCommandPoint: \n",
      ":Data::CenterAndEndCir \n",
      "cular \n",
      "# -------------\n",
      "path.point[1].type = AdvMotion::PathIntplLookaheadSegmentType::ThroughAndEnd3DCircular;\n",
      "path.point[1\n",
      "# -------------\n",
      "path.point[3].type = AdvMotion::PathIntplLookaheadSegmentType::ThroughAndEndCircular;\n",
      "path.point[3].\n",
      "# -------------\n",
      "path.point[3].type = AdvMotion::PathIntplLookaheadSegmentType::ThroughAndEndCircular;\n",
      "path.point[3].\n",
      "# -------------\n",
      "wmxlib_AdvancedMotion->advMotion->SetPathIntplLookaheadConfiguration(0, \n",
      "\n",
      "//Add the path interpolati\n"
     ]
    },
    {
     "name": "stderr",
     "output_type": "stream",
     "text": [
      "Processing tasks:  64%|██████▍   | 74/116 [1:17:38<1:28:06, 125.88s/it]"
     ]
    },
    {
     "name": "stdout",
     "output_type": "stream",
     "text": [
      "codeerr:\n",
      "Traceback (most recent call last):\n",
      "  File \"\\\\mac\\Home\\Downloads\\codedemo\\sample.py\", line 340, in <module>\n",
      "    main()\n",
      "  File \"\\\\mac\\Home\\Downloads\\codedemo\\sample.py\", line 263, in main\n",
      "    point.centerAndEndCircular.SetAuxiliaryAxis(0, 9)\n",
      "    ^^^^^^^^^^^^^^^^^^^^^^^^^^^^^^^^^^^^^^^^^^^\n",
      "  File \"\\\\mac\\Home\\Downloads\\codedemo\\WMX3ApiPython.py\", line 23284, in <lambda>\n",
      "    __getattr__ = lambda self, name: _swig_getattr(self, AdvMotion_PathIntplLookaheadCommandPoint_Data_centerAndEndCircular, name)\n",
      "                                     ^^^^^^^^^^^^^^^^^^^^^^^^^^^^^^^^^^^^^^^^^^^^^^^^^^^^^^^^^^^^^^^^^^^^^^^^^^^^^^^^^^^^^^^^^^^^^\n",
      "  File \"\\\\mac\\Home\\Downloads\\codedemo\\WMX3ApiPython.py\", line 80, in _swig_getattr\n",
      "    raise AttributeError(\"'%s' object has no attribute '%s'\" % (class_type.__name__, name))\n",
      "AttributeError: 'AdvMotion_PathIntplLookaheadCommandPoint_Data_centerAndEndCircular' object has no attribute 'SetAuxiliaryAxis'\n",
      "!!!\n",
      "----------------------\n",
      "\n",
      "Self-correction but still got an error.\n",
      "\n",
      "\n",
      "Task ID: 75 🔽\n",
      "# Lines:['Write Python code to establish a Normal type E-CAM motion for master Axis 2 and slave Axis 1. Move Axis 2 to -100 with a velocity of 1000. E-CAM table is (-100, 100), (-50, 150), (0, 100), (50, 50), (100, 100), (150, 50) and (250, 150). Start the E-CAM motion. Then, move Axis 2 to 300.']\n",
      "# Tasks:['Write Python code to establish a Normal type E-CAM motion for master Axis 2 and slave Axis 1. Move Axis 2 to -100 with a velocity of 1000. E-CAM table is (-100, 100), (-50, 150), (0, 100), (50, 50), (100, 100), (150, 50) and (250, 150). Start the E-CAM motion. Then, move Axis 2 to 300.']\n",
      "codedata:\n",
      "Program begin.\n",
      "Program End.\n",
      "Elapsed_time: 4.455\n",
      "----------------------\n",
      "\n"
     ]
    },
    {
     "name": "stderr",
     "output_type": "stream",
     "text": [
      "Processing tasks:  65%|██████▍   | 75/116 [1:18:53<1:15:37, 110.67s/it]"
     ]
    },
    {
     "name": "stdout",
     "output_type": "stream",
     "text": [
      "# -------------------------------------------------------------------------\n",
      "\n",
      "Task ID: 76 🔽\n",
      "# Lines:['Write Python code to establish a Periodic type E-CAM motion for master Axis 5 and slave Axis 4. Move Axis 5 to -400 with a velocity of 2000. Then set up an E-CAM table with the pairs (-100, 100), (-50, 150), (0, 100), (50, 50), and (100, 100) and start the E-CAM motion. Finally, move Axis 5 to 800.']\n",
      "# Tasks:['Write Python code to establish a Periodic type E-CAM motion for master Axis 5 and slave Axis 4. Move Axis 5 to -400 with a velocity of 2000. Then set up an E-CAM table with the pairs (-100, 100), (-50, 150), (0, 100), (50, 50), and (100, 100) and start the E-CAM motion. Finally, move Axis 5 to 800.']\n",
      "codedata:\n",
      "Program begin.\n",
      "Program End.\n",
      "Elapsed_time: 5.524\n",
      "----------------------\n",
      "\n"
     ]
    },
    {
     "name": "stderr",
     "output_type": "stream",
     "text": [
      "Processing tasks:  66%|██████▌   | 76/116 [1:20:07<1:06:23, 99.58s/it] "
     ]
    },
    {
     "name": "stdout",
     "output_type": "stream",
     "text": [
      "# -------------------------------------------------------------------------\n",
      "\n",
      "Task ID: 77 🔽\n",
      "# Lines:[\"Write Python code to create a Periodic E-CAM table corresponding to the master axis 6's positions (50, 100, 200) and the slave axis 9's positions (100, 200, 300). The master axis is set to single-turn mode, with the encoder range being 0-360000. Then establishes the E-CAM table, and subsequently moves from the position of 0 to 300 at a speed of 1000.\"]\n",
      "# Tasks:[\"Write Python code to create a Periodic E-CAM table corresponding to the master axis 6's positions (50, 100, 200) and the slave axis 9's positions (100, 200, 300). The master axis is set to single-turn mode, with the encoder range being 0-360000. Then establishes the E-CAM table, and subsequently moves from the position of 0 to 300 at a speed of 1000.\"]\n",
      "codedata:\n",
      "Program begin.\n",
      "Program End.\n",
      "Elapsed_time: 3.681\n",
      "----------------------\n",
      "\n"
     ]
    },
    {
     "name": "stderr",
     "output_type": "stream",
     "text": [
      "Processing tasks:  66%|██████▋   | 77/116 [1:21:17<58:55, 90.67s/it]  "
     ]
    },
    {
     "name": "stdout",
     "output_type": "stream",
     "text": [
      "# -------------------------------------------------------------------------\n",
      "\n",
      "Task ID: 78 🔽\n",
      "# Lines:['Write Python code to establish a Repeat type E-CAM motion for master Axis 7 and slave Axis 2. Move Axis 7 to -300 at a velocity of 1000. Set up an E-CAM table with the pairs (0, 25), (50, 75), (100, 50), and (150, 100), and start the E-CAM motion. Finally, move Axis 7 to 300.']\n",
      "# Tasks:['Write Python code to establish a Repeat type E-CAM motion for master Axis 7 and slave Axis 2. Move Axis 7 to -300 at a velocity of 1000. Set up an E-CAM table with the pairs (0, 25), (50, 75), (100, 50), and (150, 100), and start the E-CAM motion. Finally, move Axis 7 to 300.']\n",
      "codedata:\n",
      "Program begin.\n",
      "Program End.\n",
      "Elapsed_time: 6.405\n",
      "----------------------\n",
      "\n"
     ]
    },
    {
     "name": "stderr",
     "output_type": "stream",
     "text": [
      "Processing tasks:  67%|██████▋   | 78/116 [1:22:28<53:40, 84.75s/it]"
     ]
    },
    {
     "name": "stdout",
     "output_type": "stream",
     "text": [
      "# -------------------------------------------------------------------------\n",
      "\n",
      "Task ID: 79 🔽\n",
      "# Lines:['Write Python code to establish a Repeat type E-CAM motion for master Axis 6 and slave Axis 3. Set the master axis to single-turn mode with a range of 0-360 degrees. Set up an E-CAM table with the pairs (0, 125), (50, 75), (100, 150),  (150, 100) and (200, 180), then start the E-CAM motion. Finally, move from position 0 to 1500 at a speed of 1000.']\n",
      "# Tasks:['Write Python code to establish a Repeat type E-CAM motion for master Axis 6 and slave Axis 3. Set the master axis to single-turn mode with a range of 0-360 degrees. Set up an E-CAM table with the pairs (0, 125), (50, 75), (100, 150),  (150, 100) and (200, 180), then start the E-CAM motion. Finally, move from position 0 to 1500 at a speed of 1000.']\n",
      "codedata:\n",
      "Program begin.\n",
      "Program End.\n",
      "Elapsed_time: 6.475\n",
      "----------------------\n",
      "\n"
     ]
    },
    {
     "name": "stderr",
     "output_type": "stream",
     "text": [
      "Processing tasks:  68%|██████▊   | 79/116 [1:23:42<50:15, 81.49s/it]"
     ]
    },
    {
     "name": "stdout",
     "output_type": "stream",
     "text": [
      "# -------------------------------------------------------------------------\n",
      "\n",
      "Task ID: 80 🔽\n",
      "# Lines:['Write Python code to record and execute an API buffer with the following sequence: First, move Axis 3 to a target position of 111 at a speed of 1000. When the remaining time is 8 ms, move to the target position of 222 at a speed of 2000. Finally, when the remaining time is 9 ms, move to the target position of 333 at a speed of 3000.']\n",
      "# Tasks:['Write Python code to record and execute an API buffer with the following sequence: First, move Axis 3 to a target position of 111 at a speed of 1000. When the remaining time is 8 ms, move to the target position of 222 at a speed of 2000. Finally, when the remaining time is 9 ms, move to the target position of 333 at a speed of 3000.']\n",
      "codedata:\n",
      "Program begin.\n",
      "Program End.\n",
      "Elapsed_time: 4.085\n",
      "----------------------\n",
      "\n"
     ]
    },
    {
     "name": "stderr",
     "output_type": "stream",
     "text": [
      "Processing tasks:  69%|██████▉   | 80/116 [1:24:36<43:59, 73.33s/it]"
     ]
    },
    {
     "name": "stdout",
     "output_type": "stream",
     "text": [
      "# -------------------------------------------------------------------------\n",
      "\n",
      "Task ID: 81 🔽\n",
      "# Lines:['Write Python code to record and execute an API buffer: Move Axis 9 and Axis 1 to a relative position of 50 and 60 at a speed of 1300. Then rewind the API buffer.']\n",
      "# Tasks:['Write Python code to record and execute an API buffer: Move Axis 9 and Axis 1 to a relative position of 50 and 60 at a speed of 1300. Then rewind the API buffer.']\n",
      "codedata:\n",
      "Program begin.\n",
      "Program End.\n",
      "Elapsed_time: 4.646\n",
      "----------------------\n",
      "\n"
     ]
    },
    {
     "name": "stderr",
     "output_type": "stream",
     "text": [
      "Processing tasks:  70%|██████▉   | 81/116 [1:25:21<37:48, 64.80s/it]"
     ]
    },
    {
     "name": "stdout",
     "output_type": "stream",
     "text": [
      "# -------------------------------------------------------------------------\n",
      "\n",
      "Task ID: 82 🔽\n",
      "# Lines:['Write Python code to record and execute an API buffer with :Move Axis 5 to a relative position of 150 at a speed of 1500. Then it move to a relative position of -150. Auto Rewind is enabled. Then the api buffer will auto rewind and stop after 0.5s.']\n",
      "# Tasks:['Write Python code to record and execute an API buffer with :Move Axis 5 to a relative position of 150 at a speed of 1500. Then it move to a relative position of -150. Auto Rewind is enabled. Then the api buffer will auto rewind and stop after 0.5s.']\n",
      "codedata:\n",
      "Program begin.\n",
      "Program End.\n",
      "Elapsed_time: 3.903\n",
      "----------------------\n",
      "\n"
     ]
    },
    {
     "name": "stderr",
     "output_type": "stream",
     "text": [
      "Processing tasks:  71%|███████   | 82/116 [1:26:05<33:07, 58.46s/it]"
     ]
    },
    {
     "name": "stdout",
     "output_type": "stream",
     "text": [
      "# -------------------------------------------------------------------------\n",
      "\n",
      "Task ID: 83 🔽\n",
      "# Lines:['Write Python code to run an API buffer: If IO output 3.4 equals 1, move Axis 5 by a distance of 200; otherwise, move it by a distance of -140.']\n",
      "# Tasks:['Write Python code to run an API buffer: If IO output 3.4 equals 1, move Axis 5 by a distance of 200; otherwise, move it by a distance of -140.']\n",
      "codedata:\n",
      "Program begin.\n",
      "Program End.\n",
      "Elapsed_time: 3.340\n",
      "----------------------\n",
      "\n"
     ]
    },
    {
     "name": "stderr",
     "output_type": "stream",
     "text": [
      "Processing tasks:  72%|███████▏  | 83/116 [1:26:46<29:23, 53.45s/it]"
     ]
    },
    {
     "name": "stdout",
     "output_type": "stream",
     "text": [
      "# -------------------------------------------------------------------------\n",
      "\n",
      "Task ID: 84 🔽\n",
      "# Lines:['Write Python code to run an API buffer: If IO input 3.5 equals 0, move Axis 8 by a distance of 200; otherwise, move it by a distance of -140.']\n",
      "# Tasks:['Write Python code to run an API buffer: If IO input 3.5 equals 0, move Axis 8 by a distance of 200; otherwise, move it by a distance of -140.']\n",
      "codedata:\n",
      "Program begin.\n",
      "Program End.\n",
      "Elapsed_time: 3.541\n",
      "----------------------\n",
      "\n"
     ]
    },
    {
     "name": "stderr",
     "output_type": "stream",
     "text": [
      "Processing tasks:  72%|███████▏  | 84/116 [1:27:26<26:22, 49.44s/it]"
     ]
    },
    {
     "name": "stdout",
     "output_type": "stream",
     "text": [
      "# -------------------------------------------------------------------------\n",
      "\n",
      "Task ID: 85 🔽\n",
      "# Lines:['Write Python code to run an API buffer to linearly interpolate Axis 3 and Axis 6 to (100, 0) at a speed of 1000. then linearly interpolate to (100, 100), (0, 100), and (0, 0) respectively with a condition when starting deceleration.']\n",
      "# Tasks:['Write Python code to run an API buffer to linearly interpolate Axis 3 and Axis 6 to (100, 0) at a speed of 1000. then linearly interpolate to (100, 100), (0, 100), and (0, 0) respectively with a condition when starting deceleration.']\n",
      "codedata:\n",
      "Program begin.\n",
      "Program End.\n",
      "Elapsed_time: 4.510\n",
      "----------------------\n",
      "\n"
     ]
    },
    {
     "name": "stderr",
     "output_type": "stream",
     "text": [
      "Processing tasks:  73%|███████▎  | 85/116 [1:28:31<27:56, 54.10s/it]"
     ]
    },
    {
     "name": "stdout",
     "output_type": "stream",
     "text": [
      "# -------------------------------------------------------------------------\n",
      "\n",
      "Task ID: 86 🔽\n",
      "# Lines:['Write Python code to set the pitch error compensation table for Axis 4 with the following data points: (0, 12), (100, -12), (200, 16), (300, -16). Then, move it from 0 to 300 at a speed of 1000.']\n",
      "# Tasks:['Write Python code to set the pitch error compensation table for Axis 4 with the following data points: (0, 12), (100, -12), (200, 16), (300, -16). Then, move it from 0 to 300 at a speed of 1000.']\n",
      "codedata:\n",
      "Program begin.\n",
      "Program End.\n",
      "Elapsed_time: 3.725\n",
      "----------------------\n",
      "\n"
     ]
    },
    {
     "name": "stderr",
     "output_type": "stream",
     "text": [
      "Processing tasks:  74%|███████▍  | 86/116 [1:29:06<24:05, 48.18s/it]"
     ]
    },
    {
     "name": "stdout",
     "output_type": "stream",
     "text": [
      "# -------------------------------------------------------------------------\n",
      "\n",
      "Task ID: 87 🔽\n",
      "# Lines:['Write Python code to set the pitch error compensation table for Axis 4 with the following data points: (0, 2), (10, 4), (20, 6), (30, 8), (40, 10), (50, 12), (60, 14), (70, 16), (80, 18), (90, 20) and (100, -10). Then, move it from 0 to 110 at a speed of 2000.']\n",
      "# Tasks:['Write Python code to set the pitch error compensation table for Axis 4 with the following data points: (0, 2), (10, 4), (20, 6), (30, 8), (40, 10), (50, 12), (60, 14), (70, 16), (80, 18), (90, 20) and (100, -10). Then, move it from 0 to 110 at a speed of 2000.']\n",
      "codedata:\n",
      "Program begin.\n",
      "Program End.\n",
      "Elapsed_time: 3.358\n",
      "----------------------\n",
      "\n"
     ]
    },
    {
     "name": "stderr",
     "output_type": "stream",
     "text": [
      "Processing tasks:  75%|███████▌  | 87/116 [1:29:48<22:27, 46.46s/it]"
     ]
    },
    {
     "name": "stdout",
     "output_type": "stream",
     "text": [
      "# -------------------------------------------------------------------------\n",
      "\n",
      "Task ID: 88 🔽\n",
      "# Lines:['Write Python code to set the positive direction BacklashCompensation for Axis 8. Backlash High and Backlash Low is 11 and 4. Distance High and Distance Low is 80 and 30. Then, Move it from 0 to the absolute position 122.6 at a speed of 2000.']\n",
      "# Tasks:['Write Python code to set the positive direction BacklashCompensation for Axis 8. Backlash High and Backlash Low is 11 and 4. Distance High and Distance Low is 80 and 30. Then, Move it from 0 to the absolute position 122.6 at a speed of 2000.']\n",
      "codedata:\n",
      "Program begin.\n",
      "Program End.\n",
      "Elapsed_time: 3.230\n",
      "----------------------\n",
      "\n"
     ]
    },
    {
     "name": "stderr",
     "output_type": "stream",
     "text": [
      "Processing tasks:  76%|███████▌  | 88/116 [1:30:31<21:08, 45.32s/it]"
     ]
    },
    {
     "name": "stdout",
     "output_type": "stream",
     "text": [
      "# -------------------------------------------------------------------------\n",
      "\n",
      "Task ID: 89 🔽\n",
      "# Lines:['Write Python code for a position synchronous output function using the LessThan comparison. The position comparison values of Axis 9 are: 11, 22, 33, with a IO output point at 2.1. Move Axis 9 to the 44, with a speed of 1500, and acceleration and deceleration are set to 15000.']\n",
      "# Tasks:['Write Python code for a position synchronous output function using the LessThan comparison. The position comparison values of Axis 9 are: 11, 22, 33, with a IO output point at 2.1. Move Axis 9 to the 44, with a speed of 1500, and acceleration and deceleration are set to 15000.']\n",
      "codedata:\n",
      "Program begin.\n",
      "Program End.\n",
      "Elapsed_time: 3.207\n",
      "----------------------\n",
      "\n"
     ]
    },
    {
     "name": "stderr",
     "output_type": "stream",
     "text": [
      "Processing tasks:  77%|███████▋  | 89/116 [1:31:21<21:06, 46.89s/it]"
     ]
    },
    {
     "name": "stdout",
     "output_type": "stream",
     "text": [
      "# -------------------------------------------------------------------------\n",
      "\n",
      "Task ID: 90 🔽\n",
      "# Lines:['Write Python code to demonstrate a PSO function using the Equal, PositiveDirection, and NegativeDirection comparison type with Channel 0, 1, 2 respectively. The position synchronization values of Axis 2 are: 12, 24, 36, with the PSO  IO output at 3.0, 3.1, 3.2. Move Axis 2 to the target position of 48, with a speed of 1000, and acceleration and deceleration are set to 10000.']\n",
      "# Tasks:['Write Python code to demonstrate a PSO function using the Equal, PositiveDirection, and NegativeDirection comparison type with Channel 0, 1, 2 respectively. The position synchronization values of Axis 2 are: 12, 24, 36, with the PSO  IO output at 3.0, 3.1, 3.2. Move Axis 2 to the target position of 48, with a speed of 1000, and acceleration and deceleration are set to 10000.']\n",
      "codedata:\n",
      "Program begin.\n",
      "Program End.\n",
      "Elapsed_time: 7.924\n",
      "----------------------\n",
      "\n"
     ]
    },
    {
     "name": "stderr",
     "output_type": "stream",
     "text": [
      "Processing tasks:  78%|███████▊  | 90/116 [1:32:44<24:59, 57.68s/it]"
     ]
    },
    {
     "name": "stdout",
     "output_type": "stream",
     "text": [
      "# -------------------------------------------------------------------------\n",
      "\n",
      "Task ID: 91 🔽\n",
      "# Lines:['Write Python code for a PSO of Axis4 with the Equal, PositiveDirection, and NegativeDirection comparison type and Channel 0, 1, 2 respectively. Interval position synchronization output parameters: rangeStart = 0, rangeEnd = 30, and interval = 5 with the position synchronization IO output point at 5.0, 5.1, 5.2. Move Axis 4 to 60, with a speed of 1000, and acceleration and deceleration are set to 10000.']\n",
      "# Tasks:['Write Python code for a PSO of Axis4 with the Equal, PositiveDirection, and NegativeDirection comparison type and Channel 0, 1, 2 respectively. Interval position synchronization output parameters: rangeStart = 0, rangeEnd = 30, and interval = 5 with the position synchronization IO output point at 5.0, 5.1, 5.2. Move Axis 4 to 60, with a speed of 1000, and acceleration and deceleration are set to 10000.']\n",
      "codedata:\n",
      "Program begin.\n",
      "Program End.\n",
      "Elapsed_time: 4.266\n",
      "----------------------\n",
      "\n"
     ]
    },
    {
     "name": "stderr",
     "output_type": "stream",
     "text": [
      "Processing tasks:  78%|███████▊  | 91/116 [1:34:01<26:25, 63.40s/it]"
     ]
    },
    {
     "name": "stdout",
     "output_type": "stream",
     "text": [
      "# -------------------------------------------------------------------------\n",
      "\n",
      "Task ID: 92 🔽\n",
      "# Lines:['Write Python code to set the In Pos Width parameter of Axis 10 to 0.234. Then check if In Pos Width equals 0.234; if it does, move Axis 10 to 234, otherwise move it to -234.']\n",
      "# Tasks:['Write Python code to set the In Pos Width parameter of Axis 10 to 0.234. Then check if In Pos Width equals 0.234; if it does, move Axis 10 to 234, otherwise move it to -234.']\n",
      "codedata:\n",
      "Program begin.\n",
      "Program End.\n",
      "Elapsed_time: 4.977\n",
      "----------------------\n",
      "\n"
     ]
    },
    {
     "name": "stderr",
     "output_type": "stream",
     "text": [
      "Processing tasks:  79%|███████▉  | 92/116 [1:34:43<22:49, 57.08s/it]"
     ]
    },
    {
     "name": "stdout",
     "output_type": "stream",
     "text": [
      "# -------------------------------------------------------------------------\n",
      "\n",
      "Task ID: 93 🔽\n",
      "# Lines:['Write Python code to set the Home Position parameter of Axis 3 to 8.8. Then do homing for Axis 3. Finally change the parameter to 0.']\n",
      "# Tasks:['Write Python code to set the Home Position parameter of Axis 3 to 8.8. Then do homing for Axis 3. Finally change the parameter to 0.']\n",
      "codeerr:\n",
      "Traceback (most recent call last):\n",
      "  File \"\\\\mac\\Home\\Downloads\\codedemo\\sample.py\", line 267, in <module>\n",
      "    main()\n",
      "  File \"\\\\mac\\Home\\Downloads\\codedemo\\sample.py\", line 214, in main\n",
      "    ret = Wmx3Lib_cm.motion.StartHome(axis)\n",
      "          ^^^^^^^^^^^^^^^^^^^^^^^^^^^\n",
      "  File \"\\\\mac\\Home\\Downloads\\codedemo\\WMX3ApiPython.py\", line 8625, in <lambda>\n",
      "    __getattr__ = lambda self, name: _swig_getattr(self, Motion, name)\n",
      "                                     ^^^^^^^^^^^^^^^^^^^^^^^^^^^^^^^^^\n",
      "  File \"\\\\mac\\Home\\Downloads\\codedemo\\WMX3ApiPython.py\", line 80, in _swig_getattr\n",
      "    raise AttributeError(\"'%s' object has no attribute '%s'\" % (class_type.__name__, name))\n",
      "AttributeError: 'Motion' object has no attribute 'StartHome'. Did you mean: 'StartJog'?\n",
      "!!!\n",
      "----------------------\n",
      "\n",
      "\n",
      "# Error string:----------------------\n",
      "AttributeError: 'Motion' object has no attribute 'StartHome'. Did you mean: 'StartJog'?\n",
      "\n",
      "# Error ref:----------------------\n",
      "StartHome() : Home , PMAxisHome \n",
      "StartHotconnect() : Ecat \n",
      "StartingPreviousCommand : ErrorCode \n",
      "star\n",
      "# -------------\n",
      "StartJog() : Motion \n",
      "StartLinearIntplMov() : Motion \n",
      "StartLinearIntplPos() : Motion \n",
      "StartLog() : Lo\n",
      "# -------------\n",
      "{\n",
      "        \"No\": 157,\n",
      "        \"FunctionPython\": \"def StartJog(pJogCommand)\\u00a0\",\n",
      "        \"FunctionC\n",
      "# -------------\n",
      "{\n",
      "        \"No\": 167,\n",
      "        \"FunctionPython\": \"def StartMovToJog(pPosToJogCommand)\\u00a0\",\n",
      "        \n",
      "# -------------\n",
      "StartCircularIntplPos(Throu Motion \n",
      "StartCircularIntplPos(Lengt Motion \n",
      "StartCircularIntplPos(Radiu \n"
     ]
    },
    {
     "name": "stderr",
     "output_type": "stream",
     "text": [
      "Processing tasks:  80%|████████  | 93/116 [1:35:40<21:51, 57.02s/it]"
     ]
    },
    {
     "name": "stdout",
     "output_type": "stream",
     "text": [
      "codeerr:\n",
      "Traceback (most recent call last):\n",
      "  File \"\\\\mac\\Home\\Downloads\\codedemo\\sample.py\", line 270, in <module>\n",
      "    main()\n",
      "  File \"\\\\mac\\Home\\Downloads\\codedemo\\sample.py\", line 214, in main\n",
      "    jogCommand = JogCommand()\n",
      "                 ^^^^^^^^^^\n",
      "NameError: name 'JogCommand' is not defined. Did you mean: 'jogCommand'?\n",
      "!!!\n",
      "----------------------\n",
      "\n",
      "Self-correction but still got an error.\n",
      "\n",
      "\n",
      "Task ID: 94 🔽\n",
      "# Lines:['1. Write Python code to set the Soft Limit Positive Position and Soft Limit Negative Position parameter of Axis 2 to 133 and -133;', '2. Write Python code to check if Soft Limit Positive Position and Soft Limit Negative Position equals 133 and -133;', '3. Write Python code to move Axis 2 to 132 if the Soft Limit Positive Position and Soft Limit Negative Position equals 133 and -133, otherwise move it to -132.']\n",
      "# Tasks:['1. Write Python code to set the Soft Limit Positive Position and Soft Limit Negative Position parameter of Axis 2 to 133 and -133;', '2. Write Python code to check if Soft Limit Positive Position and Soft Limit Negative Position equals 133 and -133;', '3. Write Python code to move Axis 2 to 132 if the Soft Limit Positive Position and Soft Limit Negative Position equals 133 and -133, otherwise move it to -132.']\n",
      "codedata:\n",
      "Program begin.\n",
      "Program End.\n",
      "Elapsed_time: 3.777\n",
      "----------------------\n",
      "\n"
     ]
    },
    {
     "name": "stderr",
     "output_type": "stream",
     "text": [
      "Processing tasks:  81%|████████  | 94/116 [1:37:24<26:02, 71.03s/it]"
     ]
    },
    {
     "name": "stdout",
     "output_type": "stream",
     "text": [
      "# -------------------------------------------------------------------------\n",
      "\n",
      "Task ID: 95 🔽\n",
      "# Lines:['Write Python code to move Axis 8 to 150, then set the Enable Global Starting Velocity parameter of Axis 8 to TRUE and Global Starting Velocity parameter to 555. Then move it to 300.']\n",
      "# Tasks:['Write Python code to move Axis 8 to 150, then set the Enable Global Starting Velocity parameter of Axis 8 to TRUE and Global Starting Velocity parameter to 555. Then move it to 300.']\n",
      "codedata:\n",
      "Program begin.\n",
      "Program End.\n",
      "Elapsed_time: 3.781\n",
      "----------------------\n",
      "\n"
     ]
    },
    {
     "name": "stderr",
     "output_type": "stream",
     "text": [
      "Processing tasks:  82%|████████▏ | 95/116 [1:37:57<20:51, 59.59s/it]"
     ]
    },
    {
     "name": "stdout",
     "output_type": "stream",
     "text": [
      "# -------------------------------------------------------------------------\n",
      "\n",
      "Task ID: 96 🔽\n",
      "# Lines:['Write Python code to set the Following Error Stopped and Following Error Moving parameter of Axis 6 to 0.02 and 0.05. Also set Servo Off During Amp Alarm to FALSE. Then check if all the parameters are set correctly; if it does, move Axis 6 to 99, otherwise move it to 66.']\n",
      "# Tasks:['Write Python code to set the Following Error Stopped and Following Error Moving parameter of Axis 6 to 0.02 and 0.05. Also set Servo Off During Amp Alarm to FALSE. Then check if all the parameters are set correctly; if it does, move Axis 6 to 99, otherwise move it to 66.']\n",
      "codeerr:\n",
      "Traceback (most recent call last):\n",
      "  File \"\\\\mac\\Home\\Downloads\\codedemo\\sample.py\", line 290, in <module>\n",
      "    main()\n",
      "  File \"\\\\mac\\Home\\Downloads\\codedemo\\sample.py\", line 243, in main\n",
      "    if all_parameters_set_correctly():\n",
      "       ^^^^^^^^^^^^^^^^^^^^^^^^^^^^\n",
      "NameError: name 'all_parameters_set_correctly' is not defined\n",
      "!!!\n",
      "----------------------\n",
      "\n",
      "\n",
      "# Error string:----------------------\n",
      "NameError: name 'all_parameters_set_correctly' is not defined\n",
      "\n",
      "# Error ref:----------------------\n",
      "{\n",
      "        \"No\": 393,\n",
      "        \"FunctionPython\": \"def ImportAndSetAll(path)\\u00a0\",\n",
      "        \"FunctionC\n",
      "# -------------\n",
      "wmxlib_cm.ErrorToString(err, errString, sizeof(errString));\n",
      "printf(\"Failed to set parameters. Error=\n",
      "# -------------\n",
      "``\n",
      "\n",
      "\n",
      "\n",
      "# Write Python code to set the Flight Recorder parameters for Axis 0. Set‘Enable Flight Record\n",
      "# -------------\n",
      "{\n",
      "        \"No\": 356,\n",
      "        \"FunctionPython\": \"def SetEmergencyStopParam(pParam)\\u00a0\",\n",
      "        \"F\n",
      "# -------------\n",
      "{\n",
      "        \"No\": 323,\n",
      "        \"FunctionPython\": \"def SetParam(pParam)\\u00a0\",\n",
      "        \"FunctionC++\": \n",
      "codedata:\n",
      "Program begin.\n",
      "Program End.\n",
      "Elapsed_time: 3.248\n",
      "----------------------\n",
      "\n",
      "Self-corrected.\n",
      "\n",
      "\n"
     ]
    },
    {
     "name": "stderr",
     "output_type": "stream",
     "text": [
      "Processing tasks:  83%|████████▎ | 96/116 [1:39:33<23:30, 70.55s/it]"
     ]
    },
    {
     "name": "stdout",
     "output_type": "stream",
     "text": [
      "# -------------------------------------------------------------------------\n",
      "\n",
      "Task ID: 97 🔽\n",
      "# Lines:['Write Python code to set the Match Pos and Sync Compensation Mode parameter of Axis 9 to true and SymmetricVelocityOffset. Then check if if all the parameters are set correctly, if it does, move Axis 9 to 9.9, otherwise move it to -9.9.']\n",
      "# Tasks:['Write Python code to set the Match Pos and Sync Compensation Mode parameter of Axis 9 to true and SymmetricVelocityOffset. Then check if if all the parameters are set correctly, if it does, move Axis 9 to 9.9, otherwise move it to -9.9.']\n",
      "codedata:\n",
      "Program begin.\n",
      "Program End.\n",
      "Elapsed_time: 3.251\n",
      "----------------------\n",
      "\n"
     ]
    },
    {
     "name": "stderr",
     "output_type": "stream",
     "text": [
      "Processing tasks:  84%|████████▎ | 97/116 [1:40:28<20:53, 66.00s/it]"
     ]
    },
    {
     "name": "stdout",
     "output_type": "stream",
     "text": [
      "# -------------------------------------------------------------------------\n",
      "\n",
      "Task ID: 98 🔽\n",
      "# Lines:['Write Python code to set the Trigger Flight Recorder On Amp Alarm parameter of Axis 8 to false. Then check if this parameter is set correctly, if it does, move Axis 8 to 88, otherwise move it to -88.']\n",
      "# Tasks:['Write Python code to set the Trigger Flight Recorder On Amp Alarm parameter of Axis 8 to false. Then check if this parameter is set correctly, if it does, move Axis 8 to 88, otherwise move it to -88.']\n",
      "codedata:\n",
      "Program begin.\n",
      "Program End.\n",
      "Elapsed_time: 3.558\n",
      "----------------------\n",
      "\n"
     ]
    },
    {
     "name": "stderr",
     "output_type": "stream",
     "text": [
      "Processing tasks:  84%|████████▍ | 98/116 [1:41:05<17:08, 57.11s/it]"
     ]
    },
    {
     "name": "stdout",
     "output_type": "stream",
     "text": [
      "# -------------------------------------------------------------------------\n",
      "\n",
      "Task ID: 99 🔽\n",
      "# Lines:['Write Python code to set the E-Stop Level 1 Type parameter of Axis 9 to DecServoOff. Then check if this parameter is set correctly, if yes, move Axis 9 to 99.9, otherwise move it to -99.9 with S curve profile.']\n",
      "# Tasks:['Write Python code to set the E-Stop Level 1 Type parameter of Axis 9 to DecServoOff. Then check if this parameter is set correctly, if yes, move Axis 9 to 99.9, otherwise move it to -99.9 with S curve profile.']\n",
      "codedata:\n",
      "Program begin.\n",
      "Program End.\n",
      "Elapsed_time: 3.397\n",
      "----------------------\n",
      "\n"
     ]
    },
    {
     "name": "stderr",
     "output_type": "stream",
     "text": [
      "Processing tasks:  85%|████████▌ | 99/116 [1:41:51<15:13, 53.73s/it]"
     ]
    },
    {
     "name": "stdout",
     "output_type": "stream",
     "text": [
      "# -------------------------------------------------------------------------\n",
      "\n",
      "Task ID: 100 🔽\n",
      "# Lines:['Write Python code to set the Axis Polarity parameter of Axis 10 to -1. Then check if this parameter is set correctly, if yes, move Axis 10 to 100, otherwise move it to -10.']\n",
      "# Tasks:['Write Python code to set the Axis Polarity parameter of Axis 10 to -1. Then check if this parameter is set correctly, if yes, move Axis 10 to 100, otherwise move it to -10.']\n",
      "codedata:\n",
      "Program begin.\n",
      "Program End.\n",
      "Elapsed_time: 3.679\n",
      "----------------------\n",
      "\n"
     ]
    },
    {
     "name": "stderr",
     "output_type": "stream",
     "text": [
      "Processing tasks:  86%|████████▌ | 100/116 [1:42:23<12:37, 47.36s/it]"
     ]
    },
    {
     "name": "stdout",
     "output_type": "stream",
     "text": [
      "# -------------------------------------------------------------------------\n",
      "\n",
      "Task ID: 101 🔽\n",
      "# Lines:[\"Write Python code to get the System status 'Engine State' for the entire system. If it is Communicating, move Axis 1 to 111.1, otherwise, move to 0.1.\"]\n",
      "# Tasks:[\"Write Python code to get the System status 'Engine State' for the entire system. If it is Communicating, move Axis 1 to 111.1, otherwise, move to 0.1.\"]\n",
      "codedata:\n",
      "Program begin.\n",
      "Program End.\n",
      "Elapsed_time: 3.176\n",
      "----------------------\n",
      "\n"
     ]
    },
    {
     "name": "stderr",
     "output_type": "stream",
     "text": [
      "Processing tasks:  87%|████████▋ | 101/116 [1:42:54<10:35, 42.37s/it]"
     ]
    },
    {
     "name": "stdout",
     "output_type": "stream",
     "text": [
      "# -------------------------------------------------------------------------\n",
      "\n",
      "Task ID: 102 🔽\n",
      "# Lines:['Write Python code to move Axis 2 to 200 and Axis 4 to 110, then if the Axis status of position command for Axis 2 minus position command for Axis 4 is 90, move Axis 2 and 4 to 300, otherwise move them to 50.']\n",
      "# Tasks:['Write Python code to move Axis 2 to 200 and Axis 4 to 110, then if the Axis status of position command for Axis 2 minus position command for Axis 4 is 90, move Axis 2 and 4 to 300, otherwise move them to 50.']\n",
      "codedata:\n",
      "Program begin.\n",
      "Program End.\n",
      "Elapsed_time: 4.307\n",
      "----------------------\n",
      "\n"
     ]
    },
    {
     "name": "stderr",
     "output_type": "stream",
     "text": [
      "Processing tasks:  88%|████████▊ | 102/116 [1:43:31<09:31, 40.80s/it]"
     ]
    },
    {
     "name": "stdout",
     "output_type": "stream",
     "text": [
      "# -------------------------------------------------------------------------\n",
      "\n",
      "Task ID: 103 🔽\n",
      "# Lines:['Write Python code that moves Axis 3 and 4 to position 36 and 45 at the same time with a speed of 900, then moves 6 to 108 with the same speed.']\n",
      "# Tasks:['Write Python code that moves Axis 3 and 4 to position 36 and 45 at the same time with a speed of 900, then moves 6 to 108 with the same speed.']\n",
      "codedata:\n",
      "Program begin.\n",
      "Program End.\n",
      "Elapsed_time: 4.810\n",
      "----------------------\n",
      "\n"
     ]
    },
    {
     "name": "stderr",
     "output_type": "stream",
     "text": [
      "Processing tasks:  89%|████████▉ | 103/116 [1:44:00<08:05, 37.32s/it]"
     ]
    },
    {
     "name": "stdout",
     "output_type": "stream",
     "text": [
      "# -------------------------------------------------------------------------\n",
      "\n",
      "Task ID: 104 🔽\n",
      "# Lines:['Write Python code that moves Axis 2 to position 80 with a speed of 900, and an end velocity of 800, then moves it to 100 with a start velocity of 800.']\n",
      "# Tasks:['Write Python code that moves Axis 2 to position 80 with a speed of 900, and an end velocity of 800, then moves it to 100 with a start velocity of 800.']\n",
      "codedata:\n",
      "Program begin.\n",
      "Program End.\n",
      "Elapsed_time: 3.798\n",
      "----------------------\n",
      "\n"
     ]
    },
    {
     "name": "stderr",
     "output_type": "stream",
     "text": [
      "Processing tasks:  90%|████████▉ | 104/116 [1:44:31<07:05, 35.50s/it]"
     ]
    },
    {
     "name": "stdout",
     "output_type": "stream",
     "text": [
      "# -------------------------------------------------------------------------\n",
      "\n",
      "Task ID: 105 🔽\n",
      "# Lines:['Write Python code that moves Axis 5 to position 180 with a speed of 1100, then moves it with a distance of -10 for 5 times.']\n",
      "# Tasks:['Write Python code that moves Axis 5 to position 180 with a speed of 1100, then moves it with a distance of -10 for 5 times.']\n",
      "codedata:\n",
      "Program begin.\n",
      "Program End.\n",
      "Elapsed_time: 4.267\n",
      "----------------------\n",
      "\n"
     ]
    },
    {
     "name": "stderr",
     "output_type": "stream",
     "text": [
      "Processing tasks:  91%|█████████ | 105/116 [1:45:00<06:07, 33.42s/it]"
     ]
    },
    {
     "name": "stdout",
     "output_type": "stream",
     "text": [
      "# -------------------------------------------------------------------------\n",
      "\n",
      "Task ID: 106 🔽\n",
      "# Lines:['1. Write Python code to move Axis 6 to position 220 with a speed of 1600;', '2. Write Python code to move Axis 6 as a distance of 110 with a speed of 600;', '3. Write Python code to start an absolute linear interpolation for Axes 6 and 8 to position (200, 50) with a velocity of 1100.']\n",
      "# Tasks:['1. Write Python code to move Axis 6 to position 220 with a speed of 1600;', '2. Write Python code to move Axis 6 as a distance of 110 with a speed of 600;', '3. Write Python code to start an absolute linear interpolation for Axes 6 and 8 to position (200, 50) with a velocity of 1100.']\n",
      "codedata:\n",
      "Program begin.\n",
      "Program End.\n",
      "Elapsed_time: 4.667\n",
      "----------------------\n",
      "\n"
     ]
    },
    {
     "name": "stderr",
     "output_type": "stream",
     "text": [
      "Processing tasks:  91%|█████████▏| 106/116 [1:46:23<08:03, 48.37s/it]"
     ]
    },
    {
     "name": "stdout",
     "output_type": "stream",
     "text": [
      "# -------------------------------------------------------------------------\n",
      "\n",
      "Task ID: 107 🔽\n",
      "# Lines:['1. Write Python code to move Axis 7 to position 220 with a speed of 1500;', '2. Write Python code to set IO output bit 0.7 to 1, sleep for 0.2 seconds, then set it to 0;', '3. Write Python code to start an absolute linear interpolation for Axes 7 and 9 to position (200, 50) with a velocity of 1200;', '4. Write Python code to start an relative linear interpolation for Axes 7 and 9 to position (-100, 50).']\n",
      "# Tasks:['1. Write Python code to move Axis 7 to position 220 with a speed of 1500;', '2. Write Python code to set IO output bit 0.7 to 1, sleep for 0.2 seconds, then set it to 0;', '3. Write Python code to start an absolute linear interpolation for Axes 7 and 9 to position (200, 50) with a velocity of 1200;', '4. Write Python code to start an relative linear interpolation for Axes 7 and 9 to position (-100, 50).']\n",
      "codedata:\n",
      "Program begin.\n",
      "Program End.\n",
      "Elapsed_time: 4.897\n",
      "----------------------\n",
      "\n"
     ]
    },
    {
     "name": "stderr",
     "output_type": "stream",
     "text": [
      "Processing tasks:  92%|█████████▏| 107/116 [1:48:23<10:27, 69.77s/it]"
     ]
    },
    {
     "name": "stdout",
     "output_type": "stream",
     "text": [
      "# -------------------------------------------------------------------------\n",
      "\n",
      "Task ID: 108 🔽\n",
      "# Lines:['1. Write Python code to move Axis 7 to position 220 with a speed of 1500;', '2. Write Python code to set IO output bit 0.7 to 1, sleep for 0.2 seconds, then set it to 0;', '3. Write Python code to start an absolute linear interpolation for Axes 7 and 9 to position (200, 50) with a velocity of 1200;', '4. Write Python code to start an relative linear interpolation for Axes 7 and 9 to position (-100, 50);', '5. Write Python code to start a counterclockwise circular interpolation motion command for Axis 7 and 9, with a center position of (50, 50), an arc length of 270, and a velocity of 1000.']\n",
      "# Tasks:['1. Write Python code to move Axis 7 to position 220 with a speed of 1500;', '2. Write Python code to set IO output bit 0.7 to 1, sleep for 0.2 seconds, then set it to 0;', '3. Write Python code to start an absolute linear interpolation for Axes 7 and 9 to position (200, 50) with a velocity of 1200;', '4. Write Python code to start an relative linear interpolation for Axes 7 and 9 to position (-100, 50);', '5. Write Python code to start a counterclockwise circular interpolation motion command for Axis 7 and 9, with a center position of (50, 50), an arc length of 270, and a velocity of 1000.']\n",
      "codedata:\n",
      "Program begin.\n",
      "Program End.\n",
      "Elapsed_time: 5.367\n",
      "----------------------\n",
      "\n"
     ]
    },
    {
     "name": "stderr",
     "output_type": "stream",
     "text": [
      "Processing tasks:  93%|█████████▎| 108/116 [1:51:06<13:01, 97.74s/it]"
     ]
    },
    {
     "name": "stdout",
     "output_type": "stream",
     "text": [
      "# -------------------------------------------------------------------------\n",
      "\n",
      "Task ID: 109 🔽\n",
      "# Lines:['1. Write Python code to start an absolute path interpolation motion command for Axes 9 and 2 with a velocity of 1200. The path includes: Linear interpolation to (-50, -50); Clockwise circular interpolation to (-100, -100) with center at (0, 0); Linear interpolation to (50, 50); Counterclockwise circular interpolation to (-100, -100) with center at (0, 0);', '2. Write Python code to start an absolute linear interpolation for Axes 9 and 2 to position (100, 200) with a velocity of 1000;', '3. Write Python code to start a clockwise circular interpolation motion command for Axis 9 and 2, with a center position of (100, 100), an arc length of 180, and a velocity of 1200;', '4. Write Python code to Move Axis 9 and 2 to (100, 200).']\n",
      "# Tasks:['1. Write Python code to start an absolute path interpolation motion command for Axes 9 and 2 with a velocity of 1200. The path includes: Linear interpolation to (-50, -50); Clockwise circular interpolation to (-100, -100) with center at (0, 0); Linear interpolation to (50, 50); Counterclockwise circular interpolation to (-100, -100) with center at (0, 0);', '2. Write Python code to start an absolute linear interpolation for Axes 9 and 2 to position (100, 200) with a velocity of 1000;', '3. Write Python code to start a clockwise circular interpolation motion command for Axis 9 and 2, with a center position of (100, 100), an arc length of 180, and a velocity of 1200;', '4. Write Python code to Move Axis 9 and 2 to (100, 200).']\n",
      "codedata:\n",
      "Program begin.\n",
      "Program End.\n",
      "Elapsed_time: 6.803\n",
      "----------------------\n",
      "\n"
     ]
    },
    {
     "name": "stderr",
     "output_type": "stream",
     "text": [
      "Processing tasks:  94%|█████████▍| 109/116 [1:54:28<15:03, 129.02s/it]"
     ]
    },
    {
     "name": "stdout",
     "output_type": "stream",
     "text": [
      "# -------------------------------------------------------------------------\n",
      "\n",
      "Task ID: 110 🔽\n",
      "# Lines:['1. Write Python code to Record and execute an API buffer: move Axis 7 to position 150 and Axis 8 to position 180;', '2. Write Python code to linearly interpolate Axis 7 and 8 to (191, 222) at a velocity of 1000 with acceleration and deceleration of 10000;', '3. Write Python code to execute a trapezoidal profile type cubic spline for Axis 7 and Axis 8 with the points (0, 0), (25, -50), (50, 0), (75, 50), and (100, 0) at a velocity of 1600;', '4. Write Python code to set IO output bit 3.1 to 1, wait 0.2 seconds, then set it to 0, repeating this cycle 5 times;']\n",
      "# Tasks:['1. Write Python code to Record and execute an API buffer: move Axis 7 to position 150 and Axis 8 to position 180;', '2. Write Python code to linearly interpolate Axis 7 and 8 to (191, 222) at a velocity of 1000 with acceleration and deceleration of 10000;', '3. Write Python code to execute a trapezoidal profile type cubic spline for Axis 7 and Axis 8 with the points (0, 0), (25, -50), (50, 0), (75, 50), and (100, 0) at a velocity of 1600;', '4. Write Python code to set IO output bit 3.1 to 1, wait 0.2 seconds, then set it to 0, repeating this cycle 5 times;']\n",
      "codedata:\n",
      "Program begin.\n",
      "Program End.\n",
      "Elapsed_time: 8.264\n",
      "----------------------\n",
      "\n"
     ]
    },
    {
     "name": "stderr",
     "output_type": "stream",
     "text": [
      "Processing tasks:  95%|█████████▍| 110/116 [1:57:46<14:57, 149.60s/it]"
     ]
    },
    {
     "name": "stdout",
     "output_type": "stream",
     "text": [
      "# -------------------------------------------------------------------------\n",
      "\n",
      "Task ID: 111 🔽\n",
      "# Lines:['1. Write Python code to create and execute a cyclic buffer memory space for Axis 1. Move to position 60 within 100 cycles, then move a relative distance of 140 within 100 cycles, then move to position -100 within 200 cycles, and close the cyclic buffer;', '2. Write Python code to execute a PVT command for Axis 2 with points in the format (Position, Velocity, Time): (0, 0, 0), (50, 1000, 100), (100, 2000, 200), (200, 3000, 300), (300, 1000, 400), (200, 0, 500);', '3. Write Python code to execute a PT command for Axis 3 using points in the format (point, time): (50, 0), (-50, 100), (50, 200), (-50, 300), (0, 400);', '4. Write Python code to execute a VT command for Axis 4 using points in the format (velocity, time): (60, 0), (-60, 100), (60, 200), (-60, 300), (0, 400);', '5. Write Python code to move Axis 5 by a distance of 60 with a velocity of 1400;', '6. Write Python code to execute a total time(1.5s) cubic spline of Axis 5 and Axis 6 with the points: (0, 0), (25, 50), (50, 0), (75, -50), (100, 0).']\n",
      "# Tasks:['1. Write Python code to create and execute a cyclic buffer memory space for Axis 1. Move to position 60 within 100 cycles, then move a relative distance of 140 within 100 cycles, then move to position -100 within 200 cycles, and close the cyclic buffer;', '2. Write Python code to execute a PVT command for Axis 2 with points in the format (Position, Velocity, Time): (0, 0, 0), (50, 1000, 100), (100, 2000, 200), (200, 3000, 300), (300, 1000, 400), (200, 0, 500);', '3. Write Python code to execute a PT command for Axis 3 using points in the format (point, time): (50, 0), (-50, 100), (50, 200), (-50, 300), (0, 400);', '4. Write Python code to execute a VT command for Axis 4 using points in the format (velocity, time): (60, 0), (-60, 100), (60, 200), (-60, 300), (0, 400);', '5. Write Python code to move Axis 5 by a distance of 60 with a velocity of 1400;', '6. Write Python code to execute a total time(1.5s) cubic spline of Axis 5 and Axis 6 with the points: (0, 0), (25, 50), (50, 0), (75, -50), (100, 0).']\n",
      "codedata:\n",
      "Program begin.\n",
      "Program End.\n",
      "Elapsed_time: 10.136\n",
      "----------------------\n",
      "\n"
     ]
    },
    {
     "name": "stderr",
     "output_type": "stream",
     "text": [
      "Processing tasks:  96%|█████████▌| 111/116 [2:02:43<16:10, 194.00s/it]"
     ]
    },
    {
     "name": "stdout",
     "output_type": "stream",
     "text": [
      "# -------------------------------------------------------------------------\n",
      "\n",
      "Task ID: 112 🔽\n",
      "# Lines:['1. Write Python code to Record and execute an API buffer: move Axis 2 to position 150;', '2. Write Python code to set an event that triggers a relative position command for Axis 2 with a distance of 260 and a velocity of 1100 when IO Output 1.2 equals 1. The event ID is 5;', '3. Write Python code to execute linear interpolation of Axis 1 and Axis 3 to (80, 110) at a velocity of 1500;', '4. Write Python code to set IO output bit 1.2 to 1, wait 0.2 seconds, then set it to 0.']\n",
      "# Tasks:['1. Write Python code to Record and execute an API buffer: move Axis 2 to position 150;', '2. Write Python code to set an event that triggers a relative position command for Axis 2 with a distance of 260 and a velocity of 1100 when IO Output 1.2 equals 1. The event ID is 5;', '3. Write Python code to execute linear interpolation of Axis 1 and Axis 3 to (80, 110) at a velocity of 1500;', '4. Write Python code to set IO output bit 1.2 to 1, wait 0.2 seconds, then set it to 0.']\n",
      "codedata:\n",
      "Program begin.\n",
      "Program End.\n",
      "Elapsed_time: 5.484\n",
      "----------------------\n",
      "\n"
     ]
    },
    {
     "name": "stderr",
     "output_type": "stream",
     "text": [
      "Processing tasks:  97%|█████████▋| 112/116 [2:05:08<11:57, 179.36s/it]"
     ]
    },
    {
     "name": "stdout",
     "output_type": "stream",
     "text": [
      "# -------------------------------------------------------------------------\n",
      "\n",
      "Task ID: 113 🔽\n",
      "# Lines:['1. Write Python code to start the motion for a path interpolation with look-ahead channel 10 for Axis 3 and 5, with a velocity of 1500. The points are (50, 0), (50, 50), (0, 50), and (0, 0), smooth radius is 12;', '2. Write Python code to start a cubic spline motion command for Axes 3 and 5 with a total time of 1000ms to complete. The points are: (0, 0), (10, 10), (-20, -20), (30, 30), (-40, -40), (50, 50), (-60, -60), (70, 70), (-80, -80);', '3. Write Python code to establish synchronous control between master axis 3 and 5, then move Axis 3 to position 120 and 240 respectively with a velocity of 1000;', '4. Write Python code to execute a PVT interpolation command for Axis 3 and Axis 5 using points in the format (Position0, Velocity0, Position1, Velocity1, Time). Position0 and Position1 are the coordinates of twenty points on a circle with a diameter of 100 and a center at (-50, 0). Velocity0 and Velocity1 are 100, and Time increments by 100 for each point.']\n",
      "# Tasks:['1. Write Python code to start the motion for a path interpolation with look-ahead channel 10 for Axis 3 and 5, with a velocity of 1500. The points are (50, 0), (50, 50), (0, 50), and (0, 0), smooth radius is 12;', '2. Write Python code to start a cubic spline motion command for Axes 3 and 5 with a total time of 1000ms to complete. The points are: (0, 0), (10, 10), (-20, -20), (30, 30), (-40, -40), (50, 50), (-60, -60), (70, 70), (-80, -80);', '3. Write Python code to establish synchronous control between master axis 3 and 5, then move Axis 3 to position 120 and 240 respectively with a velocity of 1000;', '4. Write Python code to execute a PVT interpolation command for Axis 3 and Axis 5 using points in the format (Position0, Velocity0, Position1, Velocity1, Time). Position0 and Position1 are the coordinates of twenty points on a circle with a diameter of 100 and a center at (-50, 0). Velocity0 and Velocity1 are 100, and Time increments by 100 for each point.']\n",
      "codedata:\n",
      "Program begin.\n",
      "Program End.\n",
      "Elapsed_time: 8.860\n",
      "----------------------\n",
      "\n"
     ]
    },
    {
     "name": "stderr",
     "output_type": "stream",
     "text": [
      "Processing tasks:  97%|█████████▋| 113/116 [2:10:50<11:24, 228.17s/it]"
     ]
    },
    {
     "name": "stdout",
     "output_type": "stream",
     "text": [
      "# -------------------------------------------------------------------------\n",
      "\n",
      "Task ID: 114 🔽\n",
      "# Lines:['1. Write Python code to execute an absolute position path interpolation motion command for Axis 4 and 6 with auto-smoothing and a velocity of 1000. Move to (-40, -30) with autoSmoothRadius 10, (10, -50) with autoSmoothRadius 20, (-40, -70) with autoSmoothRadius 30, (10, -90) with autoSmoothRadius 40, (-40, -110) with autoSmoothRadius 50, and (10, -130).', '2. Write Python code to record and execute an API buffer with the following sequence: First, move Axis 4 to a target position of 111 at a speed of 1000. When the remaining time is 8 ms, move to the target position of 222 at a speed of 2000. Finally, when the remaining time is 9 ms, move to the target position of 333 at a speed of 3000.', '3. Write Python code to establish a Normal type E-CAM motion for master Axis 4 and slave Axis 6. Move Axis 4 to -100 with a velocity of 1000. E-CAM table is (-100, 100), (-50, 150), (0, 100), (50, 50), (100, 100), (150, 50) and (250, 150). Start the E-CAM motion. Then, move Axis 4 to 300.']\n",
      "# Tasks:['1. Write Python code to execute an absolute position path interpolation motion command for Axis 4 and 6 with auto-smoothing and a velocity of 1000. Move to (-40, -30) with autoSmoothRadius 10, (10, -50) with autoSmoothRadius 20, (-40, -70) with autoSmoothRadius 30, (10, -90) with autoSmoothRadius 40, (-40, -110) with autoSmoothRadius 50, and (10, -130).', '2. Write Python code to record and execute an API buffer with the following sequence: First, move Axis 4 to a target position of 111 at a speed of 1000. When the remaining time is 8 ms, move to the target position of 222 at a speed of 2000. Finally, when the remaining time is 9 ms, move to the target position of 333 at a speed of 3000.', '3. Write Python code to establish a Normal type E-CAM motion for master Axis 4 and slave Axis 6. Move Axis 4 to -100 with a velocity of 1000. E-CAM table is (-100, 100), (-50, 150), (0, 100), (50, 50), (100, 100), (150, 50) and (250, 150). Start the E-CAM motion. Then, move Axis 4 to 300.']\n",
      "codedata:\n",
      "Program begin.\n",
      "Program End.\n",
      "Elapsed_time: 7.218\n",
      "----------------------\n",
      "\n"
     ]
    },
    {
     "name": "stderr",
     "output_type": "stream",
     "text": [
      "Processing tasks:  98%|█████████▊| 114/116 [2:15:39<08:12, 246.45s/it]"
     ]
    },
    {
     "name": "stdout",
     "output_type": "stream",
     "text": [
      "# -------------------------------------------------------------------------\n",
      "\n",
      "Task ID: 115 🔽\n",
      "# Lines:['1. Write Python code to move Axis 5 to the position -55 at a speed of 1000, using an scurve profile;', '2. Write Python code to set the variable a=6, b=a+1, c=a*10, d=c-b;', '3. Write Python code to start an absolute linear interpolation for Axes 5 and 2 to position (a, c) with a velocity of 1000;', '4. Write Python code to start a counterclockwise circular interpolation motion command for Axis 5 and 2, with a center position of (50, 50), an arc length of d, and a velocity of c after sleep for 1.1s;']\n",
      "# Tasks:['1. Write Python code to move Axis 5 to the position -55 at a speed of 1000, using an scurve profile;', '2. Write Python code to set the variable a=6, b=a+1, c=a*10, d=c-b;', '3. Write Python code to start an absolute linear interpolation for Axes 5 and 2 to position (a, c) with a velocity of 1000;', '4. Write Python code to start a counterclockwise circular interpolation motion command for Axis 5 and 2, with a center position of (50, 50), an arc length of d, and a velocity of c after sleep for 1.1s;']\n",
      "codedata:\n",
      "Program begin.\n",
      "Program End.\n",
      "Elapsed_time: 5.182\n",
      "----------------------\n",
      "\n"
     ]
    },
    {
     "name": "stderr",
     "output_type": "stream",
     "text": [
      "Processing tasks:  99%|█████████▉| 115/116 [2:17:43<03:29, 209.57s/it]"
     ]
    },
    {
     "name": "stdout",
     "output_type": "stream",
     "text": [
      "# -------------------------------------------------------------------------\n",
      "\n",
      "Task ID: 116 🔽\n",
      "# Lines:['1. Write Python code to move Axis 6 to 20 with a velocity of 900 using an trapezoid profile;', '2. Write Python code to set IO output bit 6.7 to 1, sleep for 0.1 seconds, then set it to 0;', '3. Write Python code to move Axis 7 to 30;', '4. Write Python code to linearly interpolate Axis 7 and 8 to (40, 50);', '5. Write Python code to start a clockwise circular interpolation motion command for Axis 6 and 7, with a center position of (50, 50), an arc length of 360;', '6. Write Python code to establish synchronous control between master axis 6 and slave axis 7, then move Axis 6 to position 60;', '7. Write Python code to start an absolute path interpolation motion command for Axes 6 and 7 using a parabolic profile. The path includes: Linear interpolation to (70, 80); Clockwise circular interpolation to (90, 30) with center at (50, 60);', '8. Write Python code to start a helical interpolation motion command with a counterclockwise circular interpolation of Axis 6 and 7, with a center position of (50, 50), a rotation degree of 1080, and a velocity of 2048, while concurrently moving Axis 8 linearly to position 101;', '9. Write Python code to execute a PVT interpolation command for Axis 6 and Axis 7 using points in the format (Position0, Velocity0, Time0, Position1, Velocity1, Time1): (100, 200, 0, 110, 400, 0), (110, 100, 100, 120, 200, 100), (120, 0, 200, 130, 0, 200).']\n",
      "# Tasks:['1. Write Python code to move Axis 6 to 20 with a velocity of 900 using an trapezoid profile;', '2. Write Python code to set IO output bit 6.7 to 1, sleep for 0.1 seconds, then set it to 0;', '3. Write Python code to move Axis 7 to 30;', '4. Write Python code to linearly interpolate Axis 7 and 8 to (40, 50);', '5. Write Python code to start a clockwise circular interpolation motion command for Axis 6 and 7, with a center position of (50, 50), an arc length of 360;', '6. Write Python code to establish synchronous control between master axis 6 and slave axis 7, then move Axis 6 to position 60;', '7. Write Python code to start an absolute path interpolation motion command for Axes 6 and 7 using a parabolic profile. The path includes: Linear interpolation to (70, 80); Clockwise circular interpolation to (90, 30) with center at (50, 60);', '8. Write Python code to start a helical interpolation motion command with a counterclockwise circular interpolation of Axis 6 and 7, with a center position of (50, 50), a rotation degree of 1080, and a velocity of 2048, while concurrently moving Axis 8 linearly to position 101;', '9. Write Python code to execute a PVT interpolation command for Axis 6 and Axis 7 using points in the format (Position0, Velocity0, Time0, Position1, Velocity1, Time1): (100, 200, 0, 110, 400, 0), (110, 100, 100, 120, 200, 100), (120, 0, 200, 130, 0, 200).']\n",
      "codedata:\n",
      "Program begin.\n",
      "StartPathIntplPos error code is 65553: [0x00010011] : CoreMotionApi Error: One or more axes are sync slave axes.\n",
      "Elapsed_time: 5.145\n",
      "----------------------\n",
      "\n",
      "\n",
      "# Error string:----------------------\n",
      "StartPathIntplPos error code is 65553: [0x00010011] : CoreMotionApi Error: One or more axes are sync slave axes.\n",
      "\n",
      "# Error ref:----------------------\n",
      "InterruptMismatch : ErrorCode \n",
      "IntervalOutOfRange : EventErrorCode \n",
      "Intpl : DetailOperationState , O\n",
      "# -------------\n",
      "ProfileSetupFailed : CoreMotionErrorCode \n",
      "profileTargetPos : CoreMotionAxisStatus \n",
      "profileTotalDista\n",
      "# -------------\n",
      "AxisIsOffline : PMMotionErrorCode \n",
      "AxisIsSingleTurn : CoreMotionErrorCode \n",
      "AxisLimit : Config::Linea\n",
      "# -------------\n",
      "PathInterpolationAxesHave AdvancedMotionErrorCode \n",
      "PathInterpolationChannelN AdvancedMotionErrorCode\n",
      "# -------------\n",
      "Parabolic : ProfileType \n",
      "ParabolicVelocity : ProfileType \n",
      "ParameterFileParseError : CoreMotionErrorC\n"
     ]
    },
    {
     "name": "stderr",
     "output_type": "stream",
     "text": [
      "Processing tasks: 100%|██████████| 116/116 [2:26:47<00:00, 75.93s/it] "
     ]
    },
    {
     "name": "stdout",
     "output_type": "stream",
     "text": [
      "codedata:\n",
      "Program begin.\n",
      "StartPathIntplPos error code is 65553: [0x00010011] : CoreMotionApi Error: One or more axes are sync slave axes.\n",
      "Elapsed_time: 4.435\n",
      "----------------------\n",
      "\n",
      "Self-correction but still got an error.\n",
      "\n",
      "\n",
      "Overall Results:\n",
      "  Total Correct: 108 (93.10%)\n",
      "      Total Self-corrected Correct: 6 (5.17%)\n",
      "  Total Errors: 8 (6.90%)\n",
      "      Total Syntax Error: 0 (0.00%)\n",
      "      Total API Error: 8 (6.90%)\n",
      "  Total Self-corrected Errors: 8 (6.90%)\n",
      "\n",
      "\n",
      "Difficulty: 1\n",
      "  Correct: 57 (93.44%)\n",
      "      Self-corrected Correct: 1 (1.64%)\n",
      "  Errors: 4 (6.56%)\n",
      "      Syntax Error: 0 (0.00%)\n",
      "      API Error: 4 (6.56%)\n",
      "  Self-corrected Errors: 4 (6.56%)\n",
      "\n",
      "\n",
      "Difficulty: 2\n",
      "  Correct: 30 (93.75%)\n",
      "      Self-corrected Correct: 4 (12.50%)\n",
      "  Errors: 2 (6.25%)\n",
      "      Syntax Error: 0 (0.00%)\n",
      "      API Error: 2 (6.25%)\n",
      "  Self-corrected Errors: 2 (6.25%)\n",
      "\n",
      "\n",
      "Difficulty: 3\n",
      "  Correct: 21 (91.30%)\n",
      "      Self-corrected Correct: 1 (4.35%)\n",
      "  Errors: 2 (8.70%)\n",
      "      Syntax Error: 0 (0.00%)\n",
      "      API Error: 2 (8.70%)\n",
      "  Self-corrected Errors: 2 (8.70%)\n",
      "\n",
      "\n",
      "Error Log:\n",
      "  TaskId: 14, Error: codedata:\n",
      "Program begin.\n",
      "StartJog error code is 65582: [0x0001002e] : CoreMotionApi Error: One or more acceleration arguments out of range.\n",
      "Elapsed_time: 2.531\n",
      "----------------------\n",
      "Self-correction but still got an error.\n",
      "\n",
      "\n",
      "  TaskId: 22, Error: codedata:\n",
      "Program begin.\n",
      "StartLinearIntplPos error code is 65585: [0x00010031] : CoreMotionApi Error: One or more deceleration jerk arguments out of range.\n",
      "Elapsed_time: 2.371\n",
      "----------------------\n",
      "Self-correction but still got an error.\n",
      "\n",
      "\n",
      "  TaskId: 44, Error: codeerr:\n",
      "Traceback (most recent call last):\n",
      "  File \"\\\\mac\\Home\\Downloads\\codedemo\\sample.py\", line 366, in <module>\n",
      "    main()\n",
      "  File \"\\\\mac\\Home\\Downloads\\codedemo\\sample.py\", line 20, in main\n",
      "    sleep(0.1)\n",
      "    ^^^^^\n",
      "UnboundLocalError: cannot access local variable 'sleep' where it is not associated with a value\n",
      "!!!\n",
      "----------------------\n",
      "Self-correction but still got an error.\n",
      "\n",
      "\n",
      "  TaskId: 66, Error: codedata:\n",
      "Program begin.\n",
      "AddPathIntplWithRotationCommand error code is 65581: [0x0001002d] : CoreMotionApi Error: One or more velocity arguments out of range.\n",
      "Elapsed_time: 2.356\n",
      "----------------------\n",
      "Self-correction but still got an error.\n",
      "\n",
      "\n",
      "  TaskId: 72, Error: codeerr:\n",
      "Traceback (most recent call last):\n",
      "  File \"\\\\mac\\Home\\Downloads\\codedemo\\sample.py\", line 363, in <module>\n",
      "    main()\n",
      "  File \"\\\\mac\\Home\\Downloads\\codedemo\\sample.py\", line 248, in main\n",
      "    point.circular.axisCount = 2\n",
      "    ^^^^^^^^^^^^^^\n",
      "  File \"\\\\mac\\Home\\Downloads\\codedemo\\WMX3ApiPython.py\", line 23766, in <lambda>\n",
      "    __getattr__ = lambda self, name: _swig_getattr(self, AdvMotion_PathIntplLookaheadCommandPoint, name)\n",
      "                                     ^^^^^^^^^^^^^^^^^^^^^^^^^^^^^^^^^^^^^^^^^^^^^^^^^^^^^^^^^^^^^^^^^^^\n",
      "  File \"\\\\mac\\Home\\Downloads\\codedemo\\WMX3ApiPython.py\", line 80, in _swig_getattr\n",
      "    raise AttributeError(\"'%s' object has no attribute '%s'\" % (class_type.__name__, name))\n",
      "AttributeError: 'AdvMotion_PathIntplLookaheadCommandPoint' object has no attribute 'circular'\n",
      "!!!\n",
      "----------------------\n",
      "Self-correction but still got an error.\n",
      "\n",
      "\n",
      "  TaskId: 74, Error: codeerr:\n",
      "Traceback (most recent call last):\n",
      "  File \"\\\\mac\\Home\\Downloads\\codedemo\\sample.py\", line 340, in <module>\n",
      "    main()\n",
      "  File \"\\\\mac\\Home\\Downloads\\codedemo\\sample.py\", line 263, in main\n",
      "    point.centerAndEndCircular.SetAuxiliaryAxis(0, 9)\n",
      "    ^^^^^^^^^^^^^^^^^^^^^^^^^^^^^^^^^^^^^^^^^^^\n",
      "  File \"\\\\mac\\Home\\Downloads\\codedemo\\WMX3ApiPython.py\", line 23284, in <lambda>\n",
      "    __getattr__ = lambda self, name: _swig_getattr(self, AdvMotion_PathIntplLookaheadCommandPoint_Data_centerAndEndCircular, name)\n",
      "                                     ^^^^^^^^^^^^^^^^^^^^^^^^^^^^^^^^^^^^^^^^^^^^^^^^^^^^^^^^^^^^^^^^^^^^^^^^^^^^^^^^^^^^^^^^^^^^^\n",
      "  File \"\\\\mac\\Home\\Downloads\\codedemo\\WMX3ApiPython.py\", line 80, in _swig_getattr\n",
      "    raise AttributeError(\"'%s' object has no attribute '%s'\" % (class_type.__name__, name))\n",
      "AttributeError: 'AdvMotion_PathIntplLookaheadCommandPoint_Data_centerAndEndCircular' object has no attribute 'SetAuxiliaryAxis'\n",
      "!!!\n",
      "----------------------\n",
      "Self-correction but still got an error.\n",
      "\n",
      "\n",
      "  TaskId: 93, Error: codeerr:\n",
      "Traceback (most recent call last):\n",
      "  File \"\\\\mac\\Home\\Downloads\\codedemo\\sample.py\", line 270, in <module>\n",
      "    main()\n",
      "  File \"\\\\mac\\Home\\Downloads\\codedemo\\sample.py\", line 214, in main\n",
      "    jogCommand = JogCommand()\n",
      "                 ^^^^^^^^^^\n",
      "NameError: name 'JogCommand' is not defined. Did you mean: 'jogCommand'?\n",
      "!!!\n",
      "----------------------\n",
      "Self-correction but still got an error.\n",
      "\n",
      "\n",
      "  TaskId: 116, Error: codedata:\n",
      "Program begin.\n",
      "StartPathIntplPos error code is 65553: [0x00010011] : CoreMotionApi Error: One or more axes are sync slave axes.\n",
      "Elapsed_time: 4.435\n",
      "----------------------\n",
      "Self-correction but still got an error.\n",
      "\n",
      "\n",
      "\n",
      "\n",
      "Self-corrected Log:\n",
      "  TaskId: 3, Result: codedata:\n",
      "Program begin.\n",
      "Program End.\n",
      "Elapsed_time: 2.710\n",
      "----------------------\n",
      "Self-corrected.\n",
      "\n",
      "\n",
      "  TaskId: 4, Result: codedata:\n",
      "Program begin.\n",
      "Program End.\n",
      "Elapsed_time: 2.765\n",
      "----------------------\n",
      "Self-corrected.\n",
      "\n",
      "\n",
      "  TaskId: 9, Result: codedata:\n",
      "Program begin.\n",
      "Program End.\n",
      "Elapsed_time: 2.676\n",
      "----------------------\n",
      "Self-corrected.\n",
      "\n",
      "\n",
      "  TaskId: 14, Result: codedata:\n",
      "Program begin.\n",
      "StartJog error code is 65582: [0x0001002e] : CoreMotionApi Error: One or more acceleration arguments out of range.\n",
      "Elapsed_time: 2.531\n",
      "----------------------\n",
      "Self-correction but still got an error.\n",
      "\n",
      "\n",
      "  TaskId: 22, Result: codedata:\n",
      "Program begin.\n",
      "StartLinearIntplPos error code is 65585: [0x00010031] : CoreMotionApi Error: One or more deceleration jerk arguments out of range.\n",
      "Elapsed_time: 2.371\n",
      "----------------------\n",
      "Self-correction but still got an error.\n",
      "\n",
      "\n",
      "  TaskId: 25, Result: codedata:\n",
      "Program begin.\n",
      "Program End.\n",
      "Elapsed_time: 3.167\n",
      "----------------------\n",
      "Self-corrected.\n",
      "\n",
      "\n",
      "  TaskId: 43, Result: codedata:\n",
      "Program begin.\n",
      "Program End.\n",
      "Elapsed_time: 3.771\n",
      "----------------------\n",
      "Self-corrected.\n",
      "\n",
      "\n",
      "  TaskId: 44, Result: codeerr:\n",
      "Traceback (most recent call last):\n",
      "  File \"\\\\mac\\Home\\Downloads\\codedemo\\sample.py\", line 366, in <module>\n",
      "    main()\n",
      "  File \"\\\\mac\\Home\\Downloads\\codedemo\\sample.py\", line 20, in main\n",
      "    sleep(0.1)\n",
      "    ^^^^^\n",
      "UnboundLocalError: cannot access local variable 'sleep' where it is not associated with a value\n",
      "!!!\n",
      "----------------------\n",
      "Self-correction but still got an error.\n",
      "\n",
      "\n",
      "  TaskId: 66, Result: codedata:\n",
      "Program begin.\n",
      "AddPathIntplWithRotationCommand error code is 65581: [0x0001002d] : CoreMotionApi Error: One or more velocity arguments out of range.\n",
      "Elapsed_time: 2.356\n",
      "----------------------\n",
      "Self-correction but still got an error.\n",
      "\n",
      "\n",
      "  TaskId: 72, Result: codeerr:\n",
      "Traceback (most recent call last):\n",
      "  File \"\\\\mac\\Home\\Downloads\\codedemo\\sample.py\", line 363, in <module>\n",
      "    main()\n",
      "  File \"\\\\mac\\Home\\Downloads\\codedemo\\sample.py\", line 248, in main\n",
      "    point.circular.axisCount = 2\n",
      "    ^^^^^^^^^^^^^^\n",
      "  File \"\\\\mac\\Home\\Downloads\\codedemo\\WMX3ApiPython.py\", line 23766, in <lambda>\n",
      "    __getattr__ = lambda self, name: _swig_getattr(self, AdvMotion_PathIntplLookaheadCommandPoint, name)\n",
      "                                     ^^^^^^^^^^^^^^^^^^^^^^^^^^^^^^^^^^^^^^^^^^^^^^^^^^^^^^^^^^^^^^^^^^^\n",
      "  File \"\\\\mac\\Home\\Downloads\\codedemo\\WMX3ApiPython.py\", line 80, in _swig_getattr\n",
      "    raise AttributeError(\"'%s' object has no attribute '%s'\" % (class_type.__name__, name))\n",
      "AttributeError: 'AdvMotion_PathIntplLookaheadCommandPoint' object has no attribute 'circular'\n",
      "!!!\n",
      "----------------------\n",
      "Self-correction but still got an error.\n",
      "\n",
      "\n",
      "  TaskId: 74, Result: codeerr:\n",
      "Traceback (most recent call last):\n",
      "  File \"\\\\mac\\Home\\Downloads\\codedemo\\sample.py\", line 340, in <module>\n",
      "    main()\n",
      "  File \"\\\\mac\\Home\\Downloads\\codedemo\\sample.py\", line 263, in main\n",
      "    point.centerAndEndCircular.SetAuxiliaryAxis(0, 9)\n",
      "    ^^^^^^^^^^^^^^^^^^^^^^^^^^^^^^^^^^^^^^^^^^^\n",
      "  File \"\\\\mac\\Home\\Downloads\\codedemo\\WMX3ApiPython.py\", line 23284, in <lambda>\n",
      "    __getattr__ = lambda self, name: _swig_getattr(self, AdvMotion_PathIntplLookaheadCommandPoint_Data_centerAndEndCircular, name)\n",
      "                                     ^^^^^^^^^^^^^^^^^^^^^^^^^^^^^^^^^^^^^^^^^^^^^^^^^^^^^^^^^^^^^^^^^^^^^^^^^^^^^^^^^^^^^^^^^^^^^\n",
      "  File \"\\\\mac\\Home\\Downloads\\codedemo\\WMX3ApiPython.py\", line 80, in _swig_getattr\n",
      "    raise AttributeError(\"'%s' object has no attribute '%s'\" % (class_type.__name__, name))\n",
      "AttributeError: 'AdvMotion_PathIntplLookaheadCommandPoint_Data_centerAndEndCircular' object has no attribute 'SetAuxiliaryAxis'\n",
      "!!!\n",
      "----------------------\n",
      "Self-correction but still got an error.\n",
      "\n",
      "\n",
      "  TaskId: 93, Result: codeerr:\n",
      "Traceback (most recent call last):\n",
      "  File \"\\\\mac\\Home\\Downloads\\codedemo\\sample.py\", line 270, in <module>\n",
      "    main()\n",
      "  File \"\\\\mac\\Home\\Downloads\\codedemo\\sample.py\", line 214, in main\n",
      "    jogCommand = JogCommand()\n",
      "                 ^^^^^^^^^^\n",
      "NameError: name 'JogCommand' is not defined. Did you mean: 'jogCommand'?\n",
      "!!!\n",
      "----------------------\n",
      "Self-correction but still got an error.\n",
      "\n",
      "\n",
      "  TaskId: 96, Result: codedata:\n",
      "Program begin.\n",
      "Program End.\n",
      "Elapsed_time: 3.248\n",
      "----------------------\n",
      "Self-corrected.\n",
      "\n",
      "\n",
      "  TaskId: 116, Result: codedata:\n",
      "Program begin.\n",
      "StartPathIntplPos error code is 65553: [0x00010011] : CoreMotionApi Error: One or more axes are sync slave axes.\n",
      "Elapsed_time: 4.435\n",
      "----------------------\n",
      "Self-correction but still got an error.\n",
      "\n",
      "\n",
      "\n",
      "\n"
     ]
    },
    {
     "name": "stderr",
     "output_type": "stream",
     "text": [
      "\n"
     ]
    }
   ],
   "source": [
    "\n",
    "from langchain_openai import ChatOpenAI, AzureOpenAIEmbeddings\n",
    "from langchain.prompts import ChatPromptTemplate, PromptTemplate\n",
    "from langchain.schema import StrOutputParser\n",
    "from langchain.schema.runnable import Runnable\n",
    "from langchain.schema.runnable.config import RunnableConfig\n",
    "\n",
    "import bs4\n",
    "from langchain import hub\n",
    "from langchain_community.document_loaders import WebBaseLoader, TextLoader, PyPDFLoader\n",
    "from langchain_community.vectorstores import Chroma\n",
    "from langchain_core.output_parsers import StrOutputParser\n",
    "from langchain_core.runnables import RunnablePassthrough\n",
    "from langchain_openai import ChatOpenAI, OpenAIEmbeddings, OpenAI\n",
    "from langchain_text_splitters import RecursiveCharacterTextSplitter\n",
    "from langchain_core.prompts import PromptTemplate\n",
    "from langchain_core.documents import Document\n",
    "from langchain.chains import LLMChain\n",
    "from langchain_core.messages import HumanMessage, SystemMessage\n",
    "from langchain.retrievers import BM25Retriever, EnsembleRetriever\n",
    "\n",
    "from langchain_groq import ChatGroq\n",
    "from langchain_community.chat_models.tongyi import ChatTongyi\n",
    "from langchain_core.messages import HumanMessage\n",
    "from langchain_ollama import ChatOllama\n",
    "from langchain_huggingface import HuggingFaceEndpoint, ChatHuggingFace\n",
    "\n",
    "from time import *\n",
    "\n",
    "from CodeClient import *\n",
    "from make_code_runnable import *\n",
    "from plot_log import *\n",
    "from tqdm import tqdm\n",
    "import json\n",
    "import os\n",
    "import re\n",
    "from datetime import datetime\n",
    "from dotenv import load_dotenv,find_dotenv\n",
    "\n",
    "\n",
    "\n",
    "load_dotenv(find_dotenv()) \n",
    "\n",
    "\n",
    "\n",
    "# Global variable to store the name of the LLM\n",
    "llm_name = \"deepseek-coder-v2\"    # gpt-4o-2024-08-06, \n",
    "llm = ChatOpenAI(name=\"MCCoder and QA\", model_name=llm_name, temperature=0.2, streaming=True)\n",
    "\n",
    "# # Groq\n",
    "# llm_name = \"llama-3.1-70b-versatile\"\n",
    "# llm = ChatGroq(\n",
    "#     temperature=0.2,\n",
    "#     model=llm_name)   # llama-3.1-8b-instant,  llama3-70b-8192,  llama-3.1-70b-versatile, llama-3.1-405b-reasoning, mixtral-8x7b-32768\n",
    "\n",
    "# Tongyi Qwen\n",
    "# llm_name = \"qwen-plus\"\n",
    "# llm = ChatTongyi(\n",
    "#     temperature=0.2,\n",
    "#     model=llm_name)   # qwen-turbo(8k), qwen-plus  (32k), qwen-max  (6k),  qwen-max-longcontext (28k)\n",
    "\n",
    "# Ollama\n",
    "# llm_name = \"deepseek-coder-v2-ollama\"\n",
    "# llm = ChatOllama(\n",
    "# model=\"deepseek-coder-v2\",            # codellama:7b , codellama:34b, tinyllama, codegeex4, deepseek-coder-v2, llama3.1\n",
    "# temperature=0.2)\n",
    "\n",
    "# HuggingFace\n",
    "# llm_name = \"meta-llama/Meta-Llama-3.1-70B-Instruct\"\n",
    "# llm = HuggingFaceEndpoint(\n",
    "#     repo_id=\"meta-llama/Meta-Llama-3.1-70B-Instruct\",     # microsoft/Phi-3-mini-4k-instruct,  meta-llama/Meta-Llama-3.1-70B-Instruct\n",
    "#     max_length=128,\n",
    "#     temperature=0.5,\n",
    "# )\n",
    "\n",
    "# Deepseek\n",
    "llm_name = \"deepseek-coder\"\n",
    "llm = ChatOpenAI(\n",
    "    model=llm_name, \n",
    "    openai_api_key='sk-3ecba7b673ac4b7397a8a6cc1d35b4f0', \n",
    "    openai_api_base='https://api.deepseek.com',\n",
    "    temperature=0.2\n",
    ")\n",
    "\n",
    "\n",
    "base_line = False  # Baseline is basic RAG\n",
    "llm_name = 'deepseek-coder-v2'  # For making code files and baseline only. CanonicalCode, gpt-4o-mini-test\n",
    "\n",
    "# Ablation \n",
    "abla_prompt_eg = False  # Ablation study with prompt engineering\n",
    "abla_task_decom = False # Ablation study with task decomposition\n",
    "abla_self_corr = False  # Ablation study with self-correction\n",
    "\n",
    "\n",
    "# Preparation of documents for RAG-------------------------\n",
    "# Vectorstore, for retrieval\n",
    "embedding_model=OpenAIEmbeddings(model=\"text-embedding-3-large\")   #text-embedding-3-large   #text-embedding-ada-002    #text-embedding-3-small\n",
    "\n",
    "# Embedding model for Azure OpenAI, no need FQ.\n",
    "# embedding_model = AzureOpenAIEmbeddings(model=\"text-embedding-3-large\")\n",
    "\n",
    "\n",
    "# If pdf vectorstore exists\n",
    "vectorstore_path = \"Vectorstore/chromadb-MCCoder\"\n",
    "if os.path.exists(vectorstore_path):\n",
    "    vectorstore = Chroma(\n",
    "                    embedding_function=embedding_model,\n",
    "                    persist_directory=vectorstore_path,\n",
    "                    ) \n",
    "    print(\"# Load from disk: \" + vectorstore_path)\n",
    "else:\n",
    "        # Load from chunks and save to disk\n",
    "    # vectorstore = Chroma.from_documents(documents=splits, embedding=embedding_model, persist_directory=vectorstore_path) \n",
    "    print(\"# Load from chunks\")\n",
    "\n",
    "\n",
    "\n",
    "# Txt loader of sample codes, for BM25 search\n",
    "loader = TextLoader(\"./docs/WMX3API_MCEval_Samplecodes.txt\")\n",
    "docs = loader.load()\n",
    "\n",
    "#Sample code chunk with dedicated separators\n",
    "separators = ['``']  # Adjust based on actual document structure, `` is the end of each code snippet.\n",
    "text_splitter = RecursiveCharacterTextSplitter(separators=separators, keep_separator=True, chunk_size=1000, chunk_overlap=200, add_start_index=True)\n",
    "splits = text_splitter.split_documents(docs)\n",
    "\n",
    "# Define a global variable user_question_global\n",
    "user_question_global = ''\n",
    "\n",
    "# Extracts and formats code instructions from a user question based on specific starting phrases.\n",
    "def coder_router(user_question):\n",
    "    \"\"\"\n",
    "    Extracts numbered sections of a user question based on specific starting phrases.\n",
    "    \n",
    "    If the question starts with 'Write a python code', 'Python code', or 'write python' (case insensitive),\n",
    "    it splits the question into paragraphs that start with numbers (e.g., 1., 2., 3.) and adds \n",
    "    'Write python code to ' after the numbers. If the question does not start \n",
    "    with the specified phrases or does not contain numbered lists, the entire question is saved into a single \n",
    "    element array. If the question does not start with the specified phrases, NoCoder is set to 1.\n",
    "\n",
    "    \"\"\"\n",
    "    result = []\n",
    "    NoCoder = 0\n",
    "    # Check if the input contains the specified strings\n",
    "    if re.search(r'(?i)(write a python code|python code|write python|give me a python code|give me a code|show me a python)', user_question.lower()):\n",
    "        result.append(user_question)\n",
    "    else:\n",
    "        # Save the entire question to the array and set NoCoder to 1\n",
    "        result.append(user_question)\n",
    "        NoCoder = 1\n",
    "    \n",
    "    return NoCoder, result\n",
    "\n",
    "\n",
    "\n",
    "# This function retrieves and concatenates documents for each element in the input string array.\n",
    "def coder_retrieval(coder_router_result):\n",
    "    \"\"\"\n",
    "    This function takes an array of strings as input. For each element in the array,\n",
    "    it performs a retrieval using format_docs(retriever.invoke(element))\n",
    "    and concatenates the element with the retrieval result into one long string, \n",
    "    with a newline character between them. Each concatenated result is separated by a specified separator.\n",
    "    \n",
    "    \"\"\"\n",
    "    separator = \"\\n----------\\n\"\n",
    "    long_string = \"\"\n",
    "    using_basic_rag = False\n",
    "    retriever = vectorstore.as_retriever(search_type=\"similarity\", search_kwargs={\"k\": 5})\n",
    "    if using_basic_rag == True:\n",
    "        # -------------------------------------------\n",
    "        # Basic retrieval\n",
    "        retrieval_result = format_docs(retriever.invoke(coder_router_result))\n",
    "    else:\n",
    "        # -------------------------------------------\n",
    "        # Fusion retrieval or hybrid search\n",
    "\n",
    "\n",
    "        # initialize the bm25 retriever  \n",
    "        bm25_retriever = BM25Retriever.from_documents(splits)\n",
    "        bm25_retriever.k = 5\n",
    "\n",
    "        # initialize the ensemble retriever\n",
    "        ensemble_retriever = EnsembleRetriever(retrievers=[bm25_retriever, retriever], weights=[0.5, 0.5])\n",
    "\n",
    "        ensemble_docs = ensemble_retriever.invoke(coder_router_result)\n",
    "\n",
    "        retrieval_result = format_docs(ensemble_docs)\n",
    "\n",
    "\n",
    "        long_string += coder_router_result + \"\\n\" + retrieval_result + separator\n",
    "    \n",
    "    return long_string\n",
    "\n",
    "\n",
    "# Joins the page content of each document with double newline\n",
    "def format_docs(docs):\n",
    "   return \"\\n# -----------------\\n\".join(doc.page_content for doc in docs)\n",
    "\n",
    "\n",
    "# Extracts code snippets written in Python from the given text\n",
    "def extract_code(text):\n",
    "    # Define the regular expression pattern to find text between ```python and ```\n",
    "    pattern = r\"```python(.*?)```\"\n",
    "\n",
    "    # Use re.findall to find all occurrences\n",
    "    matches = re.findall(pattern, text, re.DOTALL)\n",
    "    if matches == []: \n",
    "        return text\n",
    "    # Return the matches, join them if there are multiple matches\n",
    "    return \"\\n\\n# ---\\n\\n\".join(matches)\n",
    "\n",
    "\n",
    "# Call LLM to generate code\n",
    "def CoderLLM(user_question, code_context):\n",
    "\n",
    "    # Prompt for code generation\n",
    "    prompt_template = \"\"\"Write a python code based on the following Question and Context. You need to choose the most relevant sample codes from the Context for a reference. And, note the following situations:\n",
    "    1. Review the Question carefully and ONLY if you find words as 'Axis number', 'IO Input' and 'IO Output'(case insensitive), add them to the first lines of the generated code in the following format: \n",
    "    # Axes = [Axis number 1, Axis number 2, ...]\n",
    "    # IOInputs = [byte.bit 1, byte.bit 2, ...]\n",
    "    # IOOutputs = [byte.bit 1, byte.bit 2, ...]\n",
    "    For instance, if the Question is '...Axis 9..., ...Axis 12..., ...Axis 2..., IO Input 0.3 and 1.2, ...IO Output 3.4 and 6.1', then exact the information after matching the keywords: \"Axis\", \"IOInput\", \"IOOutput\":\n",
    "    # Axes = [9, 12, 2]\n",
    "    # IOInputs = [0.3, 1.2, ...]\n",
    "    # IOOutputs = [3.4, 6.1, ...]\n",
    "    2. Include all the generated codes within one paragraph between ```python and ``` tags. \n",
    "    3. Don't import any library.\n",
    "    4. Don't create any functions or example usage or unit test.\n",
    "    5. You need to wait until the Axes reaches the target position and stops, after the motion API, unless otherwise specified. For instance, Wmx3Lib_cm.motion.Wait(4), while 4 is the Axis specified in Axes.\n",
    "    6. Use StartPos for absolute positioning, as in 'Move Axis 4 to 200', and StartMov for relative positioning, as in 'Move Axis 4 by a distance of 200'.\n",
    "    7. Strictly follow the Question for the specified profile type.\n",
    "    8. If acceleration/acc, deceleration/dec, and velocity/speed are not specified in the user query, use the default values provided in the context's sample codes.\n",
    "    ----------------------------------------------\n",
    "\n",
    "    Question: \n",
    "    {question}\n",
    "\n",
    "    Context: \n",
    "    {context}\n",
    "\n",
    "        \"\"\"\n",
    "    \n",
    "    if abla_prompt_eg == True:  # Ablation study with prompt engineering\n",
    "        # Prompt for ablation\n",
    "        prompt_template = \"\"\"Write a python code based on the following Question and Context. You need to choose the most relevant sample codes from the Context for a reference. And, note the following situations:\n",
    "    1. Review the Question carefully and ONLY if you find words as 'Axis number', 'IO Input' and 'IO Output'(case insensitive), add them to the first lines of the generated code in the following format: \n",
    "    # Axes = [Axis number 1, Axis number 2, ...]\n",
    "    # IOInputs = [byte.bit 1, byte.bit 2, ...]\n",
    "    # IOOutputs = [byte.bit 1, byte.bit 2, ...]\n",
    "    For instance, if the Question is '...Axis 9..., ...Axis 12..., ...Axis 2..., IO Input 0.3 and 1.2, ...IO Output 3.4 and 6.1', then exact the information after matching the keywords: \"Axis\", \"IOInput\", \"IOOutput\":\n",
    "    # Axes = [9, 12, 2]\n",
    "    # IOInputs = [0.3, 1.2, ...]\n",
    "    # IOOutputs = [3.4, 6.1, ...]\n",
    "\n",
    "        Question: \n",
    "        {question}\n",
    "\n",
    "        Context: \n",
    "        {context}\n",
    "\n",
    "            \"\"\"\n",
    "\n",
    "\n",
    "    prompt_code = ChatPromptTemplate.from_template(prompt_template)\n",
    "\n",
    "    rag_chain = (\n",
    "        #{\"context\": context_msg, \"question\": RunnablePassthrough()}\n",
    "        prompt_code\n",
    "        | llm\n",
    "        | StrOutputParser()\n",
    "    )\n",
    "\n",
    "\n",
    "    codes = rag_chain.invoke({\"context\": code_context, \"question\": user_question})\n",
    "\n",
    "    return codes\n",
    "\n",
    "# Corrects the provided error codes based on specified error information calling LLM\n",
    "def self_correct(err_info, original_code):\n",
    "   # Search to get the python function as a context for self correction.\n",
    "    # python_function_retriever = vectorstore.as_retriever(search_type=\"similarity\", search_kwargs={\"k\": 5, \"filter\":{\"source\":\"./docs/WMX3API_FunctionPython.json\"}}) \n",
    "    python_function_retriever = vectorstore.as_retriever(search_type=\"similarity\", search_kwargs={\"k\": 5})  \n",
    "\n",
    "    # Split the string into lines\n",
    "    lines = err_info.split('\\n')\n",
    "    error_str = ''\n",
    "    # Iterate through each line to find 'Error:'\n",
    "    for line in lines:\n",
    "        if 'Error:' in line:\n",
    "            # Assign the line containing 'Error:' to error_str\n",
    "            error_str = line\n",
    "    # error_str = 'GetInBit'\n",
    "    print('\\n# Error string:----------------------\\n' + error_str )\n",
    "    docs = python_function_retriever.invoke(error_str)\n",
    "    err_ref =  \"\\n# -------------\\n\".join(doc.page_content[:100] for doc in docs)\n",
    "    print('\\n# Error ref:----------------------\\n' + err_ref)\n",
    "\n",
    "    \n",
    "    \n",
    "   # Remember to write \"python\" code in the prompt later\n",
    "    template = \"\"\"Correct the original code based on the user question, error infomation and FunctionPython reference. And, note the following situations:\n",
    "    1. Only if the error is 'variable_name is not defined', and if the variable_name is in the user question , assign it an initial value in the beginning.\n",
    "    2. Only if an error information indicates that acc, dec, velocity, or other arguments are out of range, just assign them the default values presented in the preceding code samples. For instance, xxx.profile.acc = 10000, xxx.profile.dec = 10000.\n",
    "\n",
    "\n",
    "        User question:\n",
    "        {user_question}\n",
    "\n",
    "        Original code:\n",
    "        {original_code}\n",
    "\n",
    "        Error information:\n",
    "        {err_info}\n",
    "\n",
    "        FunctionPython reference:\n",
    "        {err_ref}\n",
    "\n",
    "\n",
    "        \"\"\"\n",
    "\n",
    "    custom_rag_prompt = PromptTemplate.from_template(template)\n",
    "    \n",
    "    rag_chain = (\n",
    "            # {\"err_codes\": RunnablePassthrough()}\n",
    "            custom_rag_prompt\n",
    "            | llm\n",
    "            | StrOutputParser()\n",
    "        )\n",
    "\n",
    "    code_corrected=rag_chain.invoke({ \"user_question\": user_question_global, \"original_code\": original_code, \"err_info\": err_info, \"err_ref\": err_ref})\n",
    " \n",
    "    return(code_corrected)\n",
    "\n",
    "\n",
    "# Decompose tasks from user questions using a LLM\n",
    "def task_decomposer_llm(user_question):\n",
    "   #  \n",
    "    template = \"\"\"Only if the User question contains a consecutive numbered list as '1.', '2.', '3.', decompose the tasks, listing each task as a single line; otherwise just output the User question. \n",
    "    For example, the User question '[No. #]: Write Python code to execute the following tasks: 1. Move Axis 1 to 200; 2. Move Axis 9 as a distance of 150; 3. Set IO output 4.3 to 1, and sleep for 1.5 seconds.' should be decomposed into three tasks as output adding 'Write python code to':\n",
    "    '\n",
    "    1. Write python code to Move Axis 1 to 200;\n",
    "    2. Write python code to Move Axis 9 as a distance of 150;\n",
    "    3. Write python code to Set IO output 4.3 to 1, and sleep for 1.5 seconds.\n",
    "    '\n",
    "\n",
    "    Or, if the User question is '[No. #]: Write Python code to move Axis 1 to 200.', the Output should be \n",
    "    'Write Python code to move Axis 1 to 200.'\n",
    "\n",
    "    Nothing else should be outputed.\n",
    "\n",
    "        User question:\n",
    "        {question}\n",
    "\n",
    "        Output:\n",
    "\n",
    "        \"\"\"\n",
    "\n",
    "    custom_rag_prompt = PromptTemplate.from_template(template)\n",
    "    \n",
    "    rag_chain = (\n",
    "            # {\"err_codes\": RunnablePassthrough()}\n",
    "            custom_rag_prompt\n",
    "            | llm\n",
    "            | StrOutputParser()\n",
    "        )\n",
    "\n",
    "    task_str=rag_chain.invoke({\"question\": user_question})\n",
    "    \n",
    "    lines = task_str.splitlines()\n",
    "    lines = [line for line in lines if line.strip()] # To remove empty lines from the list of lines\n",
    "    tasks = []\n",
    "    \n",
    "    current_number = 1\n",
    "\n",
    "    for line in lines:\n",
    "        if line.startswith(f'{current_number}.'):\n",
    "            tasks.append(line.strip())\n",
    "            current_number += 1\n",
    "\n",
    "\n",
    "    # If there are no multiple tasks, just output the original question.\n",
    "    if len(tasks) == 0:\n",
    "        tasks.append(task_str)\n",
    "\n",
    "    print('# Lines:' + str(lines))\n",
    "    print('# Tasks:' + str(tasks))\n",
    "\n",
    "    # Test multi-tasks as a single task [TEST ONLY!!!]\n",
    "    test_multi_as_single = 0\n",
    "    if test_multi_as_single == 1:\n",
    "        tasks = []\n",
    "        tasks.append(user_question)\n",
    "    \n",
    "    return tasks\n",
    "\n",
    "\n",
    "# Decompose tasks from user questions using a LLM, not used.\n",
    "def tasks_composer_llm(user_question, code_from_llm_str):\n",
    "   #  \n",
    "    template = \"\"\"Write a Python code that incorporates the Context_Codes (tasks) to address the following Question:\n",
    "    \\n\n",
    "    Question: \n",
    "    {question}\n",
    "    \\n\n",
    "    Context_Codes: \n",
    "    {context}\n",
    "\n",
    "        \"\"\"\n",
    "\n",
    "    custom_rag_prompt = PromptTemplate.from_template(template)\n",
    "    \n",
    "    rag_chain = (\n",
    "            # {\"err_codes\": RunnablePassthrough()}\n",
    "            custom_rag_prompt\n",
    "            | llm\n",
    "            | StrOutputParser()\n",
    "        )\n",
    "\n",
    "    code_from_composer_llm=rag_chain.invoke({\"question\": user_question, \"context\": code_from_llm_str})\n",
    "    \n",
    "    return code_from_composer_llm\n",
    "\n",
    "\n",
    "# Send the code generated by the LLM to WMX3 engine\n",
    "def RunCode(codes_from_llm, task_info):\n",
    "\n",
    "    RunnableCode = make_code_runnable(codes_from_llm, llm_name, task_info)\n",
    "    # print(RunnableCode)\n",
    "\n",
    "    # Run Code in WMX3\n",
    "    codereturn = SendCode(RunnableCode)\n",
    "\n",
    "    # Base line, directly return information from motion\n",
    "    if base_line == True : \n",
    "        return codereturn\n",
    "    \n",
    "    if abla_self_corr == True:  # Ablation study with self-correction\n",
    "        return codereturn\n",
    "    \n",
    "    # If there is an error, invoke llm to self-correct, and then send to WMX3 again.\n",
    "    if 'error' in codereturn.lower():\n",
    "        # Write the codes before self-correct to the file\n",
    "        folder_path = f'/Users/yin/Documents/GitHub/MCCodeLog/{llm_name}'\n",
    "        file_name = f\"{task_info}_{llm_name}_before_selfcorrect.py\"\n",
    "        file_path = f\"{folder_path}/{file_name}\"\n",
    "        os.makedirs(folder_path, exist_ok=True)\n",
    "        # Write the direct output codes to the file\n",
    "        with open(file_path, 'w') as file:\n",
    "            file.write(codes_from_llm)\n",
    "        \n",
    "\n",
    "        code_corrected = self_correct(codereturn, codes_from_llm)\n",
    "\n",
    "        # Write the direct output codes to the file\n",
    "        folder_path = f'/Users/yin/Documents/GitHub/MCCodeLog/{llm_name}'\n",
    "        file_name = f\"{task_info}_{llm_name}_selfcorrect_direct_output.txt\"\n",
    "        file_path = f\"{folder_path}/{file_name}\"\n",
    "        os.makedirs(folder_path, exist_ok=True)\n",
    "        # Write the direct output codes to the file\n",
    "        with open(file_path, 'w') as file:\n",
    "            file.write(code_corrected)\n",
    "\n",
    "        msgCode = extract_code(code_corrected)\n",
    "        RunnableCode = make_code_runnable(msgCode, llm_name, task_info)\n",
    "        codereturn = SendCode(RunnableCode)\n",
    "        if 'error' in codereturn.lower():\n",
    "            self_correct_str = \"Self-correction but still got an error.\\n\\n\"\n",
    "        else:\n",
    "            self_correct_str = \"Self-corrected.\\n\\n\"\n",
    "        \n",
    "        codereturn += self_correct_str\n",
    "        print(self_correct_str)\n",
    "\n",
    "    return codereturn\n",
    "    \n",
    "\n",
    "\n",
    "# Evaluate dataset\n",
    "def EvalDataset():\n",
    "    # Declare the use of the global variable to store user question\n",
    "    global user_question_global\n",
    "\n",
    "    # Define task range\n",
    "    task_infos = range(1, 117)\n",
    "\n",
    "    # Read JSON file\n",
    "    with open(\"./docs/WMX3API_MCEval_Evaluation_Dataset.json\", \"r\") as f:\n",
    "        dataset = json.load(f)\n",
    "\n",
    "    # Initialize statistics dictionary\n",
    "    statistics = {\n",
    "        1: {'correct': 0, 'syntax_error': 0, 'api_error': 0, 'self_corrected_error': 0, 'self_corrected_correct': 0, 'total_errors': 0, 'total': 0},\n",
    "        2: {'correct': 0, 'syntax_error': 0, 'api_error': 0, 'self_corrected_error': 0, 'self_corrected_correct': 0, 'total_errors': 0, 'total': 0},\n",
    "        3: {'correct': 0, 'syntax_error': 0, 'api_error': 0, 'self_corrected_error': 0, 'self_corrected_correct': 0, 'total_errors': 0, 'total': 0}\n",
    "    }\n",
    "\n",
    "    total_correct = 0\n",
    "    total_syntax_error = 0\n",
    "    total_api_error = 0\n",
    "    total_self_corrected_error = 0\n",
    "    total_self_corrected_correct = 0\n",
    "    total_errors = 0\n",
    "\n",
    "    # Initialize error log list\n",
    "    error_log = []\n",
    "    self_corrected_log = []\n",
    "\n",
    "    start_time = datetime.now()  # Record start time\n",
    "\n",
    "    try:\n",
    "        # Iterate through task range\n",
    "        for task_info in tqdm(task_infos, desc=\"Processing tasks\"):\n",
    "            # Get task information\n",
    "            task_entry = next(item for item in dataset if item[\"TaskId\"] == task_info)\n",
    "            user_question = task_entry[\"Instruction\"]\n",
    "            difficulty = task_entry[\"Difficulty\"]\n",
    "            evl_task_id = task_entry[\"TaskId\"]\n",
    "\n",
    "            print(f\"Task ID: {evl_task_id} 🔽\")\n",
    "            folder_path = f'/Users/yin/Documents/GitHub/MCCodeLog/{llm_name}'\n",
    "            \n",
    "            user_question_global = user_question\n",
    "\n",
    "\n",
    "            # BASELINE-----------------------------------------------------------------------s\n",
    "            if base_line == True:  # Baseline is basic rag only\n",
    "                context_return = coder_retrieval(user_question)  # Code context\n",
    "\n",
    "                code_from_llm = CoderLLM(user_question, context_return)\n",
    "                \n",
    "                # Write the direct output codes to the file\n",
    "                folder_path = f'/Users/yin/Documents/GitHub/MCCodeLog/{llm_name}'\n",
    "                file_name = f\"{evl_task_id}_{llm_name}_direct_output.txt\"\n",
    "                file_path = f\"{folder_path}/{file_name}\"\n",
    "                os.makedirs(folder_path, exist_ok=True)\n",
    "                # Write the direct output codes to the file\n",
    "                with open(file_path, 'w') as file:\n",
    "                    file.write(code_from_llm)\n",
    "\n",
    "                # Get python code from the output of LLM\n",
    "                code_from_llm = extract_code(code_from_llm)\n",
    "\n",
    "                CoderResult = RunCode(code_from_llm, evl_task_id)\n",
    "                \n",
    "            # BASELINE-----------------------------------------------------------------------e\n",
    "\n",
    "            else:\n",
    "\n",
    "                # Call coder_router function\n",
    "                NoCoder, coder_router_result = coder_router(user_question)\n",
    "\n",
    "                # Route the result based on NoCoder value\n",
    "                if NoCoder == 0:  # Coding task\n",
    "\n",
    "                    if abla_task_decom == False: # Normal case\n",
    "                        tasks = task_decomposer_llm(f'[No.{evl_task_id}]: ' + user_question)\n",
    "                    else:                       # Ablation study with task decomposition\n",
    "                        tasks = []\n",
    "                        tasks.append(user_question)\n",
    "\n",
    "                    # Initialize a code string from LLM\n",
    "                    code_from_llm_str = ''\n",
    "                    for i in range(len(tasks)):\n",
    "                        context_return = coder_retrieval(tasks[i])  # Code context\n",
    "                        # Call CoderLLM function\n",
    "                        code_from_llm = CoderLLM(tasks[i], context_return)\n",
    "\n",
    "                        # Write the direct output codes to the file\n",
    "                        folder_path = f'/Users/yin/Documents/GitHub/MCCodeLog/{llm_name}'\n",
    "                        file_name = f\"{evl_task_id}_{llm_name}_task{i+1}_direct_output.txt\"\n",
    "                        file_path = f\"{folder_path}/{file_name}\"\n",
    "                        os.makedirs(folder_path, exist_ok=True)\n",
    "                        # Write the direct output codes to the file\n",
    "                        with open(file_path, 'w') as file:\n",
    "                            file.write(code_from_llm)\n",
    "\n",
    "                        # Get python code from the output of LLM\n",
    "                        code_from_llm = extract_code(code_from_llm)\n",
    "                        \n",
    "                        code_from_llm_str += f'\\n#---------task{i+1}:---------\\n' + tasks[i] + f'\\n#---------code{i+1}:---------\\n' + code_from_llm\n",
    "\n",
    "                # Single task\n",
    "                if len(tasks) == 1:\n",
    "                    # Run code\n",
    "                    CoderResult = RunCode(code_from_llm, evl_task_id)\n",
    "                else:  # Multi tasks\n",
    "                    code_from_composer_llm = CoderLLM(user_question, code_from_llm_str)\n",
    "\n",
    "                    # Write the direct output codes to the file\n",
    "                    folder_path = f'/Users/yin/Documents/GitHub/MCCodeLog/{llm_name}'\n",
    "                    file_name = f\"{evl_task_id}_{llm_name}_composer_direct_output.txt\"\n",
    "                    file_path = f\"{folder_path}/{file_name}\"\n",
    "                    os.makedirs(folder_path, exist_ok=True)\n",
    "\n",
    "                    # Write the direct output codes to the file\n",
    "                    with open(file_path, 'w') as file:\n",
    "                        file.write(code_from_composer_llm)\n",
    "\n",
    "                    # Get python code from the output of LLM\n",
    "                    code_from_composer_llm = extract_code(code_from_composer_llm)\n",
    "                    CoderResult = RunCode(code_from_composer_llm, evl_task_id)\n",
    "\n",
    "            # Init Correctness, if equals 1, then plot.\n",
    "            Correctness = 0\n",
    "            statistics[difficulty]['total'] += 1\n",
    "            # Check for \"Self-correct\" in the result\n",
    "            if 'self-correct' in CoderResult.lower():\n",
    "                self_corrected_log.append({'TaskId': task_info, 'Result': CoderResult})\n",
    "                if 'self-correction but still got an error' in CoderResult.lower():\n",
    "                    error_info = {\n",
    "                        'TaskId': task_info,\n",
    "                        'Error': CoderResult\n",
    "                    }\n",
    "                    error_log.append(error_info)\n",
    "                    statistics[difficulty]['total_errors'] += 1\n",
    "                    statistics[difficulty]['self_corrected_error'] += 1\n",
    "                    total_self_corrected_error += 1\n",
    "                    total_errors += 1\n",
    "\n",
    "                    if 'syntaxerror' in CoderResult.lower():\n",
    "                        statistics[difficulty]['syntax_error'] += 1\n",
    "                        total_syntax_error += 1\n",
    "                    else:\n",
    "                        statistics[difficulty]['api_error'] += 1\n",
    "                        total_api_error += 1\n",
    "                elif 'self-corrected' in CoderResult.lower():\n",
    "                    statistics[difficulty]['correct'] += 1\n",
    "                    statistics[difficulty]['self_corrected_correct'] += 1\n",
    "                    total_self_corrected_correct += 1\n",
    "                    total_correct += 1\n",
    "                    Correctness = 1\n",
    "            else:\n",
    "                statistics[difficulty]['correct'] += 1\n",
    "                total_correct += 1\n",
    "                Correctness = 1\n",
    "\n",
    "            if Correctness == 1:\n",
    "                os.makedirs(folder_path, exist_ok=True)\n",
    "                # Plot with the log file\n",
    "                log_file_path = os.path.join(folder_path, f\"{task_info}_{llm_name}_log.txt\")\n",
    "                if os.path.exists(log_file_path):\n",
    "                    plot_log(log_file_path)\n",
    "                else:\n",
    "                    print(\"Log file does not exist:\", log_file_path)\n",
    "                print('# -------------------------------------------------------------------------\\n')\n",
    "    \n",
    "    # If errors occur in Evaluation\n",
    "    except Exception as e:\n",
    "        print(f\"\\n # An error occurred in EvalDataset(): {e}\")\n",
    "\n",
    "    end_time = datetime.now()  # Record end time\n",
    "    total_runtime = end_time - start_time  # Calculate total runtime\n",
    "    total_runtime_str = f\"{total_runtime.seconds // 60}m{total_runtime.seconds % 60}s\"  # Format runtime\n",
    "\n",
    "    # Define the folder path and the file name\n",
    "    file_name = f'{llm_name}_Runlog_{datetime.now().strftime(\"%Y-%m-%d_%H-%M-%S\")}_{total_runtime_str}.txt'\n",
    "    file_path = f'{folder_path}/{file_name}'\n",
    "\n",
    "    # Open the file in write mode\n",
    "    with open(file_path, 'w') as file:\n",
    "        # Print and write overall statistics\n",
    "        total_tasks = sum([statistics[d]['total'] for d in statistics])\n",
    "        overall_results = (\n",
    "            f\"Overall Results:\\n\"\n",
    "            f\"  Total Correct: {total_correct} ({total_correct / total_tasks:.2%})\\n\"\n",
    "            f\"      Total Self-corrected Correct: {total_self_corrected_correct} ({total_self_corrected_correct / total_tasks:.2%})\\n\"\n",
    "            f\"  Total Errors: {total_errors} ({total_errors / total_tasks:.2%})\\n\"\n",
    "            f\"      Total Syntax Error: {total_syntax_error} ({total_syntax_error / total_tasks:.2%})\\n\"\n",
    "            f\"      Total API Error: {total_api_error} ({total_api_error / total_tasks:.2%})\\n\"\n",
    "            f\"  Total Self-corrected Errors: {total_self_corrected_error} ({total_self_corrected_error / total_tasks:.2%})\\n\\n\"\n",
    "            \n",
    "        )\n",
    "        print(overall_results)\n",
    "        file.write(overall_results)\n",
    "\n",
    "        # Print and write statistics by difficulty\n",
    "        for difficulty, counts in statistics.items():\n",
    "            total_difficulty = counts['total']\n",
    "            if total_difficulty != 0:\n",
    "                difficulty_results = (\n",
    "                    f\"Difficulty: {difficulty}\\n\"\n",
    "                    f\"  Correct: {counts['correct']} ({counts['correct'] / total_difficulty:.2%})\\n\"\n",
    "                    f\"      Self-corrected Correct: {counts['self_corrected_correct']} ({counts['self_corrected_correct'] / total_difficulty:.2%})\\n\"\n",
    "                    f\"  Errors: {counts['total_errors']} ({counts['total_errors'] / total_difficulty:.2%})\\n\"\n",
    "                    f\"      Syntax Error: {counts['syntax_error']} ({counts['syntax_error'] / total_difficulty:.2%})\\n\"\n",
    "                    f\"      API Error: {counts['api_error']} ({counts['api_error'] / total_difficulty:.2%})\\n\"\n",
    "                    f\"  Self-corrected Errors: {counts['self_corrected_error']} ({counts['self_corrected_error'] / total_difficulty:.2%})\\n\\n\"\n",
    "                    \n",
    "                )\n",
    "                print(difficulty_results)\n",
    "                file.write(difficulty_results)\n",
    "\n",
    "        # Print and write error log\n",
    "        if error_log:\n",
    "            error_log_results = \"Error Log:\\n\"\n",
    "            for error in error_log:\n",
    "                error_log_results += f\"  TaskId: {error['TaskId']}, Error: {error['Error']}\\n\"\n",
    "            error_log_results += \"\\n\"\n",
    "            print(error_log_results)\n",
    "            file.write(error_log_results)\n",
    "\n",
    "        # Print and write self-corrected log\n",
    "        if self_corrected_log:\n",
    "            self_corrected_log_results = \"Self-corrected Log:\\n\"\n",
    "            for log in self_corrected_log:\n",
    "                self_corrected_log_results += f\"  TaskId: {log['TaskId']}, Result: {log['Result']}\\n\"\n",
    "            self_corrected_log_results += \"\\n\"\n",
    "            print(self_corrected_log_results)\n",
    "            file.write(self_corrected_log_results)\n",
    "\n",
    "\n",
    "\n",
    "EvalDataset()\n",
    "    \n"
   ]
  },
  {
   "cell_type": "code",
   "execution_count": null,
   "metadata": {},
   "outputs": [],
   "source": []
  }
 ],
 "metadata": {
  "kernelspec": {
   "display_name": "base",
   "language": "python",
   "name": "python3"
  },
  "language_info": {
   "codemirror_mode": {
    "name": "ipython",
    "version": 3
   },
   "file_extension": ".py",
   "mimetype": "text/x-python",
   "name": "python",
   "nbconvert_exporter": "python",
   "pygments_lexer": "ipython3",
   "version": "3.11.7"
  }
 },
 "nbformat": 4,
 "nbformat_minor": 2
}
